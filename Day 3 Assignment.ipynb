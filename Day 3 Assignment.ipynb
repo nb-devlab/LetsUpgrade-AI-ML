{
 "cells": [
  {
   "cell_type": "markdown",
   "metadata": {},
   "source": [
    "## Day 3 Assignment"
   ]
  },
  {
   "cell_type": "code",
   "execution_count": null,
   "metadata": {},
   "outputs": [],
   "source": []
  },
  {
   "cell_type": "code",
   "execution_count": 3,
   "metadata": {},
   "outputs": [
    {
     "name": "stdout",
     "output_type": "stream",
     "text": [
      "3+4j\n",
      "1+7j\n",
      "(3+4j)\n",
      "(1+7j)\n",
      "The answer is : (2-3j)\n"
     ]
    }
   ],
   "source": [
    "'''Program to subtract two complex numbers'''\n",
    "\n",
    "a = complex(input())\n",
    "b = complex(input())\n",
    "c = a-b\n",
    "print (a)\n",
    "print (b)\n",
    "print (\"The answer is :\", c)"
   ]
  },
  {
   "cell_type": "code",
   "execution_count": null,
   "metadata": {},
   "outputs": [],
   "source": []
  },
  {
   "cell_type": "code",
   "execution_count": 4,
   "metadata": {},
   "outputs": [
    {
     "name": "stdout",
     "output_type": "stream",
     "text": [
      "4096\n",
      "The fourth root of given number is 8.0\n"
     ]
    }
   ],
   "source": [
    "'''Program to find the fourth root of a number'''\n",
    "\n",
    "num = int(input())\n",
    "\n",
    "f = num**(1/4)\n",
    "print(\"The fourth root of given number is\", f)"
   ]
  },
  {
   "cell_type": "code",
   "execution_count": null,
   "metadata": {},
   "outputs": [],
   "source": []
  },
  {
   "cell_type": "code",
   "execution_count": 10,
   "metadata": {},
   "outputs": [
    {
     "name": "stdout",
     "output_type": "stream",
     "text": [
      "Value of a is 4\n",
      "Value of b is 8\n",
      "Having swapped now:\n",
      "Value of a is  8\n",
      "Value of b is  4\n"
     ]
    }
   ],
   "source": [
    "'''Program to swap two numbers using a temp variable'''\n",
    "\n",
    "a = int(input(\"Value of a is \"))\n",
    "b = int(input(\"Value of b is \"))\n",
    "c = a\n",
    "a = b\n",
    "b = c\n",
    "\n",
    "print (\"Having swapped now:\")\n",
    "print (\"Value of a is \", a)\n",
    "print (\"Value of b is \", b)"
   ]
  },
  {
   "cell_type": "code",
   "execution_count": null,
   "metadata": {},
   "outputs": [],
   "source": []
  },
  {
   "cell_type": "code",
   "execution_count": 12,
   "metadata": {},
   "outputs": [
    {
     "name": "stdout",
     "output_type": "stream",
     "text": [
      "Value of a =6\n",
      "Value of b =3\n",
      "Values of a = 3 & b = 6\n"
     ]
    }
   ],
   "source": [
    "'''Program to swap two numbers without using a temp variable'''\n",
    "\n",
    "a = int(input(\"Value of a =\"))\n",
    "b = int(input(\"Value of b =\"))\n",
    "a,b = b,a\n",
    "\n",
    "print (\"Values of a =\",a, \"& b =\",b)"
   ]
  },
  {
   "cell_type": "code",
   "execution_count": null,
   "metadata": {},
   "outputs": [],
   "source": []
  },
  {
   "cell_type": "code",
   "execution_count": 13,
   "metadata": {},
   "outputs": [
    {
     "name": "stdout",
     "output_type": "stream",
     "text": [
      "Enter temperature in farenheit :40\n",
      "Farenheit converted into Celsius is : 4.444444444444445 & Farenheit converted to Kelvin is : 277.59444444444443\n"
     ]
    }
   ],
   "source": [
    "'''Program to convert Farenheit to Celsius & Kelvin, both'''\n",
    "\n",
    "farenheit = int(input(\"Enter temperature in farenheit :\"))\n",
    "celsius = (farenheit-32)*(5/9)\n",
    "kelvin = (farenheit-32)*(5/9)+273.15\n",
    "\n",
    "print (\"Farenheit converted into Celsius is :\",celsius, \"& Farenheit converted to Kelvin is :\",kelvin)"
   ]
  },
  {
   "cell_type": "code",
   "execution_count": null,
   "metadata": {},
   "outputs": [],
   "source": []
  },
  {
   "cell_type": "code",
   "execution_count": 23,
   "metadata": {},
   "outputs": [
    {
     "name": "stdout",
     "output_type": "stream",
     "text": [
      "<class 'int'>\n",
      "<class 'int'>\n",
      "<class 'float'>\n",
      "<class 'complex'>\n",
      "<class 'tuple'>\n",
      "<class 'list'>\n",
      "<class 'str'>\n",
      "<class 'bool'>\n",
      "<class 'dict'>\n",
      "<class 'set'>\n"
     ]
    }
   ],
   "source": [
    "'''Program to demonstrate all Data Types in python'''\n",
    "\n",
    "# Numeric data type\n",
    "a = 5\n",
    "print (type(a))\n",
    "print (type(5))\n",
    "print (type(5.4))\n",
    "print (type (6+8j))\n",
    "\n",
    "d = (12,13,14,15)\n",
    "print(type(d))\n",
    "l = list(d)\n",
    "print(type(l))\n",
    "\n",
    "# String data type\n",
    "b = \"Hello ! Python is a widely used language\"\n",
    "print (type(b))\n",
    "\n",
    "# Boolean data type\n",
    "c = 7\n",
    "print (type(c>a))\n",
    "\n",
    "# Dictionary data type\n",
    "dict = {1:\"apple\", 2:\"oranges\", 5:\"banana\"}\n",
    "print (type(dict))\n",
    "\n",
    "# Sets\n",
    "e = {23,24,25,26,27}\n",
    "print(type(e))"
   ]
  },
  {
   "cell_type": "code",
   "execution_count": null,
   "metadata": {},
   "outputs": [],
   "source": []
  },
  {
   "cell_type": "markdown",
   "metadata": {},
   "source": [
    "## Markdown cell to list steps to create github profile & upload assignments\n",
    "\n",
    "Step 1: Go to github.com.\n",
    "Step 2: Login or create an account on github.com.\n",
    "Step 3: Create a new repository named LetsUpgrade AI-ML.\n",
    "Step 4: Assignments to be done on Jupyter Notebook preferably, or google colab, kaggle will do.\n",
    "Step 5: Start by uploading the assignments of the given day on the link -- uploading an existing file. Assignments are to be submitted on a day-wise basis.\n",
    "Step 6: github repository to be kept Public for excess by LetsUpgrade.\n",
    "Step 6: Link to your github profile-- of the days url, to be copied & pasted while uploading the assignment on LetsUpgrade Assignment Submission form."
   ]
  },
  {
   "cell_type": "code",
   "execution_count": null,
   "metadata": {},
   "outputs": [],
   "source": []
  }
 ],
 "metadata": {
  "kernelspec": {
   "display_name": "Python 3",
   "language": "python",
   "name": "python3"
  },
  "language_info": {
   "codemirror_mode": {
    "name": "ipython",
    "version": 3
   },
   "file_extension": ".py",
   "mimetype": "text/x-python",
   "name": "python",
   "nbconvert_exporter": "python",
   "pygments_lexer": "ipython3",
   "version": "3.7.6"
  }
 },
 "nbformat": 4,
 "nbformat_minor": 4
}
