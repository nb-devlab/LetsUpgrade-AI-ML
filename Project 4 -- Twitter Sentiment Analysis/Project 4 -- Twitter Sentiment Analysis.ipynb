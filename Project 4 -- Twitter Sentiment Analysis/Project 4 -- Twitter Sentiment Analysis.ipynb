{
 "cells": [
  {
   "cell_type": "code",
   "execution_count": 1,
   "metadata": {
    "ExecuteTime": {
     "end_time": "2021-01-08T09:27:54.095875Z",
     "start_time": "2021-01-08T09:27:08.823498Z"
    }
   },
   "outputs": [
    {
     "name": "stdout",
     "output_type": "stream",
     "text": [
      "Collecting tweepy\n",
      "  Downloading tweepy-3.10.0-py2.py3-none-any.whl (30 kB)\n",
      "Collecting requests-oauthlib>=0.7.0\n",
      "  Downloading requests_oauthlib-1.3.0-py2.py3-none-any.whl (23 kB)\n",
      "Requirement already satisfied: six>=1.10.0 in c:\\users\\comp\\anaconda3\\lib\\site-packages (from tweepy) (1.14.0)\n",
      "Requirement already satisfied: requests[socks]>=2.11.1 in c:\\users\\comp\\anaconda3\\lib\\site-packages (from tweepy) (2.22.0)\n",
      "Collecting oauthlib>=3.0.0\n",
      "  Downloading oauthlib-3.1.0-py2.py3-none-any.whl (147 kB)\n",
      "Requirement already satisfied: chardet<3.1.0,>=3.0.2 in c:\\users\\comp\\anaconda3\\lib\\site-packages (from requests[socks]>=2.11.1->tweepy) (3.0.4)\n",
      "Requirement already satisfied: certifi>=2017.4.17 in c:\\users\\comp\\anaconda3\\lib\\site-packages (from requests[socks]>=2.11.1->tweepy) (2019.11.28)\n",
      "Requirement already satisfied: idna<2.9,>=2.5 in c:\\users\\comp\\anaconda3\\lib\\site-packages (from requests[socks]>=2.11.1->tweepy) (2.8)\n",
      "Requirement already satisfied: urllib3!=1.25.0,!=1.25.1,<1.26,>=1.21.1 in c:\\users\\comp\\anaconda3\\lib\\site-packages (from requests[socks]>=2.11.1->tweepy) (1.25.8)\n",
      "Requirement already satisfied: PySocks!=1.5.7,>=1.5.6; extra == \"socks\" in c:\\users\\comp\\anaconda3\\lib\\site-packages (from requests[socks]>=2.11.1->tweepy) (1.7.1)\n",
      "Installing collected packages: oauthlib, requests-oauthlib, tweepy\n",
      "Successfully installed oauthlib-3.1.0 requests-oauthlib-1.3.0 tweepy-3.10.0\n"
     ]
    }
   ],
   "source": [
    "# To communicate with twitter api\n",
    "!pip install tweepy"
   ]
  },
  {
   "cell_type": "code",
   "execution_count": 3,
   "metadata": {
    "ExecuteTime": {
     "end_time": "2021-01-08T09:29:13.167107Z",
     "start_time": "2021-01-08T09:28:59.006598Z"
    }
   },
   "outputs": [
    {
     "name": "stdout",
     "output_type": "stream",
     "text": [
      "Requirement already satisfied: openpyxl in c:\\users\\comp\\anaconda3\\lib\\site-packages (3.0.3)\n",
      "Requirement already satisfied: jdcal in c:\\users\\comp\\anaconda3\\lib\\site-packages (from openpyxl) (1.4.1)\n",
      "Requirement already satisfied: et-xmlfile in c:\\users\\comp\\anaconda3\\lib\\site-packages (from openpyxl) (1.0.1)\n"
     ]
    }
   ],
   "source": [
    "# Read or write excel files.\n",
    "!pip install openpyxl"
   ]
  },
  {
   "cell_type": "code",
   "execution_count": 43,
   "metadata": {
    "ExecuteTime": {
     "end_time": "2021-01-09T12:13:06.579451Z",
     "start_time": "2021-01-09T12:12:43.639908Z"
    }
   },
   "outputs": [
    {
     "name": "stdout",
     "output_type": "stream",
     "text": [
      "Collecting textblob\n",
      "  Downloading textblob-0.15.3-py2.py3-none-any.whl (636 kB)\n",
      "Requirement already satisfied: nltk>=3.1 in c:\\users\\comp\\anaconda3\\lib\\site-packages (from textblob) (3.4.5)\n",
      "Requirement already satisfied: six in c:\\users\\comp\\anaconda3\\lib\\site-packages (from nltk>=3.1->textblob) (1.14.0)\n",
      "Installing collected packages: textblob\n",
      "Successfully installed textblob-0.15.3\n"
     ]
    }
   ],
   "source": [
    "# TO detect Sentiment & Polarity of the str.\n",
    "\n",
    "!pip install textblob"
   ]
  },
  {
   "cell_type": "code",
   "execution_count": 1,
   "metadata": {
    "ExecuteTime": {
     "end_time": "2021-01-09T05:14:28.310436Z",
     "start_time": "2021-01-09T05:14:18.232262Z"
    }
   },
   "outputs": [],
   "source": [
    "import numpy as np\n",
    "import pandas as pd\n",
    "import tweepy\n",
    "import json\n",
    "from tweepy import OAuthHandler # to communicate with the twitter API.\n",
    "from textblob import TextBlob"
   ]
  },
  {
   "cell_type": "code",
   "execution_count": 2,
   "metadata": {
    "ExecuteTime": {
     "end_time": "2021-01-09T05:14:31.660672Z",
     "start_time": "2021-01-09T05:14:31.653669Z"
    }
   },
   "outputs": [],
   "source": [
    "auth = OAuthHandler(consumer_key='tDgJ91wZCwZB0LrAPsSc1xTYQ', consumer_secret='UffenmiiSJUTpTrfQLKAxjgTGPEqtcIiSYHsogRDcGCAQobyrG')"
   ]
  },
  {
   "cell_type": "code",
   "execution_count": 3,
   "metadata": {
    "ExecuteTime": {
     "end_time": "2021-01-09T05:14:33.539274Z",
     "start_time": "2021-01-09T05:14:33.533270Z"
    }
   },
   "outputs": [],
   "source": [
    "auth.set_access_token(key='74458367-SFZqZn5rDFohpRhTP7VmahsN6GNdqg3Ry7uDA3IKY', secret='Q3gUPxKQjxQkp8dCFlMT8Vmd5286mX3zjKl4w5KjKr2WG')"
   ]
  },
  {
   "cell_type": "code",
   "execution_count": 4,
   "metadata": {
    "ExecuteTime": {
     "end_time": "2021-01-09T05:14:36.543589Z",
     "start_time": "2021-01-09T05:14:36.537586Z"
    }
   },
   "outputs": [],
   "source": [
    "api = tweepy.API(auth)"
   ]
  },
  {
   "cell_type": "code",
   "execution_count": 6,
   "metadata": {
    "ExecuteTime": {
     "end_time": "2021-01-09T05:14:50.226138Z",
     "start_time": "2021-01-09T05:14:42.013156Z"
    }
   },
   "outputs": [],
   "source": [
    "Tweets = api.search(query, count=10, lang='en', exclude='retweets', tweet_mode='extended')\n",
    "\n",
    "# tweet_mode = 'compact' -- for tweets within 140 chars or 'extended'--no restriction of 140 chars "
   ]
  },
  {
   "cell_type": "code",
   "execution_count": 9,
   "metadata": {
    "ExecuteTime": {
     "end_time": "2021-01-09T05:15:50.335003Z",
     "start_time": "2021-01-09T05:15:50.198004Z"
    }
   },
   "outputs": [
    {
     "name": "stdout",
     "output_type": "stream",
     "text": [
      "Status(_api=<tweepy.api.API object at 0x0000023439E48EC8>, _json={'created_at': 'Sat Jan 09 05:11:11 +0000 2021', 'id': 1347772889425055745, 'id_str': '1347772889425055745', 'full_text': 'Soul and power: there are people who support President Trump to incite violence on Capitol Hill, US; five persons were killed. They yearn to be near the power. Soul?', 'truncated': False, 'display_text_range': [0, 165], 'entities': {'hashtags': [], 'symbols': [], 'user_mentions': [], 'urls': []}, 'metadata': {'iso_language_code': 'en', 'result_type': 'recent'}, 'source': '<a href=\"http://twitter.com/download/android\" rel=\"nofollow\">Twitter for Android</a>', 'in_reply_to_status_id': None, 'in_reply_to_status_id_str': None, 'in_reply_to_user_id': None, 'in_reply_to_user_id_str': None, 'in_reply_to_screen_name': None, 'user': {'id': 40818836, 'id_str': '40818836', 'name': 'Tan Seng Giaw', 'screen_name': 'Senggiaw', 'location': '', 'description': '', 'url': None, 'entities': {'description': {'urls': []}}, 'protected': False, 'followers_count': 9773, 'friends_count': 205, 'listed_count': 99, 'created_at': 'Mon May 18 05:12:33 +0000 2009', 'favourites_count': 33, 'utc_offset': None, 'time_zone': None, 'geo_enabled': True, 'verified': False, 'statuses_count': 24334, 'lang': None, 'contributors_enabled': False, 'is_translator': False, 'is_translation_enabled': False, 'profile_background_color': 'C0DEED', 'profile_background_image_url': 'http://abs.twimg.com/images/themes/theme1/bg.png', 'profile_background_image_url_https': 'https://abs.twimg.com/images/themes/theme1/bg.png', 'profile_background_tile': False, 'profile_image_url': 'http://pbs.twimg.com/profile_images/757879198929133568/nlguyDEW_normal.jpg', 'profile_image_url_https': 'https://pbs.twimg.com/profile_images/757879198929133568/nlguyDEW_normal.jpg', 'profile_link_color': '1DA1F2', 'profile_sidebar_border_color': 'C0DEED', 'profile_sidebar_fill_color': 'DDEEF6', 'profile_text_color': '333333', 'profile_use_background_image': True, 'has_extended_profile': False, 'default_profile': True, 'default_profile_image': False, 'following': False, 'follow_request_sent': False, 'notifications': False, 'translator_type': 'none'}, 'geo': None, 'coordinates': None, 'place': None, 'contributors': None, 'is_quote_status': False, 'retweet_count': 0, 'favorite_count': 0, 'favorited': False, 'retweeted': False, 'lang': 'en'}, created_at=datetime.datetime(2021, 1, 9, 5, 11, 11), id=1347772889425055745, id_str='1347772889425055745', full_text='Soul and power: there are people who support President Trump to incite violence on Capitol Hill, US; five persons were killed. They yearn to be near the power. Soul?', truncated=False, display_text_range=[0, 165], entities={'hashtags': [], 'symbols': [], 'user_mentions': [], 'urls': []}, metadata={'iso_language_code': 'en', 'result_type': 'recent'}, source='Twitter for Android', source_url='http://twitter.com/download/android', in_reply_to_status_id=None, in_reply_to_status_id_str=None, in_reply_to_user_id=None, in_reply_to_user_id_str=None, in_reply_to_screen_name=None, author=User(_api=<tweepy.api.API object at 0x0000023439E48EC8>, _json={'id': 40818836, 'id_str': '40818836', 'name': 'Tan Seng Giaw', 'screen_name': 'Senggiaw', 'location': '', 'description': '', 'url': None, 'entities': {'description': {'urls': []}}, 'protected': False, 'followers_count': 9773, 'friends_count': 205, 'listed_count': 99, 'created_at': 'Mon May 18 05:12:33 +0000 2009', 'favourites_count': 33, 'utc_offset': None, 'time_zone': None, 'geo_enabled': True, 'verified': False, 'statuses_count': 24334, 'lang': None, 'contributors_enabled': False, 'is_translator': False, 'is_translation_enabled': False, 'profile_background_color': 'C0DEED', 'profile_background_image_url': 'http://abs.twimg.com/images/themes/theme1/bg.png', 'profile_background_image_url_https': 'https://abs.twimg.com/images/themes/theme1/bg.png', 'profile_background_tile': False, 'profile_image_url': 'http://pbs.twimg.com/profile_images/757879198929133568/nlguyDEW_normal.jpg', 'profile_image_url_https': 'https://pbs.twimg.com/profile_images/757879198929133568/nlguyDEW_normal.jpg', 'profile_link_color': '1DA1F2', 'profile_sidebar_border_color': 'C0DEED', 'profile_sidebar_fill_color': 'DDEEF6', 'profile_text_color': '333333', 'profile_use_background_image': True, 'has_extended_profile': False, 'default_profile': True, 'default_profile_image': False, 'following': False, 'follow_request_sent': False, 'notifications': False, 'translator_type': 'none'}, id=40818836, id_str='40818836', name='Tan Seng Giaw', screen_name='Senggiaw', location='', description='', url=None, entities={'description': {'urls': []}}, protected=False, followers_count=9773, friends_count=205, listed_count=99, created_at=datetime.datetime(2009, 5, 18, 5, 12, 33), favourites_count=33, utc_offset=None, time_zone=None, geo_enabled=True, verified=False, statuses_count=24334, lang=None, contributors_enabled=False, is_translator=False, is_translation_enabled=False, profile_background_color='C0DEED', profile_background_image_url='http://abs.twimg.com/images/themes/theme1/bg.png', profile_background_image_url_https='https://abs.twimg.com/images/themes/theme1/bg.png', profile_background_tile=False, profile_image_url='http://pbs.twimg.com/profile_images/757879198929133568/nlguyDEW_normal.jpg', profile_image_url_https='https://pbs.twimg.com/profile_images/757879198929133568/nlguyDEW_normal.jpg', profile_link_color='1DA1F2', profile_sidebar_border_color='C0DEED', profile_sidebar_fill_color='DDEEF6', profile_text_color='333333', profile_use_background_image=True, has_extended_profile=False, default_profile=True, default_profile_image=False, following=False, follow_request_sent=False, notifications=False, translator_type='none'), user=User(_api=<tweepy.api.API object at 0x0000023439E48EC8>, _json={'id': 40818836, 'id_str': '40818836', 'name': 'Tan Seng Giaw', 'screen_name': 'Senggiaw', 'location': '', 'description': '', 'url': None, 'entities': {'description': {'urls': []}}, 'protected': False, 'followers_count': 9773, 'friends_count': 205, 'listed_count': 99, 'created_at': 'Mon May 18 05:12:33 +0000 2009', 'favourites_count': 33, 'utc_offset': None, 'time_zone': None, 'geo_enabled': True, 'verified': False, 'statuses_count': 24334, 'lang': None, 'contributors_enabled': False, 'is_translator': False, 'is_translation_enabled': False, 'profile_background_color': 'C0DEED', 'profile_background_image_url': 'http://abs.twimg.com/images/themes/theme1/bg.png', 'profile_background_image_url_https': 'https://abs.twimg.com/images/themes/theme1/bg.png', 'profile_background_tile': False, 'profile_image_url': 'http://pbs.twimg.com/profile_images/757879198929133568/nlguyDEW_normal.jpg', 'profile_image_url_https': 'https://pbs.twimg.com/profile_images/757879198929133568/nlguyDEW_normal.jpg', 'profile_link_color': '1DA1F2', 'profile_sidebar_border_color': 'C0DEED', 'profile_sidebar_fill_color': 'DDEEF6', 'profile_text_color': '333333', 'profile_use_background_image': True, 'has_extended_profile': False, 'default_profile': True, 'default_profile_image': False, 'following': False, 'follow_request_sent': False, 'notifications': False, 'translator_type': 'none'}, id=40818836, id_str='40818836', name='Tan Seng Giaw', screen_name='Senggiaw', location='', description='', url=None, entities={'description': {'urls': []}}, protected=False, followers_count=9773, friends_count=205, listed_count=99, created_at=datetime.datetime(2009, 5, 18, 5, 12, 33), favourites_count=33, utc_offset=None, time_zone=None, geo_enabled=True, verified=False, statuses_count=24334, lang=None, contributors_enabled=False, is_translator=False, is_translation_enabled=False, profile_background_color='C0DEED', profile_background_image_url='http://abs.twimg.com/images/themes/theme1/bg.png', profile_background_image_url_https='https://abs.twimg.com/images/themes/theme1/bg.png', profile_background_tile=False, profile_image_url='http://pbs.twimg.com/profile_images/757879198929133568/nlguyDEW_normal.jpg', profile_image_url_https='https://pbs.twimg.com/profile_images/757879198929133568/nlguyDEW_normal.jpg', profile_link_color='1DA1F2', profile_sidebar_border_color='C0DEED', profile_sidebar_fill_color='DDEEF6', profile_text_color='333333', profile_use_background_image=True, has_extended_profile=False, default_profile=True, default_profile_image=False, following=False, follow_request_sent=False, notifications=False, translator_type='none'), geo=None, coordinates=None, place=None, contributors=None, is_quote_status=False, retweet_count=0, favorite_count=0, favorited=False, retweeted=False, lang='en')\n",
      "Status(_api=<tweepy.api.API object at 0x0000023439E48EC8>, _json={'created_at': 'Sat Jan 09 05:08:23 +0000 2021', 'id': 1347772181456052224, 'id_str': '1347772181456052224', 'full_text': '@Mike_Pence Defending Capitol Hill from Donald J Trump and you as his vice president.', 'truncated': False, 'display_text_range': [12, 85], 'entities': {'hashtags': [], 'symbols': [], 'user_mentions': [{'screen_name': 'Mike_Pence', 'name': 'Mike Pence', 'id': 22203756, 'id_str': '22203756', 'indices': [0, 11]}], 'urls': []}, 'metadata': {'iso_language_code': 'en', 'result_type': 'recent'}, 'source': '<a href=\"http://twitter.com/download/android\" rel=\"nofollow\">Twitter for Android</a>', 'in_reply_to_status_id': 1347613311458824194, 'in_reply_to_status_id_str': '1347613311458824194', 'in_reply_to_user_id': 22203756, 'in_reply_to_user_id_str': '22203756', 'in_reply_to_screen_name': 'Mike_Pence', 'user': {'id': 49031157, 'id_str': '49031157', 'name': 'Willie Lee Davis', 'screen_name': 'WLD01', 'location': '', 'description': \"Husband 40yrs, father of 5, grandfather of 10, brother, men's mentor, businessman, health and wellness advocate, and sports fan.\", 'url': None, 'entities': {'description': {'urls': []}}, 'protected': False, 'followers_count': 10467, 'friends_count': 11055, 'listed_count': 49, 'created_at': 'Sat Jun 20 15:25:04 +0000 2009', 'favourites_count': 99713, 'utc_offset': None, 'time_zone': None, 'geo_enabled': True, 'verified': False, 'statuses_count': 122468, 'lang': None, 'contributors_enabled': False, 'is_translator': False, 'is_translation_enabled': False, 'profile_background_color': '8B542B', 'profile_background_image_url': 'http://abs.twimg.com/images/themes/theme8/bg.gif', 'profile_background_image_url_https': 'https://abs.twimg.com/images/themes/theme8/bg.gif', 'profile_background_tile': False, 'profile_image_url': 'http://pbs.twimg.com/profile_images/1231668911776636930/pPHjqjwL_normal.jpg', 'profile_image_url_https': 'https://pbs.twimg.com/profile_images/1231668911776636930/pPHjqjwL_normal.jpg', 'profile_banner_url': 'https://pbs.twimg.com/profile_banners/49031157/1529848078', 'profile_link_color': '9D582E', 'profile_sidebar_border_color': 'D9B17E', 'profile_sidebar_fill_color': 'EADEAA', 'profile_text_color': '333333', 'profile_use_background_image': True, 'has_extended_profile': False, 'default_profile': False, 'default_profile_image': False, 'following': False, 'follow_request_sent': False, 'notifications': False, 'translator_type': 'none'}, 'geo': None, 'coordinates': None, 'place': None, 'contributors': None, 'is_quote_status': False, 'retweet_count': 0, 'favorite_count': 0, 'favorited': False, 'retweeted': False, 'lang': 'en'}, created_at=datetime.datetime(2021, 1, 9, 5, 8, 23), id=1347772181456052224, id_str='1347772181456052224', full_text='@Mike_Pence Defending Capitol Hill from Donald J Trump and you as his vice president.', truncated=False, display_text_range=[12, 85], entities={'hashtags': [], 'symbols': [], 'user_mentions': [{'screen_name': 'Mike_Pence', 'name': 'Mike Pence', 'id': 22203756, 'id_str': '22203756', 'indices': [0, 11]}], 'urls': []}, metadata={'iso_language_code': 'en', 'result_type': 'recent'}, source='Twitter for Android', source_url='http://twitter.com/download/android', in_reply_to_status_id=1347613311458824194, in_reply_to_status_id_str='1347613311458824194', in_reply_to_user_id=22203756, in_reply_to_user_id_str='22203756', in_reply_to_screen_name='Mike_Pence', author=User(_api=<tweepy.api.API object at 0x0000023439E48EC8>, _json={'id': 49031157, 'id_str': '49031157', 'name': 'Willie Lee Davis', 'screen_name': 'WLD01', 'location': '', 'description': \"Husband 40yrs, father of 5, grandfather of 10, brother, men's mentor, businessman, health and wellness advocate, and sports fan.\", 'url': None, 'entities': {'description': {'urls': []}}, 'protected': False, 'followers_count': 10467, 'friends_count': 11055, 'listed_count': 49, 'created_at': 'Sat Jun 20 15:25:04 +0000 2009', 'favourites_count': 99713, 'utc_offset': None, 'time_zone': None, 'geo_enabled': True, 'verified': False, 'statuses_count': 122468, 'lang': None, 'contributors_enabled': False, 'is_translator': False, 'is_translation_enabled': False, 'profile_background_color': '8B542B', 'profile_background_image_url': 'http://abs.twimg.com/images/themes/theme8/bg.gif', 'profile_background_image_url_https': 'https://abs.twimg.com/images/themes/theme8/bg.gif', 'profile_background_tile': False, 'profile_image_url': 'http://pbs.twimg.com/profile_images/1231668911776636930/pPHjqjwL_normal.jpg', 'profile_image_url_https': 'https://pbs.twimg.com/profile_images/1231668911776636930/pPHjqjwL_normal.jpg', 'profile_banner_url': 'https://pbs.twimg.com/profile_banners/49031157/1529848078', 'profile_link_color': '9D582E', 'profile_sidebar_border_color': 'D9B17E', 'profile_sidebar_fill_color': 'EADEAA', 'profile_text_color': '333333', 'profile_use_background_image': True, 'has_extended_profile': False, 'default_profile': False, 'default_profile_image': False, 'following': False, 'follow_request_sent': False, 'notifications': False, 'translator_type': 'none'}, id=49031157, id_str='49031157', name='Willie Lee Davis', screen_name='WLD01', location='', description=\"Husband 40yrs, father of 5, grandfather of 10, brother, men's mentor, businessman, health and wellness advocate, and sports fan.\", url=None, entities={'description': {'urls': []}}, protected=False, followers_count=10467, friends_count=11055, listed_count=49, created_at=datetime.datetime(2009, 6, 20, 15, 25, 4), favourites_count=99713, utc_offset=None, time_zone=None, geo_enabled=True, verified=False, statuses_count=122468, lang=None, contributors_enabled=False, is_translator=False, is_translation_enabled=False, profile_background_color='8B542B', profile_background_image_url='http://abs.twimg.com/images/themes/theme8/bg.gif', profile_background_image_url_https='https://abs.twimg.com/images/themes/theme8/bg.gif', profile_background_tile=False, profile_image_url='http://pbs.twimg.com/profile_images/1231668911776636930/pPHjqjwL_normal.jpg', profile_image_url_https='https://pbs.twimg.com/profile_images/1231668911776636930/pPHjqjwL_normal.jpg', profile_banner_url='https://pbs.twimg.com/profile_banners/49031157/1529848078', profile_link_color='9D582E', profile_sidebar_border_color='D9B17E', profile_sidebar_fill_color='EADEAA', profile_text_color='333333', profile_use_background_image=True, has_extended_profile=False, default_profile=False, default_profile_image=False, following=False, follow_request_sent=False, notifications=False, translator_type='none'), user=User(_api=<tweepy.api.API object at 0x0000023439E48EC8>, _json={'id': 49031157, 'id_str': '49031157', 'name': 'Willie Lee Davis', 'screen_name': 'WLD01', 'location': '', 'description': \"Husband 40yrs, father of 5, grandfather of 10, brother, men's mentor, businessman, health and wellness advocate, and sports fan.\", 'url': None, 'entities': {'description': {'urls': []}}, 'protected': False, 'followers_count': 10467, 'friends_count': 11055, 'listed_count': 49, 'created_at': 'Sat Jun 20 15:25:04 +0000 2009', 'favourites_count': 99713, 'utc_offset': None, 'time_zone': None, 'geo_enabled': True, 'verified': False, 'statuses_count': 122468, 'lang': None, 'contributors_enabled': False, 'is_translator': False, 'is_translation_enabled': False, 'profile_background_color': '8B542B', 'profile_background_image_url': 'http://abs.twimg.com/images/themes/theme8/bg.gif', 'profile_background_image_url_https': 'https://abs.twimg.com/images/themes/theme8/bg.gif', 'profile_background_tile': False, 'profile_image_url': 'http://pbs.twimg.com/profile_images/1231668911776636930/pPHjqjwL_normal.jpg', 'profile_image_url_https': 'https://pbs.twimg.com/profile_images/1231668911776636930/pPHjqjwL_normal.jpg', 'profile_banner_url': 'https://pbs.twimg.com/profile_banners/49031157/1529848078', 'profile_link_color': '9D582E', 'profile_sidebar_border_color': 'D9B17E', 'profile_sidebar_fill_color': 'EADEAA', 'profile_text_color': '333333', 'profile_use_background_image': True, 'has_extended_profile': False, 'default_profile': False, 'default_profile_image': False, 'following': False, 'follow_request_sent': False, 'notifications': False, 'translator_type': 'none'}, id=49031157, id_str='49031157', name='Willie Lee Davis', screen_name='WLD01', location='', description=\"Husband 40yrs, father of 5, grandfather of 10, brother, men's mentor, businessman, health and wellness advocate, and sports fan.\", url=None, entities={'description': {'urls': []}}, protected=False, followers_count=10467, friends_count=11055, listed_count=49, created_at=datetime.datetime(2009, 6, 20, 15, 25, 4), favourites_count=99713, utc_offset=None, time_zone=None, geo_enabled=True, verified=False, statuses_count=122468, lang=None, contributors_enabled=False, is_translator=False, is_translation_enabled=False, profile_background_color='8B542B', profile_background_image_url='http://abs.twimg.com/images/themes/theme8/bg.gif', profile_background_image_url_https='https://abs.twimg.com/images/themes/theme8/bg.gif', profile_background_tile=False, profile_image_url='http://pbs.twimg.com/profile_images/1231668911776636930/pPHjqjwL_normal.jpg', profile_image_url_https='https://pbs.twimg.com/profile_images/1231668911776636930/pPHjqjwL_normal.jpg', profile_banner_url='https://pbs.twimg.com/profile_banners/49031157/1529848078', profile_link_color='9D582E', profile_sidebar_border_color='D9B17E', profile_sidebar_fill_color='EADEAA', profile_text_color='333333', profile_use_background_image=True, has_extended_profile=False, default_profile=False, default_profile_image=False, following=False, follow_request_sent=False, notifications=False, translator_type='none'), geo=None, coordinates=None, place=None, contributors=None, is_quote_status=False, retweet_count=0, favorite_count=0, favorited=False, retweeted=False, lang='en')\n",
      "Status(_api=<tweepy.api.API object at 0x0000023439E48EC8>, _json={'created_at': 'Sat Jan 09 05:05:49 +0000 2021', 'id': 1347771537978486784, 'id_str': '1347771537978486784', 'full_text': 'President Trump Addresses the Nation on Capitol Hill Siege https://t.co/s8nmTbuoKO', 'truncated': False, 'display_text_range': [0, 82], 'entities': {'hashtags': [], 'symbols': [], 'user_mentions': [], 'urls': [{'url': 'https://t.co/s8nmTbuoKO', 'expanded_url': 'https://rumble.com/vcj3a3-president-trump-addresses-the-nation-on-capitol-hill-siege.html', 'display_url': 'rumble.com/vcj3a3-preside…', 'indices': [59, 82]}]}, 'metadata': {'iso_language_code': 'en', 'result_type': 'recent'}, 'source': '<a href=\"http://twitter.com/download/android\" rel=\"nofollow\">Twitter for Android</a>', 'in_reply_to_status_id': None, 'in_reply_to_status_id_str': None, 'in_reply_to_user_id': None, 'in_reply_to_user_id_str': None, 'in_reply_to_screen_name': None, 'user': {'id': 765960190713888769, 'id_str': '765960190713888769', 'name': 'Joanne Hamilton', 'screen_name': 'JoanneH48055804', 'location': '', 'description': 'RETIRED FROM SO FL PD', 'url': None, 'entities': {'description': {'urls': []}}, 'protected': False, 'followers_count': 230, 'friends_count': 1228, 'listed_count': 1, 'created_at': 'Wed Aug 17 17:15:15 +0000 2016', 'favourites_count': 6779, 'utc_offset': None, 'time_zone': None, 'geo_enabled': True, 'verified': False, 'statuses_count': 42976, 'lang': None, 'contributors_enabled': False, 'is_translator': False, 'is_translation_enabled': False, 'profile_background_color': 'F5F8FA', 'profile_background_image_url': None, 'profile_background_image_url_https': None, 'profile_background_tile': False, 'profile_image_url': 'http://pbs.twimg.com/profile_images/1071529771253813254/avRjmRiJ_normal.jpg', 'profile_image_url_https': 'https://pbs.twimg.com/profile_images/1071529771253813254/avRjmRiJ_normal.jpg', 'profile_banner_url': 'https://pbs.twimg.com/profile_banners/765960190713888769/1544307496', 'profile_link_color': '1DA1F2', 'profile_sidebar_border_color': 'C0DEED', 'profile_sidebar_fill_color': 'DDEEF6', 'profile_text_color': '333333', 'profile_use_background_image': True, 'has_extended_profile': True, 'default_profile': True, 'default_profile_image': False, 'following': False, 'follow_request_sent': False, 'notifications': False, 'translator_type': 'none'}, 'geo': None, 'coordinates': None, 'place': None, 'contributors': None, 'is_quote_status': False, 'retweet_count': 0, 'favorite_count': 0, 'favorited': False, 'retweeted': False, 'possibly_sensitive': False, 'lang': 'en'}, created_at=datetime.datetime(2021, 1, 9, 5, 5, 49), id=1347771537978486784, id_str='1347771537978486784', full_text='President Trump Addresses the Nation on Capitol Hill Siege https://t.co/s8nmTbuoKO', truncated=False, display_text_range=[0, 82], entities={'hashtags': [], 'symbols': [], 'user_mentions': [], 'urls': [{'url': 'https://t.co/s8nmTbuoKO', 'expanded_url': 'https://rumble.com/vcj3a3-president-trump-addresses-the-nation-on-capitol-hill-siege.html', 'display_url': 'rumble.com/vcj3a3-preside…', 'indices': [59, 82]}]}, metadata={'iso_language_code': 'en', 'result_type': 'recent'}, source='Twitter for Android', source_url='http://twitter.com/download/android', in_reply_to_status_id=None, in_reply_to_status_id_str=None, in_reply_to_user_id=None, in_reply_to_user_id_str=None, in_reply_to_screen_name=None, author=User(_api=<tweepy.api.API object at 0x0000023439E48EC8>, _json={'id': 765960190713888769, 'id_str': '765960190713888769', 'name': 'Joanne Hamilton', 'screen_name': 'JoanneH48055804', 'location': '', 'description': 'RETIRED FROM SO FL PD', 'url': None, 'entities': {'description': {'urls': []}}, 'protected': False, 'followers_count': 230, 'friends_count': 1228, 'listed_count': 1, 'created_at': 'Wed Aug 17 17:15:15 +0000 2016', 'favourites_count': 6779, 'utc_offset': None, 'time_zone': None, 'geo_enabled': True, 'verified': False, 'statuses_count': 42976, 'lang': None, 'contributors_enabled': False, 'is_translator': False, 'is_translation_enabled': False, 'profile_background_color': 'F5F8FA', 'profile_background_image_url': None, 'profile_background_image_url_https': None, 'profile_background_tile': False, 'profile_image_url': 'http://pbs.twimg.com/profile_images/1071529771253813254/avRjmRiJ_normal.jpg', 'profile_image_url_https': 'https://pbs.twimg.com/profile_images/1071529771253813254/avRjmRiJ_normal.jpg', 'profile_banner_url': 'https://pbs.twimg.com/profile_banners/765960190713888769/1544307496', 'profile_link_color': '1DA1F2', 'profile_sidebar_border_color': 'C0DEED', 'profile_sidebar_fill_color': 'DDEEF6', 'profile_text_color': '333333', 'profile_use_background_image': True, 'has_extended_profile': True, 'default_profile': True, 'default_profile_image': False, 'following': False, 'follow_request_sent': False, 'notifications': False, 'translator_type': 'none'}, id=765960190713888769, id_str='765960190713888769', name='Joanne Hamilton', screen_name='JoanneH48055804', location='', description='RETIRED FROM SO FL PD', url=None, entities={'description': {'urls': []}}, protected=False, followers_count=230, friends_count=1228, listed_count=1, created_at=datetime.datetime(2016, 8, 17, 17, 15, 15), favourites_count=6779, utc_offset=None, time_zone=None, geo_enabled=True, verified=False, statuses_count=42976, lang=None, contributors_enabled=False, is_translator=False, is_translation_enabled=False, profile_background_color='F5F8FA', profile_background_image_url=None, profile_background_image_url_https=None, profile_background_tile=False, profile_image_url='http://pbs.twimg.com/profile_images/1071529771253813254/avRjmRiJ_normal.jpg', profile_image_url_https='https://pbs.twimg.com/profile_images/1071529771253813254/avRjmRiJ_normal.jpg', profile_banner_url='https://pbs.twimg.com/profile_banners/765960190713888769/1544307496', profile_link_color='1DA1F2', profile_sidebar_border_color='C0DEED', profile_sidebar_fill_color='DDEEF6', profile_text_color='333333', profile_use_background_image=True, has_extended_profile=True, default_profile=True, default_profile_image=False, following=False, follow_request_sent=False, notifications=False, translator_type='none'), user=User(_api=<tweepy.api.API object at 0x0000023439E48EC8>, _json={'id': 765960190713888769, 'id_str': '765960190713888769', 'name': 'Joanne Hamilton', 'screen_name': 'JoanneH48055804', 'location': '', 'description': 'RETIRED FROM SO FL PD', 'url': None, 'entities': {'description': {'urls': []}}, 'protected': False, 'followers_count': 230, 'friends_count': 1228, 'listed_count': 1, 'created_at': 'Wed Aug 17 17:15:15 +0000 2016', 'favourites_count': 6779, 'utc_offset': None, 'time_zone': None, 'geo_enabled': True, 'verified': False, 'statuses_count': 42976, 'lang': None, 'contributors_enabled': False, 'is_translator': False, 'is_translation_enabled': False, 'profile_background_color': 'F5F8FA', 'profile_background_image_url': None, 'profile_background_image_url_https': None, 'profile_background_tile': False, 'profile_image_url': 'http://pbs.twimg.com/profile_images/1071529771253813254/avRjmRiJ_normal.jpg', 'profile_image_url_https': 'https://pbs.twimg.com/profile_images/1071529771253813254/avRjmRiJ_normal.jpg', 'profile_banner_url': 'https://pbs.twimg.com/profile_banners/765960190713888769/1544307496', 'profile_link_color': '1DA1F2', 'profile_sidebar_border_color': 'C0DEED', 'profile_sidebar_fill_color': 'DDEEF6', 'profile_text_color': '333333', 'profile_use_background_image': True, 'has_extended_profile': True, 'default_profile': True, 'default_profile_image': False, 'following': False, 'follow_request_sent': False, 'notifications': False, 'translator_type': 'none'}, id=765960190713888769, id_str='765960190713888769', name='Joanne Hamilton', screen_name='JoanneH48055804', location='', description='RETIRED FROM SO FL PD', url=None, entities={'description': {'urls': []}}, protected=False, followers_count=230, friends_count=1228, listed_count=1, created_at=datetime.datetime(2016, 8, 17, 17, 15, 15), favourites_count=6779, utc_offset=None, time_zone=None, geo_enabled=True, verified=False, statuses_count=42976, lang=None, contributors_enabled=False, is_translator=False, is_translation_enabled=False, profile_background_color='F5F8FA', profile_background_image_url=None, profile_background_image_url_https=None, profile_background_tile=False, profile_image_url='http://pbs.twimg.com/profile_images/1071529771253813254/avRjmRiJ_normal.jpg', profile_image_url_https='https://pbs.twimg.com/profile_images/1071529771253813254/avRjmRiJ_normal.jpg', profile_banner_url='https://pbs.twimg.com/profile_banners/765960190713888769/1544307496', profile_link_color='1DA1F2', profile_sidebar_border_color='C0DEED', profile_sidebar_fill_color='DDEEF6', profile_text_color='333333', profile_use_background_image=True, has_extended_profile=True, default_profile=True, default_profile_image=False, following=False, follow_request_sent=False, notifications=False, translator_type='none'), geo=None, coordinates=None, place=None, contributors=None, is_quote_status=False, retweet_count=0, favorite_count=0, favorited=False, retweeted=False, possibly_sensitive=False, lang='en')\n",
      "Status(_api=<tweepy.api.API object at 0x0000023439E48EC8>, _json={'created_at': 'Sat Jan 09 05:04:42 +0000 2021', 'id': 1347771255244681216, 'id_str': '1347771255244681216', 'full_text': '@EdwardNorton @ericgarland Trump supporters at the capitol didn’t riot, they participated in a planned attempt to murder the Vice President and members congress, in the course of that attempt they participated in the murder of a Capitol Hill police and caused the deaths of several co-conspirators', 'truncated': False, 'display_text_range': [27, 297], 'entities': {'hashtags': [], 'symbols': [], 'user_mentions': [{'screen_name': 'EdwardNorton', 'name': 'Edward Norton', 'id': 62591681, 'id_str': '62591681', 'indices': [0, 13]}, {'screen_name': 'ericgarland', 'name': 'Eric Garland', 'id': 16912124, 'id_str': '16912124', 'indices': [14, 26]}], 'urls': []}, 'metadata': {'iso_language_code': 'en', 'result_type': 'recent'}, 'source': '<a href=\"http://twitter.com/download/iphone\" rel=\"nofollow\">Twitter for iPhone</a>', 'in_reply_to_status_id': 1347753075990138880, 'in_reply_to_status_id_str': '1347753075990138880', 'in_reply_to_user_id': 62591681, 'in_reply_to_user_id_str': '62591681', 'in_reply_to_screen_name': 'EdwardNorton', 'user': {'id': 1325200158510837761, 'id_str': '1325200158510837761', 'name': 'spazmodi', 'screen_name': 'spazmodi', 'location': '', 'description': '', 'url': None, 'entities': {'description': {'urls': []}}, 'protected': False, 'followers_count': 19, 'friends_count': 357, 'listed_count': 0, 'created_at': 'Sat Nov 07 22:15:31 +0000 2020', 'favourites_count': 463, 'utc_offset': None, 'time_zone': None, 'geo_enabled': False, 'verified': False, 'statuses_count': 209, 'lang': None, 'contributors_enabled': False, 'is_translator': False, 'is_translation_enabled': False, 'profile_background_color': 'F5F8FA', 'profile_background_image_url': None, 'profile_background_image_url_https': None, 'profile_background_tile': False, 'profile_image_url': 'http://pbs.twimg.com/profile_images/1338950822848245760/asSA6T66_normal.jpg', 'profile_image_url_https': 'https://pbs.twimg.com/profile_images/1338950822848245760/asSA6T66_normal.jpg', 'profile_link_color': '1DA1F2', 'profile_sidebar_border_color': 'C0DEED', 'profile_sidebar_fill_color': 'DDEEF6', 'profile_text_color': '333333', 'profile_use_background_image': True, 'has_extended_profile': True, 'default_profile': True, 'default_profile_image': False, 'following': False, 'follow_request_sent': False, 'notifications': False, 'translator_type': 'none'}, 'geo': None, 'coordinates': None, 'place': None, 'contributors': None, 'is_quote_status': False, 'retweet_count': 0, 'favorite_count': 0, 'favorited': False, 'retweeted': False, 'lang': 'en'}, created_at=datetime.datetime(2021, 1, 9, 5, 4, 42), id=1347771255244681216, id_str='1347771255244681216', full_text='@EdwardNorton @ericgarland Trump supporters at the capitol didn’t riot, they participated in a planned attempt to murder the Vice President and members congress, in the course of that attempt they participated in the murder of a Capitol Hill police and caused the deaths of several co-conspirators', truncated=False, display_text_range=[27, 297], entities={'hashtags': [], 'symbols': [], 'user_mentions': [{'screen_name': 'EdwardNorton', 'name': 'Edward Norton', 'id': 62591681, 'id_str': '62591681', 'indices': [0, 13]}, {'screen_name': 'ericgarland', 'name': 'Eric Garland', 'id': 16912124, 'id_str': '16912124', 'indices': [14, 26]}], 'urls': []}, metadata={'iso_language_code': 'en', 'result_type': 'recent'}, source='Twitter for iPhone', source_url='http://twitter.com/download/iphone', in_reply_to_status_id=1347753075990138880, in_reply_to_status_id_str='1347753075990138880', in_reply_to_user_id=62591681, in_reply_to_user_id_str='62591681', in_reply_to_screen_name='EdwardNorton', author=User(_api=<tweepy.api.API object at 0x0000023439E48EC8>, _json={'id': 1325200158510837761, 'id_str': '1325200158510837761', 'name': 'spazmodi', 'screen_name': 'spazmodi', 'location': '', 'description': '', 'url': None, 'entities': {'description': {'urls': []}}, 'protected': False, 'followers_count': 19, 'friends_count': 357, 'listed_count': 0, 'created_at': 'Sat Nov 07 22:15:31 +0000 2020', 'favourites_count': 463, 'utc_offset': None, 'time_zone': None, 'geo_enabled': False, 'verified': False, 'statuses_count': 209, 'lang': None, 'contributors_enabled': False, 'is_translator': False, 'is_translation_enabled': False, 'profile_background_color': 'F5F8FA', 'profile_background_image_url': None, 'profile_background_image_url_https': None, 'profile_background_tile': False, 'profile_image_url': 'http://pbs.twimg.com/profile_images/1338950822848245760/asSA6T66_normal.jpg', 'profile_image_url_https': 'https://pbs.twimg.com/profile_images/1338950822848245760/asSA6T66_normal.jpg', 'profile_link_color': '1DA1F2', 'profile_sidebar_border_color': 'C0DEED', 'profile_sidebar_fill_color': 'DDEEF6', 'profile_text_color': '333333', 'profile_use_background_image': True, 'has_extended_profile': True, 'default_profile': True, 'default_profile_image': False, 'following': False, 'follow_request_sent': False, 'notifications': False, 'translator_type': 'none'}, id=1325200158510837761, id_str='1325200158510837761', name='spazmodi', screen_name='spazmodi', location='', description='', url=None, entities={'description': {'urls': []}}, protected=False, followers_count=19, friends_count=357, listed_count=0, created_at=datetime.datetime(2020, 11, 7, 22, 15, 31), favourites_count=463, utc_offset=None, time_zone=None, geo_enabled=False, verified=False, statuses_count=209, lang=None, contributors_enabled=False, is_translator=False, is_translation_enabled=False, profile_background_color='F5F8FA', profile_background_image_url=None, profile_background_image_url_https=None, profile_background_tile=False, profile_image_url='http://pbs.twimg.com/profile_images/1338950822848245760/asSA6T66_normal.jpg', profile_image_url_https='https://pbs.twimg.com/profile_images/1338950822848245760/asSA6T66_normal.jpg', profile_link_color='1DA1F2', profile_sidebar_border_color='C0DEED', profile_sidebar_fill_color='DDEEF6', profile_text_color='333333', profile_use_background_image=True, has_extended_profile=True, default_profile=True, default_profile_image=False, following=False, follow_request_sent=False, notifications=False, translator_type='none'), user=User(_api=<tweepy.api.API object at 0x0000023439E48EC8>, _json={'id': 1325200158510837761, 'id_str': '1325200158510837761', 'name': 'spazmodi', 'screen_name': 'spazmodi', 'location': '', 'description': '', 'url': None, 'entities': {'description': {'urls': []}}, 'protected': False, 'followers_count': 19, 'friends_count': 357, 'listed_count': 0, 'created_at': 'Sat Nov 07 22:15:31 +0000 2020', 'favourites_count': 463, 'utc_offset': None, 'time_zone': None, 'geo_enabled': False, 'verified': False, 'statuses_count': 209, 'lang': None, 'contributors_enabled': False, 'is_translator': False, 'is_translation_enabled': False, 'profile_background_color': 'F5F8FA', 'profile_background_image_url': None, 'profile_background_image_url_https': None, 'profile_background_tile': False, 'profile_image_url': 'http://pbs.twimg.com/profile_images/1338950822848245760/asSA6T66_normal.jpg', 'profile_image_url_https': 'https://pbs.twimg.com/profile_images/1338950822848245760/asSA6T66_normal.jpg', 'profile_link_color': '1DA1F2', 'profile_sidebar_border_color': 'C0DEED', 'profile_sidebar_fill_color': 'DDEEF6', 'profile_text_color': '333333', 'profile_use_background_image': True, 'has_extended_profile': True, 'default_profile': True, 'default_profile_image': False, 'following': False, 'follow_request_sent': False, 'notifications': False, 'translator_type': 'none'}, id=1325200158510837761, id_str='1325200158510837761', name='spazmodi', screen_name='spazmodi', location='', description='', url=None, entities={'description': {'urls': []}}, protected=False, followers_count=19, friends_count=357, listed_count=0, created_at=datetime.datetime(2020, 11, 7, 22, 15, 31), favourites_count=463, utc_offset=None, time_zone=None, geo_enabled=False, verified=False, statuses_count=209, lang=None, contributors_enabled=False, is_translator=False, is_translation_enabled=False, profile_background_color='F5F8FA', profile_background_image_url=None, profile_background_image_url_https=None, profile_background_tile=False, profile_image_url='http://pbs.twimg.com/profile_images/1338950822848245760/asSA6T66_normal.jpg', profile_image_url_https='https://pbs.twimg.com/profile_images/1338950822848245760/asSA6T66_normal.jpg', profile_link_color='1DA1F2', profile_sidebar_border_color='C0DEED', profile_sidebar_fill_color='DDEEF6', profile_text_color='333333', profile_use_background_image=True, has_extended_profile=True, default_profile=True, default_profile_image=False, following=False, follow_request_sent=False, notifications=False, translator_type='none'), geo=None, coordinates=None, place=None, contributors=None, is_quote_status=False, retweet_count=0, favorite_count=0, favorited=False, retweeted=False, lang='en')\n",
      "Status(_api=<tweepy.api.API object at 0x0000023439E48EC8>, _json={'created_at': 'Sat Jan 09 05:04:23 +0000 2021', 'id': 1347771175389200384, 'id_str': '1347771175389200384', 'full_text': 'By the time social media companies took action against users and groups spurring on the siege of Capitol Hill this week, culminating in the suspension of U.S. President Donald Trump’s accounts, it was too little too late.\\n\\nhttps://t.co/5c67wbesuC', 'truncated': False, 'display_text_range': [0, 246], 'entities': {'hashtags': [], 'symbols': [], 'user_mentions': [], 'urls': [{'url': 'https://t.co/5c67wbesuC', 'expanded_url': 'https://www.news18.com/news/tech/analysis-facebook-and-twitter-crackdown-around-capitol-siege-is-too-little-too-late-3264611.html', 'display_url': 'news18.com/news/tech/anal…', 'indices': [223, 246]}]}, 'metadata': {'iso_language_code': 'en', 'result_type': 'recent'}, 'source': '<a href=\"https://about.twitter.com/products/tweetdeck\" rel=\"nofollow\">TweetDeck</a>', 'in_reply_to_status_id': None, 'in_reply_to_status_id_str': None, 'in_reply_to_user_id': None, 'in_reply_to_user_id_str': None, 'in_reply_to_screen_name': None, 'user': {'id': 284920800, 'id_str': '284920800', 'name': 'News18.com', 'screen_name': 'news18dotcom', 'location': 'India', 'description': \"More than just news, analysis & opinion. The digital platform of @CNNnews18\\n\\nWe're now on Telegram: https://t.co/4JMWUefhbD\", 'url': 'https://t.co/0HnxPgwuLD', 'entities': {'url': {'urls': [{'url': 'https://t.co/0HnxPgwuLD', 'expanded_url': 'https://www.news18.com', 'display_url': 'news18.com', 'indices': [0, 23]}]}, 'description': {'urls': [{'url': 'https://t.co/4JMWUefhbD', 'expanded_url': 'https://t.me/news18dotcom', 'display_url': 't.me/news18dotcom', 'indices': [100, 123]}]}}, 'protected': False, 'followers_count': 149796, 'friends_count': 137, 'listed_count': 806, 'created_at': 'Wed Apr 20 06:14:32 +0000 2011', 'favourites_count': 50, 'utc_offset': None, 'time_zone': None, 'geo_enabled': False, 'verified': True, 'statuses_count': 182098, 'lang': None, 'contributors_enabled': False, 'is_translator': False, 'is_translation_enabled': False, 'profile_background_color': 'C0DEED', 'profile_background_image_url': 'http://abs.twimg.com/images/themes/theme1/bg.png', 'profile_background_image_url_https': 'https://abs.twimg.com/images/themes/theme1/bg.png', 'profile_background_tile': False, 'profile_image_url': 'http://pbs.twimg.com/profile_images/1162274270212308993/VISZ-o80_normal.jpg', 'profile_image_url_https': 'https://pbs.twimg.com/profile_images/1162274270212308993/VISZ-o80_normal.jpg', 'profile_banner_url': 'https://pbs.twimg.com/profile_banners/284920800/1602176451', 'profile_link_color': '1DA1F2', 'profile_sidebar_border_color': 'C0DEED', 'profile_sidebar_fill_color': 'DDEEF6', 'profile_text_color': '333333', 'profile_use_background_image': True, 'has_extended_profile': False, 'default_profile': True, 'default_profile_image': False, 'following': False, 'follow_request_sent': False, 'notifications': False, 'translator_type': 'none'}, 'geo': None, 'coordinates': None, 'place': None, 'contributors': None, 'is_quote_status': False, 'retweet_count': 0, 'favorite_count': 0, 'favorited': False, 'retweeted': False, 'possibly_sensitive': False, 'lang': 'en'}, created_at=datetime.datetime(2021, 1, 9, 5, 4, 23), id=1347771175389200384, id_str='1347771175389200384', full_text='By the time social media companies took action against users and groups spurring on the siege of Capitol Hill this week, culminating in the suspension of U.S. President Donald Trump’s accounts, it was too little too late.\\n\\nhttps://t.co/5c67wbesuC', truncated=False, display_text_range=[0, 246], entities={'hashtags': [], 'symbols': [], 'user_mentions': [], 'urls': [{'url': 'https://t.co/5c67wbesuC', 'expanded_url': 'https://www.news18.com/news/tech/analysis-facebook-and-twitter-crackdown-around-capitol-siege-is-too-little-too-late-3264611.html', 'display_url': 'news18.com/news/tech/anal…', 'indices': [223, 246]}]}, metadata={'iso_language_code': 'en', 'result_type': 'recent'}, source='TweetDeck', source_url='https://about.twitter.com/products/tweetdeck', in_reply_to_status_id=None, in_reply_to_status_id_str=None, in_reply_to_user_id=None, in_reply_to_user_id_str=None, in_reply_to_screen_name=None, author=User(_api=<tweepy.api.API object at 0x0000023439E48EC8>, _json={'id': 284920800, 'id_str': '284920800', 'name': 'News18.com', 'screen_name': 'news18dotcom', 'location': 'India', 'description': \"More than just news, analysis & opinion. The digital platform of @CNNnews18\\n\\nWe're now on Telegram: https://t.co/4JMWUefhbD\", 'url': 'https://t.co/0HnxPgwuLD', 'entities': {'url': {'urls': [{'url': 'https://t.co/0HnxPgwuLD', 'expanded_url': 'https://www.news18.com', 'display_url': 'news18.com', 'indices': [0, 23]}]}, 'description': {'urls': [{'url': 'https://t.co/4JMWUefhbD', 'expanded_url': 'https://t.me/news18dotcom', 'display_url': 't.me/news18dotcom', 'indices': [100, 123]}]}}, 'protected': False, 'followers_count': 149796, 'friends_count': 137, 'listed_count': 806, 'created_at': 'Wed Apr 20 06:14:32 +0000 2011', 'favourites_count': 50, 'utc_offset': None, 'time_zone': None, 'geo_enabled': False, 'verified': True, 'statuses_count': 182098, 'lang': None, 'contributors_enabled': False, 'is_translator': False, 'is_translation_enabled': False, 'profile_background_color': 'C0DEED', 'profile_background_image_url': 'http://abs.twimg.com/images/themes/theme1/bg.png', 'profile_background_image_url_https': 'https://abs.twimg.com/images/themes/theme1/bg.png', 'profile_background_tile': False, 'profile_image_url': 'http://pbs.twimg.com/profile_images/1162274270212308993/VISZ-o80_normal.jpg', 'profile_image_url_https': 'https://pbs.twimg.com/profile_images/1162274270212308993/VISZ-o80_normal.jpg', 'profile_banner_url': 'https://pbs.twimg.com/profile_banners/284920800/1602176451', 'profile_link_color': '1DA1F2', 'profile_sidebar_border_color': 'C0DEED', 'profile_sidebar_fill_color': 'DDEEF6', 'profile_text_color': '333333', 'profile_use_background_image': True, 'has_extended_profile': False, 'default_profile': True, 'default_profile_image': False, 'following': False, 'follow_request_sent': False, 'notifications': False, 'translator_type': 'none'}, id=284920800, id_str='284920800', name='News18.com', screen_name='news18dotcom', location='India', description=\"More than just news, analysis & opinion. The digital platform of @CNNnews18\\n\\nWe're now on Telegram: https://t.co/4JMWUefhbD\", url='https://t.co/0HnxPgwuLD', entities={'url': {'urls': [{'url': 'https://t.co/0HnxPgwuLD', 'expanded_url': 'https://www.news18.com', 'display_url': 'news18.com', 'indices': [0, 23]}]}, 'description': {'urls': [{'url': 'https://t.co/4JMWUefhbD', 'expanded_url': 'https://t.me/news18dotcom', 'display_url': 't.me/news18dotcom', 'indices': [100, 123]}]}}, protected=False, followers_count=149796, friends_count=137, listed_count=806, created_at=datetime.datetime(2011, 4, 20, 6, 14, 32), favourites_count=50, utc_offset=None, time_zone=None, geo_enabled=False, verified=True, statuses_count=182098, lang=None, contributors_enabled=False, is_translator=False, is_translation_enabled=False, profile_background_color='C0DEED', profile_background_image_url='http://abs.twimg.com/images/themes/theme1/bg.png', profile_background_image_url_https='https://abs.twimg.com/images/themes/theme1/bg.png', profile_background_tile=False, profile_image_url='http://pbs.twimg.com/profile_images/1162274270212308993/VISZ-o80_normal.jpg', profile_image_url_https='https://pbs.twimg.com/profile_images/1162274270212308993/VISZ-o80_normal.jpg', profile_banner_url='https://pbs.twimg.com/profile_banners/284920800/1602176451', profile_link_color='1DA1F2', profile_sidebar_border_color='C0DEED', profile_sidebar_fill_color='DDEEF6', profile_text_color='333333', profile_use_background_image=True, has_extended_profile=False, default_profile=True, default_profile_image=False, following=False, follow_request_sent=False, notifications=False, translator_type='none'), user=User(_api=<tweepy.api.API object at 0x0000023439E48EC8>, _json={'id': 284920800, 'id_str': '284920800', 'name': 'News18.com', 'screen_name': 'news18dotcom', 'location': 'India', 'description': \"More than just news, analysis & opinion. The digital platform of @CNNnews18\\n\\nWe're now on Telegram: https://t.co/4JMWUefhbD\", 'url': 'https://t.co/0HnxPgwuLD', 'entities': {'url': {'urls': [{'url': 'https://t.co/0HnxPgwuLD', 'expanded_url': 'https://www.news18.com', 'display_url': 'news18.com', 'indices': [0, 23]}]}, 'description': {'urls': [{'url': 'https://t.co/4JMWUefhbD', 'expanded_url': 'https://t.me/news18dotcom', 'display_url': 't.me/news18dotcom', 'indices': [100, 123]}]}}, 'protected': False, 'followers_count': 149796, 'friends_count': 137, 'listed_count': 806, 'created_at': 'Wed Apr 20 06:14:32 +0000 2011', 'favourites_count': 50, 'utc_offset': None, 'time_zone': None, 'geo_enabled': False, 'verified': True, 'statuses_count': 182098, 'lang': None, 'contributors_enabled': False, 'is_translator': False, 'is_translation_enabled': False, 'profile_background_color': 'C0DEED', 'profile_background_image_url': 'http://abs.twimg.com/images/themes/theme1/bg.png', 'profile_background_image_url_https': 'https://abs.twimg.com/images/themes/theme1/bg.png', 'profile_background_tile': False, 'profile_image_url': 'http://pbs.twimg.com/profile_images/1162274270212308993/VISZ-o80_normal.jpg', 'profile_image_url_https': 'https://pbs.twimg.com/profile_images/1162274270212308993/VISZ-o80_normal.jpg', 'profile_banner_url': 'https://pbs.twimg.com/profile_banners/284920800/1602176451', 'profile_link_color': '1DA1F2', 'profile_sidebar_border_color': 'C0DEED', 'profile_sidebar_fill_color': 'DDEEF6', 'profile_text_color': '333333', 'profile_use_background_image': True, 'has_extended_profile': False, 'default_profile': True, 'default_profile_image': False, 'following': False, 'follow_request_sent': False, 'notifications': False, 'translator_type': 'none'}, id=284920800, id_str='284920800', name='News18.com', screen_name='news18dotcom', location='India', description=\"More than just news, analysis & opinion. The digital platform of @CNNnews18\\n\\nWe're now on Telegram: https://t.co/4JMWUefhbD\", url='https://t.co/0HnxPgwuLD', entities={'url': {'urls': [{'url': 'https://t.co/0HnxPgwuLD', 'expanded_url': 'https://www.news18.com', 'display_url': 'news18.com', 'indices': [0, 23]}]}, 'description': {'urls': [{'url': 'https://t.co/4JMWUefhbD', 'expanded_url': 'https://t.me/news18dotcom', 'display_url': 't.me/news18dotcom', 'indices': [100, 123]}]}}, protected=False, followers_count=149796, friends_count=137, listed_count=806, created_at=datetime.datetime(2011, 4, 20, 6, 14, 32), favourites_count=50, utc_offset=None, time_zone=None, geo_enabled=False, verified=True, statuses_count=182098, lang=None, contributors_enabled=False, is_translator=False, is_translation_enabled=False, profile_background_color='C0DEED', profile_background_image_url='http://abs.twimg.com/images/themes/theme1/bg.png', profile_background_image_url_https='https://abs.twimg.com/images/themes/theme1/bg.png', profile_background_tile=False, profile_image_url='http://pbs.twimg.com/profile_images/1162274270212308993/VISZ-o80_normal.jpg', profile_image_url_https='https://pbs.twimg.com/profile_images/1162274270212308993/VISZ-o80_normal.jpg', profile_banner_url='https://pbs.twimg.com/profile_banners/284920800/1602176451', profile_link_color='1DA1F2', profile_sidebar_border_color='C0DEED', profile_sidebar_fill_color='DDEEF6', profile_text_color='333333', profile_use_background_image=True, has_extended_profile=False, default_profile=True, default_profile_image=False, following=False, follow_request_sent=False, notifications=False, translator_type='none'), geo=None, coordinates=None, place=None, contributors=None, is_quote_status=False, retweet_count=0, favorite_count=0, favorited=False, retweeted=False, possibly_sensitive=False, lang='en')\n",
      "Status(_api=<tweepy.api.API object at 0x0000023439E48EC8>, _json={'created_at': 'Sat Jan 09 04:56:08 +0000 2021', 'id': 1347769101855449088, 'id_str': '1347769101855449088', 'full_text': '(⅓)According to an insider on capitol hill, multiple republican lawmakers are considering supporting an #impeachment to oust president Trump just 12 days before his term commences. https://t.co/LgqQ85lffD', 'truncated': False, 'display_text_range': [0, 204], 'entities': {'hashtags': [{'text': 'impeachment', 'indices': [104, 116]}], 'symbols': [], 'user_mentions': [], 'urls': [{'url': 'https://t.co/LgqQ85lffD', 'expanded_url': 'https://www.cnn.com/2021/01/08/politics/capitol-hill-republicans-impeachment-removal-trump/index.html', 'display_url': 'cnn.com/2021/01/08/pol…', 'indices': [181, 204]}]}, 'metadata': {'iso_language_code': 'en', 'result_type': 'recent'}, 'source': '<a href=\"https://mobile.twitter.com\" rel=\"nofollow\">Twitter Web App</a>', 'in_reply_to_status_id': None, 'in_reply_to_status_id_str': None, 'in_reply_to_user_id': None, 'in_reply_to_user_id_str': None, 'in_reply_to_screen_name': None, 'user': {'id': 1330957851603374080, 'id_str': '1330957851603374080', 'name': 'mac morrisson', 'screen_name': 'macmorrisson1', 'location': '', 'description': 'BLM.', 'url': None, 'entities': {'description': {'urls': []}}, 'protected': False, 'followers_count': 25, 'friends_count': 36, 'listed_count': 0, 'created_at': 'Mon Nov 23 19:34:28 +0000 2020', 'favourites_count': 2, 'utc_offset': None, 'time_zone': None, 'geo_enabled': False, 'verified': False, 'statuses_count': 90, 'lang': None, 'contributors_enabled': False, 'is_translator': False, 'is_translation_enabled': False, 'profile_background_color': 'F5F8FA', 'profile_background_image_url': None, 'profile_background_image_url_https': None, 'profile_background_tile': False, 'profile_image_url': 'http://abs.twimg.com/sticky/default_profile_images/default_profile_normal.png', 'profile_image_url_https': 'https://abs.twimg.com/sticky/default_profile_images/default_profile_normal.png', 'profile_link_color': '1DA1F2', 'profile_sidebar_border_color': 'C0DEED', 'profile_sidebar_fill_color': 'DDEEF6', 'profile_text_color': '333333', 'profile_use_background_image': True, 'has_extended_profile': True, 'default_profile': True, 'default_profile_image': True, 'following': False, 'follow_request_sent': False, 'notifications': False, 'translator_type': 'none'}, 'geo': None, 'coordinates': None, 'place': None, 'contributors': None, 'is_quote_status': False, 'retweet_count': 0, 'favorite_count': 0, 'favorited': False, 'retweeted': False, 'possibly_sensitive': False, 'lang': 'en'}, created_at=datetime.datetime(2021, 1, 9, 4, 56, 8), id=1347769101855449088, id_str='1347769101855449088', full_text='(⅓)According to an insider on capitol hill, multiple republican lawmakers are considering supporting an #impeachment to oust president Trump just 12 days before his term commences. https://t.co/LgqQ85lffD', truncated=False, display_text_range=[0, 204], entities={'hashtags': [{'text': 'impeachment', 'indices': [104, 116]}], 'symbols': [], 'user_mentions': [], 'urls': [{'url': 'https://t.co/LgqQ85lffD', 'expanded_url': 'https://www.cnn.com/2021/01/08/politics/capitol-hill-republicans-impeachment-removal-trump/index.html', 'display_url': 'cnn.com/2021/01/08/pol…', 'indices': [181, 204]}]}, metadata={'iso_language_code': 'en', 'result_type': 'recent'}, source='Twitter Web App', source_url='https://mobile.twitter.com', in_reply_to_status_id=None, in_reply_to_status_id_str=None, in_reply_to_user_id=None, in_reply_to_user_id_str=None, in_reply_to_screen_name=None, author=User(_api=<tweepy.api.API object at 0x0000023439E48EC8>, _json={'id': 1330957851603374080, 'id_str': '1330957851603374080', 'name': 'mac morrisson', 'screen_name': 'macmorrisson1', 'location': '', 'description': 'BLM.', 'url': None, 'entities': {'description': {'urls': []}}, 'protected': False, 'followers_count': 25, 'friends_count': 36, 'listed_count': 0, 'created_at': 'Mon Nov 23 19:34:28 +0000 2020', 'favourites_count': 2, 'utc_offset': None, 'time_zone': None, 'geo_enabled': False, 'verified': False, 'statuses_count': 90, 'lang': None, 'contributors_enabled': False, 'is_translator': False, 'is_translation_enabled': False, 'profile_background_color': 'F5F8FA', 'profile_background_image_url': None, 'profile_background_image_url_https': None, 'profile_background_tile': False, 'profile_image_url': 'http://abs.twimg.com/sticky/default_profile_images/default_profile_normal.png', 'profile_image_url_https': 'https://abs.twimg.com/sticky/default_profile_images/default_profile_normal.png', 'profile_link_color': '1DA1F2', 'profile_sidebar_border_color': 'C0DEED', 'profile_sidebar_fill_color': 'DDEEF6', 'profile_text_color': '333333', 'profile_use_background_image': True, 'has_extended_profile': True, 'default_profile': True, 'default_profile_image': True, 'following': False, 'follow_request_sent': False, 'notifications': False, 'translator_type': 'none'}, id=1330957851603374080, id_str='1330957851603374080', name='mac morrisson', screen_name='macmorrisson1', location='', description='BLM.', url=None, entities={'description': {'urls': []}}, protected=False, followers_count=25, friends_count=36, listed_count=0, created_at=datetime.datetime(2020, 11, 23, 19, 34, 28), favourites_count=2, utc_offset=None, time_zone=None, geo_enabled=False, verified=False, statuses_count=90, lang=None, contributors_enabled=False, is_translator=False, is_translation_enabled=False, profile_background_color='F5F8FA', profile_background_image_url=None, profile_background_image_url_https=None, profile_background_tile=False, profile_image_url='http://abs.twimg.com/sticky/default_profile_images/default_profile_normal.png', profile_image_url_https='https://abs.twimg.com/sticky/default_profile_images/default_profile_normal.png', profile_link_color='1DA1F2', profile_sidebar_border_color='C0DEED', profile_sidebar_fill_color='DDEEF6', profile_text_color='333333', profile_use_background_image=True, has_extended_profile=True, default_profile=True, default_profile_image=True, following=False, follow_request_sent=False, notifications=False, translator_type='none'), user=User(_api=<tweepy.api.API object at 0x0000023439E48EC8>, _json={'id': 1330957851603374080, 'id_str': '1330957851603374080', 'name': 'mac morrisson', 'screen_name': 'macmorrisson1', 'location': '', 'description': 'BLM.', 'url': None, 'entities': {'description': {'urls': []}}, 'protected': False, 'followers_count': 25, 'friends_count': 36, 'listed_count': 0, 'created_at': 'Mon Nov 23 19:34:28 +0000 2020', 'favourites_count': 2, 'utc_offset': None, 'time_zone': None, 'geo_enabled': False, 'verified': False, 'statuses_count': 90, 'lang': None, 'contributors_enabled': False, 'is_translator': False, 'is_translation_enabled': False, 'profile_background_color': 'F5F8FA', 'profile_background_image_url': None, 'profile_background_image_url_https': None, 'profile_background_tile': False, 'profile_image_url': 'http://abs.twimg.com/sticky/default_profile_images/default_profile_normal.png', 'profile_image_url_https': 'https://abs.twimg.com/sticky/default_profile_images/default_profile_normal.png', 'profile_link_color': '1DA1F2', 'profile_sidebar_border_color': 'C0DEED', 'profile_sidebar_fill_color': 'DDEEF6', 'profile_text_color': '333333', 'profile_use_background_image': True, 'has_extended_profile': True, 'default_profile': True, 'default_profile_image': True, 'following': False, 'follow_request_sent': False, 'notifications': False, 'translator_type': 'none'}, id=1330957851603374080, id_str='1330957851603374080', name='mac morrisson', screen_name='macmorrisson1', location='', description='BLM.', url=None, entities={'description': {'urls': []}}, protected=False, followers_count=25, friends_count=36, listed_count=0, created_at=datetime.datetime(2020, 11, 23, 19, 34, 28), favourites_count=2, utc_offset=None, time_zone=None, geo_enabled=False, verified=False, statuses_count=90, lang=None, contributors_enabled=False, is_translator=False, is_translation_enabled=False, profile_background_color='F5F8FA', profile_background_image_url=None, profile_background_image_url_https=None, profile_background_tile=False, profile_image_url='http://abs.twimg.com/sticky/default_profile_images/default_profile_normal.png', profile_image_url_https='https://abs.twimg.com/sticky/default_profile_images/default_profile_normal.png', profile_link_color='1DA1F2', profile_sidebar_border_color='C0DEED', profile_sidebar_fill_color='DDEEF6', profile_text_color='333333', profile_use_background_image=True, has_extended_profile=True, default_profile=True, default_profile_image=True, following=False, follow_request_sent=False, notifications=False, translator_type='none'), geo=None, coordinates=None, place=None, contributors=None, is_quote_status=False, retweet_count=0, favorite_count=0, favorited=False, retweeted=False, possibly_sensitive=False, lang='en')\n",
      "Status(_api=<tweepy.api.API object at 0x0000023439E48EC8>, _json={'created_at': 'Sat Jan 09 04:52:50 +0000 2021', 'id': 1347768271429369856, 'id_str': '1347768271429369856', 'full_text': '@HE_Robinson Respectfully, the group of protests was due to a Black man being killed by a police officer. The protest on Capitol Hill was encouraged by President Trump. Our country has a history of protests, but violent and non-violent. Take it from an old guy.', 'truncated': False, 'display_text_range': [13, 261], 'entities': {'hashtags': [], 'symbols': [], 'user_mentions': [{'screen_name': 'HE_Robinson', 'name': 'Heather Robinson', 'id': 191263036, 'id_str': '191263036', 'indices': [0, 12]}], 'urls': []}, 'metadata': {'iso_language_code': 'en', 'result_type': 'recent'}, 'source': '<a href=\"https://mobile.twitter.com\" rel=\"nofollow\">Twitter Web App</a>', 'in_reply_to_status_id': 1347759832095457281, 'in_reply_to_status_id_str': '1347759832095457281', 'in_reply_to_user_id': 191263036, 'in_reply_to_user_id_str': '191263036', 'in_reply_to_screen_name': 'HE_Robinson', 'user': {'id': 799652508771766274, 'id_str': '799652508771766274', 'name': 'Judson Bennett 🇺🇸', 'screen_name': 'Judson_Bennett', 'location': '', 'description': 'Coastal Network founder. Advocate, journalist, businessman, entrepreneur. Long-time resident of Delaware and Florida. USA! Proud American Patriot! 🇺🇸 #MAGA', 'url': 'https://t.co/EmjepaqdJD', 'entities': {'url': {'urls': [{'url': 'https://t.co/EmjepaqdJD', 'expanded_url': 'https://coastalnetwork.com/', 'display_url': 'coastalnetwork.com', 'indices': [0, 23]}]}, 'description': {'urls': []}}, 'protected': False, 'followers_count': 139, 'friends_count': 663, 'listed_count': 3, 'created_at': 'Fri Nov 18 16:36:29 +0000 2016', 'favourites_count': 1049, 'utc_offset': None, 'time_zone': None, 'geo_enabled': False, 'verified': False, 'statuses_count': 2119, 'lang': None, 'contributors_enabled': False, 'is_translator': False, 'is_translation_enabled': False, 'profile_background_color': '000000', 'profile_background_image_url': 'http://abs.twimg.com/images/themes/theme1/bg.png', 'profile_background_image_url_https': 'https://abs.twimg.com/images/themes/theme1/bg.png', 'profile_background_tile': False, 'profile_image_url': 'http://pbs.twimg.com/profile_images/799653197027639296/mFJXbkOv_normal.jpg', 'profile_image_url_https': 'https://pbs.twimg.com/profile_images/799653197027639296/mFJXbkOv_normal.jpg', 'profile_banner_url': 'https://pbs.twimg.com/profile_banners/799652508771766274/1479487555', 'profile_link_color': '1B95E0', 'profile_sidebar_border_color': '000000', 'profile_sidebar_fill_color': '000000', 'profile_text_color': '000000', 'profile_use_background_image': False, 'has_extended_profile': False, 'default_profile': False, 'default_profile_image': False, 'following': False, 'follow_request_sent': False, 'notifications': False, 'translator_type': 'none'}, 'geo': None, 'coordinates': None, 'place': None, 'contributors': None, 'is_quote_status': False, 'retweet_count': 0, 'favorite_count': 0, 'favorited': False, 'retweeted': False, 'lang': 'en'}, created_at=datetime.datetime(2021, 1, 9, 4, 52, 50), id=1347768271429369856, id_str='1347768271429369856', full_text='@HE_Robinson Respectfully, the group of protests was due to a Black man being killed by a police officer. The protest on Capitol Hill was encouraged by President Trump. Our country has a history of protests, but violent and non-violent. Take it from an old guy.', truncated=False, display_text_range=[13, 261], entities={'hashtags': [], 'symbols': [], 'user_mentions': [{'screen_name': 'HE_Robinson', 'name': 'Heather Robinson', 'id': 191263036, 'id_str': '191263036', 'indices': [0, 12]}], 'urls': []}, metadata={'iso_language_code': 'en', 'result_type': 'recent'}, source='Twitter Web App', source_url='https://mobile.twitter.com', in_reply_to_status_id=1347759832095457281, in_reply_to_status_id_str='1347759832095457281', in_reply_to_user_id=191263036, in_reply_to_user_id_str='191263036', in_reply_to_screen_name='HE_Robinson', author=User(_api=<tweepy.api.API object at 0x0000023439E48EC8>, _json={'id': 799652508771766274, 'id_str': '799652508771766274', 'name': 'Judson Bennett 🇺🇸', 'screen_name': 'Judson_Bennett', 'location': '', 'description': 'Coastal Network founder. Advocate, journalist, businessman, entrepreneur. Long-time resident of Delaware and Florida. USA! Proud American Patriot! 🇺🇸 #MAGA', 'url': 'https://t.co/EmjepaqdJD', 'entities': {'url': {'urls': [{'url': 'https://t.co/EmjepaqdJD', 'expanded_url': 'https://coastalnetwork.com/', 'display_url': 'coastalnetwork.com', 'indices': [0, 23]}]}, 'description': {'urls': []}}, 'protected': False, 'followers_count': 139, 'friends_count': 663, 'listed_count': 3, 'created_at': 'Fri Nov 18 16:36:29 +0000 2016', 'favourites_count': 1049, 'utc_offset': None, 'time_zone': None, 'geo_enabled': False, 'verified': False, 'statuses_count': 2119, 'lang': None, 'contributors_enabled': False, 'is_translator': False, 'is_translation_enabled': False, 'profile_background_color': '000000', 'profile_background_image_url': 'http://abs.twimg.com/images/themes/theme1/bg.png', 'profile_background_image_url_https': 'https://abs.twimg.com/images/themes/theme1/bg.png', 'profile_background_tile': False, 'profile_image_url': 'http://pbs.twimg.com/profile_images/799653197027639296/mFJXbkOv_normal.jpg', 'profile_image_url_https': 'https://pbs.twimg.com/profile_images/799653197027639296/mFJXbkOv_normal.jpg', 'profile_banner_url': 'https://pbs.twimg.com/profile_banners/799652508771766274/1479487555', 'profile_link_color': '1B95E0', 'profile_sidebar_border_color': '000000', 'profile_sidebar_fill_color': '000000', 'profile_text_color': '000000', 'profile_use_background_image': False, 'has_extended_profile': False, 'default_profile': False, 'default_profile_image': False, 'following': False, 'follow_request_sent': False, 'notifications': False, 'translator_type': 'none'}, id=799652508771766274, id_str='799652508771766274', name='Judson Bennett 🇺🇸', screen_name='Judson_Bennett', location='', description='Coastal Network founder. Advocate, journalist, businessman, entrepreneur. Long-time resident of Delaware and Florida. USA! Proud American Patriot! 🇺🇸 #MAGA', url='https://t.co/EmjepaqdJD', entities={'url': {'urls': [{'url': 'https://t.co/EmjepaqdJD', 'expanded_url': 'https://coastalnetwork.com/', 'display_url': 'coastalnetwork.com', 'indices': [0, 23]}]}, 'description': {'urls': []}}, protected=False, followers_count=139, friends_count=663, listed_count=3, created_at=datetime.datetime(2016, 11, 18, 16, 36, 29), favourites_count=1049, utc_offset=None, time_zone=None, geo_enabled=False, verified=False, statuses_count=2119, lang=None, contributors_enabled=False, is_translator=False, is_translation_enabled=False, profile_background_color='000000', profile_background_image_url='http://abs.twimg.com/images/themes/theme1/bg.png', profile_background_image_url_https='https://abs.twimg.com/images/themes/theme1/bg.png', profile_background_tile=False, profile_image_url='http://pbs.twimg.com/profile_images/799653197027639296/mFJXbkOv_normal.jpg', profile_image_url_https='https://pbs.twimg.com/profile_images/799653197027639296/mFJXbkOv_normal.jpg', profile_banner_url='https://pbs.twimg.com/profile_banners/799652508771766274/1479487555', profile_link_color='1B95E0', profile_sidebar_border_color='000000', profile_sidebar_fill_color='000000', profile_text_color='000000', profile_use_background_image=False, has_extended_profile=False, default_profile=False, default_profile_image=False, following=False, follow_request_sent=False, notifications=False, translator_type='none'), user=User(_api=<tweepy.api.API object at 0x0000023439E48EC8>, _json={'id': 799652508771766274, 'id_str': '799652508771766274', 'name': 'Judson Bennett 🇺🇸', 'screen_name': 'Judson_Bennett', 'location': '', 'description': 'Coastal Network founder. Advocate, journalist, businessman, entrepreneur. Long-time resident of Delaware and Florida. USA! Proud American Patriot! 🇺🇸 #MAGA', 'url': 'https://t.co/EmjepaqdJD', 'entities': {'url': {'urls': [{'url': 'https://t.co/EmjepaqdJD', 'expanded_url': 'https://coastalnetwork.com/', 'display_url': 'coastalnetwork.com', 'indices': [0, 23]}]}, 'description': {'urls': []}}, 'protected': False, 'followers_count': 139, 'friends_count': 663, 'listed_count': 3, 'created_at': 'Fri Nov 18 16:36:29 +0000 2016', 'favourites_count': 1049, 'utc_offset': None, 'time_zone': None, 'geo_enabled': False, 'verified': False, 'statuses_count': 2119, 'lang': None, 'contributors_enabled': False, 'is_translator': False, 'is_translation_enabled': False, 'profile_background_color': '000000', 'profile_background_image_url': 'http://abs.twimg.com/images/themes/theme1/bg.png', 'profile_background_image_url_https': 'https://abs.twimg.com/images/themes/theme1/bg.png', 'profile_background_tile': False, 'profile_image_url': 'http://pbs.twimg.com/profile_images/799653197027639296/mFJXbkOv_normal.jpg', 'profile_image_url_https': 'https://pbs.twimg.com/profile_images/799653197027639296/mFJXbkOv_normal.jpg', 'profile_banner_url': 'https://pbs.twimg.com/profile_banners/799652508771766274/1479487555', 'profile_link_color': '1B95E0', 'profile_sidebar_border_color': '000000', 'profile_sidebar_fill_color': '000000', 'profile_text_color': '000000', 'profile_use_background_image': False, 'has_extended_profile': False, 'default_profile': False, 'default_profile_image': False, 'following': False, 'follow_request_sent': False, 'notifications': False, 'translator_type': 'none'}, id=799652508771766274, id_str='799652508771766274', name='Judson Bennett 🇺🇸', screen_name='Judson_Bennett', location='', description='Coastal Network founder. Advocate, journalist, businessman, entrepreneur. Long-time resident of Delaware and Florida. USA! Proud American Patriot! 🇺🇸 #MAGA', url='https://t.co/EmjepaqdJD', entities={'url': {'urls': [{'url': 'https://t.co/EmjepaqdJD', 'expanded_url': 'https://coastalnetwork.com/', 'display_url': 'coastalnetwork.com', 'indices': [0, 23]}]}, 'description': {'urls': []}}, protected=False, followers_count=139, friends_count=663, listed_count=3, created_at=datetime.datetime(2016, 11, 18, 16, 36, 29), favourites_count=1049, utc_offset=None, time_zone=None, geo_enabled=False, verified=False, statuses_count=2119, lang=None, contributors_enabled=False, is_translator=False, is_translation_enabled=False, profile_background_color='000000', profile_background_image_url='http://abs.twimg.com/images/themes/theme1/bg.png', profile_background_image_url_https='https://abs.twimg.com/images/themes/theme1/bg.png', profile_background_tile=False, profile_image_url='http://pbs.twimg.com/profile_images/799653197027639296/mFJXbkOv_normal.jpg', profile_image_url_https='https://pbs.twimg.com/profile_images/799653197027639296/mFJXbkOv_normal.jpg', profile_banner_url='https://pbs.twimg.com/profile_banners/799652508771766274/1479487555', profile_link_color='1B95E0', profile_sidebar_border_color='000000', profile_sidebar_fill_color='000000', profile_text_color='000000', profile_use_background_image=False, has_extended_profile=False, default_profile=False, default_profile_image=False, following=False, follow_request_sent=False, notifications=False, translator_type='none'), geo=None, coordinates=None, place=None, contributors=None, is_quote_status=False, retweet_count=0, favorite_count=0, favorited=False, retweeted=False, lang='en')\n",
      "Status(_api=<tweepy.api.API object at 0x0000023439E48EC8>, _json={'created_at': 'Sat Jan 09 04:51:11 +0000 2021', 'id': 1347767854213468160, 'id_str': '1347767854213468160', 'full_text': 'He is President Trump. Just remember this Twitter, Facebook, Google. He became President when so many said #NotMyPresident when he is leaving so many entered inside Capitol Hill.\\nhttps://t.co/mySoX9bSwR', 'truncated': False, 'display_text_range': [0, 202], 'entities': {'hashtags': [{'text': 'NotMyPresident', 'indices': [107, 122]}], 'symbols': [], 'user_mentions': [], 'urls': [{'url': 'https://t.co/mySoX9bSwR', 'expanded_url': 'https://twitter.com/spectatorindex/status/1347691356991311872?s=19', 'display_url': 'twitter.com/spectatorindex…', 'indices': [179, 202]}]}, 'metadata': {'iso_language_code': 'en', 'result_type': 'recent'}, 'source': '<a href=\"http://twitter.com/download/android\" rel=\"nofollow\">Twitter for Android</a>', 'in_reply_to_status_id': 1347762407041470468, 'in_reply_to_status_id_str': '1347762407041470468', 'in_reply_to_user_id': 237329976, 'in_reply_to_user_id_str': '237329976', 'in_reply_to_screen_name': 'sangramstarts', 'user': {'id': 237329976, 'id_str': '237329976', 'name': 'S͟a͟n͟g͟r͟a͟m͟', 'screen_name': 'sangramstarts', 'location': 'Bengaluru, India', 'description': 'ଶ୍ରୀଜଗନ୍ନାଥ export PATH=Ravenshaw: Tech: Politics: NatureAnimal: MusicDrama: FailureSuccess #empowerGirls #beFinanciallyStrong #doFarming\\n🔱🌷☸(◉↓◉)࿗🌷🇮🇳༒☯☮🤗', 'url': 'https://t.co/ubDSuyZpj0', 'entities': {'url': {'urls': [{'url': 'https://t.co/ubDSuyZpj0', 'expanded_url': 'https://sangramstarts.blogspot.in/', 'display_url': 'sangramstarts.blogspot.in', 'indices': [0, 23]}]}, 'description': {'urls': []}}, 'protected': False, 'followers_count': 292, 'friends_count': 613, 'listed_count': 15, 'created_at': 'Wed Jan 12 16:06:46 +0000 2011', 'favourites_count': 32962, 'utc_offset': None, 'time_zone': None, 'geo_enabled': False, 'verified': False, 'statuses_count': 19718, 'lang': None, 'contributors_enabled': False, 'is_translator': False, 'is_translation_enabled': False, 'profile_background_color': '000000', 'profile_background_image_url': 'http://abs.twimg.com/images/themes/theme9/bg.gif', 'profile_background_image_url_https': 'https://abs.twimg.com/images/themes/theme9/bg.gif', 'profile_background_tile': False, 'profile_image_url': 'http://pbs.twimg.com/profile_images/1307246647148122112/Sstc7UdG_normal.jpg', 'profile_image_url_https': 'https://pbs.twimg.com/profile_images/1307246647148122112/Sstc7UdG_normal.jpg', 'profile_banner_url': 'https://pbs.twimg.com/profile_banners/237329976/1525919974', 'profile_link_color': 'FF691F', 'profile_sidebar_border_color': '000000', 'profile_sidebar_fill_color': '000000', 'profile_text_color': '000000', 'profile_use_background_image': False, 'has_extended_profile': True, 'default_profile': False, 'default_profile_image': False, 'following': False, 'follow_request_sent': False, 'notifications': False, 'translator_type': 'none'}, 'geo': None, 'coordinates': None, 'place': None, 'contributors': None, 'is_quote_status': True, 'quoted_status_id': 1347691356991311872, 'quoted_status_id_str': '1347691356991311872', 'quoted_status': {'created_at': 'Fri Jan 08 23:47:13 +0000 2021', 'id': 1347691356991311872, 'id_str': '1347691356991311872', 'full_text': \"BREAKING: Twitter suspends President Trump's account permanently\", 'truncated': False, 'display_text_range': [0, 64], 'entities': {'hashtags': [], 'symbols': [], 'user_mentions': [], 'urls': []}, 'metadata': {'iso_language_code': 'en', 'result_type': 'recent'}, 'source': '<a href=\"http://twitter.com/download/android\" rel=\"nofollow\">Twitter for Android</a>', 'in_reply_to_status_id': None, 'in_reply_to_status_id_str': None, 'in_reply_to_user_id': None, 'in_reply_to_user_id_str': None, 'in_reply_to_screen_name': None, 'user': {'id': 1626294277, 'id_str': '1626294277', 'name': 'The Spectator Index', 'screen_name': 'spectatorindex', 'location': 'Global', 'description': 'Watching the world. Focused on politics, economics, science and sports. Message us for business inquiries.', 'url': 'https://t.co/JKoXedtrxE', 'entities': {'url': {'urls': [{'url': 'https://t.co/JKoXedtrxE', 'expanded_url': 'http://spectatorindex.com', 'display_url': 'spectatorindex.com', 'indices': [0, 23]}]}, 'description': {'urls': []}}, 'protected': False, 'followers_count': 1843831, 'friends_count': 0, 'listed_count': 10576, 'created_at': 'Sat Jul 27 20:42:27 +0000 2013', 'favourites_count': 1, 'utc_offset': None, 'time_zone': None, 'geo_enabled': False, 'verified': False, 'statuses_count': 5627, 'lang': None, 'contributors_enabled': False, 'is_translator': False, 'is_translation_enabled': False, 'profile_background_color': '000000', 'profile_background_image_url': 'http://abs.twimg.com/images/themes/theme1/bg.png', 'profile_background_image_url_https': 'https://abs.twimg.com/images/themes/theme1/bg.png', 'profile_background_tile': False, 'profile_image_url': 'http://pbs.twimg.com/profile_images/1145865652533547008/XBahoZmX_normal.png', 'profile_image_url_https': 'https://pbs.twimg.com/profile_images/1145865652533547008/XBahoZmX_normal.png', 'profile_banner_url': 'https://pbs.twimg.com/profile_banners/1626294277/1430626667', 'profile_link_color': 'ABB8C2', 'profile_sidebar_border_color': '000000', 'profile_sidebar_fill_color': '000000', 'profile_text_color': '000000', 'profile_use_background_image': False, 'has_extended_profile': False, 'default_profile': False, 'default_profile_image': False, 'following': False, 'follow_request_sent': False, 'notifications': False, 'translator_type': 'none'}, 'geo': None, 'coordinates': None, 'place': None, 'contributors': None, 'is_quote_status': False, 'retweet_count': 2721, 'favorite_count': 15153, 'favorited': False, 'retweeted': False, 'lang': 'en'}, 'retweet_count': 0, 'favorite_count': 1, 'favorited': False, 'retweeted': False, 'possibly_sensitive': False, 'lang': 'en'}, created_at=datetime.datetime(2021, 1, 9, 4, 51, 11), id=1347767854213468160, id_str='1347767854213468160', full_text='He is President Trump. Just remember this Twitter, Facebook, Google. He became President when so many said #NotMyPresident when he is leaving so many entered inside Capitol Hill.\\nhttps://t.co/mySoX9bSwR', truncated=False, display_text_range=[0, 202], entities={'hashtags': [{'text': 'NotMyPresident', 'indices': [107, 122]}], 'symbols': [], 'user_mentions': [], 'urls': [{'url': 'https://t.co/mySoX9bSwR', 'expanded_url': 'https://twitter.com/spectatorindex/status/1347691356991311872?s=19', 'display_url': 'twitter.com/spectatorindex…', 'indices': [179, 202]}]}, metadata={'iso_language_code': 'en', 'result_type': 'recent'}, source='Twitter for Android', source_url='http://twitter.com/download/android', in_reply_to_status_id=1347762407041470468, in_reply_to_status_id_str='1347762407041470468', in_reply_to_user_id=237329976, in_reply_to_user_id_str='237329976', in_reply_to_screen_name='sangramstarts', author=User(_api=<tweepy.api.API object at 0x0000023439E48EC8>, _json={'id': 237329976, 'id_str': '237329976', 'name': 'S͟a͟n͟g͟r͟a͟m͟', 'screen_name': 'sangramstarts', 'location': 'Bengaluru, India', 'description': 'ଶ୍ରୀଜଗନ୍ନାଥ export PATH=Ravenshaw: Tech: Politics: NatureAnimal: MusicDrama: FailureSuccess #empowerGirls #beFinanciallyStrong #doFarming\\n🔱🌷☸(◉↓◉)࿗🌷🇮🇳༒☯☮🤗', 'url': 'https://t.co/ubDSuyZpj0', 'entities': {'url': {'urls': [{'url': 'https://t.co/ubDSuyZpj0', 'expanded_url': 'https://sangramstarts.blogspot.in/', 'display_url': 'sangramstarts.blogspot.in', 'indices': [0, 23]}]}, 'description': {'urls': []}}, 'protected': False, 'followers_count': 292, 'friends_count': 613, 'listed_count': 15, 'created_at': 'Wed Jan 12 16:06:46 +0000 2011', 'favourites_count': 32962, 'utc_offset': None, 'time_zone': None, 'geo_enabled': False, 'verified': False, 'statuses_count': 19718, 'lang': None, 'contributors_enabled': False, 'is_translator': False, 'is_translation_enabled': False, 'profile_background_color': '000000', 'profile_background_image_url': 'http://abs.twimg.com/images/themes/theme9/bg.gif', 'profile_background_image_url_https': 'https://abs.twimg.com/images/themes/theme9/bg.gif', 'profile_background_tile': False, 'profile_image_url': 'http://pbs.twimg.com/profile_images/1307246647148122112/Sstc7UdG_normal.jpg', 'profile_image_url_https': 'https://pbs.twimg.com/profile_images/1307246647148122112/Sstc7UdG_normal.jpg', 'profile_banner_url': 'https://pbs.twimg.com/profile_banners/237329976/1525919974', 'profile_link_color': 'FF691F', 'profile_sidebar_border_color': '000000', 'profile_sidebar_fill_color': '000000', 'profile_text_color': '000000', 'profile_use_background_image': False, 'has_extended_profile': True, 'default_profile': False, 'default_profile_image': False, 'following': False, 'follow_request_sent': False, 'notifications': False, 'translator_type': 'none'}, id=237329976, id_str='237329976', name='S͟a͟n͟g͟r͟a͟m͟', screen_name='sangramstarts', location='Bengaluru, India', description='ଶ୍ରୀଜଗନ୍ନାଥ export PATH=Ravenshaw: Tech: Politics: NatureAnimal: MusicDrama: FailureSuccess #empowerGirls #beFinanciallyStrong #doFarming\\n🔱🌷☸(◉↓◉)࿗🌷🇮🇳༒☯☮🤗', url='https://t.co/ubDSuyZpj0', entities={'url': {'urls': [{'url': 'https://t.co/ubDSuyZpj0', 'expanded_url': 'https://sangramstarts.blogspot.in/', 'display_url': 'sangramstarts.blogspot.in', 'indices': [0, 23]}]}, 'description': {'urls': []}}, protected=False, followers_count=292, friends_count=613, listed_count=15, created_at=datetime.datetime(2011, 1, 12, 16, 6, 46), favourites_count=32962, utc_offset=None, time_zone=None, geo_enabled=False, verified=False, statuses_count=19718, lang=None, contributors_enabled=False, is_translator=False, is_translation_enabled=False, profile_background_color='000000', profile_background_image_url='http://abs.twimg.com/images/themes/theme9/bg.gif', profile_background_image_url_https='https://abs.twimg.com/images/themes/theme9/bg.gif', profile_background_tile=False, profile_image_url='http://pbs.twimg.com/profile_images/1307246647148122112/Sstc7UdG_normal.jpg', profile_image_url_https='https://pbs.twimg.com/profile_images/1307246647148122112/Sstc7UdG_normal.jpg', profile_banner_url='https://pbs.twimg.com/profile_banners/237329976/1525919974', profile_link_color='FF691F', profile_sidebar_border_color='000000', profile_sidebar_fill_color='000000', profile_text_color='000000', profile_use_background_image=False, has_extended_profile=True, default_profile=False, default_profile_image=False, following=False, follow_request_sent=False, notifications=False, translator_type='none'), user=User(_api=<tweepy.api.API object at 0x0000023439E48EC8>, _json={'id': 237329976, 'id_str': '237329976', 'name': 'S͟a͟n͟g͟r͟a͟m͟', 'screen_name': 'sangramstarts', 'location': 'Bengaluru, India', 'description': 'ଶ୍ରୀଜଗନ୍ନାଥ export PATH=Ravenshaw: Tech: Politics: NatureAnimal: MusicDrama: FailureSuccess #empowerGirls #beFinanciallyStrong #doFarming\\n🔱🌷☸(◉↓◉)࿗🌷🇮🇳༒☯☮🤗', 'url': 'https://t.co/ubDSuyZpj0', 'entities': {'url': {'urls': [{'url': 'https://t.co/ubDSuyZpj0', 'expanded_url': 'https://sangramstarts.blogspot.in/', 'display_url': 'sangramstarts.blogspot.in', 'indices': [0, 23]}]}, 'description': {'urls': []}}, 'protected': False, 'followers_count': 292, 'friends_count': 613, 'listed_count': 15, 'created_at': 'Wed Jan 12 16:06:46 +0000 2011', 'favourites_count': 32962, 'utc_offset': None, 'time_zone': None, 'geo_enabled': False, 'verified': False, 'statuses_count': 19718, 'lang': None, 'contributors_enabled': False, 'is_translator': False, 'is_translation_enabled': False, 'profile_background_color': '000000', 'profile_background_image_url': 'http://abs.twimg.com/images/themes/theme9/bg.gif', 'profile_background_image_url_https': 'https://abs.twimg.com/images/themes/theme9/bg.gif', 'profile_background_tile': False, 'profile_image_url': 'http://pbs.twimg.com/profile_images/1307246647148122112/Sstc7UdG_normal.jpg', 'profile_image_url_https': 'https://pbs.twimg.com/profile_images/1307246647148122112/Sstc7UdG_normal.jpg', 'profile_banner_url': 'https://pbs.twimg.com/profile_banners/237329976/1525919974', 'profile_link_color': 'FF691F', 'profile_sidebar_border_color': '000000', 'profile_sidebar_fill_color': '000000', 'profile_text_color': '000000', 'profile_use_background_image': False, 'has_extended_profile': True, 'default_profile': False, 'default_profile_image': False, 'following': False, 'follow_request_sent': False, 'notifications': False, 'translator_type': 'none'}, id=237329976, id_str='237329976', name='S͟a͟n͟g͟r͟a͟m͟', screen_name='sangramstarts', location='Bengaluru, India', description='ଶ୍ରୀଜଗନ୍ନାଥ export PATH=Ravenshaw: Tech: Politics: NatureAnimal: MusicDrama: FailureSuccess #empowerGirls #beFinanciallyStrong #doFarming\\n🔱🌷☸(◉↓◉)࿗🌷🇮🇳༒☯☮🤗', url='https://t.co/ubDSuyZpj0', entities={'url': {'urls': [{'url': 'https://t.co/ubDSuyZpj0', 'expanded_url': 'https://sangramstarts.blogspot.in/', 'display_url': 'sangramstarts.blogspot.in', 'indices': [0, 23]}]}, 'description': {'urls': []}}, protected=False, followers_count=292, friends_count=613, listed_count=15, created_at=datetime.datetime(2011, 1, 12, 16, 6, 46), favourites_count=32962, utc_offset=None, time_zone=None, geo_enabled=False, verified=False, statuses_count=19718, lang=None, contributors_enabled=False, is_translator=False, is_translation_enabled=False, profile_background_color='000000', profile_background_image_url='http://abs.twimg.com/images/themes/theme9/bg.gif', profile_background_image_url_https='https://abs.twimg.com/images/themes/theme9/bg.gif', profile_background_tile=False, profile_image_url='http://pbs.twimg.com/profile_images/1307246647148122112/Sstc7UdG_normal.jpg', profile_image_url_https='https://pbs.twimg.com/profile_images/1307246647148122112/Sstc7UdG_normal.jpg', profile_banner_url='https://pbs.twimg.com/profile_banners/237329976/1525919974', profile_link_color='FF691F', profile_sidebar_border_color='000000', profile_sidebar_fill_color='000000', profile_text_color='000000', profile_use_background_image=False, has_extended_profile=True, default_profile=False, default_profile_image=False, following=False, follow_request_sent=False, notifications=False, translator_type='none'), geo=None, coordinates=None, place=None, contributors=None, is_quote_status=True, quoted_status_id=1347691356991311872, quoted_status_id_str='1347691356991311872', quoted_status=Status(_api=<tweepy.api.API object at 0x0000023439E48EC8>, _json={'created_at': 'Fri Jan 08 23:47:13 +0000 2021', 'id': 1347691356991311872, 'id_str': '1347691356991311872', 'full_text': \"BREAKING: Twitter suspends President Trump's account permanently\", 'truncated': False, 'display_text_range': [0, 64], 'entities': {'hashtags': [], 'symbols': [], 'user_mentions': [], 'urls': []}, 'metadata': {'iso_language_code': 'en', 'result_type': 'recent'}, 'source': '<a href=\"http://twitter.com/download/android\" rel=\"nofollow\">Twitter for Android</a>', 'in_reply_to_status_id': None, 'in_reply_to_status_id_str': None, 'in_reply_to_user_id': None, 'in_reply_to_user_id_str': None, 'in_reply_to_screen_name': None, 'user': {'id': 1626294277, 'id_str': '1626294277', 'name': 'The Spectator Index', 'screen_name': 'spectatorindex', 'location': 'Global', 'description': 'Watching the world. Focused on politics, economics, science and sports. Message us for business inquiries.', 'url': 'https://t.co/JKoXedtrxE', 'entities': {'url': {'urls': [{'url': 'https://t.co/JKoXedtrxE', 'expanded_url': 'http://spectatorindex.com', 'display_url': 'spectatorindex.com', 'indices': [0, 23]}]}, 'description': {'urls': []}}, 'protected': False, 'followers_count': 1843831, 'friends_count': 0, 'listed_count': 10576, 'created_at': 'Sat Jul 27 20:42:27 +0000 2013', 'favourites_count': 1, 'utc_offset': None, 'time_zone': None, 'geo_enabled': False, 'verified': False, 'statuses_count': 5627, 'lang': None, 'contributors_enabled': False, 'is_translator': False, 'is_translation_enabled': False, 'profile_background_color': '000000', 'profile_background_image_url': 'http://abs.twimg.com/images/themes/theme1/bg.png', 'profile_background_image_url_https': 'https://abs.twimg.com/images/themes/theme1/bg.png', 'profile_background_tile': False, 'profile_image_url': 'http://pbs.twimg.com/profile_images/1145865652533547008/XBahoZmX_normal.png', 'profile_image_url_https': 'https://pbs.twimg.com/profile_images/1145865652533547008/XBahoZmX_normal.png', 'profile_banner_url': 'https://pbs.twimg.com/profile_banners/1626294277/1430626667', 'profile_link_color': 'ABB8C2', 'profile_sidebar_border_color': '000000', 'profile_sidebar_fill_color': '000000', 'profile_text_color': '000000', 'profile_use_background_image': False, 'has_extended_profile': False, 'default_profile': False, 'default_profile_image': False, 'following': False, 'follow_request_sent': False, 'notifications': False, 'translator_type': 'none'}, 'geo': None, 'coordinates': None, 'place': None, 'contributors': None, 'is_quote_status': False, 'retweet_count': 2721, 'favorite_count': 15153, 'favorited': False, 'retweeted': False, 'lang': 'en'}, created_at=datetime.datetime(2021, 1, 8, 23, 47, 13), id=1347691356991311872, id_str='1347691356991311872', full_text=\"BREAKING: Twitter suspends President Trump's account permanently\", truncated=False, display_text_range=[0, 64], entities={'hashtags': [], 'symbols': [], 'user_mentions': [], 'urls': []}, metadata={'iso_language_code': 'en', 'result_type': 'recent'}, source='Twitter for Android', source_url='http://twitter.com/download/android', in_reply_to_status_id=None, in_reply_to_status_id_str=None, in_reply_to_user_id=None, in_reply_to_user_id_str=None, in_reply_to_screen_name=None, author=User(_api=<tweepy.api.API object at 0x0000023439E48EC8>, _json={'id': 1626294277, 'id_str': '1626294277', 'name': 'The Spectator Index', 'screen_name': 'spectatorindex', 'location': 'Global', 'description': 'Watching the world. Focused on politics, economics, science and sports. Message us for business inquiries.', 'url': 'https://t.co/JKoXedtrxE', 'entities': {'url': {'urls': [{'url': 'https://t.co/JKoXedtrxE', 'expanded_url': 'http://spectatorindex.com', 'display_url': 'spectatorindex.com', 'indices': [0, 23]}]}, 'description': {'urls': []}}, 'protected': False, 'followers_count': 1843831, 'friends_count': 0, 'listed_count': 10576, 'created_at': 'Sat Jul 27 20:42:27 +0000 2013', 'favourites_count': 1, 'utc_offset': None, 'time_zone': None, 'geo_enabled': False, 'verified': False, 'statuses_count': 5627, 'lang': None, 'contributors_enabled': False, 'is_translator': False, 'is_translation_enabled': False, 'profile_background_color': '000000', 'profile_background_image_url': 'http://abs.twimg.com/images/themes/theme1/bg.png', 'profile_background_image_url_https': 'https://abs.twimg.com/images/themes/theme1/bg.png', 'profile_background_tile': False, 'profile_image_url': 'http://pbs.twimg.com/profile_images/1145865652533547008/XBahoZmX_normal.png', 'profile_image_url_https': 'https://pbs.twimg.com/profile_images/1145865652533547008/XBahoZmX_normal.png', 'profile_banner_url': 'https://pbs.twimg.com/profile_banners/1626294277/1430626667', 'profile_link_color': 'ABB8C2', 'profile_sidebar_border_color': '000000', 'profile_sidebar_fill_color': '000000', 'profile_text_color': '000000', 'profile_use_background_image': False, 'has_extended_profile': False, 'default_profile': False, 'default_profile_image': False, 'following': False, 'follow_request_sent': False, 'notifications': False, 'translator_type': 'none'}, id=1626294277, id_str='1626294277', name='The Spectator Index', screen_name='spectatorindex', location='Global', description='Watching the world. Focused on politics, economics, science and sports. Message us for business inquiries.', url='https://t.co/JKoXedtrxE', entities={'url': {'urls': [{'url': 'https://t.co/JKoXedtrxE', 'expanded_url': 'http://spectatorindex.com', 'display_url': 'spectatorindex.com', 'indices': [0, 23]}]}, 'description': {'urls': []}}, protected=False, followers_count=1843831, friends_count=0, listed_count=10576, created_at=datetime.datetime(2013, 7, 27, 20, 42, 27), favourites_count=1, utc_offset=None, time_zone=None, geo_enabled=False, verified=False, statuses_count=5627, lang=None, contributors_enabled=False, is_translator=False, is_translation_enabled=False, profile_background_color='000000', profile_background_image_url='http://abs.twimg.com/images/themes/theme1/bg.png', profile_background_image_url_https='https://abs.twimg.com/images/themes/theme1/bg.png', profile_background_tile=False, profile_image_url='http://pbs.twimg.com/profile_images/1145865652533547008/XBahoZmX_normal.png', profile_image_url_https='https://pbs.twimg.com/profile_images/1145865652533547008/XBahoZmX_normal.png', profile_banner_url='https://pbs.twimg.com/profile_banners/1626294277/1430626667', profile_link_color='ABB8C2', profile_sidebar_border_color='000000', profile_sidebar_fill_color='000000', profile_text_color='000000', profile_use_background_image=False, has_extended_profile=False, default_profile=False, default_profile_image=False, following=False, follow_request_sent=False, notifications=False, translator_type='none'), user=User(_api=<tweepy.api.API object at 0x0000023439E48EC8>, _json={'id': 1626294277, 'id_str': '1626294277', 'name': 'The Spectator Index', 'screen_name': 'spectatorindex', 'location': 'Global', 'description': 'Watching the world. Focused on politics, economics, science and sports. Message us for business inquiries.', 'url': 'https://t.co/JKoXedtrxE', 'entities': {'url': {'urls': [{'url': 'https://t.co/JKoXedtrxE', 'expanded_url': 'http://spectatorindex.com', 'display_url': 'spectatorindex.com', 'indices': [0, 23]}]}, 'description': {'urls': []}}, 'protected': False, 'followers_count': 1843831, 'friends_count': 0, 'listed_count': 10576, 'created_at': 'Sat Jul 27 20:42:27 +0000 2013', 'favourites_count': 1, 'utc_offset': None, 'time_zone': None, 'geo_enabled': False, 'verified': False, 'statuses_count': 5627, 'lang': None, 'contributors_enabled': False, 'is_translator': False, 'is_translation_enabled': False, 'profile_background_color': '000000', 'profile_background_image_url': 'http://abs.twimg.com/images/themes/theme1/bg.png', 'profile_background_image_url_https': 'https://abs.twimg.com/images/themes/theme1/bg.png', 'profile_background_tile': False, 'profile_image_url': 'http://pbs.twimg.com/profile_images/1145865652533547008/XBahoZmX_normal.png', 'profile_image_url_https': 'https://pbs.twimg.com/profile_images/1145865652533547008/XBahoZmX_normal.png', 'profile_banner_url': 'https://pbs.twimg.com/profile_banners/1626294277/1430626667', 'profile_link_color': 'ABB8C2', 'profile_sidebar_border_color': '000000', 'profile_sidebar_fill_color': '000000', 'profile_text_color': '000000', 'profile_use_background_image': False, 'has_extended_profile': False, 'default_profile': False, 'default_profile_image': False, 'following': False, 'follow_request_sent': False, 'notifications': False, 'translator_type': 'none'}, id=1626294277, id_str='1626294277', name='The Spectator Index', screen_name='spectatorindex', location='Global', description='Watching the world. Focused on politics, economics, science and sports. Message us for business inquiries.', url='https://t.co/JKoXedtrxE', entities={'url': {'urls': [{'url': 'https://t.co/JKoXedtrxE', 'expanded_url': 'http://spectatorindex.com', 'display_url': 'spectatorindex.com', 'indices': [0, 23]}]}, 'description': {'urls': []}}, protected=False, followers_count=1843831, friends_count=0, listed_count=10576, created_at=datetime.datetime(2013, 7, 27, 20, 42, 27), favourites_count=1, utc_offset=None, time_zone=None, geo_enabled=False, verified=False, statuses_count=5627, lang=None, contributors_enabled=False, is_translator=False, is_translation_enabled=False, profile_background_color='000000', profile_background_image_url='http://abs.twimg.com/images/themes/theme1/bg.png', profile_background_image_url_https='https://abs.twimg.com/images/themes/theme1/bg.png', profile_background_tile=False, profile_image_url='http://pbs.twimg.com/profile_images/1145865652533547008/XBahoZmX_normal.png', profile_image_url_https='https://pbs.twimg.com/profile_images/1145865652533547008/XBahoZmX_normal.png', profile_banner_url='https://pbs.twimg.com/profile_banners/1626294277/1430626667', profile_link_color='ABB8C2', profile_sidebar_border_color='000000', profile_sidebar_fill_color='000000', profile_text_color='000000', profile_use_background_image=False, has_extended_profile=False, default_profile=False, default_profile_image=False, following=False, follow_request_sent=False, notifications=False, translator_type='none'), geo=None, coordinates=None, place=None, contributors=None, is_quote_status=False, retweet_count=2721, favorite_count=15153, favorited=False, retweeted=False, lang='en'), retweet_count=0, favorite_count=1, favorited=False, retweeted=False, possibly_sensitive=False, lang='en')\n",
      "Status(_api=<tweepy.api.API object at 0x0000023439E48EC8>, _json={'created_at': 'Sat Jan 09 04:50:34 +0000 2021', 'id': 1347767700844650501, 'id_str': '1347767700844650501', 'full_text': '#LehighUniversity’s Board of Trustees announced on Friday that it voted to rescind an honorary degree awarded to\\xa0President #Trump\\xa0in 1988. https://t.co/QEnQKTlMWV https://t.co/dvSwkk4SQt\\nShared via TweetCaster', 'truncated': False, 'display_text_range': [0, 209], 'entities': {'hashtags': [{'text': 'LehighUniversity', 'indices': [0, 17]}, {'text': 'Trump', 'indices': [123, 129]}], 'symbols': [], 'user_mentions': [], 'urls': [{'url': 'https://t.co/QEnQKTlMWV', 'expanded_url': 'http://hill.cm/6kqfBEP', 'display_url': 'hill.cm/6kqfBEP', 'indices': [139, 162]}], 'media': [{'id': 1347757494102274049, 'id_str': '1347757494102274049', 'indices': [163, 186], 'media_url': 'http://pbs.twimg.com/media/ErQyTNdWMAEJju2.png', 'media_url_https': 'https://pbs.twimg.com/media/ErQyTNdWMAEJju2.png', 'url': 'https://t.co/dvSwkk4SQt', 'display_url': 'pic.twitter.com/dvSwkk4SQt', 'expanded_url': 'https://twitter.com/thehill/status/1347757496279166976/photo/1', 'type': 'photo', 'sizes': {'medium': {'w': 640, 'h': 360, 'resize': 'fit'}, 'thumb': {'w': 150, 'h': 150, 'resize': 'crop'}, 'large': {'w': 640, 'h': 360, 'resize': 'fit'}, 'small': {'w': 640, 'h': 360, 'resize': 'fit'}}, 'source_status_id': 1347757496279166976, 'source_status_id_str': '1347757496279166976', 'source_user_id': 1917731, 'source_user_id_str': '1917731'}]}, 'extended_entities': {'media': [{'id': 1347757494102274049, 'id_str': '1347757494102274049', 'indices': [163, 186], 'media_url': 'http://pbs.twimg.com/media/ErQyTNdWMAEJju2.png', 'media_url_https': 'https://pbs.twimg.com/media/ErQyTNdWMAEJju2.png', 'url': 'https://t.co/dvSwkk4SQt', 'display_url': 'pic.twitter.com/dvSwkk4SQt', 'expanded_url': 'https://twitter.com/thehill/status/1347757496279166976/photo/1', 'type': 'photo', 'sizes': {'medium': {'w': 640, 'h': 360, 'resize': 'fit'}, 'thumb': {'w': 150, 'h': 150, 'resize': 'crop'}, 'large': {'w': 640, 'h': 360, 'resize': 'fit'}, 'small': {'w': 640, 'h': 360, 'resize': 'fit'}}, 'source_status_id': 1347757496279166976, 'source_status_id_str': '1347757496279166976', 'source_user_id': 1917731, 'source_user_id_str': '1917731'}]}, 'metadata': {'iso_language_code': 'en', 'result_type': 'recent'}, 'source': '<a href=\"http://www.tweetcaster.com\" rel=\"nofollow\">TweetCaster for Android</a>', 'in_reply_to_status_id': None, 'in_reply_to_status_id_str': None, 'in_reply_to_user_id': None, 'in_reply_to_user_id_str': None, 'in_reply_to_screen_name': None, 'user': {'id': 270711738, 'id_str': '270711738', 'name': \"The N9ne's ⚖️🗽 🗞️9️⃣🌍🇺🇸\", 'screen_name': 'TheWholeN9nes', 'location': 'The Rotten Apple', 'description': '#UnapologeticBlack #PresidentElectBiden #VicePresidentElectHarris #BlackVotersMatter #Democrats #Maskup', 'url': None, 'entities': {'description': {'urls': []}}, 'protected': False, 'followers_count': 1700, 'friends_count': 4952, 'listed_count': 259, 'created_at': 'Wed Mar 23 03:32:27 +0000 2011', 'favourites_count': 21517, 'utc_offset': None, 'time_zone': None, 'geo_enabled': False, 'verified': False, 'statuses_count': 80385, 'lang': None, 'contributors_enabled': False, 'is_translator': False, 'is_translation_enabled': False, 'profile_background_color': 'F3EDF5', 'profile_background_image_url': 'http://abs.twimg.com/images/themes/theme1/bg.png', 'profile_background_image_url_https': 'https://abs.twimg.com/images/themes/theme1/bg.png', 'profile_background_tile': True, 'profile_image_url': 'http://pbs.twimg.com/profile_images/1280787237580529667/UTBRU7uU_normal.jpg', 'profile_image_url_https': 'https://pbs.twimg.com/profile_images/1280787237580529667/UTBRU7uU_normal.jpg', 'profile_banner_url': 'https://pbs.twimg.com/profile_banners/270711738/1607966698', 'profile_link_color': '0948DB', 'profile_sidebar_border_color': 'FFFFFF', 'profile_sidebar_fill_color': '0D0D0D', 'profile_text_color': '78F20C', 'profile_use_background_image': True, 'has_extended_profile': False, 'default_profile': False, 'default_profile_image': False, 'following': False, 'follow_request_sent': False, 'notifications': False, 'translator_type': 'none'}, 'geo': None, 'coordinates': None, 'place': None, 'contributors': None, 'is_quote_status': False, 'retweet_count': 0, 'favorite_count': 0, 'favorited': False, 'retweeted': False, 'possibly_sensitive': False, 'lang': 'en'}, created_at=datetime.datetime(2021, 1, 9, 4, 50, 34), id=1347767700844650501, id_str='1347767700844650501', full_text='#LehighUniversity’s Board of Trustees announced on Friday that it voted to rescind an honorary degree awarded to\\xa0President #Trump\\xa0in 1988. https://t.co/QEnQKTlMWV https://t.co/dvSwkk4SQt\\nShared via TweetCaster', truncated=False, display_text_range=[0, 209], entities={'hashtags': [{'text': 'LehighUniversity', 'indices': [0, 17]}, {'text': 'Trump', 'indices': [123, 129]}], 'symbols': [], 'user_mentions': [], 'urls': [{'url': 'https://t.co/QEnQKTlMWV', 'expanded_url': 'http://hill.cm/6kqfBEP', 'display_url': 'hill.cm/6kqfBEP', 'indices': [139, 162]}], 'media': [{'id': 1347757494102274049, 'id_str': '1347757494102274049', 'indices': [163, 186], 'media_url': 'http://pbs.twimg.com/media/ErQyTNdWMAEJju2.png', 'media_url_https': 'https://pbs.twimg.com/media/ErQyTNdWMAEJju2.png', 'url': 'https://t.co/dvSwkk4SQt', 'display_url': 'pic.twitter.com/dvSwkk4SQt', 'expanded_url': 'https://twitter.com/thehill/status/1347757496279166976/photo/1', 'type': 'photo', 'sizes': {'medium': {'w': 640, 'h': 360, 'resize': 'fit'}, 'thumb': {'w': 150, 'h': 150, 'resize': 'crop'}, 'large': {'w': 640, 'h': 360, 'resize': 'fit'}, 'small': {'w': 640, 'h': 360, 'resize': 'fit'}}, 'source_status_id': 1347757496279166976, 'source_status_id_str': '1347757496279166976', 'source_user_id': 1917731, 'source_user_id_str': '1917731'}]}, extended_entities={'media': [{'id': 1347757494102274049, 'id_str': '1347757494102274049', 'indices': [163, 186], 'media_url': 'http://pbs.twimg.com/media/ErQyTNdWMAEJju2.png', 'media_url_https': 'https://pbs.twimg.com/media/ErQyTNdWMAEJju2.png', 'url': 'https://t.co/dvSwkk4SQt', 'display_url': 'pic.twitter.com/dvSwkk4SQt', 'expanded_url': 'https://twitter.com/thehill/status/1347757496279166976/photo/1', 'type': 'photo', 'sizes': {'medium': {'w': 640, 'h': 360, 'resize': 'fit'}, 'thumb': {'w': 150, 'h': 150, 'resize': 'crop'}, 'large': {'w': 640, 'h': 360, 'resize': 'fit'}, 'small': {'w': 640, 'h': 360, 'resize': 'fit'}}, 'source_status_id': 1347757496279166976, 'source_status_id_str': '1347757496279166976', 'source_user_id': 1917731, 'source_user_id_str': '1917731'}]}, metadata={'iso_language_code': 'en', 'result_type': 'recent'}, source='TweetCaster for Android', source_url='http://www.tweetcaster.com', in_reply_to_status_id=None, in_reply_to_status_id_str=None, in_reply_to_user_id=None, in_reply_to_user_id_str=None, in_reply_to_screen_name=None, author=User(_api=<tweepy.api.API object at 0x0000023439E48EC8>, _json={'id': 270711738, 'id_str': '270711738', 'name': \"The N9ne's ⚖️🗽 🗞️9️⃣🌍🇺🇸\", 'screen_name': 'TheWholeN9nes', 'location': 'The Rotten Apple', 'description': '#UnapologeticBlack #PresidentElectBiden #VicePresidentElectHarris #BlackVotersMatter #Democrats #Maskup', 'url': None, 'entities': {'description': {'urls': []}}, 'protected': False, 'followers_count': 1700, 'friends_count': 4952, 'listed_count': 259, 'created_at': 'Wed Mar 23 03:32:27 +0000 2011', 'favourites_count': 21517, 'utc_offset': None, 'time_zone': None, 'geo_enabled': False, 'verified': False, 'statuses_count': 80385, 'lang': None, 'contributors_enabled': False, 'is_translator': False, 'is_translation_enabled': False, 'profile_background_color': 'F3EDF5', 'profile_background_image_url': 'http://abs.twimg.com/images/themes/theme1/bg.png', 'profile_background_image_url_https': 'https://abs.twimg.com/images/themes/theme1/bg.png', 'profile_background_tile': True, 'profile_image_url': 'http://pbs.twimg.com/profile_images/1280787237580529667/UTBRU7uU_normal.jpg', 'profile_image_url_https': 'https://pbs.twimg.com/profile_images/1280787237580529667/UTBRU7uU_normal.jpg', 'profile_banner_url': 'https://pbs.twimg.com/profile_banners/270711738/1607966698', 'profile_link_color': '0948DB', 'profile_sidebar_border_color': 'FFFFFF', 'profile_sidebar_fill_color': '0D0D0D', 'profile_text_color': '78F20C', 'profile_use_background_image': True, 'has_extended_profile': False, 'default_profile': False, 'default_profile_image': False, 'following': False, 'follow_request_sent': False, 'notifications': False, 'translator_type': 'none'}, id=270711738, id_str='270711738', name=\"The N9ne's ⚖️🗽 🗞️9️⃣🌍🇺🇸\", screen_name='TheWholeN9nes', location='The Rotten Apple', description='#UnapologeticBlack #PresidentElectBiden #VicePresidentElectHarris #BlackVotersMatter #Democrats #Maskup', url=None, entities={'description': {'urls': []}}, protected=False, followers_count=1700, friends_count=4952, listed_count=259, created_at=datetime.datetime(2011, 3, 23, 3, 32, 27), favourites_count=21517, utc_offset=None, time_zone=None, geo_enabled=False, verified=False, statuses_count=80385, lang=None, contributors_enabled=False, is_translator=False, is_translation_enabled=False, profile_background_color='F3EDF5', profile_background_image_url='http://abs.twimg.com/images/themes/theme1/bg.png', profile_background_image_url_https='https://abs.twimg.com/images/themes/theme1/bg.png', profile_background_tile=True, profile_image_url='http://pbs.twimg.com/profile_images/1280787237580529667/UTBRU7uU_normal.jpg', profile_image_url_https='https://pbs.twimg.com/profile_images/1280787237580529667/UTBRU7uU_normal.jpg', profile_banner_url='https://pbs.twimg.com/profile_banners/270711738/1607966698', profile_link_color='0948DB', profile_sidebar_border_color='FFFFFF', profile_sidebar_fill_color='0D0D0D', profile_text_color='78F20C', profile_use_background_image=True, has_extended_profile=False, default_profile=False, default_profile_image=False, following=False, follow_request_sent=False, notifications=False, translator_type='none'), user=User(_api=<tweepy.api.API object at 0x0000023439E48EC8>, _json={'id': 270711738, 'id_str': '270711738', 'name': \"The N9ne's ⚖️🗽 🗞️9️⃣🌍🇺🇸\", 'screen_name': 'TheWholeN9nes', 'location': 'The Rotten Apple', 'description': '#UnapologeticBlack #PresidentElectBiden #VicePresidentElectHarris #BlackVotersMatter #Democrats #Maskup', 'url': None, 'entities': {'description': {'urls': []}}, 'protected': False, 'followers_count': 1700, 'friends_count': 4952, 'listed_count': 259, 'created_at': 'Wed Mar 23 03:32:27 +0000 2011', 'favourites_count': 21517, 'utc_offset': None, 'time_zone': None, 'geo_enabled': False, 'verified': False, 'statuses_count': 80385, 'lang': None, 'contributors_enabled': False, 'is_translator': False, 'is_translation_enabled': False, 'profile_background_color': 'F3EDF5', 'profile_background_image_url': 'http://abs.twimg.com/images/themes/theme1/bg.png', 'profile_background_image_url_https': 'https://abs.twimg.com/images/themes/theme1/bg.png', 'profile_background_tile': True, 'profile_image_url': 'http://pbs.twimg.com/profile_images/1280787237580529667/UTBRU7uU_normal.jpg', 'profile_image_url_https': 'https://pbs.twimg.com/profile_images/1280787237580529667/UTBRU7uU_normal.jpg', 'profile_banner_url': 'https://pbs.twimg.com/profile_banners/270711738/1607966698', 'profile_link_color': '0948DB', 'profile_sidebar_border_color': 'FFFFFF', 'profile_sidebar_fill_color': '0D0D0D', 'profile_text_color': '78F20C', 'profile_use_background_image': True, 'has_extended_profile': False, 'default_profile': False, 'default_profile_image': False, 'following': False, 'follow_request_sent': False, 'notifications': False, 'translator_type': 'none'}, id=270711738, id_str='270711738', name=\"The N9ne's ⚖️🗽 🗞️9️⃣🌍🇺🇸\", screen_name='TheWholeN9nes', location='The Rotten Apple', description='#UnapologeticBlack #PresidentElectBiden #VicePresidentElectHarris #BlackVotersMatter #Democrats #Maskup', url=None, entities={'description': {'urls': []}}, protected=False, followers_count=1700, friends_count=4952, listed_count=259, created_at=datetime.datetime(2011, 3, 23, 3, 32, 27), favourites_count=21517, utc_offset=None, time_zone=None, geo_enabled=False, verified=False, statuses_count=80385, lang=None, contributors_enabled=False, is_translator=False, is_translation_enabled=False, profile_background_color='F3EDF5', profile_background_image_url='http://abs.twimg.com/images/themes/theme1/bg.png', profile_background_image_url_https='https://abs.twimg.com/images/themes/theme1/bg.png', profile_background_tile=True, profile_image_url='http://pbs.twimg.com/profile_images/1280787237580529667/UTBRU7uU_normal.jpg', profile_image_url_https='https://pbs.twimg.com/profile_images/1280787237580529667/UTBRU7uU_normal.jpg', profile_banner_url='https://pbs.twimg.com/profile_banners/270711738/1607966698', profile_link_color='0948DB', profile_sidebar_border_color='FFFFFF', profile_sidebar_fill_color='0D0D0D', profile_text_color='78F20C', profile_use_background_image=True, has_extended_profile=False, default_profile=False, default_profile_image=False, following=False, follow_request_sent=False, notifications=False, translator_type='none'), geo=None, coordinates=None, place=None, contributors=None, is_quote_status=False, retweet_count=0, favorite_count=0, favorited=False, retweeted=False, possibly_sensitive=False, lang='en')\n"
     ]
    }
   ],
   "source": [
    "for tweet in Tweets:\n",
    "    print(tweet)"
   ]
  },
  {
   "cell_type": "code",
   "execution_count": null,
   "metadata": {},
   "outputs": [],
   "source": [
    "# Tweets are in json format. They need to be in a structured format."
   ]
  },
  {
   "cell_type": "code",
   "execution_count": null,
   "metadata": {},
   "outputs": [],
   "source": [
    "# tweepy.Cursor()"
   ]
  },
  {
   "cell_type": "code",
   "execution_count": null,
   "metadata": {},
   "outputs": [],
   "source": [
    "# Potential columns I want :\n",
    "\n",
    "# tweet.user.favourites_count\n",
    "# tweet.user.followers_count\n",
    "# tweet.user.friends_count\n",
    "# tweet.user.name\n",
    "# tweet.user.location\n",
    "# tweet.user.lang\n",
    "# tweet.user.verified\n",
    "# tweet.full_text\n",
    "# tweet.retweet_count\n",
    "# tweet.created_at"
   ]
  },
  {
   "cell_type": "code",
   "execution_count": 93,
   "metadata": {
    "ExecuteTime": {
     "end_time": "2021-01-09T13:08:34.589855Z",
     "start_time": "2021-01-09T13:08:34.547855Z"
    }
   },
   "outputs": [
    {
     "data": {
      "text/html": [
       "<div>\n",
       "<style scoped>\n",
       "    .dataframe tbody tr th:only-of-type {\n",
       "        vertical-align: middle;\n",
       "    }\n",
       "\n",
       "    .dataframe tbody tr th {\n",
       "        vertical-align: top;\n",
       "    }\n",
       "\n",
       "    .dataframe thead th {\n",
       "        text-align: right;\n",
       "    }\n",
       "</style>\n",
       "<table border=\"1\" class=\"dataframe\">\n",
       "  <thead>\n",
       "    <tr style=\"text-align: right;\">\n",
       "      <th></th>\n",
       "      <th>Name</th>\n",
       "      <th>Location</th>\n",
       "      <th>Date</th>\n",
       "      <th>Text of the tweet</th>\n",
       "      <th>Retweets</th>\n",
       "      <th>Favourites Count</th>\n",
       "      <th>User verification</th>\n",
       "      <th>Followers</th>\n",
       "      <th>No. of Friends</th>\n",
       "    </tr>\n",
       "  </thead>\n",
       "  <tbody>\n",
       "  </tbody>\n",
       "</table>\n",
       "</div>"
      ],
      "text/plain": [
       "Empty DataFrame\n",
       "Columns: [Name, Location, Date, Text of the tweet, Retweets, Favourites Count, User verification, Followers, No. of Friends]\n",
       "Index: []"
      ]
     },
     "execution_count": 93,
     "metadata": {},
     "output_type": "execute_result"
    }
   ],
   "source": [
    "df = pd.DataFrame(columns=['Name', 'Location', 'Date', 'Text of the tweet', 'Retweets', 'Favourites Count', 'User verification', 'Followers', 'No. of Friends'])\n",
    "\n",
    "df"
   ]
  },
  {
   "cell_type": "code",
   "execution_count": 94,
   "metadata": {
    "ExecuteTime": {
     "end_time": "2021-01-09T13:14:37.816827Z",
     "start_time": "2021-01-09T13:08:34.596861Z"
    }
   },
   "outputs": [
    {
     "name": "stdout",
     "output_type": "stream",
     "text": [
      "Please enter a trending topic : Aus vs Ind 3rd test\n",
      "999\r"
     ]
    }
   ],
   "source": [
    "def twitter_tweets(data):\n",
    "    \n",
    "    i=0\n",
    "    for tweet in tweepy.Cursor(api.search, q=data, count=100, lang='en').items():\n",
    "        print(i, end='\\r')\n",
    "        df.loc[i, 'Name'] = tweet.user.name\n",
    "        df.loc[i, 'Location'] = tweet.user.location\n",
    "        df.loc[i, 'Date'] = tweet.created_at\n",
    "        df.loc[i, 'Text of the tweet'] = tweet.text\n",
    "        df.loc[i, 'Retweets'] = tweet.retweet_count\n",
    "        df.loc[i, 'Favourites Count'] = tweet.user.favourites_count\n",
    "        df.loc[i, 'User verification'] = tweet.user.verified\n",
    "        df.loc[i, 'Followers'] = tweet.user.followers_count\n",
    "        df.loc[i, 'No. of Friends'] = tweet.user.friends_count\n",
    "        i=i+1\n",
    "        if i == 1000:\n",
    "            break\n",
    "        else:\n",
    "            pass\n",
    "        \n",
    "        \n",
    "\n",
    "query = input('Please enter a trending topic : ')\n",
    "twitter_tweets(data = [query])"
   ]
  },
  {
   "cell_type": "code",
   "execution_count": 95,
   "metadata": {
    "ExecuteTime": {
     "end_time": "2021-01-09T13:14:37.876808Z",
     "start_time": "2021-01-09T13:14:37.822820Z"
    }
   },
   "outputs": [
    {
     "data": {
      "text/html": [
       "<div>\n",
       "<style scoped>\n",
       "    .dataframe tbody tr th:only-of-type {\n",
       "        vertical-align: middle;\n",
       "    }\n",
       "\n",
       "    .dataframe tbody tr th {\n",
       "        vertical-align: top;\n",
       "    }\n",
       "\n",
       "    .dataframe thead th {\n",
       "        text-align: right;\n",
       "    }\n",
       "</style>\n",
       "<table border=\"1\" class=\"dataframe\">\n",
       "  <thead>\n",
       "    <tr style=\"text-align: right;\">\n",
       "      <th></th>\n",
       "      <th>Name</th>\n",
       "      <th>Location</th>\n",
       "      <th>Date</th>\n",
       "      <th>Text of the tweet</th>\n",
       "      <th>Retweets</th>\n",
       "      <th>Favourites Count</th>\n",
       "      <th>User verification</th>\n",
       "      <th>Followers</th>\n",
       "      <th>No. of Friends</th>\n",
       "    </tr>\n",
       "  </thead>\n",
       "  <tbody>\n",
       "    <tr>\n",
       "      <th>0</th>\n",
       "      <td>Humayoun Ahmed Khan</td>\n",
       "      <td>Karachi, Pakistan</td>\n",
       "      <td>2021-01-09 13:07:33</td>\n",
       "      <td>Not much detail, too, has emerged about the al...</td>\n",
       "      <td>0</td>\n",
       "      <td>27717</td>\n",
       "      <td>False</td>\n",
       "      <td>1352</td>\n",
       "      <td>248</td>\n",
       "    </tr>\n",
       "    <tr>\n",
       "      <th>1</th>\n",
       "      <td>Smritilekha Jana</td>\n",
       "      <td></td>\n",
       "      <td>2021-01-09 13:06:33</td>\n",
       "      <td>AUS vs IND, 3rd Test: Ravindra Jadeja Sustains...</td>\n",
       "      <td>0</td>\n",
       "      <td>26</td>\n",
       "      <td>False</td>\n",
       "      <td>79</td>\n",
       "      <td>225</td>\n",
       "    </tr>\n",
       "    <tr>\n",
       "      <th>2</th>\n",
       "      <td>Soumyatanu Mukherjee</td>\n",
       "      <td>Southampton, England</td>\n",
       "      <td>2021-01-09 13:05:17</td>\n",
       "      <td>RT @DevashishMitra_: This is really sad. Havin...</td>\n",
       "      <td>2</td>\n",
       "      <td>4548</td>\n",
       "      <td>False</td>\n",
       "      <td>146</td>\n",
       "      <td>448</td>\n",
       "    </tr>\n",
       "    <tr>\n",
       "      <th>3</th>\n",
       "      <td>Krishna</td>\n",
       "      <td></td>\n",
       "      <td>2021-01-09 13:04:52</td>\n",
       "      <td>RT @ESPNcricinfo: It is understood that at lea...</td>\n",
       "      <td>46</td>\n",
       "      <td>981</td>\n",
       "      <td>False</td>\n",
       "      <td>6</td>\n",
       "      <td>35</td>\n",
       "    </tr>\n",
       "    <tr>\n",
       "      <th>4</th>\n",
       "      <td>Indr-AA😎</td>\n",
       "      <td>Hyderabad, India</td>\n",
       "      <td>2021-01-09 13:04:49</td>\n",
       "      <td>RT @ESPNcricinfo: Chetestwar Pujara fell to an...</td>\n",
       "      <td>16</td>\n",
       "      <td>27034</td>\n",
       "      <td>False</td>\n",
       "      <td>62</td>\n",
       "      <td>35</td>\n",
       "    </tr>\n",
       "  </tbody>\n",
       "</table>\n",
       "</div>"
      ],
      "text/plain": [
       "                   Name              Location                 Date  \\\n",
       "0   Humayoun Ahmed Khan     Karachi, Pakistan  2021-01-09 13:07:33   \n",
       "1      Smritilekha Jana                        2021-01-09 13:06:33   \n",
       "2  Soumyatanu Mukherjee  Southampton, England  2021-01-09 13:05:17   \n",
       "3               Krishna                        2021-01-09 13:04:52   \n",
       "4              Indr-AA😎      Hyderabad, India  2021-01-09 13:04:49   \n",
       "\n",
       "                                   Text of the tweet Retweets  \\\n",
       "0  Not much detail, too, has emerged about the al...        0   \n",
       "1  AUS vs IND, 3rd Test: Ravindra Jadeja Sustains...        0   \n",
       "2  RT @DevashishMitra_: This is really sad. Havin...        2   \n",
       "3  RT @ESPNcricinfo: It is understood that at lea...       46   \n",
       "4  RT @ESPNcricinfo: Chetestwar Pujara fell to an...       16   \n",
       "\n",
       "  Favourites Count User verification Followers No. of Friends  \n",
       "0            27717             False      1352            248  \n",
       "1               26             False        79            225  \n",
       "2             4548             False       146            448  \n",
       "3              981             False         6             35  \n",
       "4            27034             False        62             35  "
      ]
     },
     "execution_count": 95,
     "metadata": {},
     "output_type": "execute_result"
    }
   ],
   "source": [
    "df.head()"
   ]
  },
  {
   "cell_type": "code",
   "execution_count": 109,
   "metadata": {
    "ExecuteTime": {
     "end_time": "2021-01-09T13:23:58.216962Z",
     "start_time": "2021-01-09T13:23:58.208965Z"
    }
   },
   "outputs": [],
   "source": [
    "import re\n",
    "\n",
    "def clean_tweet(tweet):\n",
    "    return' '.join(re.sub('(@[A-Za-z0-9]+)|([^0-9A-Za-z \\t])|(\\w\\/\\/\\S+)|(RT)', ' ', tweet).split())"
   ]
  },
  {
   "cell_type": "code",
   "execution_count": 110,
   "metadata": {
    "ExecuteTime": {
     "end_time": "2021-01-09T13:24:06.539232Z",
     "start_time": "2021-01-09T13:24:06.528234Z"
    }
   },
   "outputs": [],
   "source": [
    "def sentiment_analyse(tweet):\n",
    "    anlse = TextBlob(tweet)\n",
    "    if anlse.sentiment.polarity > 0:\n",
    "        return 'Positive'\n",
    "    elif anlse.sentiment.polarity < 0:\n",
    "        return 'Negative'\n",
    "    else:\n",
    "        return 'Neutral'"
   ]
  },
  {
   "cell_type": "code",
   "execution_count": 111,
   "metadata": {
    "ExecuteTime": {
     "end_time": "2021-01-09T13:24:06.616231Z",
     "start_time": "2021-01-09T13:24:06.546233Z"
    }
   },
   "outputs": [],
   "source": [
    "df['cleaned tweets'] = df['Text of the tweet'].apply(lambda x : clean_tweet(x))"
   ]
  },
  {
   "cell_type": "code",
   "execution_count": 112,
   "metadata": {
    "ExecuteTime": {
     "end_time": "2021-01-09T13:24:07.588228Z",
     "start_time": "2021-01-09T13:24:06.622237Z"
    }
   },
   "outputs": [],
   "source": [
    "df['Sentiment'] = df['cleaned tweets'].apply(lambda x : sentiment_analyse(x))"
   ]
  },
  {
   "cell_type": "code",
   "execution_count": 113,
   "metadata": {
    "ExecuteTime": {
     "end_time": "2021-01-09T13:24:07.688237Z",
     "start_time": "2021-01-09T13:24:07.593232Z"
    }
   },
   "outputs": [
    {
     "data": {
      "text/html": [
       "<div>\n",
       "<style scoped>\n",
       "    .dataframe tbody tr th:only-of-type {\n",
       "        vertical-align: middle;\n",
       "    }\n",
       "\n",
       "    .dataframe tbody tr th {\n",
       "        vertical-align: top;\n",
       "    }\n",
       "\n",
       "    .dataframe thead th {\n",
       "        text-align: right;\n",
       "    }\n",
       "</style>\n",
       "<table border=\"1\" class=\"dataframe\">\n",
       "  <thead>\n",
       "    <tr style=\"text-align: right;\">\n",
       "      <th></th>\n",
       "      <th>Name</th>\n",
       "      <th>Location</th>\n",
       "      <th>Date</th>\n",
       "      <th>Text of the tweet</th>\n",
       "      <th>Retweets</th>\n",
       "      <th>Favourites Count</th>\n",
       "      <th>User verification</th>\n",
       "      <th>Followers</th>\n",
       "      <th>No. of Friends</th>\n",
       "      <th>cleaned tweets</th>\n",
       "      <th>Sentiment</th>\n",
       "    </tr>\n",
       "  </thead>\n",
       "  <tbody>\n",
       "    <tr>\n",
       "      <th>0</th>\n",
       "      <td>Humayoun Ahmed Khan</td>\n",
       "      <td>Karachi, Pakistan</td>\n",
       "      <td>2021-01-09 13:07:33</td>\n",
       "      <td>Not much detail, too, has emerged about the al...</td>\n",
       "      <td>0</td>\n",
       "      <td>27717</td>\n",
       "      <td>False</td>\n",
       "      <td>1352</td>\n",
       "      <td>248</td>\n",
       "      <td>Not much detail too has emerged about the alle...</td>\n",
       "      <td>Positive</td>\n",
       "    </tr>\n",
       "    <tr>\n",
       "      <th>1</th>\n",
       "      <td>Smritilekha Jana</td>\n",
       "      <td></td>\n",
       "      <td>2021-01-09 13:06:33</td>\n",
       "      <td>AUS vs IND, 3rd Test: Ravindra Jadeja Sustains...</td>\n",
       "      <td>0</td>\n",
       "      <td>26</td>\n",
       "      <td>False</td>\n",
       "      <td>79</td>\n",
       "      <td>225</td>\n",
       "      <td>AUS vs IND 3rd Test Ravindra Jadeja Sustains T...</td>\n",
       "      <td>Neutral</td>\n",
       "    </tr>\n",
       "    <tr>\n",
       "      <th>2</th>\n",
       "      <td>Soumyatanu Mukherjee</td>\n",
       "      <td>Southampton, England</td>\n",
       "      <td>2021-01-09 13:05:17</td>\n",
       "      <td>RT @DevashishMitra_: This is really sad. Havin...</td>\n",
       "      <td>2</td>\n",
       "      <td>4548</td>\n",
       "      <td>False</td>\n",
       "      <td>146</td>\n",
       "      <td>448</td>\n",
       "      <td>This is really sad Having visited Sydney a few...</td>\n",
       "      <td>Negative</td>\n",
       "    </tr>\n",
       "    <tr>\n",
       "      <th>3</th>\n",
       "      <td>Krishna</td>\n",
       "      <td></td>\n",
       "      <td>2021-01-09 13:04:52</td>\n",
       "      <td>RT @ESPNcricinfo: It is understood that at lea...</td>\n",
       "      <td>46</td>\n",
       "      <td>981</td>\n",
       "      <td>False</td>\n",
       "      <td>6</td>\n",
       "      <td>35</td>\n",
       "      <td>It is understood that at least four Indian pla...</td>\n",
       "      <td>Negative</td>\n",
       "    </tr>\n",
       "    <tr>\n",
       "      <th>4</th>\n",
       "      <td>Indr-AA😎</td>\n",
       "      <td>Hyderabad, India</td>\n",
       "      <td>2021-01-09 13:04:49</td>\n",
       "      <td>RT @ESPNcricinfo: Chetestwar Pujara fell to an...</td>\n",
       "      <td>16</td>\n",
       "      <td>27034</td>\n",
       "      <td>False</td>\n",
       "      <td>62</td>\n",
       "      <td>35</td>\n",
       "      <td>Chetestwar Pujara fell to an unplayable delive...</td>\n",
       "      <td>Positive</td>\n",
       "    </tr>\n",
       "    <tr>\n",
       "      <th>...</th>\n",
       "      <td>...</td>\n",
       "      <td>...</td>\n",
       "      <td>...</td>\n",
       "      <td>...</td>\n",
       "      <td>...</td>\n",
       "      <td>...</td>\n",
       "      <td>...</td>\n",
       "      <td>...</td>\n",
       "      <td>...</td>\n",
       "      <td>...</td>\n",
       "      <td>...</td>\n",
       "    </tr>\n",
       "    <tr>\n",
       "      <th>995</th>\n",
       "      <td>todaymynews1</td>\n",
       "      <td>Gandhinagar</td>\n",
       "      <td>2021-01-08 10:36:14</td>\n",
       "      <td>AUS vs IND, 3rd Test: Steve Smith Proud Of Hun...</td>\n",
       "      <td>0</td>\n",
       "      <td>0</td>\n",
       "      <td>False</td>\n",
       "      <td>334</td>\n",
       "      <td>2202</td>\n",
       "      <td>AUS vs IND 3rd Test Steve Smith Proud Of Hundr...</td>\n",
       "      <td>Positive</td>\n",
       "    </tr>\n",
       "    <tr>\n",
       "      <th>996</th>\n",
       "      <td>Trilok Singh</td>\n",
       "      <td></td>\n",
       "      <td>2021-01-08 10:35:58</td>\n",
       "      <td>RT @GoNews_India: #INDvsAUS, 3rd Test Day 2: I...</td>\n",
       "      <td>1</td>\n",
       "      <td>30073</td>\n",
       "      <td>False</td>\n",
       "      <td>10</td>\n",
       "      <td>47</td>\n",
       "      <td>India INDvsAUS 3rd Test Day 2 India 96 2 In Re...</td>\n",
       "      <td>Neutral</td>\n",
       "    </tr>\n",
       "    <tr>\n",
       "      <th>997</th>\n",
       "      <td>Jyoti🌟</td>\n",
       "      <td>Kolkata, India</td>\n",
       "      <td>2021-01-08 10:34:56</td>\n",
       "      <td>RT @GauravK_8609: From 2014\\n\\nInd vs Aus 3rd ...</td>\n",
       "      <td>9</td>\n",
       "      <td>7442</td>\n",
       "      <td>False</td>\n",
       "      <td>115</td>\n",
       "      <td>122</td>\n",
       "      <td>8609 From 2014 Ind vs Aus 3rd Test ViratKohli ...</td>\n",
       "      <td>Neutral</td>\n",
       "    </tr>\n",
       "    <tr>\n",
       "      <th>998</th>\n",
       "      <td>Smritilekha Jana</td>\n",
       "      <td></td>\n",
       "      <td>2021-01-08 10:34:30</td>\n",
       "      <td>AUS vs IND, 3rd Test: Steve Smith Proud Of Hun...</td>\n",
       "      <td>0</td>\n",
       "      <td>26</td>\n",
       "      <td>False</td>\n",
       "      <td>79</td>\n",
       "      <td>225</td>\n",
       "      <td>AUS vs IND 3rd Test Steve Smith Proud Of Hundr...</td>\n",
       "      <td>Positive</td>\n",
       "    </tr>\n",
       "    <tr>\n",
       "      <th>999</th>\n",
       "      <td>PakShows.pk</td>\n",
       "      <td>Lahore, Pakistan</td>\n",
       "      <td>2021-01-08 10:33:56</td>\n",
       "      <td>Smith Back in Form |  Jadeja Takes Control For...</td>\n",
       "      <td>0</td>\n",
       "      <td>5</td>\n",
       "      <td>False</td>\n",
       "      <td>13851</td>\n",
       "      <td>9648</td>\n",
       "      <td>Smith Back in Form Jadeja Takes Control For In...</td>\n",
       "      <td>Positive</td>\n",
       "    </tr>\n",
       "  </tbody>\n",
       "</table>\n",
       "<p>1000 rows × 11 columns</p>\n",
       "</div>"
      ],
      "text/plain": [
       "                     Name              Location                 Date  \\\n",
       "0     Humayoun Ahmed Khan     Karachi, Pakistan  2021-01-09 13:07:33   \n",
       "1        Smritilekha Jana                        2021-01-09 13:06:33   \n",
       "2    Soumyatanu Mukherjee  Southampton, England  2021-01-09 13:05:17   \n",
       "3                 Krishna                        2021-01-09 13:04:52   \n",
       "4                Indr-AA😎      Hyderabad, India  2021-01-09 13:04:49   \n",
       "..                    ...                   ...                  ...   \n",
       "995          todaymynews1           Gandhinagar  2021-01-08 10:36:14   \n",
       "996          Trilok Singh                        2021-01-08 10:35:58   \n",
       "997                Jyoti🌟       Kolkata, India   2021-01-08 10:34:56   \n",
       "998      Smritilekha Jana                        2021-01-08 10:34:30   \n",
       "999           PakShows.pk      Lahore, Pakistan  2021-01-08 10:33:56   \n",
       "\n",
       "                                     Text of the tweet Retweets  \\\n",
       "0    Not much detail, too, has emerged about the al...        0   \n",
       "1    AUS vs IND, 3rd Test: Ravindra Jadeja Sustains...        0   \n",
       "2    RT @DevashishMitra_: This is really sad. Havin...        2   \n",
       "3    RT @ESPNcricinfo: It is understood that at lea...       46   \n",
       "4    RT @ESPNcricinfo: Chetestwar Pujara fell to an...       16   \n",
       "..                                                 ...      ...   \n",
       "995  AUS vs IND, 3rd Test: Steve Smith Proud Of Hun...        0   \n",
       "996  RT @GoNews_India: #INDvsAUS, 3rd Test Day 2: I...        1   \n",
       "997  RT @GauravK_8609: From 2014\\n\\nInd vs Aus 3rd ...        9   \n",
       "998  AUS vs IND, 3rd Test: Steve Smith Proud Of Hun...        0   \n",
       "999  Smith Back in Form |  Jadeja Takes Control For...        0   \n",
       "\n",
       "    Favourites Count User verification Followers No. of Friends  \\\n",
       "0              27717             False      1352            248   \n",
       "1                 26             False        79            225   \n",
       "2               4548             False       146            448   \n",
       "3                981             False         6             35   \n",
       "4              27034             False        62             35   \n",
       "..               ...               ...       ...            ...   \n",
       "995                0             False       334           2202   \n",
       "996            30073             False        10             47   \n",
       "997             7442             False       115            122   \n",
       "998               26             False        79            225   \n",
       "999                5             False     13851           9648   \n",
       "\n",
       "                                        cleaned tweets Sentiment  \n",
       "0    Not much detail too has emerged about the alle...  Positive  \n",
       "1    AUS vs IND 3rd Test Ravindra Jadeja Sustains T...   Neutral  \n",
       "2    This is really sad Having visited Sydney a few...  Negative  \n",
       "3    It is understood that at least four Indian pla...  Negative  \n",
       "4    Chetestwar Pujara fell to an unplayable delive...  Positive  \n",
       "..                                                 ...       ...  \n",
       "995  AUS vs IND 3rd Test Steve Smith Proud Of Hundr...  Positive  \n",
       "996  India INDvsAUS 3rd Test Day 2 India 96 2 In Re...   Neutral  \n",
       "997  8609 From 2014 Ind vs Aus 3rd Test ViratKohli ...   Neutral  \n",
       "998  AUS vs IND 3rd Test Steve Smith Proud Of Hundr...  Positive  \n",
       "999  Smith Back in Form Jadeja Takes Control For In...  Positive  \n",
       "\n",
       "[1000 rows x 11 columns]"
      ]
     },
     "execution_count": 113,
     "metadata": {},
     "output_type": "execute_result"
    }
   ],
   "source": [
    "df"
   ]
  },
  {
   "cell_type": "code",
   "execution_count": 115,
   "metadata": {
    "ExecuteTime": {
     "end_time": "2021-01-09T13:24:43.702473Z",
     "start_time": "2021-01-09T13:24:42.035679Z"
    }
   },
   "outputs": [
    {
     "name": "stdout",
     "output_type": "stream",
     "text": [
      "Enter a number between 0 to 999 to draw out that tweet to verify : 3\n",
      "\n",
      "The Original tweet : \n",
      " RT @ESPNcricinfo: It is understood that at least four Indian players have complained to the match officials about alleged racist abuse and…\n",
      "\n",
      "\n",
      "The Cleaned tweet : \n",
      " It is understood that at least four Indian players have complained to the match officials about alleged racist abuse and\n",
      "\n",
      "\n",
      "The Sentiment of the tweet is : \n",
      " Negative\n"
     ]
    }
   ],
   "source": [
    "# To verify\n",
    "\n",
    "n = int(input('Enter a number between 0 to 999 to draw out that tweet to verify : '))\n",
    "print('\\nThe Original tweet : \\n', df['Text of the tweet'][n])\n",
    "print('\\n')\n",
    "print('The Cleaned tweet : \\n', df['cleaned tweets'][n])\n",
    "print('\\n')\n",
    "print('The Sentiment of the tweet is : \\n', df['Sentiment'][n])"
   ]
  }
 ],
 "metadata": {
  "kernelspec": {
   "display_name": "Python 3",
   "language": "python",
   "name": "python3"
  },
  "language_info": {
   "codemirror_mode": {
    "name": "ipython",
    "version": 3
   },
   "file_extension": ".py",
   "mimetype": "text/x-python",
   "name": "python",
   "nbconvert_exporter": "python",
   "pygments_lexer": "ipython3",
   "version": "3.7.6"
  },
  "varInspector": {
   "cols": {
    "lenName": 16,
    "lenType": 16,
    "lenVar": 40
   },
   "kernels_config": {
    "python": {
     "delete_cmd_postfix": "",
     "delete_cmd_prefix": "del ",
     "library": "var_list.py",
     "varRefreshCmd": "print(var_dic_list())"
    },
    "r": {
     "delete_cmd_postfix": ") ",
     "delete_cmd_prefix": "rm(",
     "library": "var_list.r",
     "varRefreshCmd": "cat(var_dic_list()) "
    }
   },
   "types_to_exclude": [
    "module",
    "function",
    "builtin_function_or_method",
    "instance",
    "_Feature"
   ],
   "window_display": false
  }
 },
 "nbformat": 4,
 "nbformat_minor": 4
}
