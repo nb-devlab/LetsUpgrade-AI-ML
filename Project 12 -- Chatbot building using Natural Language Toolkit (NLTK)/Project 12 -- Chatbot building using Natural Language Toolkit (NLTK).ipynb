{
 "cells": [
  {
   "cell_type": "markdown",
   "metadata": {},
   "source": [
    "__importing packages__"
   ]
  },
  {
   "cell_type": "code",
   "execution_count": 1,
   "metadata": {
    "ExecuteTime": {
     "end_time": "2021-05-25T11:48:00.235187Z",
     "start_time": "2021-05-25T11:47:41.194914Z"
    }
   },
   "outputs": [],
   "source": [
    "import io\n",
    "import random\n",
    "import string # to process standard python strings\n",
    "import warnings\n",
    "import numpy as np\n",
    "from sklearn.feature_extraction.text import TfidfVectorizer   # Term frequency\n",
    "from sklearn.metrics.pairwise import cosine_similarity"
   ]
  },
  {
   "cell_type": "markdown",
   "metadata": {},
   "source": [
    "__importing nltk packages__"
   ]
  },
  {
   "cell_type": "code",
   "execution_count": 3,
   "metadata": {
    "ExecuteTime": {
     "end_time": "2021-05-25T12:29:42.617802Z",
     "start_time": "2021-05-25T12:29:42.599799Z"
    }
   },
   "outputs": [],
   "source": [
    "import nltk\n",
    "from nltk.stem import WordNetLemmatizer"
   ]
  },
  {
   "cell_type": "code",
   "execution_count": 4,
   "metadata": {
    "ExecuteTime": {
     "end_time": "2021-05-25T12:29:52.307302Z",
     "start_time": "2021-05-25T12:29:45.376564Z"
    }
   },
   "outputs": [
    {
     "data": {
      "text/plain": [
       "True"
      ]
     },
     "execution_count": 4,
     "metadata": {},
     "output_type": "execute_result"
    }
   ],
   "source": [
    "nltk.download('popular', quiet=True)\n",
    "# nltk.download('punkt')\n",
    "# nltk.download('wordnet')"
   ]
  },
  {
   "cell_type": "code",
   "execution_count": 5,
   "metadata": {
    "ExecuteTime": {
     "end_time": "2021-05-25T12:33:32.273813Z",
     "start_time": "2021-05-25T12:33:32.146251Z"
    }
   },
   "outputs": [],
   "source": [
    "# Reading the corpus--'Chatbot.txt'\n",
    "\n",
    "f = open('Chatbot.txt', 'r')\n",
    "raw = f.read()\n",
    "raw = raw.lower()"
   ]
  },
  {
   "cell_type": "code",
   "execution_count": 6,
   "metadata": {
    "ExecuteTime": {
     "end_time": "2021-05-25T12:35:39.501021Z",
     "start_time": "2021-05-25T12:35:39.488020Z"
    }
   },
   "outputs": [],
   "source": [
    "# Tokenization\n",
    "\n",
    "from nltk.tokenize import sent_tokenize, word_tokenize"
   ]
  },
  {
   "cell_type": "code",
   "execution_count": 7,
   "metadata": {
    "ExecuteTime": {
     "end_time": "2021-05-25T12:35:45.185760Z",
     "start_time": "2021-05-25T12:35:44.987700Z"
    }
   },
   "outputs": [],
   "source": [
    "tokenize_sent = sent_tokenize(raw)\n",
    "tokenize_word = word_tokenize(raw)"
   ]
  },
  {
   "cell_type": "code",
   "execution_count": 8,
   "metadata": {
    "ExecuteTime": {
     "end_time": "2021-05-25T12:38:21.786861Z",
     "start_time": "2021-05-25T12:38:21.769870Z"
    }
   },
   "outputs": [],
   "source": [
    "# Lemmatization\n",
    "\n",
    "from nltk.stem import WordNetLemmatizer\n",
    "lem = WordNetLemmatizer()"
   ]
  },
  {
   "cell_type": "code",
   "execution_count": 9,
   "metadata": {
    "ExecuteTime": {
     "end_time": "2021-05-25T12:41:04.945430Z",
     "start_time": "2021-05-25T12:41:04.931430Z"
    }
   },
   "outputs": [],
   "source": [
    "def LemTokens(tokens):\n",
    "    return [lem.lemmatize(token) for token in tokens]\n",
    "remove_punct_dict = dict((ord(punct), None) for punct in string.punctuation)\n",
    "\n",
    "def LemNormalize(text):\n",
    "    return LemTokens(nltk.word_tokenize(text.lower().translate(remove_punct_dict)))"
   ]
  },
  {
   "cell_type": "code",
   "execution_count": 16,
   "metadata": {
    "ExecuteTime": {
     "end_time": "2021-05-25T13:33:26.179033Z",
     "start_time": "2021-05-25T13:33:26.169032Z"
    }
   },
   "outputs": [],
   "source": [
    "greeting_input = ('hello', 'hi', 'greetings', 'sup', \"what's up\", 'hey')\n",
    "greeting_response = ['hi', 'hey', '*nods*', 'Hi there', 'hello', \"I am glad your talking to me\"]\n",
    "\n",
    "def greet(sentence):\n",
    "    for w in sentence.split():\n",
    "        if w.lower() in greeting_input:\n",
    "            return random.choice(greeting_response)"
   ]
  },
  {
   "cell_type": "code",
   "execution_count": 17,
   "metadata": {
    "ExecuteTime": {
     "end_time": "2021-05-25T13:33:26.342041Z",
     "start_time": "2021-05-25T13:33:26.185038Z"
    }
   },
   "outputs": [],
   "source": [
    "def response(user_response):\n",
    "    robo_response = ''\n",
    "    tokenize_sent.append(user_response)\n",
    "    tfidv = TfidfVectorizer(tokenizer=LemNormalize, stop_words='eng')\n",
    "    tfid = tfidv.fit_transform(tokenize_sent)\n",
    "    vals = cosine_similarity(tfid[-1], tfid)\n",
    "    idx = vals.argsort()[0][-2]\n",
    "    flat = vals.flatten()\n",
    "    flat.sort()\n",
    "    req_tfid = flat[-2]\n",
    "    if req_tfid == 0:\n",
    "        robo_response = robo_response + \"I am sorry !. I don't understand you\"\n",
    "        return robo_response\n",
    "    else :\n",
    "        robo_response = robo_response + tokenize_sent[idx]\n",
    "        return robo_response"
   ]
  },
  {
   "cell_type": "code",
   "execution_count": 19,
   "metadata": {
    "ExecuteTime": {
     "end_time": "2021-05-25T13:34:24.255999Z",
     "start_time": "2021-05-25T13:34:13.525421Z"
    }
   },
   "outputs": [
    {
     "name": "stdout",
     "output_type": "stream",
     "text": [
      "ROBO: Hi!. My name is ROBO. I'll answer your queries about chatbot. If you want to exit, type 'bye'\n",
      "hey\n",
      "ROBO: Hi there\n",
      "hello\n",
      "ROBO: hey\n",
      "bye\n",
      "ROBO: Bye !. Take care\n"
     ]
    }
   ],
   "source": [
    "flag = True\n",
    "print(\"ROBO: Hi!. My name is ROBO. I'll answer your queries about chatbot. If you want to exit, type 'bye'\")\n",
    "while flag == True:\n",
    "    user_response = input()\n",
    "    user_response = user_response.lower()\n",
    "    if user_response != 'bye':\n",
    "        if user_response == 'thanks' or user_response == 'thank you':\n",
    "            flag = False\n",
    "            print(\"ROBO: You are welcome ...\")\n",
    "        else:\n",
    "            if greet(user_response) != None:\n",
    "                print(\"ROBO: \" + greet(user_response))\n",
    "            else:\n",
    "                print(\"ROBO: \", end='')\n",
    "                print(response(user_response))\n",
    "                tokenize_sent.remove(user_response)\n",
    "    else:\n",
    "        flag = False\n",
    "        print(\"ROBO: Bye !. Take care\")"
   ]
  }
 ],
 "metadata": {
  "kernelspec": {
   "display_name": "Python 3",
   "language": "python",
   "name": "python3"
  },
  "language_info": {
   "codemirror_mode": {
    "name": "ipython",
    "version": 3
   },
   "file_extension": ".py",
   "mimetype": "text/x-python",
   "name": "python",
   "nbconvert_exporter": "python",
   "pygments_lexer": "ipython3",
   "version": "3.8.8"
  },
  "varInspector": {
   "cols": {
    "lenName": 16,
    "lenType": 16,
    "lenVar": 40
   },
   "kernels_config": {
    "python": {
     "delete_cmd_postfix": "",
     "delete_cmd_prefix": "del ",
     "library": "var_list.py",
     "varRefreshCmd": "print(var_dic_list())"
    },
    "r": {
     "delete_cmd_postfix": ") ",
     "delete_cmd_prefix": "rm(",
     "library": "var_list.r",
     "varRefreshCmd": "cat(var_dic_list()) "
    }
   },
   "types_to_exclude": [
    "module",
    "function",
    "builtin_function_or_method",
    "instance",
    "_Feature"
   ],
   "window_display": false
  }
 },
 "nbformat": 4,
 "nbformat_minor": 4
}
