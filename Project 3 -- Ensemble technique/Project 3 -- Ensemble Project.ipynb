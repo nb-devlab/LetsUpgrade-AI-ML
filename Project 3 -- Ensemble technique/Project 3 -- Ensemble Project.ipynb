{
 "cells": [
  {
   "cell_type": "code",
   "execution_count": 1,
   "metadata": {
    "ExecuteTime": {
     "end_time": "2021-01-07T18:47:43.678729Z",
     "start_time": "2021-01-07T18:47:37.980812Z"
    }
   },
   "outputs": [],
   "source": [
    "import numpy as np\n",
    "import pandas as pd\n",
    "import matplotlib.pyplot as plt\n",
    "import seaborn as sns\n",
    "\n",
    "from sklearn.preprocessing import LabelEncoder\n",
    "from sklearn.model_selection import train_test_split"
   ]
  },
  {
   "cell_type": "code",
   "execution_count": 2,
   "metadata": {
    "ExecuteTime": {
     "end_time": "2021-01-07T18:47:43.695738Z",
     "start_time": "2021-01-07T18:47:43.685731Z"
    }
   },
   "outputs": [],
   "source": [
    "from IPython import display\n",
    "from scipy import stats\n",
    "import statsmodels"
   ]
  },
  {
   "cell_type": "code",
   "execution_count": 3,
   "metadata": {
    "ExecuteTime": {
     "end_time": "2021-01-07T18:47:43.851139Z",
     "start_time": "2021-01-07T18:47:43.709706Z"
    }
   },
   "outputs": [],
   "source": [
    "import warnings\n",
    "warnings.simplefilter('ignore')"
   ]
  },
  {
   "cell_type": "code",
   "execution_count": 4,
   "metadata": {
    "ExecuteTime": {
     "end_time": "2021-01-07T18:47:44.431131Z",
     "start_time": "2021-01-07T18:47:43.861135Z"
    }
   },
   "outputs": [
    {
     "data": {
      "text/html": [
       "<div>\n",
       "<style scoped>\n",
       "    .dataframe tbody tr th:only-of-type {\n",
       "        vertical-align: middle;\n",
       "    }\n",
       "\n",
       "    .dataframe tbody tr th {\n",
       "        vertical-align: top;\n",
       "    }\n",
       "\n",
       "    .dataframe thead th {\n",
       "        text-align: right;\n",
       "    }\n",
       "</style>\n",
       "<table border=\"1\" class=\"dataframe\">\n",
       "  <thead>\n",
       "    <tr style=\"text-align: right;\">\n",
       "      <th></th>\n",
       "      <th>age</th>\n",
       "      <th>job</th>\n",
       "      <th>marital</th>\n",
       "      <th>education</th>\n",
       "      <th>default</th>\n",
       "      <th>balance</th>\n",
       "      <th>housing</th>\n",
       "      <th>loan</th>\n",
       "      <th>contact</th>\n",
       "      <th>day</th>\n",
       "      <th>month</th>\n",
       "      <th>duration</th>\n",
       "      <th>campaign</th>\n",
       "      <th>pdays</th>\n",
       "      <th>previous</th>\n",
       "      <th>poutcome</th>\n",
       "      <th>Target</th>\n",
       "    </tr>\n",
       "  </thead>\n",
       "  <tbody>\n",
       "    <tr>\n",
       "      <th>0</th>\n",
       "      <td>58</td>\n",
       "      <td>management</td>\n",
       "      <td>married</td>\n",
       "      <td>tertiary</td>\n",
       "      <td>no</td>\n",
       "      <td>2143</td>\n",
       "      <td>yes</td>\n",
       "      <td>no</td>\n",
       "      <td>unknown</td>\n",
       "      <td>5</td>\n",
       "      <td>may</td>\n",
       "      <td>261</td>\n",
       "      <td>1</td>\n",
       "      <td>-1</td>\n",
       "      <td>0</td>\n",
       "      <td>unknown</td>\n",
       "      <td>no</td>\n",
       "    </tr>\n",
       "    <tr>\n",
       "      <th>1</th>\n",
       "      <td>44</td>\n",
       "      <td>technician</td>\n",
       "      <td>single</td>\n",
       "      <td>secondary</td>\n",
       "      <td>no</td>\n",
       "      <td>29</td>\n",
       "      <td>yes</td>\n",
       "      <td>no</td>\n",
       "      <td>unknown</td>\n",
       "      <td>5</td>\n",
       "      <td>may</td>\n",
       "      <td>151</td>\n",
       "      <td>1</td>\n",
       "      <td>-1</td>\n",
       "      <td>0</td>\n",
       "      <td>unknown</td>\n",
       "      <td>no</td>\n",
       "    </tr>\n",
       "    <tr>\n",
       "      <th>2</th>\n",
       "      <td>33</td>\n",
       "      <td>entrepreneur</td>\n",
       "      <td>married</td>\n",
       "      <td>secondary</td>\n",
       "      <td>no</td>\n",
       "      <td>2</td>\n",
       "      <td>yes</td>\n",
       "      <td>yes</td>\n",
       "      <td>unknown</td>\n",
       "      <td>5</td>\n",
       "      <td>may</td>\n",
       "      <td>76</td>\n",
       "      <td>1</td>\n",
       "      <td>-1</td>\n",
       "      <td>0</td>\n",
       "      <td>unknown</td>\n",
       "      <td>no</td>\n",
       "    </tr>\n",
       "    <tr>\n",
       "      <th>3</th>\n",
       "      <td>47</td>\n",
       "      <td>blue-collar</td>\n",
       "      <td>married</td>\n",
       "      <td>unknown</td>\n",
       "      <td>no</td>\n",
       "      <td>1506</td>\n",
       "      <td>yes</td>\n",
       "      <td>no</td>\n",
       "      <td>unknown</td>\n",
       "      <td>5</td>\n",
       "      <td>may</td>\n",
       "      <td>92</td>\n",
       "      <td>1</td>\n",
       "      <td>-1</td>\n",
       "      <td>0</td>\n",
       "      <td>unknown</td>\n",
       "      <td>no</td>\n",
       "    </tr>\n",
       "    <tr>\n",
       "      <th>4</th>\n",
       "      <td>33</td>\n",
       "      <td>unknown</td>\n",
       "      <td>single</td>\n",
       "      <td>unknown</td>\n",
       "      <td>no</td>\n",
       "      <td>1</td>\n",
       "      <td>no</td>\n",
       "      <td>no</td>\n",
       "      <td>unknown</td>\n",
       "      <td>5</td>\n",
       "      <td>may</td>\n",
       "      <td>198</td>\n",
       "      <td>1</td>\n",
       "      <td>-1</td>\n",
       "      <td>0</td>\n",
       "      <td>unknown</td>\n",
       "      <td>no</td>\n",
       "    </tr>\n",
       "  </tbody>\n",
       "</table>\n",
       "</div>"
      ],
      "text/plain": [
       "   age           job  marital  education default  balance housing loan  \\\n",
       "0   58    management  married   tertiary      no     2143     yes   no   \n",
       "1   44    technician   single  secondary      no       29     yes   no   \n",
       "2   33  entrepreneur  married  secondary      no        2     yes  yes   \n",
       "3   47   blue-collar  married    unknown      no     1506     yes   no   \n",
       "4   33       unknown   single    unknown      no        1      no   no   \n",
       "\n",
       "   contact  day month  duration  campaign  pdays  previous poutcome Target  \n",
       "0  unknown    5   may       261         1     -1         0  unknown     no  \n",
       "1  unknown    5   may       151         1     -1         0  unknown     no  \n",
       "2  unknown    5   may        76         1     -1         0  unknown     no  \n",
       "3  unknown    5   may        92         1     -1         0  unknown     no  \n",
       "4  unknown    5   may       198         1     -1         0  unknown     no  "
      ]
     },
     "execution_count": 4,
     "metadata": {},
     "output_type": "execute_result"
    }
   ],
   "source": [
    "df = pd.read_csv('bank-full.csv')\n",
    "\n",
    "df.head()"
   ]
  },
  {
   "cell_type": "code",
   "execution_count": 5,
   "metadata": {
    "ExecuteTime": {
     "end_time": "2021-01-07T18:47:44.527144Z",
     "start_time": "2021-01-07T18:47:44.440139Z"
    }
   },
   "outputs": [
    {
     "data": {
      "text/html": [
       "<div>\n",
       "<style scoped>\n",
       "    .dataframe tbody tr th:only-of-type {\n",
       "        vertical-align: middle;\n",
       "    }\n",
       "\n",
       "    .dataframe tbody tr th {\n",
       "        vertical-align: top;\n",
       "    }\n",
       "\n",
       "    .dataframe thead th {\n",
       "        text-align: right;\n",
       "    }\n",
       "</style>\n",
       "<table border=\"1\" class=\"dataframe\">\n",
       "  <thead>\n",
       "    <tr style=\"text-align: right;\">\n",
       "      <th></th>\n",
       "      <th>age</th>\n",
       "      <th>job</th>\n",
       "      <th>marital</th>\n",
       "      <th>education</th>\n",
       "      <th>default</th>\n",
       "      <th>balance</th>\n",
       "      <th>housing</th>\n",
       "      <th>loan</th>\n",
       "      <th>contact</th>\n",
       "      <th>day</th>\n",
       "      <th>month</th>\n",
       "      <th>duration</th>\n",
       "      <th>campaign</th>\n",
       "      <th>pdays</th>\n",
       "      <th>previous</th>\n",
       "      <th>poutcome</th>\n",
       "      <th>Target</th>\n",
       "    </tr>\n",
       "  </thead>\n",
       "  <tbody>\n",
       "    <tr>\n",
       "      <th>45206</th>\n",
       "      <td>51</td>\n",
       "      <td>technician</td>\n",
       "      <td>married</td>\n",
       "      <td>tertiary</td>\n",
       "      <td>no</td>\n",
       "      <td>825</td>\n",
       "      <td>no</td>\n",
       "      <td>no</td>\n",
       "      <td>cellular</td>\n",
       "      <td>17</td>\n",
       "      <td>nov</td>\n",
       "      <td>977</td>\n",
       "      <td>3</td>\n",
       "      <td>-1</td>\n",
       "      <td>0</td>\n",
       "      <td>unknown</td>\n",
       "      <td>yes</td>\n",
       "    </tr>\n",
       "    <tr>\n",
       "      <th>45207</th>\n",
       "      <td>71</td>\n",
       "      <td>retired</td>\n",
       "      <td>divorced</td>\n",
       "      <td>primary</td>\n",
       "      <td>no</td>\n",
       "      <td>1729</td>\n",
       "      <td>no</td>\n",
       "      <td>no</td>\n",
       "      <td>cellular</td>\n",
       "      <td>17</td>\n",
       "      <td>nov</td>\n",
       "      <td>456</td>\n",
       "      <td>2</td>\n",
       "      <td>-1</td>\n",
       "      <td>0</td>\n",
       "      <td>unknown</td>\n",
       "      <td>yes</td>\n",
       "    </tr>\n",
       "    <tr>\n",
       "      <th>45208</th>\n",
       "      <td>72</td>\n",
       "      <td>retired</td>\n",
       "      <td>married</td>\n",
       "      <td>secondary</td>\n",
       "      <td>no</td>\n",
       "      <td>5715</td>\n",
       "      <td>no</td>\n",
       "      <td>no</td>\n",
       "      <td>cellular</td>\n",
       "      <td>17</td>\n",
       "      <td>nov</td>\n",
       "      <td>1127</td>\n",
       "      <td>5</td>\n",
       "      <td>184</td>\n",
       "      <td>3</td>\n",
       "      <td>success</td>\n",
       "      <td>yes</td>\n",
       "    </tr>\n",
       "    <tr>\n",
       "      <th>45209</th>\n",
       "      <td>57</td>\n",
       "      <td>blue-collar</td>\n",
       "      <td>married</td>\n",
       "      <td>secondary</td>\n",
       "      <td>no</td>\n",
       "      <td>668</td>\n",
       "      <td>no</td>\n",
       "      <td>no</td>\n",
       "      <td>telephone</td>\n",
       "      <td>17</td>\n",
       "      <td>nov</td>\n",
       "      <td>508</td>\n",
       "      <td>4</td>\n",
       "      <td>-1</td>\n",
       "      <td>0</td>\n",
       "      <td>unknown</td>\n",
       "      <td>no</td>\n",
       "    </tr>\n",
       "    <tr>\n",
       "      <th>45210</th>\n",
       "      <td>37</td>\n",
       "      <td>entrepreneur</td>\n",
       "      <td>married</td>\n",
       "      <td>secondary</td>\n",
       "      <td>no</td>\n",
       "      <td>2971</td>\n",
       "      <td>no</td>\n",
       "      <td>no</td>\n",
       "      <td>cellular</td>\n",
       "      <td>17</td>\n",
       "      <td>nov</td>\n",
       "      <td>361</td>\n",
       "      <td>2</td>\n",
       "      <td>188</td>\n",
       "      <td>11</td>\n",
       "      <td>other</td>\n",
       "      <td>no</td>\n",
       "    </tr>\n",
       "  </tbody>\n",
       "</table>\n",
       "</div>"
      ],
      "text/plain": [
       "       age           job   marital  education default  balance housing loan  \\\n",
       "45206   51    technician   married   tertiary      no      825      no   no   \n",
       "45207   71       retired  divorced    primary      no     1729      no   no   \n",
       "45208   72       retired   married  secondary      no     5715      no   no   \n",
       "45209   57   blue-collar   married  secondary      no      668      no   no   \n",
       "45210   37  entrepreneur   married  secondary      no     2971      no   no   \n",
       "\n",
       "         contact  day month  duration  campaign  pdays  previous poutcome  \\\n",
       "45206   cellular   17   nov       977         3     -1         0  unknown   \n",
       "45207   cellular   17   nov       456         2     -1         0  unknown   \n",
       "45208   cellular   17   nov      1127         5    184         3  success   \n",
       "45209  telephone   17   nov       508         4     -1         0  unknown   \n",
       "45210   cellular   17   nov       361         2    188        11    other   \n",
       "\n",
       "      Target  \n",
       "45206    yes  \n",
       "45207    yes  \n",
       "45208    yes  \n",
       "45209     no  \n",
       "45210     no  "
      ]
     },
     "execution_count": 5,
     "metadata": {},
     "output_type": "execute_result"
    }
   ],
   "source": [
    "df.tail()"
   ]
  },
  {
   "cell_type": "code",
   "execution_count": 6,
   "metadata": {
    "ExecuteTime": {
     "end_time": "2021-01-07T18:47:44.719141Z",
     "start_time": "2021-01-07T18:47:44.537144Z"
    }
   },
   "outputs": [
    {
     "name": "stdout",
     "output_type": "stream",
     "text": [
      "<class 'pandas.core.frame.DataFrame'>\n",
      "RangeIndex: 45211 entries, 0 to 45210\n",
      "Data columns (total 17 columns):\n",
      " #   Column     Non-Null Count  Dtype \n",
      "---  ------     --------------  ----- \n",
      " 0   age        45211 non-null  int64 \n",
      " 1   job        45211 non-null  object\n",
      " 2   marital    45211 non-null  object\n",
      " 3   education  45211 non-null  object\n",
      " 4   default    45211 non-null  object\n",
      " 5   balance    45211 non-null  int64 \n",
      " 6   housing    45211 non-null  object\n",
      " 7   loan       45211 non-null  object\n",
      " 8   contact    45211 non-null  object\n",
      " 9   day        45211 non-null  int64 \n",
      " 10  month      45211 non-null  object\n",
      " 11  duration   45211 non-null  int64 \n",
      " 12  campaign   45211 non-null  int64 \n",
      " 13  pdays      45211 non-null  int64 \n",
      " 14  previous   45211 non-null  int64 \n",
      " 15  poutcome   45211 non-null  object\n",
      " 16  Target     45211 non-null  object\n",
      "dtypes: int64(7), object(10)\n",
      "memory usage: 5.9+ MB\n"
     ]
    }
   ],
   "source": [
    "df.info()"
   ]
  },
  {
   "cell_type": "code",
   "execution_count": 7,
   "metadata": {
    "ExecuteTime": {
     "end_time": "2021-01-07T18:47:44.791153Z",
     "start_time": "2021-01-07T18:47:44.729140Z"
    }
   },
   "outputs": [
    {
     "data": {
      "text/plain": [
       "(45211, 17)"
      ]
     },
     "execution_count": 7,
     "metadata": {},
     "output_type": "execute_result"
    }
   ],
   "source": [
    "df.shape"
   ]
  },
  {
   "cell_type": "markdown",
   "metadata": {},
   "source": [
    "There are a total of 45211 rows & 17 columns in the given dataset.\n",
    "\n",
    "There are a significant columns with 'object' data type while others have a numeric data type"
   ]
  },
  {
   "cell_type": "markdown",
   "metadata": {},
   "source": [
    "__Exploring the data__"
   ]
  },
  {
   "cell_type": "code",
   "execution_count": 8,
   "metadata": {
    "ExecuteTime": {
     "end_time": "2021-01-07T18:47:45.109163Z",
     "start_time": "2021-01-07T18:47:44.802144Z"
    }
   },
   "outputs": [
    {
     "data": {
      "text/html": [
       "<div>\n",
       "<style scoped>\n",
       "    .dataframe tbody tr th:only-of-type {\n",
       "        vertical-align: middle;\n",
       "    }\n",
       "\n",
       "    .dataframe tbody tr th {\n",
       "        vertical-align: top;\n",
       "    }\n",
       "\n",
       "    .dataframe thead th {\n",
       "        text-align: right;\n",
       "    }\n",
       "</style>\n",
       "<table border=\"1\" class=\"dataframe\">\n",
       "  <thead>\n",
       "    <tr style=\"text-align: right;\">\n",
       "      <th></th>\n",
       "      <th>Attributes</th>\n",
       "    </tr>\n",
       "  </thead>\n",
       "  <tbody>\n",
       "    <tr>\n",
       "      <th>age</th>\n",
       "      <td>int64</td>\n",
       "    </tr>\n",
       "    <tr>\n",
       "      <th>job</th>\n",
       "      <td>category</td>\n",
       "    </tr>\n",
       "    <tr>\n",
       "      <th>marital</th>\n",
       "      <td>category</td>\n",
       "    </tr>\n",
       "    <tr>\n",
       "      <th>education</th>\n",
       "      <td>category</td>\n",
       "    </tr>\n",
       "    <tr>\n",
       "      <th>default</th>\n",
       "      <td>category</td>\n",
       "    </tr>\n",
       "    <tr>\n",
       "      <th>balance</th>\n",
       "      <td>int64</td>\n",
       "    </tr>\n",
       "    <tr>\n",
       "      <th>housing</th>\n",
       "      <td>category</td>\n",
       "    </tr>\n",
       "    <tr>\n",
       "      <th>loan</th>\n",
       "      <td>category</td>\n",
       "    </tr>\n",
       "    <tr>\n",
       "      <th>contact</th>\n",
       "      <td>category</td>\n",
       "    </tr>\n",
       "    <tr>\n",
       "      <th>day</th>\n",
       "      <td>int64</td>\n",
       "    </tr>\n",
       "    <tr>\n",
       "      <th>month</th>\n",
       "      <td>category</td>\n",
       "    </tr>\n",
       "    <tr>\n",
       "      <th>duration</th>\n",
       "      <td>int64</td>\n",
       "    </tr>\n",
       "    <tr>\n",
       "      <th>campaign</th>\n",
       "      <td>int64</td>\n",
       "    </tr>\n",
       "    <tr>\n",
       "      <th>pdays</th>\n",
       "      <td>int64</td>\n",
       "    </tr>\n",
       "    <tr>\n",
       "      <th>previous</th>\n",
       "      <td>int64</td>\n",
       "    </tr>\n",
       "    <tr>\n",
       "      <th>poutcome</th>\n",
       "      <td>category</td>\n",
       "    </tr>\n",
       "    <tr>\n",
       "      <th>Target</th>\n",
       "      <td>category</td>\n",
       "    </tr>\n",
       "  </tbody>\n",
       "</table>\n",
       "</div>"
      ],
      "text/plain": [
       "          Attributes\n",
       "age            int64\n",
       "job         category\n",
       "marital     category\n",
       "education   category\n",
       "default     category\n",
       "balance        int64\n",
       "housing     category\n",
       "loan        category\n",
       "contact     category\n",
       "day            int64\n",
       "month       category\n",
       "duration       int64\n",
       "campaign       int64\n",
       "pdays          int64\n",
       "previous       int64\n",
       "poutcome    category\n",
       "Target      category"
      ]
     },
     "execution_count": 8,
     "metadata": {},
     "output_type": "execute_result"
    }
   ],
   "source": [
    "# Converting all the 'object' features to 'Category'\n",
    "\n",
    "df[['job', 'marital', 'education','default', 'housing', 'loan', 'contact', 'month', 'poutcome', 'Target']] = df[['job', 'marital', 'education','default', 'housing', 'loan', 'contact', 'month', 'poutcome', 'Target']].apply(pd.Categorical)\n",
    "\n",
    "df.dtypes.to_frame('Attributes')"
   ]
  },
  {
   "cell_type": "markdown",
   "metadata": {},
   "source": [
    "10 features have now been converted to 'Category'.\n",
    "\n",
    "7 continue to be numerical."
   ]
  },
  {
   "cell_type": "code",
   "execution_count": 9,
   "metadata": {
    "ExecuteTime": {
     "end_time": "2021-01-07T18:47:45.161137Z",
     "start_time": "2021-01-07T18:47:45.120143Z"
    }
   },
   "outputs": [
    {
     "data": {
      "text/plain": [
       "age          0\n",
       "job          0\n",
       "marital      0\n",
       "education    0\n",
       "default      0\n",
       "balance      0\n",
       "housing      0\n",
       "loan         0\n",
       "contact      0\n",
       "day          0\n",
       "month        0\n",
       "duration     0\n",
       "campaign     0\n",
       "pdays        0\n",
       "previous     0\n",
       "poutcome     0\n",
       "Target       0\n",
       "dtype: int64"
      ]
     },
     "execution_count": 9,
     "metadata": {},
     "output_type": "execute_result"
    }
   ],
   "source": [
    "# Checking for 'NaN' values in the dataset.\n",
    "\n",
    "df.isna().sum()"
   ]
  },
  {
   "cell_type": "markdown",
   "metadata": {},
   "source": [
    "The dataset has no 'NaN' values."
   ]
  },
  {
   "cell_type": "code",
   "execution_count": 10,
   "metadata": {
    "ExecuteTime": {
     "end_time": "2021-01-07T18:47:45.384138Z",
     "start_time": "2021-01-07T18:47:45.171146Z"
    }
   },
   "outputs": [
    {
     "data": {
      "text/html": [
       "<div>\n",
       "<style scoped>\n",
       "    .dataframe tbody tr th:only-of-type {\n",
       "        vertical-align: middle;\n",
       "    }\n",
       "\n",
       "    .dataframe tbody tr th {\n",
       "        vertical-align: top;\n",
       "    }\n",
       "\n",
       "    .dataframe thead th {\n",
       "        text-align: right;\n",
       "    }\n",
       "</style>\n",
       "<table border=\"1\" class=\"dataframe\">\n",
       "  <thead>\n",
       "    <tr style=\"text-align: right;\">\n",
       "      <th></th>\n",
       "      <th>count</th>\n",
       "      <th>mean</th>\n",
       "      <th>std</th>\n",
       "      <th>min</th>\n",
       "      <th>25%</th>\n",
       "      <th>50%</th>\n",
       "      <th>75%</th>\n",
       "      <th>max</th>\n",
       "    </tr>\n",
       "  </thead>\n",
       "  <tbody>\n",
       "    <tr>\n",
       "      <th>age</th>\n",
       "      <td>45211.0</td>\n",
       "      <td>40.936210</td>\n",
       "      <td>10.618762</td>\n",
       "      <td>18.0</td>\n",
       "      <td>33.0</td>\n",
       "      <td>39.0</td>\n",
       "      <td>48.0</td>\n",
       "      <td>95.0</td>\n",
       "    </tr>\n",
       "    <tr>\n",
       "      <th>balance</th>\n",
       "      <td>45211.0</td>\n",
       "      <td>1362.272058</td>\n",
       "      <td>3044.765829</td>\n",
       "      <td>-8019.0</td>\n",
       "      <td>72.0</td>\n",
       "      <td>448.0</td>\n",
       "      <td>1428.0</td>\n",
       "      <td>102127.0</td>\n",
       "    </tr>\n",
       "    <tr>\n",
       "      <th>day</th>\n",
       "      <td>45211.0</td>\n",
       "      <td>15.806419</td>\n",
       "      <td>8.322476</td>\n",
       "      <td>1.0</td>\n",
       "      <td>8.0</td>\n",
       "      <td>16.0</td>\n",
       "      <td>21.0</td>\n",
       "      <td>31.0</td>\n",
       "    </tr>\n",
       "    <tr>\n",
       "      <th>duration</th>\n",
       "      <td>45211.0</td>\n",
       "      <td>258.163080</td>\n",
       "      <td>257.527812</td>\n",
       "      <td>0.0</td>\n",
       "      <td>103.0</td>\n",
       "      <td>180.0</td>\n",
       "      <td>319.0</td>\n",
       "      <td>4918.0</td>\n",
       "    </tr>\n",
       "    <tr>\n",
       "      <th>campaign</th>\n",
       "      <td>45211.0</td>\n",
       "      <td>2.763841</td>\n",
       "      <td>3.098021</td>\n",
       "      <td>1.0</td>\n",
       "      <td>1.0</td>\n",
       "      <td>2.0</td>\n",
       "      <td>3.0</td>\n",
       "      <td>63.0</td>\n",
       "    </tr>\n",
       "    <tr>\n",
       "      <th>pdays</th>\n",
       "      <td>45211.0</td>\n",
       "      <td>40.197828</td>\n",
       "      <td>100.128746</td>\n",
       "      <td>-1.0</td>\n",
       "      <td>-1.0</td>\n",
       "      <td>-1.0</td>\n",
       "      <td>-1.0</td>\n",
       "      <td>871.0</td>\n",
       "    </tr>\n",
       "    <tr>\n",
       "      <th>previous</th>\n",
       "      <td>45211.0</td>\n",
       "      <td>0.580323</td>\n",
       "      <td>2.303441</td>\n",
       "      <td>0.0</td>\n",
       "      <td>0.0</td>\n",
       "      <td>0.0</td>\n",
       "      <td>0.0</td>\n",
       "      <td>275.0</td>\n",
       "    </tr>\n",
       "  </tbody>\n",
       "</table>\n",
       "</div>"
      ],
      "text/plain": [
       "            count         mean          std     min    25%    50%     75%  \\\n",
       "age       45211.0    40.936210    10.618762    18.0   33.0   39.0    48.0   \n",
       "balance   45211.0  1362.272058  3044.765829 -8019.0   72.0  448.0  1428.0   \n",
       "day       45211.0    15.806419     8.322476     1.0    8.0   16.0    21.0   \n",
       "duration  45211.0   258.163080   257.527812     0.0  103.0  180.0   319.0   \n",
       "campaign  45211.0     2.763841     3.098021     1.0    1.0    2.0     3.0   \n",
       "pdays     45211.0    40.197828   100.128746    -1.0   -1.0   -1.0    -1.0   \n",
       "previous  45211.0     0.580323     2.303441     0.0    0.0    0.0     0.0   \n",
       "\n",
       "               max  \n",
       "age           95.0  \n",
       "balance   102127.0  \n",
       "day           31.0  \n",
       "duration    4918.0  \n",
       "campaign      63.0  \n",
       "pdays        871.0  \n",
       "previous     275.0  "
      ]
     },
     "execution_count": 10,
     "metadata": {},
     "output_type": "execute_result"
    }
   ],
   "source": [
    "# Checking the statistical summary of the dataset\n",
    "\n",
    "df.describe().T"
   ]
  },
  {
   "cell_type": "markdown",
   "metadata": {},
   "source": [
    "Summary :\n",
    "    \n",
    "    Ouliers are observed in 'age', 'balance', 'duration', 'campaign', 'pdays', 'previous' columns.\n",
    "    \n",
    "    The data in 'balance', 'duration', 'pdays' & 'previous' is rightly skewed.\n",
    "    \n",
    "    The min age, having an account is 18 whereas max is 95.\n",
    "    \n",
    "    The balance maintained in the account also vaires from the min of -8019 to as much as max of 102127."
   ]
  },
  {
   "cell_type": "code",
   "execution_count": 11,
   "metadata": {
    "ExecuteTime": {
     "end_time": "2021-01-07T18:47:52.102433Z",
     "start_time": "2021-01-07T18:47:45.390172Z"
    }
   },
   "outputs": [
    {
     "data": {
      "image/png": "[encoded data removed]",
      "text/plain": [
       "<Figure size 1080x1080 with 7 Axes>"
      ]
     },
     "metadata": {
      "needs_background": "light"
     },
     "output_type": "display_data"
    }
   ],
   "source": [
    "# Plotting the distribution of all numerical data.\n",
    "\n",
    "plt.figure(figsize=(15,15))\n",
    "\n",
    "plt.subplot(3,3,1)\n",
    "sns.distplot(df['age'], kde=False)\n",
    "\n",
    "plt.subplot(3,3,2)\n",
    "sns.distplot(df['balance'], kde=False)\n",
    "\n",
    "plt.subplot(3,3,3)\n",
    "sns.distplot(df['day'], kde=False)\n",
    "\n",
    "plt.subplot(3,3,4)\n",
    "sns.distplot(df['duration'], kde=False)\n",
    "\n",
    "plt.subplot(3,3,5)\n",
    "sns.distplot(df['campaign'], kde=False)\n",
    "\n",
    "plt.subplot(3,3,6)\n",
    "sns.distplot(df['pdays'], kde=False)\n",
    "\n",
    "plt.subplot(3,3,7)\n",
    "sns.distplot(df['previous'], kde=False)\n",
    "\n",
    "plt.tight_layout()\n",
    "plt.show()\n",
    "\n",
    "# Getting a kde bandwidth error. Hence kept it to 'False'."
   ]
  },
  {
   "cell_type": "markdown",
   "metadata": {
    "ExecuteTime": {
     "end_time": "2021-01-07T06:11:46.717964Z",
     "start_time": "2021-01-07T06:11:46.707965Z"
    }
   },
   "source": [
    "Plot Summary :\n",
    "    \n",
    "    The 'age' plot shows an almost bell curve, indicating a somewhat normal data distribution.\n",
    "    \n",
    "    The 'balance', 'duration', 'campaign' shows a rightly skewed distribution."
   ]
  },
  {
   "cell_type": "code",
   "execution_count": 12,
   "metadata": {
    "ExecuteTime": {
     "end_time": "2021-01-07T18:47:52.220453Z",
     "start_time": "2021-01-07T18:47:52.110442Z"
    }
   },
   "outputs": [
    {
     "data": {
      "text/html": [
       "<div>\n",
       "<style scoped>\n",
       "    .dataframe tbody tr th:only-of-type {\n",
       "        vertical-align: middle;\n",
       "    }\n",
       "\n",
       "    .dataframe tbody tr th {\n",
       "        vertical-align: top;\n",
       "    }\n",
       "\n",
       "    .dataframe thead th {\n",
       "        text-align: right;\n",
       "    }\n",
       "</style>\n",
       "<table border=\"1\" class=\"dataframe\">\n",
       "  <thead>\n",
       "    <tr style=\"text-align: right;\">\n",
       "      <th></th>\n",
       "      <th>age</th>\n",
       "      <th>balance</th>\n",
       "      <th>day</th>\n",
       "      <th>duration</th>\n",
       "      <th>campaign</th>\n",
       "      <th>pdays</th>\n",
       "      <th>previous</th>\n",
       "    </tr>\n",
       "  </thead>\n",
       "  <tbody>\n",
       "    <tr>\n",
       "      <th>Skewness</th>\n",
       "      <td>0.684818</td>\n",
       "      <td>8.360308</td>\n",
       "      <td>0.093079</td>\n",
       "      <td>3.144318</td>\n",
       "      <td>4.89865</td>\n",
       "      <td>2.615715</td>\n",
       "      <td>41.846454</td>\n",
       "    </tr>\n",
       "  </tbody>\n",
       "</table>\n",
       "</div>"
      ],
      "text/plain": [
       "               age   balance       day  duration  campaign     pdays  \\\n",
       "Skewness  0.684818  8.360308  0.093079  3.144318   4.89865  2.615715   \n",
       "\n",
       "           previous  \n",
       "Skewness  41.846454  "
      ]
     },
     "execution_count": 12,
     "metadata": {},
     "output_type": "execute_result"
    }
   ],
   "source": [
    "# Verifying the skewness of the data.\n",
    "\n",
    "df[['age', 'balance', 'day', 'duration', 'campaign', 'pdays', 'previous']].skew().to_frame('Skewness').T"
   ]
  },
  {
   "cell_type": "code",
   "execution_count": 13,
   "metadata": {
    "ExecuteTime": {
     "end_time": "2021-01-07T18:47:52.307433Z",
     "start_time": "2021-01-07T18:47:52.229429Z"
    }
   },
   "outputs": [
    {
     "data": {
      "text/plain": [
       "Index(['age', 'job', 'marital', 'education', 'default', 'balance', 'housing',\n",
       "       'loan', 'contact', 'day', 'month', 'duration', 'campaign', 'pdays',\n",
       "       'previous', 'poutcome', 'Target'],\n",
       "      dtype='object')"
      ]
     },
     "execution_count": 13,
     "metadata": {},
     "output_type": "execute_result"
    }
   ],
   "source": [
    "df.columns"
   ]
  },
  {
   "cell_type": "code",
   "execution_count": 14,
   "metadata": {
    "ExecuteTime": {
     "end_time": "2021-01-07T18:47:58.092451Z",
     "start_time": "2021-01-07T18:47:52.318434Z"
    }
   },
   "outputs": [
    {
     "data": {
      "image/png": "[encoded data removed]",
      "text/plain": [
       "<Figure size 1080x1080 with 10 Axes>"
      ]
     },
     "metadata": {
      "needs_background": "light"
     },
     "output_type": "display_data"
    }
   ],
   "source": [
    "# PLotting the distribution of non-numerical data or categorical data.\n",
    "\n",
    "plt.figure(figsize=(15,15))\n",
    "\n",
    "plt.subplot(4,3,1)\n",
    "sns.countplot(x=df['job'], data=df)\n",
    "plt.xticks(rotation=70)\n",
    "\n",
    "plt.subplot(4,3,2)\n",
    "sns.countplot(x=df['marital'], data=df)\n",
    "\n",
    "plt.subplot(4,3,3)\n",
    "sns.countplot(x=df['education'], data=df)\n",
    "\n",
    "plt.subplot(4,3,4)\n",
    "sns.countplot(x=df['default'], data=df)\n",
    "\n",
    "plt.subplot(4,3,5)\n",
    "sns.countplot(x=df['housing'], data=df)\n",
    "\n",
    "plt.subplot(4,3,6)\n",
    "sns.countplot(x=df['loan'], data=df)\n",
    "\n",
    "plt.subplot(4,3,7)\n",
    "sns.countplot(x=df['contact'], data=df)\n",
    "\n",
    "plt.subplot(4,3,8)\n",
    "sns.countplot(x=df['month'], data=df)\n",
    "plt.xticks(rotation=70)\n",
    "\n",
    "plt.subplot(4,3,9)\n",
    "sns.countplot(x=df['poutcome'], data=df)\n",
    "\n",
    "plt.subplot(4,3,10)\n",
    "sns.countplot(x=df['Target'], data=df)\n",
    "\n",
    "plt.tight_layout()\n",
    "plt.show()"
   ]
  },
  {
   "cell_type": "markdown",
   "metadata": {},
   "source": [
    "Plot Summary :\n",
    "    \n",
    "    Most people haven't defaulted and do not have any personal 'loan'.\n",
    "    \n",
    "    Most people have been contacted by 'cellular'.\n",
    "    \n",
    "    The highest number of contact took place in 'May'.\n",
    "    \n",
    "    Most number of people don't have a term deposit."
   ]
  },
  {
   "cell_type": "code",
   "execution_count": 15,
   "metadata": {
    "ExecuteTime": {
     "end_time": "2021-01-07T18:48:01.495518Z",
     "start_time": "2021-01-07T18:47:58.099439Z"
    }
   },
   "outputs": [
    {
     "data": {
      "text/plain": [
       "<matplotlib.axes._subplots.AxesSubplot at 0x2b3b991ef88>"
      ]
     },
     "execution_count": 15,
     "metadata": {},
     "output_type": "execute_result"
    },
    {
     "data": {
      "image/png": "[encoded data removed]",
      "text/plain": [
       "<Figure size 1080x1080 with 7 Axes>"
      ]
     },
     "metadata": {
      "needs_background": "light"
     },
     "output_type": "display_data"
    }
   ],
   "source": [
    "# Checking the Outliers.\n",
    "\n",
    "plt.figure(figsize=(15,15))\n",
    "\n",
    "plt.subplot(3,3,1)\n",
    "sns.boxplot(x=df['age'], data=df)\n",
    "\n",
    "plt.subplot(3,3,2)\n",
    "sns.boxplot(x=df['balance'], data=df)\n",
    "\n",
    "plt.subplot(3,3,3)\n",
    "sns.boxplot(x=df['day'], data=df)\n",
    "\n",
    "plt.subplot(3,3,4)\n",
    "sns.boxplot(x=df['duration'], data=df)\n",
    "\n",
    "plt.subplot(3,3,5)\n",
    "sns.boxplot(x=df['campaign'], data=df)\n",
    "\n",
    "plt.subplot(3,3,6)\n",
    "sns.boxplot(x=df['pdays'], data=df)\n",
    "\n",
    "plt.subplot(3,3,7)\n",
    "sns.boxplot(x=df['previous'], data=df)"
   ]
  },
  {
   "cell_type": "markdown",
   "metadata": {
    "ExecuteTime": {
     "end_time": "2021-01-07T07:16:53.096632Z",
     "start_time": "2021-01-07T07:16:53.085635Z"
    }
   },
   "source": [
    "Plot Summary :\n",
    "    \n",
    "    Some outliers are observed in 'age' column.\n",
    "    \n",
    "    A significant amount of outliers are observed in 'balance', 'duration', 'campaign', 'previous' column as also more than significant amount of ouliers in 'pdays'.\n",
    "    \n",
    "    The 'balance' column shows some negative values as well.\n",
    "    \n",
    "    There are no outliers observed in 'day' column."
   ]
  },
  {
   "cell_type": "code",
   "execution_count": 16,
   "metadata": {
    "ExecuteTime": {
     "end_time": "2021-01-07T18:48:01.514503Z",
     "start_time": "2021-01-07T18:48:01.503499Z"
    }
   },
   "outputs": [],
   "source": [
    "# Checking the categorical data and applying LabelEncoder on whichever feature variable considered important.\n",
    "le = LabelEncoder()"
   ]
  },
  {
   "cell_type": "code",
   "execution_count": 17,
   "metadata": {
    "ExecuteTime": {
     "end_time": "2021-01-07T18:48:01.689497Z",
     "start_time": "2021-01-07T18:48:01.524779Z"
    }
   },
   "outputs": [
    {
     "data": {
      "text/plain": [
       "Index(['age', 'job', 'marital', 'education', 'default', 'balance', 'housing',\n",
       "       'loan', 'contact', 'day', 'month', 'duration', 'campaign', 'pdays',\n",
       "       'previous', 'poutcome', 'Target'],\n",
       "      dtype='object')"
      ]
     },
     "execution_count": 17,
     "metadata": {},
     "output_type": "execute_result"
    }
   ],
   "source": [
    "df.columns"
   ]
  },
  {
   "cell_type": "code",
   "execution_count": 18,
   "metadata": {
    "ExecuteTime": {
     "end_time": "2021-01-07T18:48:01.822489Z",
     "start_time": "2021-01-07T18:48:01.699497Z"
    }
   },
   "outputs": [
    {
     "data": {
      "text/plain": [
       "married     27214\n",
       "single      12790\n",
       "divorced     5207\n",
       "Name: marital, dtype: int64"
      ]
     },
     "execution_count": 18,
     "metadata": {},
     "output_type": "execute_result"
    }
   ],
   "source": [
    "df['marital'].value_counts()"
   ]
  },
  {
   "cell_type": "code",
   "execution_count": 19,
   "metadata": {
    "ExecuteTime": {
     "end_time": "2021-01-07T18:48:01.985489Z",
     "start_time": "2021-01-07T18:48:01.836490Z"
    }
   },
   "outputs": [
    {
     "data": {
      "text/plain": [
       "array([1, 2, 0])"
      ]
     },
     "execution_count": 19,
     "metadata": {},
     "output_type": "execute_result"
    }
   ],
   "source": [
    "df['marital'] = le.fit_transform(df['marital'])\n",
    "df['marital'].unique()"
   ]
  },
  {
   "cell_type": "code",
   "execution_count": 20,
   "metadata": {
    "ExecuteTime": {
     "end_time": "2021-01-07T18:48:02.125498Z",
     "start_time": "2021-01-07T18:48:01.992500Z"
    }
   },
   "outputs": [
    {
     "data": {
      "text/plain": [
       "secondary    23202\n",
       "tertiary     13301\n",
       "primary       6851\n",
       "unknown       1857\n",
       "Name: education, dtype: int64"
      ]
     },
     "execution_count": 20,
     "metadata": {},
     "output_type": "execute_result"
    }
   ],
   "source": [
    "df['education'].value_counts()"
   ]
  },
  {
   "cell_type": "code",
   "execution_count": 21,
   "metadata": {
    "ExecuteTime": {
     "end_time": "2021-01-07T18:48:02.260516Z",
     "start_time": "2021-01-07T18:48:02.137498Z"
    }
   },
   "outputs": [
    {
     "data": {
      "text/plain": [
       "array([2, 1, 3, 0])"
      ]
     },
     "execution_count": 21,
     "metadata": {},
     "output_type": "execute_result"
    }
   ],
   "source": [
    "df['education'] = le.fit_transform(df['education'])\n",
    "df['education'].unique()"
   ]
  },
  {
   "cell_type": "code",
   "execution_count": 22,
   "metadata": {
    "ExecuteTime": {
     "end_time": "2021-01-07T18:48:02.446788Z",
     "start_time": "2021-01-07T18:48:02.268507Z"
    }
   },
   "outputs": [
    {
     "data": {
      "text/plain": [
       "no     44396\n",
       "yes      815\n",
       "Name: default, dtype: int64"
      ]
     },
     "execution_count": 22,
     "metadata": {},
     "output_type": "execute_result"
    }
   ],
   "source": [
    "df['default'].value_counts()"
   ]
  },
  {
   "cell_type": "code",
   "execution_count": 23,
   "metadata": {
    "ExecuteTime": {
     "end_time": "2021-01-07T18:48:02.571759Z",
     "start_time": "2021-01-07T18:48:02.468763Z"
    }
   },
   "outputs": [
    {
     "data": {
      "text/plain": [
       "array([0, 1])"
      ]
     },
     "execution_count": 23,
     "metadata": {},
     "output_type": "execute_result"
    }
   ],
   "source": [
    "df['default'] = le.fit_transform(df['default'])\n",
    "df['default'].unique()"
   ]
  },
  {
   "cell_type": "code",
   "execution_count": 24,
   "metadata": {
    "ExecuteTime": {
     "end_time": "2021-01-07T18:48:02.691771Z",
     "start_time": "2021-01-07T18:48:02.584778Z"
    }
   },
   "outputs": [
    {
     "data": {
      "text/plain": [
       "yes    25130\n",
       "no     20081\n",
       "Name: housing, dtype: int64"
      ]
     },
     "execution_count": 24,
     "metadata": {},
     "output_type": "execute_result"
    }
   ],
   "source": [
    "df['housing'].value_counts()"
   ]
  },
  {
   "cell_type": "code",
   "execution_count": 25,
   "metadata": {
    "ExecuteTime": {
     "end_time": "2021-01-07T18:48:02.843765Z",
     "start_time": "2021-01-07T18:48:02.700775Z"
    }
   },
   "outputs": [
    {
     "data": {
      "text/plain": [
       "array([1, 0])"
      ]
     },
     "execution_count": 25,
     "metadata": {},
     "output_type": "execute_result"
    }
   ],
   "source": [
    "df['housing'] = le.fit_transform(df['housing'])\n",
    "df['housing'].unique()"
   ]
  },
  {
   "cell_type": "code",
   "execution_count": 26,
   "metadata": {
    "ExecuteTime": {
     "end_time": "2021-01-07T18:48:02.956787Z",
     "start_time": "2021-01-07T18:48:02.850780Z"
    }
   },
   "outputs": [
    {
     "data": {
      "text/plain": [
       "no     37967\n",
       "yes     7244\n",
       "Name: loan, dtype: int64"
      ]
     },
     "execution_count": 26,
     "metadata": {},
     "output_type": "execute_result"
    }
   ],
   "source": [
    "df['loan'].value_counts()"
   ]
  },
  {
   "cell_type": "code",
   "execution_count": 27,
   "metadata": {
    "ExecuteTime": {
     "end_time": "2021-01-07T18:48:03.116764Z",
     "start_time": "2021-01-07T18:48:02.966800Z"
    }
   },
   "outputs": [
    {
     "data": {
      "text/plain": [
       "array([0, 1])"
      ]
     },
     "execution_count": 27,
     "metadata": {},
     "output_type": "execute_result"
    }
   ],
   "source": [
    "df['loan'] = le.fit_transform(df['loan'])\n",
    "df['loan'].unique()"
   ]
  },
  {
   "cell_type": "code",
   "execution_count": 28,
   "metadata": {
    "ExecuteTime": {
     "end_time": "2021-01-07T18:48:03.241774Z",
     "start_time": "2021-01-07T18:48:03.124768Z"
    }
   },
   "outputs": [
    {
     "data": {
      "text/plain": [
       "may    13766\n",
       "jul     6895\n",
       "aug     6247\n",
       "jun     5341\n",
       "nov     3970\n",
       "apr     2932\n",
       "feb     2649\n",
       "jan     1403\n",
       "oct      738\n",
       "sep      579\n",
       "mar      477\n",
       "dec      214\n",
       "Name: month, dtype: int64"
      ]
     },
     "execution_count": 28,
     "metadata": {},
     "output_type": "execute_result"
    }
   ],
   "source": [
    "df['month'].value_counts()"
   ]
  },
  {
   "cell_type": "code",
   "execution_count": 29,
   "metadata": {
    "ExecuteTime": {
     "end_time": "2021-01-07T18:48:03.379764Z",
     "start_time": "2021-01-07T18:48:03.254775Z"
    }
   },
   "outputs": [
    {
     "data": {
      "text/plain": [
       "array([ 8,  6,  5,  1, 10,  9,  2,  4,  3,  7,  0, 11])"
      ]
     },
     "execution_count": 29,
     "metadata": {},
     "output_type": "execute_result"
    }
   ],
   "source": [
    "df['month'] = le.fit_transform(df['month'])\n",
    "df['month'].unique()"
   ]
  },
  {
   "cell_type": "code",
   "execution_count": 30,
   "metadata": {
    "ExecuteTime": {
     "end_time": "2021-01-07T18:48:03.502292Z",
     "start_time": "2021-01-07T18:48:03.387775Z"
    }
   },
   "outputs": [
    {
     "data": {
      "text/plain": [
       "unknown    36959\n",
       "failure     4901\n",
       "other       1840\n",
       "success     1511\n",
       "Name: poutcome, dtype: int64"
      ]
     },
     "execution_count": 30,
     "metadata": {},
     "output_type": "execute_result"
    }
   ],
   "source": [
    "df['poutcome'].value_counts()"
   ]
  },
  {
   "cell_type": "code",
   "execution_count": 31,
   "metadata": {
    "ExecuteTime": {
     "end_time": "2021-01-07T18:48:03.623317Z",
     "start_time": "2021-01-07T18:48:03.514297Z"
    }
   },
   "outputs": [
    {
     "data": {
      "text/plain": [
       "array([3, 0, 1, 2])"
      ]
     },
     "execution_count": 31,
     "metadata": {},
     "output_type": "execute_result"
    }
   ],
   "source": [
    "df['poutcome'] = le.fit_transform(df['poutcome'])\n",
    "df['poutcome'].unique()"
   ]
  },
  {
   "cell_type": "code",
   "execution_count": 32,
   "metadata": {
    "ExecuteTime": {
     "end_time": "2021-01-07T18:48:03.727311Z",
     "start_time": "2021-01-07T18:48:03.632300Z"
    }
   },
   "outputs": [
    {
     "data": {
      "text/plain": [
       "no     39922\n",
       "yes     5289\n",
       "Name: Target, dtype: int64"
      ]
     },
     "execution_count": 32,
     "metadata": {},
     "output_type": "execute_result"
    }
   ],
   "source": [
    "df['Target'].value_counts()"
   ]
  },
  {
   "cell_type": "code",
   "execution_count": 33,
   "metadata": {
    "ExecuteTime": {
     "end_time": "2021-01-07T18:48:03.853313Z",
     "start_time": "2021-01-07T18:48:03.735306Z"
    }
   },
   "outputs": [
    {
     "data": {
      "text/plain": [
       "array([0, 1])"
      ]
     },
     "execution_count": 33,
     "metadata": {},
     "output_type": "execute_result"
    }
   ],
   "source": [
    "df['Target'] = le.fit_transform(df['Target'])\n",
    "df['Target'].unique()"
   ]
  },
  {
   "cell_type": "code",
   "execution_count": 34,
   "metadata": {
    "ExecuteTime": {
     "end_time": "2021-01-07T18:48:04.032288Z",
     "start_time": "2021-01-07T18:48:03.874288Z"
    }
   },
   "outputs": [
    {
     "data": {
      "text/html": [
       "<div>\n",
       "<style scoped>\n",
       "    .dataframe tbody tr th:only-of-type {\n",
       "        vertical-align: middle;\n",
       "    }\n",
       "\n",
       "    .dataframe tbody tr th {\n",
       "        vertical-align: top;\n",
       "    }\n",
       "\n",
       "    .dataframe thead th {\n",
       "        text-align: right;\n",
       "    }\n",
       "</style>\n",
       "<table border=\"1\" class=\"dataframe\">\n",
       "  <thead>\n",
       "    <tr style=\"text-align: right;\">\n",
       "      <th></th>\n",
       "      <th>age</th>\n",
       "      <th>job</th>\n",
       "      <th>marital</th>\n",
       "      <th>education</th>\n",
       "      <th>default</th>\n",
       "      <th>balance</th>\n",
       "      <th>housing</th>\n",
       "      <th>loan</th>\n",
       "      <th>contact</th>\n",
       "      <th>day</th>\n",
       "      <th>month</th>\n",
       "      <th>duration</th>\n",
       "      <th>campaign</th>\n",
       "      <th>pdays</th>\n",
       "      <th>previous</th>\n",
       "      <th>poutcome</th>\n",
       "      <th>Target</th>\n",
       "    </tr>\n",
       "  </thead>\n",
       "  <tbody>\n",
       "    <tr>\n",
       "      <th>0</th>\n",
       "      <td>58</td>\n",
       "      <td>management</td>\n",
       "      <td>1</td>\n",
       "      <td>2</td>\n",
       "      <td>0</td>\n",
       "      <td>2143</td>\n",
       "      <td>1</td>\n",
       "      <td>0</td>\n",
       "      <td>unknown</td>\n",
       "      <td>5</td>\n",
       "      <td>8</td>\n",
       "      <td>261</td>\n",
       "      <td>1</td>\n",
       "      <td>-1</td>\n",
       "      <td>0</td>\n",
       "      <td>3</td>\n",
       "      <td>0</td>\n",
       "    </tr>\n",
       "    <tr>\n",
       "      <th>1</th>\n",
       "      <td>44</td>\n",
       "      <td>technician</td>\n",
       "      <td>2</td>\n",
       "      <td>1</td>\n",
       "      <td>0</td>\n",
       "      <td>29</td>\n",
       "      <td>1</td>\n",
       "      <td>0</td>\n",
       "      <td>unknown</td>\n",
       "      <td>5</td>\n",
       "      <td>8</td>\n",
       "      <td>151</td>\n",
       "      <td>1</td>\n",
       "      <td>-1</td>\n",
       "      <td>0</td>\n",
       "      <td>3</td>\n",
       "      <td>0</td>\n",
       "    </tr>\n",
       "    <tr>\n",
       "      <th>2</th>\n",
       "      <td>33</td>\n",
       "      <td>entrepreneur</td>\n",
       "      <td>1</td>\n",
       "      <td>1</td>\n",
       "      <td>0</td>\n",
       "      <td>2</td>\n",
       "      <td>1</td>\n",
       "      <td>1</td>\n",
       "      <td>unknown</td>\n",
       "      <td>5</td>\n",
       "      <td>8</td>\n",
       "      <td>76</td>\n",
       "      <td>1</td>\n",
       "      <td>-1</td>\n",
       "      <td>0</td>\n",
       "      <td>3</td>\n",
       "      <td>0</td>\n",
       "    </tr>\n",
       "    <tr>\n",
       "      <th>3</th>\n",
       "      <td>47</td>\n",
       "      <td>blue-collar</td>\n",
       "      <td>1</td>\n",
       "      <td>3</td>\n",
       "      <td>0</td>\n",
       "      <td>1506</td>\n",
       "      <td>1</td>\n",
       "      <td>0</td>\n",
       "      <td>unknown</td>\n",
       "      <td>5</td>\n",
       "      <td>8</td>\n",
       "      <td>92</td>\n",
       "      <td>1</td>\n",
       "      <td>-1</td>\n",
       "      <td>0</td>\n",
       "      <td>3</td>\n",
       "      <td>0</td>\n",
       "    </tr>\n",
       "    <tr>\n",
       "      <th>4</th>\n",
       "      <td>33</td>\n",
       "      <td>unknown</td>\n",
       "      <td>2</td>\n",
       "      <td>3</td>\n",
       "      <td>0</td>\n",
       "      <td>1</td>\n",
       "      <td>0</td>\n",
       "      <td>0</td>\n",
       "      <td>unknown</td>\n",
       "      <td>5</td>\n",
       "      <td>8</td>\n",
       "      <td>198</td>\n",
       "      <td>1</td>\n",
       "      <td>-1</td>\n",
       "      <td>0</td>\n",
       "      <td>3</td>\n",
       "      <td>0</td>\n",
       "    </tr>\n",
       "  </tbody>\n",
       "</table>\n",
       "</div>"
      ],
      "text/plain": [
       "   age           job  marital  education  default  balance  housing  loan  \\\n",
       "0   58    management        1          2        0     2143        1     0   \n",
       "1   44    technician        2          1        0       29        1     0   \n",
       "2   33  entrepreneur        1          1        0        2        1     1   \n",
       "3   47   blue-collar        1          3        0     1506        1     0   \n",
       "4   33       unknown        2          3        0        1        0     0   \n",
       "\n",
       "   contact  day  month  duration  campaign  pdays  previous  poutcome  Target  \n",
       "0  unknown    5      8       261         1     -1         0         3       0  \n",
       "1  unknown    5      8       151         1     -1         0         3       0  \n",
       "2  unknown    5      8        76         1     -1         0         3       0  \n",
       "3  unknown    5      8        92         1     -1         0         3       0  \n",
       "4  unknown    5      8       198         1     -1         0         3       0  "
      ]
     },
     "execution_count": 34,
     "metadata": {},
     "output_type": "execute_result"
    }
   ],
   "source": [
    "df.head()"
   ]
  },
  {
   "cell_type": "markdown",
   "metadata": {},
   "source": [
    "Columns such as 'job' & 'contact' can be ignored as its got no significant bearing on the term deposit or 'Target' variable."
   ]
  },
  {
   "cell_type": "code",
   "execution_count": 35,
   "metadata": {
    "ExecuteTime": {
     "end_time": "2021-01-07T18:48:04.198868Z",
     "start_time": "2021-01-07T18:48:04.044296Z"
    }
   },
   "outputs": [
    {
     "name": "stdout",
     "output_type": "stream",
     "text": [
      "<class 'pandas.core.frame.DataFrame'>\n",
      "RangeIndex: 45211 entries, 0 to 45210\n",
      "Data columns (total 17 columns):\n",
      " #   Column     Non-Null Count  Dtype   \n",
      "---  ------     --------------  -----   \n",
      " 0   age        45211 non-null  int64   \n",
      " 1   job        45211 non-null  category\n",
      " 2   marital    45211 non-null  int32   \n",
      " 3   education  45211 non-null  int32   \n",
      " 4   default    45211 non-null  int32   \n",
      " 5   balance    45211 non-null  int64   \n",
      " 6   housing    45211 non-null  int32   \n",
      " 7   loan       45211 non-null  int32   \n",
      " 8   contact    45211 non-null  category\n",
      " 9   day        45211 non-null  int64   \n",
      " 10  month      45211 non-null  int32   \n",
      " 11  duration   45211 non-null  int64   \n",
      " 12  campaign   45211 non-null  int64   \n",
      " 13  pdays      45211 non-null  int64   \n",
      " 14  previous   45211 non-null  int64   \n",
      " 15  poutcome   45211 non-null  int32   \n",
      " 16  Target     45211 non-null  int32   \n",
      "dtypes: category(2), int32(8), int64(7)\n",
      "memory usage: 3.9 MB\n"
     ]
    }
   ],
   "source": [
    "df.info()"
   ]
  },
  {
   "cell_type": "code",
   "execution_count": 36,
   "metadata": {
    "ExecuteTime": {
     "end_time": "2021-01-07T18:48:04.436877Z",
     "start_time": "2021-01-07T18:48:04.208882Z"
    }
   },
   "outputs": [],
   "source": [
    "# Replacing the outliers values of the dataset with the respective mean of the column concerned.\n",
    "\n",
    "df['balance'] = np.where(df['balance'] > np.percentile(df['balance'], 75), df['balance'].mean(), df['balance'])\n",
    "\n",
    "df['duration'] = np.where(df['duration'] > np.percentile(df['duration'], 75), df['duration'].mean(), df['duration'])\n",
    "\n",
    "df['campaign'] = np.where(df['campaign'] > np.percentile(df['campaign'], 75), df['campaign'].mean(), df['campaign'])\n",
    "\n",
    "df['pdays'] = np.where(df['pdays'] > np.percentile(df['campaign'], 75), df['pdays'].mean(), df['pdays'])\n",
    "\n",
    "df['previous'] = np.where(df['previous'] > np.percentile(df['previous'], 75), df['previous'].mean(), df['previous'])"
   ]
  },
  {
   "cell_type": "code",
   "execution_count": 37,
   "metadata": {
    "ExecuteTime": {
     "end_time": "2021-01-07T18:48:06.383413Z",
     "start_time": "2021-01-07T18:48:04.452873Z"
    }
   },
   "outputs": [
    {
     "data": {
      "text/plain": [
       "(array([ 1,  2,  3,  4,  5,  6,  7,  8,  9, 10, 11, 12, 13, 14, 15]),\n",
       " <a list of 15 Text xticklabel objects>)"
      ]
     },
     "execution_count": 37,
     "metadata": {},
     "output_type": "execute_result"
    },
    {
     "data": {
      "image/png": "[encoded data removed]",
      "text/plain": [
       "<Figure size 432x288 with 1 Axes>"
      ]
     },
     "metadata": {
      "needs_background": "light"
     },
     "output_type": "display_data"
    }
   ],
   "source": [
    "# Verify whether any outlier data is observed using boxplot\n",
    "\n",
    "df.boxplot()\n",
    "plt.xticks(rotation=70)"
   ]
  },
  {
   "cell_type": "markdown",
   "metadata": {},
   "source": [
    "Only the negative balance as outlier is observed in 'balance' column.\n",
    "\n",
    "'Age' values having outliers are kept as it is."
   ]
  },
  {
   "cell_type": "code",
   "execution_count": 38,
   "metadata": {
    "ExecuteTime": {
     "end_time": "2021-01-07T18:48:10.414611Z",
     "start_time": "2021-01-07T18:48:06.392415Z"
    }
   },
   "outputs": [
    {
     "data": {
      "text/plain": [
       "<matplotlib.axes._subplots.AxesSubplot at 0x2b3ba939e48>"
      ]
     },
     "execution_count": 38,
     "metadata": {},
     "output_type": "execute_result"
    },
    {
     "data": {
      "image/png": "[encoded data removed]",
      "text/plain": [
       "<Figure size 1080x720 with 2 Axes>"
      ]
     },
     "metadata": {
      "needs_background": "light"
     },
     "output_type": "display_data"
    }
   ],
   "source": [
    "# Checking the correlation among the various feature variables.\n",
    "\n",
    "plt.figure(figsize=(15,10))\n",
    "sns.heatmap(df.corr(), annot=True)"
   ]
  },
  {
   "cell_type": "markdown",
   "metadata": {},
   "source": [
    "The columns 'pdays' and 'previous' are highly correlated."
   ]
  },
  {
   "cell_type": "markdown",
   "metadata": {},
   "source": [
    "Analysis Summary :\n",
    "    \n",
    "    Features like 'job', 'education', 'contact' have many 'unknown' values. Hence they are ignored from further analysis of model building.\n",
    "    \n",
    "    Feature 'poutcome' also has many 'unknown' values but it is retained as the outcome of previous campaign could be useful in model building.\n",
    "    \n",
    "    The 'duration' feature is discarded as it is only a benchmark feature not to be evaluated during model building.\n",
    "    \n",
    "    The features 'pdays' and 'previous' are highly correlated and hence are also not used.\n",
    "    \n",
    "    Other features like 'day' and 'month' do not have any impact on possibility of opening a term deposit account and hence are also ignored from further model building excercise."
   ]
  },
  {
   "cell_type": "code",
   "execution_count": 39,
   "metadata": {
    "ExecuteTime": {
     "end_time": "2021-01-07T18:48:10.473612Z",
     "start_time": "2021-01-07T18:48:10.421630Z"
    }
   },
   "outputs": [
    {
     "data": {
      "text/html": [
       "<div>\n",
       "<style scoped>\n",
       "    .dataframe tbody tr th:only-of-type {\n",
       "        vertical-align: middle;\n",
       "    }\n",
       "\n",
       "    .dataframe tbody tr th {\n",
       "        vertical-align: top;\n",
       "    }\n",
       "\n",
       "    .dataframe thead th {\n",
       "        text-align: right;\n",
       "    }\n",
       "</style>\n",
       "<table border=\"1\" class=\"dataframe\">\n",
       "  <thead>\n",
       "    <tr style=\"text-align: right;\">\n",
       "      <th></th>\n",
       "      <th>age</th>\n",
       "      <th>marital</th>\n",
       "      <th>default</th>\n",
       "      <th>balance</th>\n",
       "      <th>housing</th>\n",
       "      <th>loan</th>\n",
       "      <th>campaign</th>\n",
       "      <th>poutcome</th>\n",
       "      <th>Target</th>\n",
       "    </tr>\n",
       "  </thead>\n",
       "  <tbody>\n",
       "    <tr>\n",
       "      <th>0</th>\n",
       "      <td>58</td>\n",
       "      <td>1</td>\n",
       "      <td>0</td>\n",
       "      <td>1362.272058</td>\n",
       "      <td>1</td>\n",
       "      <td>0</td>\n",
       "      <td>1.0</td>\n",
       "      <td>3</td>\n",
       "      <td>0</td>\n",
       "    </tr>\n",
       "    <tr>\n",
       "      <th>1</th>\n",
       "      <td>44</td>\n",
       "      <td>2</td>\n",
       "      <td>0</td>\n",
       "      <td>29.000000</td>\n",
       "      <td>1</td>\n",
       "      <td>0</td>\n",
       "      <td>1.0</td>\n",
       "      <td>3</td>\n",
       "      <td>0</td>\n",
       "    </tr>\n",
       "    <tr>\n",
       "      <th>2</th>\n",
       "      <td>33</td>\n",
       "      <td>1</td>\n",
       "      <td>0</td>\n",
       "      <td>2.000000</td>\n",
       "      <td>1</td>\n",
       "      <td>1</td>\n",
       "      <td>1.0</td>\n",
       "      <td>3</td>\n",
       "      <td>0</td>\n",
       "    </tr>\n",
       "    <tr>\n",
       "      <th>3</th>\n",
       "      <td>47</td>\n",
       "      <td>1</td>\n",
       "      <td>0</td>\n",
       "      <td>1362.272058</td>\n",
       "      <td>1</td>\n",
       "      <td>0</td>\n",
       "      <td>1.0</td>\n",
       "      <td>3</td>\n",
       "      <td>0</td>\n",
       "    </tr>\n",
       "    <tr>\n",
       "      <th>4</th>\n",
       "      <td>33</td>\n",
       "      <td>2</td>\n",
       "      <td>0</td>\n",
       "      <td>1.000000</td>\n",
       "      <td>0</td>\n",
       "      <td>0</td>\n",
       "      <td>1.0</td>\n",
       "      <td>3</td>\n",
       "      <td>0</td>\n",
       "    </tr>\n",
       "  </tbody>\n",
       "</table>\n",
       "</div>"
      ],
      "text/plain": [
       "   age  marital  default      balance  housing  loan  campaign  poutcome  \\\n",
       "0   58        1        0  1362.272058        1     0       1.0         3   \n",
       "1   44        2        0    29.000000        1     0       1.0         3   \n",
       "2   33        1        0     2.000000        1     1       1.0         3   \n",
       "3   47        1        0  1362.272058        1     0       1.0         3   \n",
       "4   33        2        0     1.000000        0     0       1.0         3   \n",
       "\n",
       "   Target  \n",
       "0       0  \n",
       "1       0  \n",
       "2       0  \n",
       "3       0  \n",
       "4       0  "
      ]
     },
     "execution_count": 39,
     "metadata": {},
     "output_type": "execute_result"
    }
   ],
   "source": [
    "df1 = df.drop(['job', 'education', 'contact', 'duration', 'pdays', 'previous', 'day', 'month'], axis=1)\n",
    "\n",
    "df1.head()"
   ]
  },
  {
   "cell_type": "code",
   "execution_count": 40,
   "metadata": {
    "ExecuteTime": {
     "end_time": "2021-01-07T18:50:48.819178Z",
     "start_time": "2021-01-07T18:48:10.481606Z"
    }
   },
   "outputs": [
    {
     "data": {
      "text/plain": [
       "<seaborn.axisgrid.PairGrid at 0x2b3bb236748>"
      ]
     },
     "execution_count": 40,
     "metadata": {},
     "output_type": "execute_result"
    },
    {
     "data": {
      "image/png": "[encoded data removed]",
      "text/plain": [
       "<Figure size 1620x1620 with 90 Axes>"
      ]
     },
     "metadata": {
      "needs_background": "light"
     },
     "output_type": "display_data"
    }
   ],
   "source": [
    "sns.pairplot(df1)"
   ]
  },
  {
   "cell_type": "code",
   "execution_count": 41,
   "metadata": {
    "ExecuteTime": {
     "end_time": "2021-01-07T18:50:48.860185Z",
     "start_time": "2021-01-07T18:50:48.833178Z"
    }
   },
   "outputs": [],
   "source": [
    "# Split the dataset into X and y for IDV and DV resp.\n",
    "\n",
    "X = df1.drop(['Target'], axis=1)\n",
    "y = df1['Target']"
   ]
  },
  {
   "cell_type": "code",
   "execution_count": 42,
   "metadata": {
    "ExecuteTime": {
     "end_time": "2021-01-07T18:50:49.046181Z",
     "start_time": "2021-01-07T18:50:48.872182Z"
    }
   },
   "outputs": [
    {
     "data": {
      "text/plain": [
       "(45211, 8)"
      ]
     },
     "execution_count": 42,
     "metadata": {},
     "output_type": "execute_result"
    }
   ],
   "source": [
    "X.shape"
   ]
  },
  {
   "cell_type": "code",
   "execution_count": 43,
   "metadata": {
    "ExecuteTime": {
     "end_time": "2021-01-07T18:50:49.157181Z",
     "start_time": "2021-01-07T18:50:49.055182Z"
    }
   },
   "outputs": [
    {
     "data": {
      "text/plain": [
       "(45211,)"
      ]
     },
     "execution_count": 43,
     "metadata": {},
     "output_type": "execute_result"
    }
   ],
   "source": [
    "y.shape"
   ]
  },
  {
   "cell_type": "code",
   "execution_count": 44,
   "metadata": {
    "ExecuteTime": {
     "end_time": "2021-01-07T18:50:49.341203Z",
     "start_time": "2021-01-07T18:50:49.166183Z"
    }
   },
   "outputs": [],
   "source": [
    "# Using train_test_split\n",
    "\n",
    "X_train, X_test, y_train, y_test = train_test_split(X, y, test_size=0.3, random_state=1)"
   ]
  },
  {
   "cell_type": "code",
   "execution_count": 45,
   "metadata": {
    "ExecuteTime": {
     "end_time": "2021-01-07T18:50:49.418202Z",
     "start_time": "2021-01-07T18:50:49.350182Z"
    }
   },
   "outputs": [
    {
     "data": {
      "text/plain": [
       "(31647, 8)"
      ]
     },
     "execution_count": 45,
     "metadata": {},
     "output_type": "execute_result"
    }
   ],
   "source": [
    "X_train.shape"
   ]
  },
  {
   "cell_type": "code",
   "execution_count": 46,
   "metadata": {
    "ExecuteTime": {
     "end_time": "2021-01-07T18:50:49.576187Z",
     "start_time": "2021-01-07T18:50:49.427180Z"
    }
   },
   "outputs": [
    {
     "data": {
      "text/plain": [
       "(31647,)"
      ]
     },
     "execution_count": 46,
     "metadata": {},
     "output_type": "execute_result"
    }
   ],
   "source": [
    "y_train.shape"
   ]
  },
  {
   "cell_type": "code",
   "execution_count": 47,
   "metadata": {
    "ExecuteTime": {
     "end_time": "2021-01-07T18:50:49.682185Z",
     "start_time": "2021-01-07T18:50:49.586181Z"
    }
   },
   "outputs": [],
   "source": [
    "# Using StandardScalar to bring down the variation in IDV dataset.\n",
    "\n",
    "from sklearn.preprocessing import StandardScaler\n",
    "scalar = StandardScaler()"
   ]
  },
  {
   "cell_type": "code",
   "execution_count": 48,
   "metadata": {
    "ExecuteTime": {
     "end_time": "2021-01-07T18:50:49.852206Z",
     "start_time": "2021-01-07T18:50:49.693186Z"
    }
   },
   "outputs": [],
   "source": [
    "X_train_scalar = scalar.fit_transform(X_train)\n",
    "X_test_scalar = scalar.fit_transform(X_test)"
   ]
  },
  {
   "cell_type": "markdown",
   "metadata": {
    "ExecuteTime": {
     "end_time": "2021-01-07T13:05:13.730607Z",
     "start_time": "2021-01-07T13:05:13.717612Z"
    }
   },
   "source": [
    "__Building Models__"
   ]
  },
  {
   "cell_type": "code",
   "execution_count": 49,
   "metadata": {
    "ExecuteTime": {
     "end_time": "2021-01-07T18:50:50.059176Z",
     "start_time": "2021-01-07T18:50:49.859186Z"
    }
   },
   "outputs": [],
   "source": [
    "# Logistic Regression\n",
    "\n",
    "from sklearn.linear_model import LogisticRegression\n",
    "lr = LogisticRegression()"
   ]
  },
  {
   "cell_type": "code",
   "execution_count": 50,
   "metadata": {
    "ExecuteTime": {
     "end_time": "2021-01-07T18:50:50.232178Z",
     "start_time": "2021-01-07T18:50:50.069185Z"
    }
   },
   "outputs": [],
   "source": [
    "lr.fit(X_train_scalar, y_train)\n",
    "y_pred_lr = lr.predict(X_test_scalar)"
   ]
  },
  {
   "cell_type": "code",
   "execution_count": 51,
   "metadata": {
    "ExecuteTime": {
     "end_time": "2021-01-07T18:50:50.255193Z",
     "start_time": "2021-01-07T18:50:50.242185Z"
    }
   },
   "outputs": [],
   "source": [
    "from sklearn.metrics import confusion_matrix, accuracy_score, precision_score, roc_auc_score, classification_report"
   ]
  },
  {
   "cell_type": "code",
   "execution_count": 52,
   "metadata": {
    "ExecuteTime": {
     "end_time": "2021-01-07T18:50:50.464207Z",
     "start_time": "2021-01-07T18:50:50.266186Z"
    }
   },
   "outputs": [
    {
     "name": "stdout",
     "output_type": "stream",
     "text": [
      "------------Logistic Regression------------\n",
      "\n",
      "The accuracy score of this model is : 0.89\n",
      "\n",
      "Confusion Matrix :\n",
      "\n",
      "[[12013     0]\n",
      " [ 1551     0]]\n",
      "\n",
      "Classification Report : \n",
      "\n",
      "              precision    recall  f1-score   support\n",
      "\n",
      "           0       0.89      1.00      0.94     12013\n",
      "           1       0.00      0.00      0.00      1551\n",
      "\n",
      "    accuracy                           0.89     13564\n",
      "   macro avg       0.44      0.50      0.47     13564\n",
      "weighted avg       0.78      0.89      0.83     13564\n",
      "\n"
     ]
    }
   ],
   "source": [
    "print('------------Logistic Regression------------\\n')\n",
    "print('The accuracy score of this model is : {:.2f}'.format(accuracy_score(y_test, y_pred_lr)))\n",
    "print('\\nConfusion Matrix :\\n')\n",
    "print(confusion_matrix(y_test, y_pred_lr))\n",
    "print('\\nClassification Report : \\n')\n",
    "print(classification_report(y_test, y_pred_lr))"
   ]
  },
  {
   "cell_type": "code",
   "execution_count": 53,
   "metadata": {
    "ExecuteTime": {
     "end_time": "2021-01-07T18:50:50.492177Z",
     "start_time": "2021-01-07T18:50:50.473184Z"
    }
   },
   "outputs": [],
   "source": [
    "# Naive Bayes\n",
    "\n",
    "from sklearn.naive_bayes import GaussianNB\n",
    "gNB = GaussianNB()"
   ]
  },
  {
   "cell_type": "code",
   "execution_count": 54,
   "metadata": {
    "ExecuteTime": {
     "end_time": "2021-01-07T18:50:50.644176Z",
     "start_time": "2021-01-07T18:50:50.501183Z"
    }
   },
   "outputs": [],
   "source": [
    "gNB.fit(X_train_scalar, y_train)\n",
    "y_pred_NB = gNB.predict(X_test_scalar)"
   ]
  },
  {
   "cell_type": "code",
   "execution_count": 55,
   "metadata": {
    "ExecuteTime": {
     "end_time": "2021-01-07T18:50:50.793197Z",
     "start_time": "2021-01-07T18:50:50.651218Z"
    }
   },
   "outputs": [
    {
     "name": "stdout",
     "output_type": "stream",
     "text": [
      "------------Naive Bayes------------\n",
      "\n",
      "The accuracy score of this model is : 0.88\n",
      "\n",
      "Confusion Matrix :\n",
      "\n",
      "[[11672   341]\n",
      " [ 1345   206]]\n",
      "\n",
      "Classification Report : \n",
      "\n",
      "              precision    recall  f1-score   support\n",
      "\n",
      "           0       0.90      0.97      0.93     12013\n",
      "           1       0.38      0.13      0.20      1551\n",
      "\n",
      "    accuracy                           0.88     13564\n",
      "   macro avg       0.64      0.55      0.56     13564\n",
      "weighted avg       0.84      0.88      0.85     13564\n",
      "\n"
     ]
    }
   ],
   "source": [
    "print('------------Naive Bayes------------\\n')\n",
    "print('The accuracy score of this model is : {:.2f}'.format(accuracy_score(y_test, y_pred_NB)))\n",
    "print('\\nConfusion Matrix :\\n')\n",
    "print(confusion_matrix(y_test, y_pred_NB))\n",
    "print('\\nClassification Report : \\n')\n",
    "print(classification_report(y_test, y_pred_NB))"
   ]
  },
  {
   "cell_type": "code",
   "execution_count": 56,
   "metadata": {
    "ExecuteTime": {
     "end_time": "2021-01-07T18:50:50.911188Z",
     "start_time": "2021-01-07T18:50:50.803181Z"
    }
   },
   "outputs": [],
   "source": [
    "# K-Nearest Neighbor\n",
    "\n",
    "from sklearn.neighbors import KNeighborsClassifier\n",
    "knn = KNeighborsClassifier(n_neighbors=3)\n",
    "\n",
    "from sklearn.metrics import mean_squared_error"
   ]
  },
  {
   "cell_type": "code",
   "execution_count": 57,
   "metadata": {
    "ExecuteTime": {
     "end_time": "2021-01-07T18:50:59.519178Z",
     "start_time": "2021-01-07T18:50:50.922188Z"
    }
   },
   "outputs": [],
   "source": [
    "knn.fit(X_train_scalar, y_train)\n",
    "y_pred_knn = knn.predict(X_test_scalar)"
   ]
  },
  {
   "cell_type": "code",
   "execution_count": 58,
   "metadata": {
    "ExecuteTime": {
     "end_time": "2021-01-07T18:50:59.650178Z",
     "start_time": "2021-01-07T18:50:59.525177Z"
    }
   },
   "outputs": [
    {
     "name": "stdout",
     "output_type": "stream",
     "text": [
      "------------K-Nearest Neighbor------------\n",
      "\n",
      "The accuracy score of this model is : 0.87\n",
      "\n",
      "Confusion Matrix :\n",
      "\n",
      "[[11520   493]\n",
      " [ 1225   326]]\n",
      "\n",
      "Classification Report : \n",
      "\n",
      "              precision    recall  f1-score   support\n",
      "\n",
      "           0       0.90      0.96      0.93     12013\n",
      "           1       0.40      0.21      0.28      1551\n",
      "\n",
      "    accuracy                           0.87     13564\n",
      "   macro avg       0.65      0.58      0.60     13564\n",
      "weighted avg       0.85      0.87      0.86     13564\n",
      "\n"
     ]
    }
   ],
   "source": [
    "print('------------K-Nearest Neighbor------------\\n')\n",
    "print('The accuracy score of this model is : {:.2f}'.format(accuracy_score(y_test, y_pred_knn)))\n",
    "print('\\nConfusion Matrix :\\n')\n",
    "print(confusion_matrix(y_test, y_pred_knn))\n",
    "print('\\nClassification Report : \\n')\n",
    "print(classification_report(y_test, y_pred_knn))"
   ]
  },
  {
   "cell_type": "code",
   "execution_count": 59,
   "metadata": {
    "ExecuteTime": {
     "end_time": "2021-01-07T18:50:59.666188Z",
     "start_time": "2021-01-07T18:50:59.657188Z"
    }
   },
   "outputs": [],
   "source": [
    "# Finding the optimum k-value\n",
    "\n",
    "# def knn_model():\n",
    "    \n",
    "#     model_acc = []\n",
    "#     k_value = []\n",
    "#     m_se = []\n",
    "    \n",
    "    \n",
    "#     for i in range(1,75):\n",
    "#         knn = KNeighborsClassifier(n_neighbors=i)\n",
    "        \n",
    "#         knn.fit(X_train_scalar, y_train)\n",
    "#         y_pred_knn = knn.predict(X_test_scalar)\n",
    "        \n",
    "#         score = accuracy_score(y_test, y_pred_knn)\n",
    "#         mse = mean_squared_error(y_test, y_pred_knn)\n",
    "        \n",
    "#         model_acc.append(score)\n",
    "#         k_value.append(k_value)\n",
    "#         m_se.append(mse)\n",
    "        \n",
    "#         print('With k-value as : ', i)\n",
    "#         print('Model Accuracy : ', score)\n",
    "#         print('Mean Squared Error : ', mse)\n",
    "#         print('\\n')\n",
    "        \n",
    "\n",
    "#     plt.plot(k_value, model_acc)\n",
    "#     plt.title('K-Value vs Model Accuracy')\n",
    "#     plt.xlabel('K-Value')\n",
    "#     plt.ylabel('Model Accuracy')\n",
    "#     plt.show()\n",
    "\n",
    "# knn_model()"
   ]
  },
  {
   "cell_type": "code",
   "execution_count": 60,
   "metadata": {
    "ExecuteTime": {
     "end_time": "2021-01-07T19:50:02.787030Z",
     "start_time": "2021-01-07T19:50:02.778029Z"
    }
   },
   "outputs": [],
   "source": [
    "# Using SVC\n",
    "\n",
    "from sklearn.svm import SVC\n",
    "svc = SVC()"
   ]
  },
  {
   "cell_type": "code",
   "execution_count": 61,
   "metadata": {
    "ExecuteTime": {
     "end_time": "2021-01-07T19:52:52.991726Z",
     "start_time": "2021-01-07T19:50:56.581480Z"
    }
   },
   "outputs": [],
   "source": [
    "svc.fit(X_train_scalar, y_train)\n",
    "y_pred_svc = svc.predict(X_test_scalar)"
   ]
  },
  {
   "cell_type": "code",
   "execution_count": 62,
   "metadata": {
    "ExecuteTime": {
     "end_time": "2021-01-07T19:53:59.595402Z",
     "start_time": "2021-01-07T19:53:59.504406Z"
    }
   },
   "outputs": [
    {
     "name": "stdout",
     "output_type": "stream",
     "text": [
      "------------SVC------------\n",
      "\n",
      "The accuracy score of this model is : 0.89\n",
      "\n",
      "Confusion Matrix :\n",
      "\n",
      "[[11846   167]\n",
      " [ 1304   247]]\n",
      "\n",
      "Classification Report : \n",
      "\n",
      "              precision    recall  f1-score   support\n",
      "\n",
      "           0       0.90      0.99      0.94     12013\n",
      "           1       0.60      0.16      0.25      1551\n",
      "\n",
      "    accuracy                           0.89     13564\n",
      "   macro avg       0.75      0.57      0.60     13564\n",
      "weighted avg       0.87      0.89      0.86     13564\n",
      "\n"
     ]
    }
   ],
   "source": [
    "print('------------SVC------------\\n')\n",
    "print('The accuracy score of this model is : {:.2f}'.format(accuracy_score(y_test, y_pred_svc)))\n",
    "print('\\nConfusion Matrix :\\n')\n",
    "print(confusion_matrix(y_test, y_pred_svc))\n",
    "print('\\nClassification Report : \\n')\n",
    "print(classification_report(y_test, y_pred_svc))"
   ]
  },
  {
   "cell_type": "markdown",
   "metadata": {},
   "source": [
    "__Ensemble Model__"
   ]
  },
  {
   "cell_type": "code",
   "execution_count": 63,
   "metadata": {
    "ExecuteTime": {
     "end_time": "2021-01-08T03:59:42.393534Z",
     "start_time": "2021-01-08T03:59:42.381557Z"
    }
   },
   "outputs": [],
   "source": [
    "# Using Decision Tree\n",
    "\n",
    "from sklearn.tree import DecisionTreeClassifier\n",
    "\n",
    "dtree = DecisionTreeClassifier(random_state=1)"
   ]
  },
  {
   "cell_type": "code",
   "execution_count": 64,
   "metadata": {
    "ExecuteTime": {
     "end_time": "2021-01-08T04:03:46.093956Z",
     "start_time": "2021-01-08T04:03:45.513474Z"
    }
   },
   "outputs": [],
   "source": [
    "dtree.fit(X_train_scalar, y_train)\n",
    "y_pred_dtree = dtree.predict(X_test_scalar)"
   ]
  },
  {
   "cell_type": "code",
   "execution_count": 65,
   "metadata": {
    "ExecuteTime": {
     "end_time": "2021-01-08T04:04:35.385384Z",
     "start_time": "2021-01-08T04:04:35.178378Z"
    }
   },
   "outputs": [
    {
     "name": "stdout",
     "output_type": "stream",
     "text": [
      "------------Decision Tree------------\n",
      "\n",
      "The accuracy score of this model is : 0.83\n",
      "\n",
      "Confusion Matrix :\n",
      "\n",
      "[[10946  1067]\n",
      " [ 1208   343]]\n",
      "\n",
      "Classification Report : \n",
      "\n",
      "              precision    recall  f1-score   support\n",
      "\n",
      "           0       0.90      0.91      0.91     12013\n",
      "           1       0.24      0.22      0.23      1551\n",
      "\n",
      "    accuracy                           0.83     13564\n",
      "   macro avg       0.57      0.57      0.57     13564\n",
      "weighted avg       0.83      0.83      0.83     13564\n",
      "\n"
     ]
    }
   ],
   "source": [
    "print('------------Decision Tree------------\\n')\n",
    "print('The accuracy score of this model is : {:.2f}'.format(accuracy_score(y_test, y_pred_dtree)))\n",
    "print('\\nConfusion Matrix :\\n')\n",
    "print(confusion_matrix(y_test, y_pred_dtree))\n",
    "print('\\nClassification Report : \\n')\n",
    "print(classification_report(y_test, y_pred_dtree))"
   ]
  },
  {
   "cell_type": "code",
   "execution_count": 73,
   "metadata": {
    "ExecuteTime": {
     "end_time": "2021-01-08T04:37:47.949788Z",
     "start_time": "2021-01-08T04:37:47.788790Z"
    }
   },
   "outputs": [
    {
     "data": {
      "text/html": [
       "<div>\n",
       "<style scoped>\n",
       "    .dataframe tbody tr th:only-of-type {\n",
       "        vertical-align: middle;\n",
       "    }\n",
       "\n",
       "    .dataframe tbody tr th {\n",
       "        vertical-align: top;\n",
       "    }\n",
       "\n",
       "    .dataframe thead th {\n",
       "        text-align: right;\n",
       "    }\n",
       "</style>\n",
       "<table border=\"1\" class=\"dataframe\">\n",
       "  <thead>\n",
       "    <tr style=\"text-align: right;\">\n",
       "      <th></th>\n",
       "      <th>0</th>\n",
       "    </tr>\n",
       "  </thead>\n",
       "  <tbody>\n",
       "    <tr>\n",
       "      <th>default</th>\n",
       "      <td>0.004638</td>\n",
       "    </tr>\n",
       "    <tr>\n",
       "      <th>housing</th>\n",
       "      <td>0.022778</td>\n",
       "    </tr>\n",
       "    <tr>\n",
       "      <th>loan</th>\n",
       "      <td>0.023793</td>\n",
       "    </tr>\n",
       "    <tr>\n",
       "      <th>marital</th>\n",
       "      <td>0.041738</td>\n",
       "    </tr>\n",
       "    <tr>\n",
       "      <th>campaign</th>\n",
       "      <td>0.083583</td>\n",
       "    </tr>\n",
       "    <tr>\n",
       "      <th>poutcome</th>\n",
       "      <td>0.129000</td>\n",
       "    </tr>\n",
       "    <tr>\n",
       "      <th>age</th>\n",
       "      <td>0.243917</td>\n",
       "    </tr>\n",
       "    <tr>\n",
       "      <th>balance</th>\n",
       "      <td>0.450553</td>\n",
       "    </tr>\n",
       "  </tbody>\n",
       "</table>\n",
       "</div>"
      ],
      "text/plain": [
       "                 0\n",
       "default   0.004638\n",
       "housing   0.022778\n",
       "loan      0.023793\n",
       "marital   0.041738\n",
       "campaign  0.083583\n",
       "poutcome  0.129000\n",
       "age       0.243917\n",
       "balance   0.450553"
      ]
     },
     "execution_count": 73,
     "metadata": {},
     "output_type": "execute_result"
    }
   ],
   "source": [
    "# Checking feature Importance for Decision Tree\n",
    "\n",
    "f_cols = df1.drop(['Target'], axis=1)\n",
    "\n",
    "f_cols_dict = dict(zip(f_cols, dtree.feature_importances_))\n",
    "f_cols_dict = pd.DataFrame.from_dict(f_cols_dict, orient='index')\n",
    "f_cols_dict.sort_values(by=0)"
   ]
  },
  {
   "cell_type": "code",
   "execution_count": 74,
   "metadata": {
    "ExecuteTime": {
     "end_time": "2021-01-08T05:15:53.472943Z",
     "start_time": "2021-01-08T05:15:53.344928Z"
    }
   },
   "outputs": [],
   "source": [
    "# Pruning the Decision Tree\n",
    "\n",
    "dtreeR = DecisionTreeClassifier(max_depth=3, random_state=1)\n",
    "dtreeR.fit(X_train_scalar, y_train)\n",
    "y_pred_dtreeR = dtreeR.predict(X_test_scalar)"
   ]
  },
  {
   "cell_type": "code",
   "execution_count": 75,
   "metadata": {
    "ExecuteTime": {
     "end_time": "2021-01-08T05:17:27.778932Z",
     "start_time": "2021-01-08T05:17:27.562934Z"
    }
   },
   "outputs": [
    {
     "name": "stdout",
     "output_type": "stream",
     "text": [
      "------------Decision Tree post pruning------------\n",
      "\n",
      "The accuracy score of this model is : 0.90\n",
      "\n",
      "Confusion Matrix :\n",
      "\n",
      "[[11827   186]\n",
      " [ 1237   314]]\n",
      "\n",
      "Classification Report : \n",
      "\n",
      "              precision    recall  f1-score   support\n",
      "\n",
      "           0       0.91      0.98      0.94     12013\n",
      "           1       0.63      0.20      0.31      1551\n",
      "\n",
      "    accuracy                           0.90     13564\n",
      "   macro avg       0.77      0.59      0.62     13564\n",
      "weighted avg       0.87      0.90      0.87     13564\n",
      "\n"
     ]
    }
   ],
   "source": [
    "print('------------Decision Tree post pruning------------\\n')\n",
    "print('The accuracy score of this model is : {:.2f}'.format(accuracy_score(y_test, y_pred_dtreeR)))\n",
    "print('\\nConfusion Matrix :\\n')\n",
    "print(confusion_matrix(y_test, y_pred_dtreeR))\n",
    "print('\\nClassification Report : \\n')\n",
    "print(classification_report(y_test, y_pred_dtreeR))"
   ]
  },
  {
   "cell_type": "code",
   "execution_count": 79,
   "metadata": {
    "ExecuteTime": {
     "end_time": "2021-01-08T05:25:57.890233Z",
     "start_time": "2021-01-08T05:25:57.872227Z"
    }
   },
   "outputs": [
    {
     "data": {
      "text/plain": [
       "Index(['age', 'marital', 'default', 'balance', 'housing', 'loan', 'campaign',\n",
       "       'poutcome'],\n",
       "      dtype='object')"
      ]
     },
     "execution_count": 79,
     "metadata": {},
     "output_type": "execute_result"
    }
   ],
   "source": [
    "f_cols.columns"
   ]
  },
  {
   "cell_type": "code",
   "execution_count": 80,
   "metadata": {
    "ExecuteTime": {
     "end_time": "2021-01-08T05:27:08.219487Z",
     "start_time": "2021-01-08T05:27:08.171489Z"
    }
   },
   "outputs": [],
   "source": [
    "from sklearn import tree\n",
    "\n",
    "with open('dtreeR.dot', 'w') as f:\n",
    "    f = tree.export_graphviz(dtreeR, feature_names=['age', 'marital', 'default', 'balance', 'housing', 'loan', 'campaign', 'poutcome'], out_file=f);"
   ]
  },
  {
   "cell_type": "code",
   "execution_count": 82,
   "metadata": {
    "ExecuteTime": {
     "end_time": "2021-01-08T05:29:22.246616Z",
     "start_time": "2021-01-08T05:29:18.134952Z"
    }
   },
   "outputs": [
    {
     "data": {
      "image/svg+xml": [
       "<?xml version=\"1.0\" encoding=\"UTF-8\" standalone=\"no\"?>\r\n",
       "<!DOCTYPE svg PUBLIC \"-//W3C//DTD SVG 1.1//EN\"\r\n",
       " \"http://www.w3.org/Graphics/SVG/1.1/DTD/svg11.dtd\">\r\n",
       "<!-- Generated by graphviz version 2.38.0 (20140413.2041)\r\n",
       " -->\r\n",
       "<!-- Title: Tree Pages: 1 -->\r\n",
       "<svg width=\"1099pt\" height=\"373pt\"\r\n",
       " viewBox=\"0.00 0.00 1098.50 373.00\" xmlns=\"http://www.w3.org/2000/svg\" xmlns:xlink=\"http://www.w3.org/1999/xlink\">\r\n",
       "<g id=\"graph0\" class=\"graph\" transform=\"scale(1 1) rotate(0) translate(4 369)\">\r\n",
       "<title>Tree</title>\r\n",
       "<polygon fill=\"white\" stroke=\"none\" points=\"-4,4 -4,-369 1094.5,-369 1094.5,4 -4,4\"/>\r\n",
       "<!-- 0 -->\r\n",
       "<g id=\"node1\" class=\"node\"><title>0</title>\r\n",
       "<polygon fill=\"none\" stroke=\"black\" points=\"609.5,-365 471.5,-365 471.5,-297 609.5,-297 609.5,-365\"/>\r\n",
       "<text text-anchor=\"middle\" x=\"540.5\" y=\"-349.8\" font-family=\"Times New Roman,serif\" font-size=\"14.00\">poutcome &lt;= &#45;0.063</text>\r\n",
       "<text text-anchor=\"middle\" x=\"540.5\" y=\"-334.8\" font-family=\"Times New Roman,serif\" font-size=\"14.00\">gini = 0.208</text>\r\n",
       "<text text-anchor=\"middle\" x=\"540.5\" y=\"-319.8\" font-family=\"Times New Roman,serif\" font-size=\"14.00\">samples = 31647</text>\r\n",
       "<text text-anchor=\"middle\" x=\"540.5\" y=\"-304.8\" font-family=\"Times New Roman,serif\" font-size=\"14.00\">value = [27909, 3738]</text>\r\n",
       "</g>\r\n",
       "<!-- 1 -->\r\n",
       "<g id=\"node2\" class=\"node\"><title>1</title>\r\n",
       "<polygon fill=\"none\" stroke=\"black\" points=\"470.5,-261 338.5,-261 338.5,-193 470.5,-193 470.5,-261\"/>\r\n",
       "<text text-anchor=\"middle\" x=\"404.5\" y=\"-245.8\" font-family=\"Times New Roman,serif\" font-size=\"14.00\">poutcome &lt;= &#45;1.075</text>\r\n",
       "<text text-anchor=\"middle\" x=\"404.5\" y=\"-230.8\" font-family=\"Times New Roman,serif\" font-size=\"14.00\">gini = 0.354</text>\r\n",
       "<text text-anchor=\"middle\" x=\"404.5\" y=\"-215.8\" font-family=\"Times New Roman,serif\" font-size=\"14.00\">samples = 5746</text>\r\n",
       "<text text-anchor=\"middle\" x=\"404.5\" y=\"-200.8\" font-family=\"Times New Roman,serif\" font-size=\"14.00\">value = [4424, 1322]</text>\r\n",
       "</g>\r\n",
       "<!-- 0&#45;&gt;1 -->\r\n",
       "<g id=\"edge1\" class=\"edge\"><title>0&#45;&gt;1</title>\r\n",
       "<path fill=\"none\" stroke=\"black\" d=\"M496.345,-296.884C483.874,-287.531 470.179,-277.259 457.258,-267.568\"/>\r\n",
       "<polygon fill=\"black\" stroke=\"black\" points=\"458.999,-264.499 448.899,-261.299 454.799,-270.099 458.999,-264.499\"/>\r\n",
       "<text text-anchor=\"middle\" x=\"452.435\" y=\"-282.348\" font-family=\"Times New Roman,serif\" font-size=\"14.00\">True</text>\r\n",
       "</g>\r\n",
       "<!-- 8 -->\r\n",
       "<g id=\"node9\" class=\"node\"><title>8</title>\r\n",
       "<polygon fill=\"none\" stroke=\"black\" points=\"755.5,-261 617.5,-261 617.5,-193 755.5,-193 755.5,-261\"/>\r\n",
       "<text text-anchor=\"middle\" x=\"686.5\" y=\"-245.8\" font-family=\"Times New Roman,serif\" font-size=\"14.00\">age &lt;= 1.844</text>\r\n",
       "<text text-anchor=\"middle\" x=\"686.5\" y=\"-230.8\" font-family=\"Times New Roman,serif\" font-size=\"14.00\">gini = 0.169</text>\r\n",
       "<text text-anchor=\"middle\" x=\"686.5\" y=\"-215.8\" font-family=\"Times New Roman,serif\" font-size=\"14.00\">samples = 25901</text>\r\n",
       "<text text-anchor=\"middle\" x=\"686.5\" y=\"-200.8\" font-family=\"Times New Roman,serif\" font-size=\"14.00\">value = [23485, 2416]</text>\r\n",
       "</g>\r\n",
       "<!-- 0&#45;&gt;8 -->\r\n",
       "<g id=\"edge8\" class=\"edge\"><title>0&#45;&gt;8</title>\r\n",
       "<path fill=\"none\" stroke=\"black\" d=\"M587.902,-296.884C601.417,-287.442 616.272,-277.064 630.259,-267.292\"/>\r\n",
       "<polygon fill=\"black\" stroke=\"black\" points=\"632.643,-269.896 638.836,-261.299 628.634,-264.157 632.643,-269.896\"/>\r\n",
       "<text text-anchor=\"middle\" x=\"634.469\" y=\"-282.215\" font-family=\"Times New Roman,serif\" font-size=\"14.00\">False</text>\r\n",
       "</g>\r\n",
       "<!-- 2 -->\r\n",
       "<g id=\"node3\" class=\"node\"><title>2</title>\r\n",
       "<polygon fill=\"none\" stroke=\"black\" points=\"268,-157 143,-157 143,-89 268,-89 268,-157\"/>\r\n",
       "<text text-anchor=\"middle\" x=\"205.5\" y=\"-141.8\" font-family=\"Times New Roman,serif\" font-size=\"14.00\">housing &lt;= &#45;0.114</text>\r\n",
       "<text text-anchor=\"middle\" x=\"205.5\" y=\"-126.8\" font-family=\"Times New Roman,serif\" font-size=\"14.00\">gini = 0.236</text>\r\n",
       "<text text-anchor=\"middle\" x=\"205.5\" y=\"-111.8\" font-family=\"Times New Roman,serif\" font-size=\"14.00\">samples = 4695</text>\r\n",
       "<text text-anchor=\"middle\" x=\"205.5\" y=\"-96.8\" font-family=\"Times New Roman,serif\" font-size=\"14.00\">value = [4054, 641]</text>\r\n",
       "</g>\r\n",
       "<!-- 1&#45;&gt;2 -->\r\n",
       "<g id=\"edge2\" class=\"edge\"><title>1&#45;&gt;2</title>\r\n",
       "<path fill=\"none\" stroke=\"black\" d=\"M339.89,-192.884C319.822,-182.597 297.585,-171.199 277.071,-160.685\"/>\r\n",
       "<polygon fill=\"black\" stroke=\"black\" points=\"278.586,-157.528 268.09,-156.082 275.393,-163.758 278.586,-157.528\"/>\r\n",
       "</g>\r\n",
       "<!-- 5 -->\r\n",
       "<g id=\"node6\" class=\"node\"><title>5</title>\r\n",
       "<polygon fill=\"none\" stroke=\"black\" points=\"464,-157 345,-157 345,-89 464,-89 464,-157\"/>\r\n",
       "<text text-anchor=\"middle\" x=\"404.5\" y=\"-141.8\" font-family=\"Times New Roman,serif\" font-size=\"14.00\">housing &lt;= &#45;0.114</text>\r\n",
       "<text text-anchor=\"middle\" x=\"404.5\" y=\"-126.8\" font-family=\"Times New Roman,serif\" font-size=\"14.00\">gini = 0.456</text>\r\n",
       "<text text-anchor=\"middle\" x=\"404.5\" y=\"-111.8\" font-family=\"Times New Roman,serif\" font-size=\"14.00\">samples = 1051</text>\r\n",
       "<text text-anchor=\"middle\" x=\"404.5\" y=\"-96.8\" font-family=\"Times New Roman,serif\" font-size=\"14.00\">value = [370, 681]</text>\r\n",
       "</g>\r\n",
       "<!-- 1&#45;&gt;5 -->\r\n",
       "<g id=\"edge5\" class=\"edge\"><title>1&#45;&gt;5</title>\r\n",
       "<path fill=\"none\" stroke=\"black\" d=\"M404.5,-192.884C404.5,-184.778 404.5,-175.982 404.5,-167.472\"/>\r\n",
       "<polygon fill=\"black\" stroke=\"black\" points=\"408,-167.299 404.5,-157.299 401,-167.299 408,-167.299\"/>\r\n",
       "</g>\r\n",
       "<!-- 3 -->\r\n",
       "<g id=\"node4\" class=\"node\"><title>3</title>\r\n",
       "<polygon fill=\"none\" stroke=\"black\" points=\"125,-53 0,-53 0,-0 125,-0 125,-53\"/>\r\n",
       "<text text-anchor=\"middle\" x=\"62.5\" y=\"-37.8\" font-family=\"Times New Roman,serif\" font-size=\"14.00\">gini = 0.379</text>\r\n",
       "<text text-anchor=\"middle\" x=\"62.5\" y=\"-22.8\" font-family=\"Times New Roman,serif\" font-size=\"14.00\">samples = 1426</text>\r\n",
       "<text text-anchor=\"middle\" x=\"62.5\" y=\"-7.8\" font-family=\"Times New Roman,serif\" font-size=\"14.00\">value = [1064, 362]</text>\r\n",
       "</g>\r\n",
       "<!-- 2&#45;&gt;3 -->\r\n",
       "<g id=\"edge3\" class=\"edge\"><title>2&#45;&gt;3</title>\r\n",
       "<path fill=\"none\" stroke=\"black\" d=\"M155.486,-88.9485C140.674,-79.1601 124.505,-68.4756 109.866,-58.8015\"/>\r\n",
       "<polygon fill=\"black\" stroke=\"black\" points=\"111.718,-55.83 101.445,-53.2367 107.859,-61.6701 111.718,-55.83\"/>\r\n",
       "</g>\r\n",
       "<!-- 4 -->\r\n",
       "<g id=\"node5\" class=\"node\"><title>4</title>\r\n",
       "<polygon fill=\"none\" stroke=\"black\" points=\"268,-53 143,-53 143,-0 268,-0 268,-53\"/>\r\n",
       "<text text-anchor=\"middle\" x=\"205.5\" y=\"-37.8\" font-family=\"Times New Roman,serif\" font-size=\"14.00\">gini = 0.156</text>\r\n",
       "<text text-anchor=\"middle\" x=\"205.5\" y=\"-22.8\" font-family=\"Times New Roman,serif\" font-size=\"14.00\">samples = 3269</text>\r\n",
       "<text text-anchor=\"middle\" x=\"205.5\" y=\"-7.8\" font-family=\"Times New Roman,serif\" font-size=\"14.00\">value = [2990, 279]</text>\r\n",
       "</g>\r\n",
       "<!-- 2&#45;&gt;4 -->\r\n",
       "<g id=\"edge4\" class=\"edge\"><title>2&#45;&gt;4</title>\r\n",
       "<path fill=\"none\" stroke=\"black\" d=\"M205.5,-88.9485C205.5,-80.7153 205.5,-71.848 205.5,-63.4814\"/>\r\n",
       "<polygon fill=\"black\" stroke=\"black\" points=\"209,-63.2367 205.5,-53.2367 202,-63.2367 209,-63.2367\"/>\r\n",
       "</g>\r\n",
       "<!-- 6 -->\r\n",
       "<g id=\"node7\" class=\"node\"><title>6</title>\r\n",
       "<polygon fill=\"none\" stroke=\"black\" points=\"404.5,-53 286.5,-53 286.5,-0 404.5,-0 404.5,-53\"/>\r\n",
       "<text text-anchor=\"middle\" x=\"345.5\" y=\"-37.8\" font-family=\"Times New Roman,serif\" font-size=\"14.00\">gini = 0.415</text>\r\n",
       "<text text-anchor=\"middle\" x=\"345.5\" y=\"-22.8\" font-family=\"Times New Roman,serif\" font-size=\"14.00\">samples = 716</text>\r\n",
       "<text text-anchor=\"middle\" x=\"345.5\" y=\"-7.8\" font-family=\"Times New Roman,serif\" font-size=\"14.00\">value = [210, 506]</text>\r\n",
       "</g>\r\n",
       "<!-- 5&#45;&gt;6 -->\r\n",
       "<g id=\"edge6\" class=\"edge\"><title>5&#45;&gt;6</title>\r\n",
       "<path fill=\"none\" stroke=\"black\" d=\"M383.865,-88.9485C378.382,-80.1664 372.448,-70.6629 366.924,-61.815\"/>\r\n",
       "<polygon fill=\"black\" stroke=\"black\" points=\"369.833,-59.8656 361.568,-53.2367 363.896,-63.5728 369.833,-59.8656\"/>\r\n",
       "</g>\r\n",
       "<!-- 7 -->\r\n",
       "<g id=\"node8\" class=\"node\"><title>7</title>\r\n",
       "<polygon fill=\"none\" stroke=\"black\" points=\"540.5,-53 422.5,-53 422.5,-0 540.5,-0 540.5,-53\"/>\r\n",
       "<text text-anchor=\"middle\" x=\"481.5\" y=\"-37.8\" font-family=\"Times New Roman,serif\" font-size=\"14.00\">gini = 0.499</text>\r\n",
       "<text text-anchor=\"middle\" x=\"481.5\" y=\"-22.8\" font-family=\"Times New Roman,serif\" font-size=\"14.00\">samples = 335</text>\r\n",
       "<text text-anchor=\"middle\" x=\"481.5\" y=\"-7.8\" font-family=\"Times New Roman,serif\" font-size=\"14.00\">value = [160, 175]</text>\r\n",
       "</g>\r\n",
       "<!-- 5&#45;&gt;7 -->\r\n",
       "<g id=\"edge7\" class=\"edge\"><title>5&#45;&gt;7</title>\r\n",
       "<path fill=\"none\" stroke=\"black\" d=\"M431.431,-88.9485C438.736,-79.9834 446.653,-70.2666 453.989,-61.2629\"/>\r\n",
       "<polygon fill=\"black\" stroke=\"black\" points=\"456.926,-63.1999 460.529,-53.2367 451.499,-58.7782 456.926,-63.1999\"/>\r\n",
       "</g>\r\n",
       "<!-- 9 -->\r\n",
       "<g id=\"node10\" class=\"node\"><title>9</title>\r\n",
       "<polygon fill=\"none\" stroke=\"black\" points=\"755.5,-157 617.5,-157 617.5,-89 755.5,-89 755.5,-157\"/>\r\n",
       "<text text-anchor=\"middle\" x=\"686.5\" y=\"-141.8\" font-family=\"Times New Roman,serif\" font-size=\"14.00\">age &lt;= &#45;1.36</text>\r\n",
       "<text text-anchor=\"middle\" x=\"686.5\" y=\"-126.8\" font-family=\"Times New Roman,serif\" font-size=\"14.00\">gini = 0.159</text>\r\n",
       "<text text-anchor=\"middle\" x=\"686.5\" y=\"-111.8\" font-family=\"Times New Roman,serif\" font-size=\"14.00\">samples = 25371</text>\r\n",
       "<text text-anchor=\"middle\" x=\"686.5\" y=\"-96.8\" font-family=\"Times New Roman,serif\" font-size=\"14.00\">value = [23157, 2214]</text>\r\n",
       "</g>\r\n",
       "<!-- 8&#45;&gt;9 -->\r\n",
       "<g id=\"edge9\" class=\"edge\"><title>8&#45;&gt;9</title>\r\n",
       "<path fill=\"none\" stroke=\"black\" d=\"M686.5,-192.884C686.5,-184.778 686.5,-175.982 686.5,-167.472\"/>\r\n",
       "<polygon fill=\"black\" stroke=\"black\" points=\"690,-167.299 686.5,-157.299 683,-167.299 690,-167.299\"/>\r\n",
       "</g>\r\n",
       "<!-- 12 -->\r\n",
       "<g id=\"node13\" class=\"node\"><title>12</title>\r\n",
       "<polygon fill=\"none\" stroke=\"black\" points=\"961.5,-157 843.5,-157 843.5,-89 961.5,-89 961.5,-157\"/>\r\n",
       "<text text-anchor=\"middle\" x=\"902.5\" y=\"-141.8\" font-family=\"Times New Roman,serif\" font-size=\"14.00\">marital &lt;= &#45;1.103</text>\r\n",
       "<text text-anchor=\"middle\" x=\"902.5\" y=\"-126.8\" font-family=\"Times New Roman,serif\" font-size=\"14.00\">gini = 0.472</text>\r\n",
       "<text text-anchor=\"middle\" x=\"902.5\" y=\"-111.8\" font-family=\"Times New Roman,serif\" font-size=\"14.00\">samples = 530</text>\r\n",
       "<text text-anchor=\"middle\" x=\"902.5\" y=\"-96.8\" font-family=\"Times New Roman,serif\" font-size=\"14.00\">value = [328, 202]</text>\r\n",
       "</g>\r\n",
       "<!-- 8&#45;&gt;12 -->\r\n",
       "<g id=\"edge12\" class=\"edge\"><title>8&#45;&gt;12</title>\r\n",
       "<path fill=\"none\" stroke=\"black\" d=\"M755.735,-193.306C780.902,-181.421 809.307,-168.008 834.378,-156.169\"/>\r\n",
       "<polygon fill=\"black\" stroke=\"black\" points=\"835.903,-159.319 843.451,-151.884 832.914,-152.99 835.903,-159.319\"/>\r\n",
       "</g>\r\n",
       "<!-- 10 -->\r\n",
       "<g id=\"node11\" class=\"node\"><title>10</title>\r\n",
       "<polygon fill=\"none\" stroke=\"black\" points=\"676.5,-53 558.5,-53 558.5,-0 676.5,-0 676.5,-53\"/>\r\n",
       "<text text-anchor=\"middle\" x=\"617.5\" y=\"-37.8\" font-family=\"Times New Roman,serif\" font-size=\"14.00\">gini = 0.312</text>\r\n",
       "<text text-anchor=\"middle\" x=\"617.5\" y=\"-22.8\" font-family=\"Times New Roman,serif\" font-size=\"14.00\">samples = 1218</text>\r\n",
       "<text text-anchor=\"middle\" x=\"617.5\" y=\"-7.8\" font-family=\"Times New Roman,serif\" font-size=\"14.00\">value = [982, 236]</text>\r\n",
       "</g>\r\n",
       "<!-- 9&#45;&gt;10 -->\r\n",
       "<g id=\"edge10\" class=\"edge\"><title>9&#45;&gt;10</title>\r\n",
       "<path fill=\"none\" stroke=\"black\" d=\"M662.367,-88.9485C655.888,-80.0749 648.871,-70.4648 642.354,-61.5388\"/>\r\n",
       "<polygon fill=\"black\" stroke=\"black\" points=\"645.016,-59.249 636.292,-53.2367 639.362,-63.3769 645.016,-59.249\"/>\r\n",
       "</g>\r\n",
       "<!-- 11 -->\r\n",
       "<g id=\"node12\" class=\"node\"><title>11</title>\r\n",
       "<polygon fill=\"none\" stroke=\"black\" points=\"832.5,-53 694.5,-53 694.5,-0 832.5,-0 832.5,-53\"/>\r\n",
       "<text text-anchor=\"middle\" x=\"763.5\" y=\"-37.8\" font-family=\"Times New Roman,serif\" font-size=\"14.00\">gini = 0.15</text>\r\n",
       "<text text-anchor=\"middle\" x=\"763.5\" y=\"-22.8\" font-family=\"Times New Roman,serif\" font-size=\"14.00\">samples = 24153</text>\r\n",
       "<text text-anchor=\"middle\" x=\"763.5\" y=\"-7.8\" font-family=\"Times New Roman,serif\" font-size=\"14.00\">value = [22175, 1978]</text>\r\n",
       "</g>\r\n",
       "<!-- 9&#45;&gt;11 -->\r\n",
       "<g id=\"edge11\" class=\"edge\"><title>9&#45;&gt;11</title>\r\n",
       "<path fill=\"none\" stroke=\"black\" d=\"M713.431,-88.9485C720.736,-79.9834 728.653,-70.2666 735.989,-61.2629\"/>\r\n",
       "<polygon fill=\"black\" stroke=\"black\" points=\"738.926,-63.1999 742.529,-53.2367 733.499,-58.7782 738.926,-63.1999\"/>\r\n",
       "</g>\r\n",
       "<!-- 13 -->\r\n",
       "<g id=\"node14\" class=\"node\"><title>13</title>\r\n",
       "<polygon fill=\"none\" stroke=\"black\" points=\"954.5,-53 850.5,-53 850.5,-0 954.5,-0 954.5,-53\"/>\r\n",
       "<text text-anchor=\"middle\" x=\"902.5\" y=\"-37.8\" font-family=\"Times New Roman,serif\" font-size=\"14.00\">gini = 0.497</text>\r\n",
       "<text text-anchor=\"middle\" x=\"902.5\" y=\"-22.8\" font-family=\"Times New Roman,serif\" font-size=\"14.00\">samples = 97</text>\r\n",
       "<text text-anchor=\"middle\" x=\"902.5\" y=\"-7.8\" font-family=\"Times New Roman,serif\" font-size=\"14.00\">value = [45, 52]</text>\r\n",
       "</g>\r\n",
       "<!-- 12&#45;&gt;13 -->\r\n",
       "<g id=\"edge13\" class=\"edge\"><title>12&#45;&gt;13</title>\r\n",
       "<path fill=\"none\" stroke=\"black\" d=\"M902.5,-88.9485C902.5,-80.7153 902.5,-71.848 902.5,-63.4814\"/>\r\n",
       "<polygon fill=\"black\" stroke=\"black\" points=\"906,-63.2367 902.5,-53.2367 899,-63.2367 906,-63.2367\"/>\r\n",
       "</g>\r\n",
       "<!-- 14 -->\r\n",
       "<g id=\"node15\" class=\"node\"><title>14</title>\r\n",
       "<polygon fill=\"none\" stroke=\"black\" points=\"1090.5,-53 972.5,-53 972.5,-0 1090.5,-0 1090.5,-53\"/>\r\n",
       "<text text-anchor=\"middle\" x=\"1031.5\" y=\"-37.8\" font-family=\"Times New Roman,serif\" font-size=\"14.00\">gini = 0.453</text>\r\n",
       "<text text-anchor=\"middle\" x=\"1031.5\" y=\"-22.8\" font-family=\"Times New Roman,serif\" font-size=\"14.00\">samples = 433</text>\r\n",
       "<text text-anchor=\"middle\" x=\"1031.5\" y=\"-7.8\" font-family=\"Times New Roman,serif\" font-size=\"14.00\">value = [283, 150]</text>\r\n",
       "</g>\r\n",
       "<!-- 12&#45;&gt;14 -->\r\n",
       "<g id=\"edge14\" class=\"edge\"><title>12&#45;&gt;14</title>\r\n",
       "<path fill=\"none\" stroke=\"black\" d=\"M947.618,-88.9485C960.73,-79.3431 975.02,-68.8747 988.029,-59.345\"/>\r\n",
       "<polygon fill=\"black\" stroke=\"black\" points=\"990.369,-61.9698 996.367,-53.2367 986.232,-56.3228 990.369,-61.9698\"/>\r\n",
       "</g>\r\n",
       "</g>\r\n",
       "</svg>\r\n"
      ],
      "text/plain": [
       "<graphviz.files.Source at 0x2b3d83dff48>"
      ]
     },
     "execution_count": 82,
     "metadata": {},
     "output_type": "execute_result"
    }
   ],
   "source": [
    "import graphviz\n",
    "\n",
    "with open('dtreeR.dot') as f:\n",
    "    tr_graph = f.read()\n",
    "    \n",
    "graphviz.Source(tr_graph)"
   ]
  },
  {
   "cell_type": "code",
   "execution_count": 84,
   "metadata": {
    "ExecuteTime": {
     "end_time": "2021-01-08T06:00:24.659054Z",
     "start_time": "2021-01-08T06:00:24.581054Z"
    }
   },
   "outputs": [
    {
     "data": {
      "text/html": [
       "<div>\n",
       "<style scoped>\n",
       "    .dataframe tbody tr th:only-of-type {\n",
       "        vertical-align: middle;\n",
       "    }\n",
       "\n",
       "    .dataframe tbody tr th {\n",
       "        vertical-align: top;\n",
       "    }\n",
       "\n",
       "    .dataframe thead th {\n",
       "        text-align: right;\n",
       "    }\n",
       "</style>\n",
       "<table border=\"1\" class=\"dataframe\">\n",
       "  <thead>\n",
       "    <tr style=\"text-align: right;\">\n",
       "      <th></th>\n",
       "      <th>default</th>\n",
       "      <th>balance</th>\n",
       "      <th>loan</th>\n",
       "      <th>campaign</th>\n",
       "      <th>marital</th>\n",
       "      <th>housing</th>\n",
       "      <th>age</th>\n",
       "      <th>poutcome</th>\n",
       "    </tr>\n",
       "  </thead>\n",
       "  <tbody>\n",
       "    <tr>\n",
       "      <th>0</th>\n",
       "      <td>0.0</td>\n",
       "      <td>0.0</td>\n",
       "      <td>0.0</td>\n",
       "      <td>0.0</td>\n",
       "      <td>0.00694</td>\n",
       "      <td>0.087513</td>\n",
       "      <td>0.144473</td>\n",
       "      <td>0.761074</td>\n",
       "    </tr>\n",
       "  </tbody>\n",
       "</table>\n",
       "</div>"
      ],
      "text/plain": [
       "   default  balance  loan  campaign  marital   housing       age  poutcome\n",
       "0      0.0      0.0   0.0       0.0  0.00694  0.087513  0.144473  0.761074"
      ]
     },
     "execution_count": 84,
     "metadata": {},
     "output_type": "execute_result"
    }
   ],
   "source": [
    "f_imp = dtreeR.tree_.compute_feature_importances(normalize=False)\n",
    "\n",
    "f_imp_dict = dict(zip(f_cols, dtreeR.feature_importances_))\n",
    "f_imp_dict = pd.DataFrame.from_dict(f_imp_dict, orient='index')\n",
    "f_imp_dict.sort_values(by=0).T"
   ]
  },
  {
   "cell_type": "code",
   "execution_count": 87,
   "metadata": {
    "ExecuteTime": {
     "end_time": "2021-01-08T06:44:59.901936Z",
     "start_time": "2021-01-08T06:44:59.894958Z"
    }
   },
   "outputs": [],
   "source": [
    "# Using BaggingClassifier\n",
    "\n",
    "from sklearn.ensemble import BaggingClassifier\n",
    "bagc = BaggingClassifier(base_estimator=dtree, n_estimators=500, random_state=1)"
   ]
  },
  {
   "cell_type": "code",
   "execution_count": 89,
   "metadata": {
    "ExecuteTime": {
     "end_time": "2021-01-08T06:47:04.288937Z",
     "start_time": "2021-01-08T06:45:48.612815Z"
    }
   },
   "outputs": [],
   "source": [
    "bagc.fit(X_train_scalar, y_train)\n",
    "y_pred_bagc = bagc.predict(X_test_scalar)"
   ]
  },
  {
   "cell_type": "code",
   "execution_count": 90,
   "metadata": {
    "ExecuteTime": {
     "end_time": "2021-01-08T06:47:28.454782Z",
     "start_time": "2021-01-08T06:47:28.359788Z"
    }
   },
   "outputs": [
    {
     "name": "stdout",
     "output_type": "stream",
     "text": [
      "------------Bagging------------\n",
      "\n",
      "The accuracy score of this model is : 0.88\n",
      "\n",
      "Confusion Matrix :\n",
      "\n",
      "[[11615   398]\n",
      " [ 1224   327]]\n",
      "\n",
      "Classification Report : \n",
      "\n",
      "              precision    recall  f1-score   support\n",
      "\n",
      "           0       0.90      0.97      0.93     12013\n",
      "           1       0.45      0.21      0.29      1551\n",
      "\n",
      "    accuracy                           0.88     13564\n",
      "   macro avg       0.68      0.59      0.61     13564\n",
      "weighted avg       0.85      0.88      0.86     13564\n",
      "\n"
     ]
    }
   ],
   "source": [
    "print('------------Bagging------------\\n')\n",
    "print('The accuracy score of this model is : {:.2f}'.format(accuracy_score(y_test, y_pred_bagc)))\n",
    "print('\\nConfusion Matrix :\\n')\n",
    "print(confusion_matrix(y_test, y_pred_bagc))\n",
    "print('\\nClassification Report : \\n')\n",
    "print(classification_report(y_test, y_pred_bagc))"
   ]
  },
  {
   "cell_type": "code",
   "execution_count": 91,
   "metadata": {
    "ExecuteTime": {
     "end_time": "2021-01-08T06:49:19.118721Z",
     "start_time": "2021-01-08T06:49:19.111729Z"
    }
   },
   "outputs": [],
   "source": [
    "# Using Adaptive Boosting\n",
    "\n",
    "from sklearn.ensemble import AdaBoostClassifier\n",
    "adb = AdaBoostClassifier(n_estimators=50, random_state=1)"
   ]
  },
  {
   "cell_type": "code",
   "execution_count": 92,
   "metadata": {
    "ExecuteTime": {
     "end_time": "2021-01-08T06:49:59.545754Z",
     "start_time": "2021-01-08T06:49:57.186743Z"
    }
   },
   "outputs": [],
   "source": [
    "adb.fit(X_train_scalar, y_train)\n",
    "y_pred_adb = adb.predict(X_test_scalar)"
   ]
  },
  {
   "cell_type": "code",
   "execution_count": 93,
   "metadata": {
    "ExecuteTime": {
     "end_time": "2021-01-08T06:50:37.527030Z",
     "start_time": "2021-01-08T06:50:37.434028Z"
    }
   },
   "outputs": [
    {
     "name": "stdout",
     "output_type": "stream",
     "text": [
      "------------Adaptive Boosting------------\n",
      "\n",
      "The accuracy score of this model is : 0.89\n",
      "\n",
      "Confusion Matrix :\n",
      "\n",
      "[[11885   128]\n",
      " [ 1310   241]]\n",
      "\n",
      "Classification Report : \n",
      "\n",
      "              precision    recall  f1-score   support\n",
      "\n",
      "           0       0.90      0.99      0.94     12013\n",
      "           1       0.65      0.16      0.25      1551\n",
      "\n",
      "    accuracy                           0.89     13564\n",
      "   macro avg       0.78      0.57      0.60     13564\n",
      "weighted avg       0.87      0.89      0.86     13564\n",
      "\n"
     ]
    }
   ],
   "source": [
    "print('------------Adaptive Boosting------------\\n')\n",
    "print('The accuracy score of this model is : {:.2f}'.format(accuracy_score(y_test, y_pred_adb)))\n",
    "print('\\nConfusion Matrix :\\n')\n",
    "print(confusion_matrix(y_test, y_pred_adb))\n",
    "print('\\nClassification Report : \\n')\n",
    "print(classification_report(y_test, y_pred_adb))"
   ]
  },
  {
   "cell_type": "code",
   "execution_count": 94,
   "metadata": {
    "ExecuteTime": {
     "end_time": "2021-01-08T06:52:16.024566Z",
     "start_time": "2021-01-08T06:52:16.017562Z"
    }
   },
   "outputs": [],
   "source": [
    "# Using Gradient Boosting\n",
    "\n",
    "from sklearn.ensemble import GradientBoostingClassifier\n",
    "gdb = GradientBoostingClassifier(n_estimators=100, random_state=1)"
   ]
  },
  {
   "cell_type": "code",
   "execution_count": 95,
   "metadata": {
    "ExecuteTime": {
     "end_time": "2021-01-08T06:53:07.857292Z",
     "start_time": "2021-01-08T06:53:02.818192Z"
    }
   },
   "outputs": [],
   "source": [
    "gdb.fit(X_train_scalar, y_train)\n",
    "y_pred_gdb = gdb.predict(X_test_scalar)"
   ]
  },
  {
   "cell_type": "code",
   "execution_count": 96,
   "metadata": {
    "ExecuteTime": {
     "end_time": "2021-01-08T06:53:38.982636Z",
     "start_time": "2021-01-08T06:53:38.886636Z"
    }
   },
   "outputs": [
    {
     "name": "stdout",
     "output_type": "stream",
     "text": [
      "------------Gradient Boosting------------\n",
      "\n",
      "The accuracy score of this model is : 0.89\n",
      "\n",
      "Confusion Matrix :\n",
      "\n",
      "[[11889   124]\n",
      " [ 1307   244]]\n",
      "\n",
      "Classification Report : \n",
      "\n",
      "              precision    recall  f1-score   support\n",
      "\n",
      "           0       0.90      0.99      0.94     12013\n",
      "           1       0.66      0.16      0.25      1551\n",
      "\n",
      "    accuracy                           0.89     13564\n",
      "   macro avg       0.78      0.57      0.60     13564\n",
      "weighted avg       0.87      0.89      0.86     13564\n",
      "\n"
     ]
    }
   ],
   "source": [
    "print('------------Gradient Boosting------------\\n')\n",
    "print('The accuracy score of this model is : {:.2f}'.format(accuracy_score(y_test, y_pred_gdb)))\n",
    "print('\\nConfusion Matrix :\\n')\n",
    "print(confusion_matrix(y_test, y_pred_gdb))\n",
    "print('\\nClassification Report : \\n')\n",
    "print(classification_report(y_test, y_pred_gdb))"
   ]
  },
  {
   "cell_type": "code",
   "execution_count": 97,
   "metadata": {
    "ExecuteTime": {
     "end_time": "2021-01-08T06:55:41.964352Z",
     "start_time": "2021-01-08T06:55:41.957351Z"
    }
   },
   "outputs": [],
   "source": [
    "# Using RandomForrest Classifier\n",
    "\n",
    "from sklearn.ensemble import RandomForestClassifier\n",
    "rf = RandomForestClassifier(max_features=3, n_estimators=100, random_state=1)"
   ]
  },
  {
   "cell_type": "code",
   "execution_count": 98,
   "metadata": {
    "ExecuteTime": {
     "end_time": "2021-01-08T06:56:33.890035Z",
     "start_time": "2021-01-08T06:56:25.145911Z"
    }
   },
   "outputs": [],
   "source": [
    "rf.fit(X_train_scalar, y_train)\n",
    "y_pred_rf = rf.predict(X_test_scalar)"
   ]
  },
  {
   "cell_type": "code",
   "execution_count": 99,
   "metadata": {
    "ExecuteTime": {
     "end_time": "2021-01-08T06:57:07.666244Z",
     "start_time": "2021-01-08T06:57:07.572242Z"
    }
   },
   "outputs": [
    {
     "name": "stdout",
     "output_type": "stream",
     "text": [
      "------------Random Forrest------------\n",
      "\n",
      "The accuracy score of this model is : 0.88\n",
      "\n",
      "Confusion Matrix :\n",
      "\n",
      "[[11586   427]\n",
      " [ 1229   322]]\n",
      "\n",
      "Classification Report : \n",
      "\n",
      "              precision    recall  f1-score   support\n",
      "\n",
      "           0       0.90      0.96      0.93     12013\n",
      "           1       0.43      0.21      0.28      1551\n",
      "\n",
      "    accuracy                           0.88     13564\n",
      "   macro avg       0.67      0.59      0.61     13564\n",
      "weighted avg       0.85      0.88      0.86     13564\n",
      "\n"
     ]
    }
   ],
   "source": [
    "print('------------Random Forrest------------\\n')\n",
    "print('The accuracy score of this model is : {:.2f}'.format(accuracy_score(y_test, y_pred_rf)))\n",
    "print('\\nConfusion Matrix :\\n')\n",
    "print(confusion_matrix(y_test, y_pred_rf))\n",
    "print('\\nClassification Report : \\n')\n",
    "print(classification_report(y_test, y_pred_rf))"
   ]
  },
  {
   "cell_type": "code",
   "execution_count": 100,
   "metadata": {
    "ExecuteTime": {
     "end_time": "2021-01-08T07:00:36.647436Z",
     "start_time": "2021-01-08T07:00:36.641436Z"
    }
   },
   "outputs": [],
   "source": [
    "# Increasing n_estimators=500\n",
    "\n",
    "rf1 = RandomForestClassifier(max_features=3, n_estimators=500, random_state=1)"
   ]
  },
  {
   "cell_type": "code",
   "execution_count": 101,
   "metadata": {
    "ExecuteTime": {
     "end_time": "2021-01-08T07:01:55.048261Z",
     "start_time": "2021-01-08T07:01:13.573181Z"
    }
   },
   "outputs": [],
   "source": [
    "rf1.fit(X_train_scalar, y_train)\n",
    "y_pred_rf1 = rf1.predict(X_test_scalar)"
   ]
  },
  {
   "cell_type": "code",
   "execution_count": 102,
   "metadata": {
    "ExecuteTime": {
     "end_time": "2021-01-08T07:02:08.904705Z",
     "start_time": "2021-01-08T07:02:08.800706Z"
    }
   },
   "outputs": [
    {
     "name": "stdout",
     "output_type": "stream",
     "text": [
      "------------Random Forrest with n_estimators=500 ------------\n",
      "\n",
      "The accuracy score of this model is : 0.88\n",
      "\n",
      "Confusion Matrix :\n",
      "\n",
      "[[11586   427]\n",
      " [ 1224   327]]\n",
      "\n",
      "Classification Report : \n",
      "\n",
      "              precision    recall  f1-score   support\n",
      "\n",
      "           0       0.90      0.96      0.93     12013\n",
      "           1       0.43      0.21      0.28      1551\n",
      "\n",
      "    accuracy                           0.88     13564\n",
      "   macro avg       0.67      0.59      0.61     13564\n",
      "weighted avg       0.85      0.88      0.86     13564\n",
      "\n"
     ]
    }
   ],
   "source": [
    "print('------------Random Forrest with n_estimators=500 ------------\\n')\n",
    "print('The accuracy score of this model is : {:.2f}'.format(accuracy_score(y_test, y_pred_rf1)))\n",
    "print('\\nConfusion Matrix :\\n')\n",
    "print(confusion_matrix(y_test, y_pred_rf1))\n",
    "print('\\nClassification Report : \\n')\n",
    "print(classification_report(y_test, y_pred_rf1))"
   ]
  },
  {
   "cell_type": "markdown",
   "metadata": {},
   "source": [
    "__Various Models & their resp. accuracies__"
   ]
  },
  {
   "cell_type": "code",
   "execution_count": 111,
   "metadata": {
    "ExecuteTime": {
     "end_time": "2021-01-08T07:29:55.297458Z",
     "start_time": "2021-01-08T07:29:55.226462Z"
    }
   },
   "outputs": [
    {
     "name": "stdout",
     "output_type": "stream",
     "text": [
      "All the Models with Accuracy listed :\n"
     ]
    },
    {
     "data": {
      "text/html": [
       "<div>\n",
       "<style scoped>\n",
       "    .dataframe tbody tr th:only-of-type {\n",
       "        vertical-align: middle;\n",
       "    }\n",
       "\n",
       "    .dataframe tbody tr th {\n",
       "        vertical-align: top;\n",
       "    }\n",
       "\n",
       "    .dataframe thead th {\n",
       "        text-align: right;\n",
       "    }\n",
       "</style>\n",
       "<table border=\"1\" class=\"dataframe\">\n",
       "  <thead>\n",
       "    <tr style=\"text-align: right;\">\n",
       "      <th></th>\n",
       "      <th>Model</th>\n",
       "      <th>Accuracy</th>\n",
       "    </tr>\n",
       "  </thead>\n",
       "  <tbody>\n",
       "    <tr>\n",
       "      <th>6</th>\n",
       "      <td>Gradient Boost</td>\n",
       "      <td>0.894500</td>\n",
       "    </tr>\n",
       "    <tr>\n",
       "      <th>5</th>\n",
       "      <td>Ada Boost</td>\n",
       "      <td>0.893984</td>\n",
       "    </tr>\n",
       "    <tr>\n",
       "      <th>3</th>\n",
       "      <td>SVC</td>\n",
       "      <td>0.891551</td>\n",
       "    </tr>\n",
       "    <tr>\n",
       "      <th>0</th>\n",
       "      <td>Logistic Regression</td>\n",
       "      <td>0.885653</td>\n",
       "    </tr>\n",
       "    <tr>\n",
       "      <th>4</th>\n",
       "      <td>Bagging</td>\n",
       "      <td>0.880419</td>\n",
       "    </tr>\n",
       "    <tr>\n",
       "      <th>8</th>\n",
       "      <td>Random Forrest (n_estimator=500)</td>\n",
       "      <td>0.878281</td>\n",
       "    </tr>\n",
       "    <tr>\n",
       "      <th>7</th>\n",
       "      <td>Random Forrest (n_estimator=100)</td>\n",
       "      <td>0.877912</td>\n",
       "    </tr>\n",
       "    <tr>\n",
       "      <th>1</th>\n",
       "      <td>Naive Bayes</td>\n",
       "      <td>0.875700</td>\n",
       "    </tr>\n",
       "    <tr>\n",
       "      <th>2</th>\n",
       "      <td>KNN</td>\n",
       "      <td>0.873341</td>\n",
       "    </tr>\n",
       "  </tbody>\n",
       "</table>\n",
       "</div>"
      ],
      "text/plain": [
       "                              Model  Accuracy\n",
       "6                    Gradient Boost  0.894500\n",
       "5                         Ada Boost  0.893984\n",
       "3                               SVC  0.891551\n",
       "0               Logistic Regression  0.885653\n",
       "4                           Bagging  0.880419\n",
       "8  Random Forrest (n_estimator=500)  0.878281\n",
       "7  Random Forrest (n_estimator=100)  0.877912\n",
       "1                       Naive Bayes  0.875700\n",
       "2                               KNN  0.873341"
      ]
     },
     "execution_count": 111,
     "metadata": {},
     "output_type": "execute_result"
    }
   ],
   "source": [
    "# Listing all the models and accuracy scores.\n",
    "\n",
    "df_final = [('Logistic Regression', accuracy_score(y_test, y_pred_lr)),\n",
    "           ('Naive Bayes', accuracy_score(y_test, y_pred_NB)),\n",
    "           ('KNN', accuracy_score(y_test, y_pred_knn)),\n",
    "           ('SVC', accuracy_score(y_test, y_pred_svc)),\n",
    "           ('Bagging', accuracy_score(y_test, y_pred_bagc)),\n",
    "           ('Ada Boost', accuracy_score(y_test, y_pred_adb)),\n",
    "           ('Gradient Boost', accuracy_score(y_test, y_pred_gdb)),\n",
    "           ('Random Forrest (n_estimator=100)', accuracy_score(y_test, y_pred_rf)),\n",
    "           ('Random Forrest (n_estimator=500)', accuracy_score(y_test, y_pred_rf1))]\n",
    "\n",
    "df_final = pd.DataFrame(df_final, columns=['Model', 'Accuracy'])\n",
    "print('All the Models with Accuracy listed :')\n",
    "df_final.sort_values(by='Accuracy', ascending=False)"
   ]
  },
  {
   "cell_type": "code",
   "execution_count": 109,
   "metadata": {
    "ExecuteTime": {
     "end_time": "2021-01-08T07:28:16.320521Z",
     "start_time": "2021-01-08T07:28:15.786531Z"
    }
   },
   "outputs": [
    {
     "data": {
      "image/png": "[encoded data removed]",
      "text/plain": [
       "<Figure size 720x360 with 1 Axes>"
      ]
     },
     "metadata": {
      "needs_background": "light"
     },
     "output_type": "display_data"
    }
   ],
   "source": [
    "plt.figure(figsize=(10,5))\n",
    "plt.plot(df_final['Model'], df_final['Accuracy'])\n",
    "plt.xlabel('Model Name')\n",
    "plt.ylabel('Model Accuracy')\n",
    "plt.title('Models & their Accuracy')\n",
    "plt.xticks(rotation=70)\n",
    "plt.show()"
   ]
  },
  {
   "cell_type": "markdown",
   "metadata": {},
   "source": [
    "Summary of the analysis :\n",
    "    \n",
    "    Of all the ensemble models, Gradient Boosting performed on base estimator of Desicion Tree model performed the best with nearly 90% accuracy.\n",
    "    \n",
    "    The Ada Boost also gave a similar performance of around 89%.\n",
    "    \n",
    "    The various ensemble models havn't boosted the model accuracy by much.\n",
    "    \n",
    "    The SVC model gave an accuacy of 89%, which was the highest among all the classification models.\n",
    "    \n",
    "    There wasn't much difference among various models, generally all of them giving an accuracy between 87 to 89%.\n",
    "    \n",
    "    The outliers being replaced by mean hasn't had much of an impact on the model."
   ]
  }
 ],
 "metadata": {
  "kernelspec": {
   "display_name": "Python 3",
   "language": "python",
   "name": "python3"
  },
  "language_info": {
   "codemirror_mode": {
    "name": "ipython",
    "version": 3
   },
   "file_extension": ".py",
   "mimetype": "text/x-python",
   "name": "python",
   "nbconvert_exporter": "python",
   "pygments_lexer": "ipython3",
   "version": "3.7.6"
  },
  "varInspector": {
   "cols": {
    "lenName": 16,
    "lenType": 16,
    "lenVar": 40
   },
   "kernels_config": {
    "python": {
     "delete_cmd_postfix": "",
     "delete_cmd_prefix": "del ",
     "library": "var_list.py",
     "varRefreshCmd": "print(var_dic_list())"
    },
    "r": {
     "delete_cmd_postfix": ") ",
     "delete_cmd_prefix": "rm(",
     "library": "var_list.r",
     "varRefreshCmd": "cat(var_dic_list()) "
    }
   },
   "types_to_exclude": [
    "module",
    "function",
    "builtin_function_or_method",
    "instance",
    "_Feature"
   ],
   "window_display": false
  }
 },
 "nbformat": 4,
 "nbformat_minor": 4
}
