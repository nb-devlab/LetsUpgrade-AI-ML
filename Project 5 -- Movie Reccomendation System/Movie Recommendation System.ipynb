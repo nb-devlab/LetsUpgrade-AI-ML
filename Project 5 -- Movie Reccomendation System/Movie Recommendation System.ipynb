{
 "cells": [
  {
   "cell_type": "markdown",
   "metadata": {},
   "source": [
    "# Recommending the best movies -- THE TOP 10, based on the given data"
   ]
  },
  {
   "cell_type": "code",
   "execution_count": 1,
   "metadata": {
    "ExecuteTime": {
     "end_time": "2020-11-02T06:15:08.665079Z",
     "start_time": "2020-11-02T06:14:51.696743Z"
    }
   },
   "outputs": [],
   "source": [
    "import pandas as pd\n",
    "import numpy as np\n",
    "import matplotlib.pyplot as plt"
   ]
  },
  {
   "cell_type": "code",
   "execution_count": 9,
   "metadata": {
    "ExecuteTime": {
     "end_time": "2020-11-02T06:28:09.623114Z",
     "start_time": "2020-11-02T06:28:04.501235Z"
    }
   },
   "outputs": [
    {
     "data": {
      "text/html": [
       "<div>\n",
       "<style scoped>\n",
       "    .dataframe tbody tr th:only-of-type {\n",
       "        vertical-align: middle;\n",
       "    }\n",
       "\n",
       "    .dataframe tbody tr th {\n",
       "        vertical-align: top;\n",
       "    }\n",
       "\n",
       "    .dataframe thead th {\n",
       "        text-align: right;\n",
       "    }\n",
       "</style>\n",
       "<table border=\"1\" class=\"dataframe\">\n",
       "  <thead>\n",
       "    <tr style=\"text-align: right;\">\n",
       "      <th></th>\n",
       "      <th>adult</th>\n",
       "      <th>belongs_to_collection</th>\n",
       "      <th>budget</th>\n",
       "      <th>genres</th>\n",
       "      <th>homepage</th>\n",
       "      <th>id</th>\n",
       "      <th>imdb_id</th>\n",
       "      <th>original_language</th>\n",
       "      <th>original_title</th>\n",
       "      <th>overview</th>\n",
       "      <th>...</th>\n",
       "      <th>release_date</th>\n",
       "      <th>revenue</th>\n",
       "      <th>runtime</th>\n",
       "      <th>spoken_languages</th>\n",
       "      <th>status</th>\n",
       "      <th>tagline</th>\n",
       "      <th>title</th>\n",
       "      <th>video</th>\n",
       "      <th>vote_average</th>\n",
       "      <th>vote_count</th>\n",
       "    </tr>\n",
       "  </thead>\n",
       "  <tbody>\n",
       "    <tr>\n",
       "      <th>0</th>\n",
       "      <td>False</td>\n",
       "      <td>{'id': 10194, 'name': 'Toy Story Collection', ...</td>\n",
       "      <td>30000000</td>\n",
       "      <td>[{'id': 16, 'name': 'Animation'}, {'id': 35, '...</td>\n",
       "      <td>http://toystory.disney.com/toy-story</td>\n",
       "      <td>862</td>\n",
       "      <td>tt0114709</td>\n",
       "      <td>en</td>\n",
       "      <td>Toy Story</td>\n",
       "      <td>Led by Woody, Andy's toys live happily in his ...</td>\n",
       "      <td>...</td>\n",
       "      <td>1995-10-30</td>\n",
       "      <td>373554033.0</td>\n",
       "      <td>81.0</td>\n",
       "      <td>[{'iso_639_1': 'en', 'name': 'English'}]</td>\n",
       "      <td>Released</td>\n",
       "      <td>NaN</td>\n",
       "      <td>Toy Story</td>\n",
       "      <td>False</td>\n",
       "      <td>7.7</td>\n",
       "      <td>5415.0</td>\n",
       "    </tr>\n",
       "    <tr>\n",
       "      <th>1</th>\n",
       "      <td>False</td>\n",
       "      <td>NaN</td>\n",
       "      <td>65000000</td>\n",
       "      <td>[{'id': 12, 'name': 'Adventure'}, {'id': 14, '...</td>\n",
       "      <td>NaN</td>\n",
       "      <td>8844</td>\n",
       "      <td>tt0113497</td>\n",
       "      <td>en</td>\n",
       "      <td>Jumanji</td>\n",
       "      <td>When siblings Judy and Peter discover an encha...</td>\n",
       "      <td>...</td>\n",
       "      <td>1995-12-15</td>\n",
       "      <td>262797249.0</td>\n",
       "      <td>104.0</td>\n",
       "      <td>[{'iso_639_1': 'en', 'name': 'English'}, {'iso...</td>\n",
       "      <td>Released</td>\n",
       "      <td>Roll the dice and unleash the excitement!</td>\n",
       "      <td>Jumanji</td>\n",
       "      <td>False</td>\n",
       "      <td>6.9</td>\n",
       "      <td>2413.0</td>\n",
       "    </tr>\n",
       "    <tr>\n",
       "      <th>2</th>\n",
       "      <td>False</td>\n",
       "      <td>{'id': 119050, 'name': 'Grumpy Old Men Collect...</td>\n",
       "      <td>0</td>\n",
       "      <td>[{'id': 10749, 'name': 'Romance'}, {'id': 35, ...</td>\n",
       "      <td>NaN</td>\n",
       "      <td>15602</td>\n",
       "      <td>tt0113228</td>\n",
       "      <td>en</td>\n",
       "      <td>Grumpier Old Men</td>\n",
       "      <td>A family wedding reignites the ancient feud be...</td>\n",
       "      <td>...</td>\n",
       "      <td>1995-12-22</td>\n",
       "      <td>0.0</td>\n",
       "      <td>101.0</td>\n",
       "      <td>[{'iso_639_1': 'en', 'name': 'English'}]</td>\n",
       "      <td>Released</td>\n",
       "      <td>Still Yelling. Still Fighting. Still Ready for...</td>\n",
       "      <td>Grumpier Old Men</td>\n",
       "      <td>False</td>\n",
       "      <td>6.5</td>\n",
       "      <td>92.0</td>\n",
       "    </tr>\n",
       "    <tr>\n",
       "      <th>3</th>\n",
       "      <td>False</td>\n",
       "      <td>NaN</td>\n",
       "      <td>16000000</td>\n",
       "      <td>[{'id': 35, 'name': 'Comedy'}, {'id': 18, 'nam...</td>\n",
       "      <td>NaN</td>\n",
       "      <td>31357</td>\n",
       "      <td>tt0114885</td>\n",
       "      <td>en</td>\n",
       "      <td>Waiting to Exhale</td>\n",
       "      <td>Cheated on, mistreated and stepped on, the wom...</td>\n",
       "      <td>...</td>\n",
       "      <td>1995-12-22</td>\n",
       "      <td>81452156.0</td>\n",
       "      <td>127.0</td>\n",
       "      <td>[{'iso_639_1': 'en', 'name': 'English'}]</td>\n",
       "      <td>Released</td>\n",
       "      <td>Friends are the people who let you be yourself...</td>\n",
       "      <td>Waiting to Exhale</td>\n",
       "      <td>False</td>\n",
       "      <td>6.1</td>\n",
       "      <td>34.0</td>\n",
       "    </tr>\n",
       "    <tr>\n",
       "      <th>4</th>\n",
       "      <td>False</td>\n",
       "      <td>{'id': 96871, 'name': 'Father of the Bride Col...</td>\n",
       "      <td>0</td>\n",
       "      <td>[{'id': 35, 'name': 'Comedy'}]</td>\n",
       "      <td>NaN</td>\n",
       "      <td>11862</td>\n",
       "      <td>tt0113041</td>\n",
       "      <td>en</td>\n",
       "      <td>Father of the Bride Part II</td>\n",
       "      <td>Just when George Banks has recovered from his ...</td>\n",
       "      <td>...</td>\n",
       "      <td>1995-02-10</td>\n",
       "      <td>76578911.0</td>\n",
       "      <td>106.0</td>\n",
       "      <td>[{'iso_639_1': 'en', 'name': 'English'}]</td>\n",
       "      <td>Released</td>\n",
       "      <td>Just When His World Is Back To Normal... He's ...</td>\n",
       "      <td>Father of the Bride Part II</td>\n",
       "      <td>False</td>\n",
       "      <td>5.7</td>\n",
       "      <td>173.0</td>\n",
       "    </tr>\n",
       "  </tbody>\n",
       "</table>\n",
       "<p>5 rows × 24 columns</p>\n",
       "</div>"
      ],
      "text/plain": [
       "   adult                              belongs_to_collection    budget  \\\n",
       "0  False  {'id': 10194, 'name': 'Toy Story Collection', ...  30000000   \n",
       "1  False                                                NaN  65000000   \n",
       "2  False  {'id': 119050, 'name': 'Grumpy Old Men Collect...         0   \n",
       "3  False                                                NaN  16000000   \n",
       "4  False  {'id': 96871, 'name': 'Father of the Bride Col...         0   \n",
       "\n",
       "                                              genres  \\\n",
       "0  [{'id': 16, 'name': 'Animation'}, {'id': 35, '...   \n",
       "1  [{'id': 12, 'name': 'Adventure'}, {'id': 14, '...   \n",
       "2  [{'id': 10749, 'name': 'Romance'}, {'id': 35, ...   \n",
       "3  [{'id': 35, 'name': 'Comedy'}, {'id': 18, 'nam...   \n",
       "4                     [{'id': 35, 'name': 'Comedy'}]   \n",
       "\n",
       "                               homepage     id    imdb_id original_language  \\\n",
       "0  http://toystory.disney.com/toy-story    862  tt0114709                en   \n",
       "1                                   NaN   8844  tt0113497                en   \n",
       "2                                   NaN  15602  tt0113228                en   \n",
       "3                                   NaN  31357  tt0114885                en   \n",
       "4                                   NaN  11862  tt0113041                en   \n",
       "\n",
       "                original_title  \\\n",
       "0                    Toy Story   \n",
       "1                      Jumanji   \n",
       "2             Grumpier Old Men   \n",
       "3            Waiting to Exhale   \n",
       "4  Father of the Bride Part II   \n",
       "\n",
       "                                            overview  ... release_date  \\\n",
       "0  Led by Woody, Andy's toys live happily in his ...  ...   1995-10-30   \n",
       "1  When siblings Judy and Peter discover an encha...  ...   1995-12-15   \n",
       "2  A family wedding reignites the ancient feud be...  ...   1995-12-22   \n",
       "3  Cheated on, mistreated and stepped on, the wom...  ...   1995-12-22   \n",
       "4  Just when George Banks has recovered from his ...  ...   1995-02-10   \n",
       "\n",
       "       revenue runtime                                   spoken_languages  \\\n",
       "0  373554033.0    81.0           [{'iso_639_1': 'en', 'name': 'English'}]   \n",
       "1  262797249.0   104.0  [{'iso_639_1': 'en', 'name': 'English'}, {'iso...   \n",
       "2          0.0   101.0           [{'iso_639_1': 'en', 'name': 'English'}]   \n",
       "3   81452156.0   127.0           [{'iso_639_1': 'en', 'name': 'English'}]   \n",
       "4   76578911.0   106.0           [{'iso_639_1': 'en', 'name': 'English'}]   \n",
       "\n",
       "     status                                            tagline  \\\n",
       "0  Released                                                NaN   \n",
       "1  Released          Roll the dice and unleash the excitement!   \n",
       "2  Released  Still Yelling. Still Fighting. Still Ready for...   \n",
       "3  Released  Friends are the people who let you be yourself...   \n",
       "4  Released  Just When His World Is Back To Normal... He's ...   \n",
       "\n",
       "                         title  video vote_average vote_count  \n",
       "0                    Toy Story  False          7.7     5415.0  \n",
       "1                      Jumanji  False          6.9     2413.0  \n",
       "2             Grumpier Old Men  False          6.5       92.0  \n",
       "3            Waiting to Exhale  False          6.1       34.0  \n",
       "4  Father of the Bride Part II  False          5.7      173.0  \n",
       "\n",
       "[5 rows x 24 columns]"
      ]
     },
     "execution_count": 9,
     "metadata": {},
     "output_type": "execute_result"
    }
   ],
   "source": [
    "# Loading data.\n",
    "df1 = pd.read_csv('movies_metadata.csv', low_memory=False)\n",
    "\n",
    "df1.head()"
   ]
  },
  {
   "cell_type": "code",
   "execution_count": 11,
   "metadata": {
    "ExecuteTime": {
     "end_time": "2020-11-02T06:31:03.501085Z",
     "start_time": "2020-11-02T06:31:03.062004Z"
    }
   },
   "outputs": [
    {
     "data": {
      "text/html": [
       "<div>\n",
       "<style scoped>\n",
       "    .dataframe tbody tr th:only-of-type {\n",
       "        vertical-align: middle;\n",
       "    }\n",
       "\n",
       "    .dataframe tbody tr th {\n",
       "        vertical-align: top;\n",
       "    }\n",
       "\n",
       "    .dataframe thead th {\n",
       "        text-align: right;\n",
       "    }\n",
       "</style>\n",
       "<table border=\"1\" class=\"dataframe\">\n",
       "  <thead>\n",
       "    <tr style=\"text-align: right;\">\n",
       "      <th></th>\n",
       "      <th>adult</th>\n",
       "      <th>belongs_to_collection</th>\n",
       "      <th>budget</th>\n",
       "      <th>genres</th>\n",
       "      <th>homepage</th>\n",
       "      <th>id</th>\n",
       "      <th>imdb_id</th>\n",
       "      <th>original_language</th>\n",
       "      <th>original_title</th>\n",
       "      <th>overview</th>\n",
       "      <th>...</th>\n",
       "      <th>release_date</th>\n",
       "      <th>revenue</th>\n",
       "      <th>runtime</th>\n",
       "      <th>spoken_languages</th>\n",
       "      <th>status</th>\n",
       "      <th>tagline</th>\n",
       "      <th>title</th>\n",
       "      <th>video</th>\n",
       "      <th>vote_average</th>\n",
       "      <th>vote_count</th>\n",
       "    </tr>\n",
       "  </thead>\n",
       "  <tbody>\n",
       "    <tr>\n",
       "      <th>45461</th>\n",
       "      <td>False</td>\n",
       "      <td>NaN</td>\n",
       "      <td>0</td>\n",
       "      <td>[{'id': 18, 'name': 'Drama'}, {'id': 10751, 'n...</td>\n",
       "      <td>http://www.imdb.com/title/tt6209470/</td>\n",
       "      <td>439050</td>\n",
       "      <td>tt6209470</td>\n",
       "      <td>fa</td>\n",
       "      <td>رگ خواب</td>\n",
       "      <td>Rising and falling between a man and woman.</td>\n",
       "      <td>...</td>\n",
       "      <td>NaN</td>\n",
       "      <td>0.0</td>\n",
       "      <td>90.0</td>\n",
       "      <td>[{'iso_639_1': 'fa', 'name': 'فارسی'}]</td>\n",
       "      <td>Released</td>\n",
       "      <td>Rising and falling between a man and woman</td>\n",
       "      <td>Subdue</td>\n",
       "      <td>False</td>\n",
       "      <td>4.0</td>\n",
       "      <td>1.0</td>\n",
       "    </tr>\n",
       "    <tr>\n",
       "      <th>45462</th>\n",
       "      <td>False</td>\n",
       "      <td>NaN</td>\n",
       "      <td>0</td>\n",
       "      <td>[{'id': 18, 'name': 'Drama'}]</td>\n",
       "      <td>NaN</td>\n",
       "      <td>111109</td>\n",
       "      <td>tt2028550</td>\n",
       "      <td>tl</td>\n",
       "      <td>Siglo ng Pagluluwal</td>\n",
       "      <td>An artist struggles to finish his work while a...</td>\n",
       "      <td>...</td>\n",
       "      <td>2011-11-17</td>\n",
       "      <td>0.0</td>\n",
       "      <td>360.0</td>\n",
       "      <td>[{'iso_639_1': 'tl', 'name': ''}]</td>\n",
       "      <td>Released</td>\n",
       "      <td>NaN</td>\n",
       "      <td>Century of Birthing</td>\n",
       "      <td>False</td>\n",
       "      <td>9.0</td>\n",
       "      <td>3.0</td>\n",
       "    </tr>\n",
       "    <tr>\n",
       "      <th>45463</th>\n",
       "      <td>False</td>\n",
       "      <td>NaN</td>\n",
       "      <td>0</td>\n",
       "      <td>[{'id': 28, 'name': 'Action'}, {'id': 18, 'nam...</td>\n",
       "      <td>NaN</td>\n",
       "      <td>67758</td>\n",
       "      <td>tt0303758</td>\n",
       "      <td>en</td>\n",
       "      <td>Betrayal</td>\n",
       "      <td>When one of her hits goes wrong, a professiona...</td>\n",
       "      <td>...</td>\n",
       "      <td>2003-08-01</td>\n",
       "      <td>0.0</td>\n",
       "      <td>90.0</td>\n",
       "      <td>[{'iso_639_1': 'en', 'name': 'English'}]</td>\n",
       "      <td>Released</td>\n",
       "      <td>A deadly game of wits.</td>\n",
       "      <td>Betrayal</td>\n",
       "      <td>False</td>\n",
       "      <td>3.8</td>\n",
       "      <td>6.0</td>\n",
       "    </tr>\n",
       "    <tr>\n",
       "      <th>45464</th>\n",
       "      <td>False</td>\n",
       "      <td>NaN</td>\n",
       "      <td>0</td>\n",
       "      <td>[]</td>\n",
       "      <td>NaN</td>\n",
       "      <td>227506</td>\n",
       "      <td>tt0008536</td>\n",
       "      <td>en</td>\n",
       "      <td>Satana likuyushchiy</td>\n",
       "      <td>In a small town live two brothers, one a minis...</td>\n",
       "      <td>...</td>\n",
       "      <td>1917-10-21</td>\n",
       "      <td>0.0</td>\n",
       "      <td>87.0</td>\n",
       "      <td>[]</td>\n",
       "      <td>Released</td>\n",
       "      <td>NaN</td>\n",
       "      <td>Satan Triumphant</td>\n",
       "      <td>False</td>\n",
       "      <td>0.0</td>\n",
       "      <td>0.0</td>\n",
       "    </tr>\n",
       "    <tr>\n",
       "      <th>45465</th>\n",
       "      <td>False</td>\n",
       "      <td>NaN</td>\n",
       "      <td>0</td>\n",
       "      <td>[]</td>\n",
       "      <td>NaN</td>\n",
       "      <td>461257</td>\n",
       "      <td>tt6980792</td>\n",
       "      <td>en</td>\n",
       "      <td>Queerama</td>\n",
       "      <td>50 years after decriminalisation of homosexual...</td>\n",
       "      <td>...</td>\n",
       "      <td>2017-06-09</td>\n",
       "      <td>0.0</td>\n",
       "      <td>75.0</td>\n",
       "      <td>[{'iso_639_1': 'en', 'name': 'English'}]</td>\n",
       "      <td>Released</td>\n",
       "      <td>NaN</td>\n",
       "      <td>Queerama</td>\n",
       "      <td>False</td>\n",
       "      <td>0.0</td>\n",
       "      <td>0.0</td>\n",
       "    </tr>\n",
       "  </tbody>\n",
       "</table>\n",
       "<p>5 rows × 24 columns</p>\n",
       "</div>"
      ],
      "text/plain": [
       "       adult belongs_to_collection budget  \\\n",
       "45461  False                   NaN      0   \n",
       "45462  False                   NaN      0   \n",
       "45463  False                   NaN      0   \n",
       "45464  False                   NaN      0   \n",
       "45465  False                   NaN      0   \n",
       "\n",
       "                                                  genres  \\\n",
       "45461  [{'id': 18, 'name': 'Drama'}, {'id': 10751, 'n...   \n",
       "45462                      [{'id': 18, 'name': 'Drama'}]   \n",
       "45463  [{'id': 28, 'name': 'Action'}, {'id': 18, 'nam...   \n",
       "45464                                                 []   \n",
       "45465                                                 []   \n",
       "\n",
       "                                   homepage      id    imdb_id  \\\n",
       "45461  http://www.imdb.com/title/tt6209470/  439050  tt6209470   \n",
       "45462                                   NaN  111109  tt2028550   \n",
       "45463                                   NaN   67758  tt0303758   \n",
       "45464                                   NaN  227506  tt0008536   \n",
       "45465                                   NaN  461257  tt6980792   \n",
       "\n",
       "      original_language       original_title  \\\n",
       "45461                fa              رگ خواب   \n",
       "45462                tl  Siglo ng Pagluluwal   \n",
       "45463                en             Betrayal   \n",
       "45464                en  Satana likuyushchiy   \n",
       "45465                en             Queerama   \n",
       "\n",
       "                                                overview  ... release_date  \\\n",
       "45461        Rising and falling between a man and woman.  ...          NaN   \n",
       "45462  An artist struggles to finish his work while a...  ...   2011-11-17   \n",
       "45463  When one of her hits goes wrong, a professiona...  ...   2003-08-01   \n",
       "45464  In a small town live two brothers, one a minis...  ...   1917-10-21   \n",
       "45465  50 years after decriminalisation of homosexual...  ...   2017-06-09   \n",
       "\n",
       "      revenue runtime                          spoken_languages    status  \\\n",
       "45461     0.0    90.0    [{'iso_639_1': 'fa', 'name': 'فارسی'}]  Released   \n",
       "45462     0.0   360.0         [{'iso_639_1': 'tl', 'name': ''}]  Released   \n",
       "45463     0.0    90.0  [{'iso_639_1': 'en', 'name': 'English'}]  Released   \n",
       "45464     0.0    87.0                                        []  Released   \n",
       "45465     0.0    75.0  [{'iso_639_1': 'en', 'name': 'English'}]  Released   \n",
       "\n",
       "                                          tagline                title  video  \\\n",
       "45461  Rising and falling between a man and woman               Subdue  False   \n",
       "45462                                         NaN  Century of Birthing  False   \n",
       "45463                      A deadly game of wits.             Betrayal  False   \n",
       "45464                                         NaN     Satan Triumphant  False   \n",
       "45465                                         NaN             Queerama  False   \n",
       "\n",
       "      vote_average vote_count  \n",
       "45461          4.0        1.0  \n",
       "45462          9.0        3.0  \n",
       "45463          3.8        6.0  \n",
       "45464          0.0        0.0  \n",
       "45465          0.0        0.0  \n",
       "\n",
       "[5 rows x 24 columns]"
      ]
     },
     "execution_count": 11,
     "metadata": {},
     "output_type": "execute_result"
    }
   ],
   "source": [
    "# Checking the tail of the data.\n",
    "\n",
    "df1.tail()"
   ]
  },
  {
   "cell_type": "code",
   "execution_count": 12,
   "metadata": {
    "ExecuteTime": {
     "end_time": "2020-11-02T06:31:29.753388Z",
     "start_time": "2020-11-02T06:31:29.297761Z"
    }
   },
   "outputs": [
    {
     "name": "stdout",
     "output_type": "stream",
     "text": [
      "<class 'pandas.core.frame.DataFrame'>\n",
      "RangeIndex: 45466 entries, 0 to 45465\n",
      "Data columns (total 24 columns):\n",
      " #   Column                 Non-Null Count  Dtype  \n",
      "---  ------                 --------------  -----  \n",
      " 0   adult                  45466 non-null  object \n",
      " 1   belongs_to_collection  4494 non-null   object \n",
      " 2   budget                 45466 non-null  object \n",
      " 3   genres                 45466 non-null  object \n",
      " 4   homepage               7782 non-null   object \n",
      " 5   id                     45466 non-null  object \n",
      " 6   imdb_id                45449 non-null  object \n",
      " 7   original_language      45455 non-null  object \n",
      " 8   original_title         45466 non-null  object \n",
      " 9   overview               44512 non-null  object \n",
      " 10  popularity             45461 non-null  object \n",
      " 11  poster_path            45080 non-null  object \n",
      " 12  production_companies   45463 non-null  object \n",
      " 13  production_countries   45463 non-null  object \n",
      " 14  release_date           45379 non-null  object \n",
      " 15  revenue                45460 non-null  float64\n",
      " 16  runtime                45203 non-null  float64\n",
      " 17  spoken_languages       45460 non-null  object \n",
      " 18  status                 45379 non-null  object \n",
      " 19  tagline                20412 non-null  object \n",
      " 20  title                  45460 non-null  object \n",
      " 21  video                  45460 non-null  object \n",
      " 22  vote_average           45460 non-null  float64\n",
      " 23  vote_count             45460 non-null  float64\n",
      "dtypes: float64(4), object(20)\n",
      "memory usage: 8.3+ MB\n"
     ]
    }
   ],
   "source": [
    "# the dataset info.\n",
    "\n",
    "df1.info()"
   ]
  },
  {
   "cell_type": "code",
   "execution_count": 8,
   "metadata": {
    "ExecuteTime": {
     "end_time": "2020-11-02T06:19:09.280490Z",
     "start_time": "2020-11-02T06:19:09.258485Z"
    }
   },
   "outputs": [
    {
     "data": {
      "text/plain": [
       "(45466, 24)"
      ]
     },
     "execution_count": 8,
     "metadata": {},
     "output_type": "execute_result"
    }
   ],
   "source": [
    "# Checking the shape of the data.\n",
    "df1.shape"
   ]
  },
  {
   "cell_type": "code",
   "execution_count": 14,
   "metadata": {
    "ExecuteTime": {
     "end_time": "2020-11-02T06:33:52.689111Z",
     "start_time": "2020-11-02T06:33:52.423102Z"
    }
   },
   "outputs": [
    {
     "data": {
      "text/html": [
       "<div>\n",
       "<style scoped>\n",
       "    .dataframe tbody tr th:only-of-type {\n",
       "        vertical-align: middle;\n",
       "    }\n",
       "\n",
       "    .dataframe tbody tr th {\n",
       "        vertical-align: top;\n",
       "    }\n",
       "\n",
       "    .dataframe thead th {\n",
       "        text-align: right;\n",
       "    }\n",
       "</style>\n",
       "<table border=\"1\" class=\"dataframe\">\n",
       "  <thead>\n",
       "    <tr style=\"text-align: right;\">\n",
       "      <th></th>\n",
       "      <th>revenue</th>\n",
       "      <th>runtime</th>\n",
       "      <th>vote_average</th>\n",
       "      <th>vote_count</th>\n",
       "    </tr>\n",
       "  </thead>\n",
       "  <tbody>\n",
       "    <tr>\n",
       "      <th>count</th>\n",
       "      <td>4.546000e+04</td>\n",
       "      <td>45203.000000</td>\n",
       "      <td>45460.000000</td>\n",
       "      <td>45460.000000</td>\n",
       "    </tr>\n",
       "    <tr>\n",
       "      <th>mean</th>\n",
       "      <td>1.120935e+07</td>\n",
       "      <td>94.128199</td>\n",
       "      <td>5.618207</td>\n",
       "      <td>109.897338</td>\n",
       "    </tr>\n",
       "    <tr>\n",
       "      <th>std</th>\n",
       "      <td>6.433225e+07</td>\n",
       "      <td>38.407810</td>\n",
       "      <td>1.924216</td>\n",
       "      <td>491.310374</td>\n",
       "    </tr>\n",
       "    <tr>\n",
       "      <th>min</th>\n",
       "      <td>0.000000e+00</td>\n",
       "      <td>0.000000</td>\n",
       "      <td>0.000000</td>\n",
       "      <td>0.000000</td>\n",
       "    </tr>\n",
       "    <tr>\n",
       "      <th>25%</th>\n",
       "      <td>0.000000e+00</td>\n",
       "      <td>85.000000</td>\n",
       "      <td>5.000000</td>\n",
       "      <td>3.000000</td>\n",
       "    </tr>\n",
       "    <tr>\n",
       "      <th>50%</th>\n",
       "      <td>0.000000e+00</td>\n",
       "      <td>95.000000</td>\n",
       "      <td>6.000000</td>\n",
       "      <td>10.000000</td>\n",
       "    </tr>\n",
       "    <tr>\n",
       "      <th>75%</th>\n",
       "      <td>0.000000e+00</td>\n",
       "      <td>107.000000</td>\n",
       "      <td>6.800000</td>\n",
       "      <td>34.000000</td>\n",
       "    </tr>\n",
       "    <tr>\n",
       "      <th>max</th>\n",
       "      <td>2.787965e+09</td>\n",
       "      <td>1256.000000</td>\n",
       "      <td>10.000000</td>\n",
       "      <td>14075.000000</td>\n",
       "    </tr>\n",
       "  </tbody>\n",
       "</table>\n",
       "</div>"
      ],
      "text/plain": [
       "            revenue       runtime  vote_average    vote_count\n",
       "count  4.546000e+04  45203.000000  45460.000000  45460.000000\n",
       "mean   1.120935e+07     94.128199      5.618207    109.897338\n",
       "std    6.433225e+07     38.407810      1.924216    491.310374\n",
       "min    0.000000e+00      0.000000      0.000000      0.000000\n",
       "25%    0.000000e+00     85.000000      5.000000      3.000000\n",
       "50%    0.000000e+00     95.000000      6.000000     10.000000\n",
       "75%    0.000000e+00    107.000000      6.800000     34.000000\n",
       "max    2.787965e+09   1256.000000     10.000000  14075.000000"
      ]
     },
     "execution_count": 14,
     "metadata": {},
     "output_type": "execute_result"
    }
   ],
   "source": [
    "df1.describe()"
   ]
  },
  {
   "cell_type": "markdown",
   "metadata": {},
   "source": [
    "Univariate Analysis"
   ]
  },
  {
   "cell_type": "code",
   "execution_count": 15,
   "metadata": {
    "ExecuteTime": {
     "end_time": "2020-11-02T06:36:30.243393Z",
     "start_time": "2020-11-02T06:36:26.462109Z"
    }
   },
   "outputs": [
    {
     "data": {
      "text/plain": [
       "<matplotlib.axes._subplots.AxesSubplot at 0x263b61ff9c8>"
      ]
     },
     "execution_count": 15,
     "metadata": {},
     "output_type": "execute_result"
    },
    {
     "data": {
      "image/png": "[encoded data removed]",
      "text/plain": [
       "<Figure size 432x288 with 1 Axes>"
      ]
     },
     "metadata": {
      "needs_background": "light"
     },
     "output_type": "display_data"
    }
   ],
   "source": [
    "df1['vote_average'].hist(bins=20)"
   ]
  },
  {
   "cell_type": "code",
   "execution_count": 16,
   "metadata": {
    "ExecuteTime": {
     "end_time": "2020-11-02T06:38:37.004616Z",
     "start_time": "2020-11-02T06:38:34.907904Z"
    }
   },
   "outputs": [
    {
     "data": {
      "text/plain": [
       "<matplotlib.axes._subplots.AxesSubplot at 0x263c4ef9288>"
      ]
     },
     "execution_count": 16,
     "metadata": {},
     "output_type": "execute_result"
    },
    {
     "data": {
      "image/png": "[encoded data removed]",
      "text/plain": [
       "<Figure size 432x288 with 1 Axes>"
      ]
     },
     "metadata": {
      "needs_background": "light"
     },
     "output_type": "display_data"
    }
   ],
   "source": [
    "df1['vote_count'].hist(bins=20)"
   ]
  },
  {
   "cell_type": "code",
   "execution_count": 17,
   "metadata": {
    "ExecuteTime": {
     "end_time": "2020-11-02T06:39:48.861362Z",
     "start_time": "2020-11-02T06:39:21.389188Z"
    }
   },
   "outputs": [],
   "source": [
    "import seaborn as sns"
   ]
  },
  {
   "cell_type": "code",
   "execution_count": 18,
   "metadata": {
    "ExecuteTime": {
     "end_time": "2020-11-02T06:40:38.018044Z",
     "start_time": "2020-11-02T06:40:37.033018Z"
    }
   },
   "outputs": [
    {
     "data": {
      "text/plain": [
       "<matplotlib.axes._subplots.AxesSubplot at 0x263c48db608>"
      ]
     },
     "execution_count": 18,
     "metadata": {},
     "output_type": "execute_result"
    },
    {
     "data": {
      "image/png": "[encoded data removed]",
      "text/plain": [
       "<Figure size 432x288 with 1 Axes>"
      ]
     },
     "metadata": {
      "needs_background": "light"
     },
     "output_type": "display_data"
    }
   ],
   "source": [
    "sns.boxplot(df1['vote_average'])"
   ]
  },
  {
   "cell_type": "code",
   "execution_count": 19,
   "metadata": {
    "ExecuteTime": {
     "end_time": "2020-11-02T06:41:40.080205Z",
     "start_time": "2020-11-02T06:41:38.368867Z"
    }
   },
   "outputs": [
    {
     "data": {
      "text/plain": [
       "<matplotlib.axes._subplots.AxesSubplot at 0x263c8449f88>"
      ]
     },
     "execution_count": 19,
     "metadata": {},
     "output_type": "execute_result"
    },
    {
     "data": {
      "image/png": "[encoded data removed]",
      "text/plain": [
       "<Figure size 432x288 with 1 Axes>"
      ]
     },
     "metadata": {
      "needs_background": "light"
     },
     "output_type": "display_data"
    }
   ],
   "source": [
    "sns.boxplot(df1['vote_count'])"
   ]
  },
  {
   "cell_type": "code",
   "execution_count": 20,
   "metadata": {
    "ExecuteTime": {
     "end_time": "2020-11-02T06:42:46.911293Z",
     "start_time": "2020-11-02T06:42:46.878287Z"
    }
   },
   "outputs": [
    {
     "data": {
      "text/plain": [
       "5.618207215133889"
      ]
     },
     "execution_count": 20,
     "metadata": {},
     "output_type": "execute_result"
    }
   ],
   "source": [
    "c = df1['vote_average'].mean()\n",
    "c"
   ]
  },
  {
   "cell_type": "code",
   "execution_count": 23,
   "metadata": {
    "ExecuteTime": {
     "end_time": "2020-11-02T06:44:06.884645Z",
     "start_time": "2020-11-02T06:44:06.843646Z"
    }
   },
   "outputs": [
    {
     "data": {
      "text/plain": [
       "160.0"
      ]
     },
     "execution_count": 23,
     "metadata": {},
     "output_type": "execute_result"
    }
   ],
   "source": [
    "m = df1['vote_count'].quantile(.9)\n",
    "m"
   ]
  },
  {
   "cell_type": "code",
   "execution_count": 25,
   "metadata": {
    "ExecuteTime": {
     "end_time": "2020-11-02T06:50:50.626674Z",
     "start_time": "2020-11-02T06:50:50.242110Z"
    }
   },
   "outputs": [
    {
     "data": {
      "text/html": [
       "<div>\n",
       "<style scoped>\n",
       "    .dataframe tbody tr th:only-of-type {\n",
       "        vertical-align: middle;\n",
       "    }\n",
       "\n",
       "    .dataframe tbody tr th {\n",
       "        vertical-align: top;\n",
       "    }\n",
       "\n",
       "    .dataframe thead th {\n",
       "        text-align: right;\n",
       "    }\n",
       "</style>\n",
       "<table border=\"1\" class=\"dataframe\">\n",
       "  <thead>\n",
       "    <tr style=\"text-align: right;\">\n",
       "      <th></th>\n",
       "      <th>adult</th>\n",
       "      <th>belongs_to_collection</th>\n",
       "      <th>budget</th>\n",
       "      <th>genres</th>\n",
       "      <th>homepage</th>\n",
       "      <th>id</th>\n",
       "      <th>imdb_id</th>\n",
       "      <th>original_language</th>\n",
       "      <th>original_title</th>\n",
       "      <th>overview</th>\n",
       "      <th>...</th>\n",
       "      <th>release_date</th>\n",
       "      <th>revenue</th>\n",
       "      <th>runtime</th>\n",
       "      <th>spoken_languages</th>\n",
       "      <th>status</th>\n",
       "      <th>tagline</th>\n",
       "      <th>title</th>\n",
       "      <th>video</th>\n",
       "      <th>vote_average</th>\n",
       "      <th>vote_count</th>\n",
       "    </tr>\n",
       "  </thead>\n",
       "  <tbody>\n",
       "    <tr>\n",
       "      <th>522</th>\n",
       "      <td>False</td>\n",
       "      <td>NaN</td>\n",
       "      <td>22000000</td>\n",
       "      <td>[{'id': 18, 'name': 'Drama'}, {'id': 36, 'name...</td>\n",
       "      <td>http://www.schindlerslist.com/</td>\n",
       "      <td>424</td>\n",
       "      <td>tt0108052</td>\n",
       "      <td>en</td>\n",
       "      <td>Schindler's List</td>\n",
       "      <td>The true story of how businessman Oskar Schind...</td>\n",
       "      <td>...</td>\n",
       "      <td>1993-11-29</td>\n",
       "      <td>3.213656e+08</td>\n",
       "      <td>195.0</td>\n",
       "      <td>[{'iso_639_1': 'de', 'name': 'Deutsch'}, {'iso...</td>\n",
       "      <td>Released</td>\n",
       "      <td>Whoever saves one life, saves the world entire.</td>\n",
       "      <td>Schindler's List</td>\n",
       "      <td>False</td>\n",
       "      <td>8.3</td>\n",
       "      <td>4436.0</td>\n",
       "    </tr>\n",
       "    <tr>\n",
       "      <th>1639</th>\n",
       "      <td>False</td>\n",
       "      <td>NaN</td>\n",
       "      <td>200000000</td>\n",
       "      <td>[{'id': 18, 'name': 'Drama'}, {'id': 10749, 'n...</td>\n",
       "      <td>http://www.titanicmovie.com</td>\n",
       "      <td>597</td>\n",
       "      <td>tt0120338</td>\n",
       "      <td>en</td>\n",
       "      <td>Titanic</td>\n",
       "      <td>84 years later, a 101-year-old woman named Ros...</td>\n",
       "      <td>...</td>\n",
       "      <td>1997-11-18</td>\n",
       "      <td>1.845034e+09</td>\n",
       "      <td>194.0</td>\n",
       "      <td>[{'iso_639_1': 'en', 'name': 'English'}, {'iso...</td>\n",
       "      <td>Released</td>\n",
       "      <td>Nothing on Earth could come between them.</td>\n",
       "      <td>Titanic</td>\n",
       "      <td>False</td>\n",
       "      <td>7.5</td>\n",
       "      <td>7770.0</td>\n",
       "    </tr>\n",
       "    <tr>\n",
       "      <th>4766</th>\n",
       "      <td>False</td>\n",
       "      <td>{'id': 1241, 'name': 'Harry Potter Collection'...</td>\n",
       "      <td>125000000</td>\n",
       "      <td>[{'id': 12, 'name': 'Adventure'}, {'id': 14, '...</td>\n",
       "      <td>http://harrypotter.warnerbros.com/harrypottera...</td>\n",
       "      <td>671</td>\n",
       "      <td>tt0241527</td>\n",
       "      <td>en</td>\n",
       "      <td>Harry Potter and the Philosopher's Stone</td>\n",
       "      <td>Harry Potter has lived under the stairs at his...</td>\n",
       "      <td>...</td>\n",
       "      <td>2001-11-16</td>\n",
       "      <td>9.764756e+08</td>\n",
       "      <td>152.0</td>\n",
       "      <td>[{'iso_639_1': 'en', 'name': 'English'}]</td>\n",
       "      <td>Released</td>\n",
       "      <td>Let the Magic Begin.</td>\n",
       "      <td>Harry Potter and the Philosopher's Stone</td>\n",
       "      <td>False</td>\n",
       "      <td>7.5</td>\n",
       "      <td>7188.0</td>\n",
       "    </tr>\n",
       "    <tr>\n",
       "      <th>4863</th>\n",
       "      <td>False</td>\n",
       "      <td>{'id': 119, 'name': 'The Lord of the Rings Col...</td>\n",
       "      <td>93000000</td>\n",
       "      <td>[{'id': 12, 'name': 'Adventure'}, {'id': 14, '...</td>\n",
       "      <td>http://www.lordoftherings.net/</td>\n",
       "      <td>120</td>\n",
       "      <td>tt0120737</td>\n",
       "      <td>en</td>\n",
       "      <td>The Lord of the Rings: The Fellowship of the Ring</td>\n",
       "      <td>Young hobbit Frodo Baggins, after inheriting a...</td>\n",
       "      <td>...</td>\n",
       "      <td>2001-12-18</td>\n",
       "      <td>8.713684e+08</td>\n",
       "      <td>178.0</td>\n",
       "      <td>[{'iso_639_1': 'en', 'name': 'English'}]</td>\n",
       "      <td>Released</td>\n",
       "      <td>One ring to rule them all</td>\n",
       "      <td>The Lord of the Rings: The Fellowship of the Ring</td>\n",
       "      <td>False</td>\n",
       "      <td>8.0</td>\n",
       "      <td>8892.0</td>\n",
       "    </tr>\n",
       "    <tr>\n",
       "      <th>5814</th>\n",
       "      <td>False</td>\n",
       "      <td>{'id': 119, 'name': 'The Lord of the Rings Col...</td>\n",
       "      <td>79000000</td>\n",
       "      <td>[{'id': 12, 'name': 'Adventure'}, {'id': 14, '...</td>\n",
       "      <td>http://www.lordoftherings.net/</td>\n",
       "      <td>121</td>\n",
       "      <td>tt0167261</td>\n",
       "      <td>en</td>\n",
       "      <td>The Lord of the Rings: The Two Towers</td>\n",
       "      <td>Frodo and Sam are trekking to Mordor to destro...</td>\n",
       "      <td>...</td>\n",
       "      <td>2002-12-18</td>\n",
       "      <td>9.262874e+08</td>\n",
       "      <td>179.0</td>\n",
       "      <td>[{'iso_639_1': 'en', 'name': 'English'}]</td>\n",
       "      <td>Released</td>\n",
       "      <td>A New Power Is Rising.</td>\n",
       "      <td>The Lord of the Rings: The Two Towers</td>\n",
       "      <td>False</td>\n",
       "      <td>8.0</td>\n",
       "      <td>7641.0</td>\n",
       "    </tr>\n",
       "  </tbody>\n",
       "</table>\n",
       "<p>5 rows × 24 columns</p>\n",
       "</div>"
      ],
      "text/plain": [
       "      adult                              belongs_to_collection     budget  \\\n",
       "522   False                                                NaN   22000000   \n",
       "1639  False                                                NaN  200000000   \n",
       "4766  False  {'id': 1241, 'name': 'Harry Potter Collection'...  125000000   \n",
       "4863  False  {'id': 119, 'name': 'The Lord of the Rings Col...   93000000   \n",
       "5814  False  {'id': 119, 'name': 'The Lord of the Rings Col...   79000000   \n",
       "\n",
       "                                                 genres  \\\n",
       "522   [{'id': 18, 'name': 'Drama'}, {'id': 36, 'name...   \n",
       "1639  [{'id': 18, 'name': 'Drama'}, {'id': 10749, 'n...   \n",
       "4766  [{'id': 12, 'name': 'Adventure'}, {'id': 14, '...   \n",
       "4863  [{'id': 12, 'name': 'Adventure'}, {'id': 14, '...   \n",
       "5814  [{'id': 12, 'name': 'Adventure'}, {'id': 14, '...   \n",
       "\n",
       "                                               homepage   id    imdb_id  \\\n",
       "522                      http://www.schindlerslist.com/  424  tt0108052   \n",
       "1639                        http://www.titanicmovie.com  597  tt0120338   \n",
       "4766  http://harrypotter.warnerbros.com/harrypottera...  671  tt0241527   \n",
       "4863                     http://www.lordoftherings.net/  120  tt0120737   \n",
       "5814                     http://www.lordoftherings.net/  121  tt0167261   \n",
       "\n",
       "     original_language                                     original_title  \\\n",
       "522                 en                                   Schindler's List   \n",
       "1639                en                                            Titanic   \n",
       "4766                en           Harry Potter and the Philosopher's Stone   \n",
       "4863                en  The Lord of the Rings: The Fellowship of the Ring   \n",
       "5814                en              The Lord of the Rings: The Two Towers   \n",
       "\n",
       "                                               overview  ... release_date  \\\n",
       "522   The true story of how businessman Oskar Schind...  ...   1993-11-29   \n",
       "1639  84 years later, a 101-year-old woman named Ros...  ...   1997-11-18   \n",
       "4766  Harry Potter has lived under the stairs at his...  ...   2001-11-16   \n",
       "4863  Young hobbit Frodo Baggins, after inheriting a...  ...   2001-12-18   \n",
       "5814  Frodo and Sam are trekking to Mordor to destro...  ...   2002-12-18   \n",
       "\n",
       "           revenue runtime                                   spoken_languages  \\\n",
       "522   3.213656e+08   195.0  [{'iso_639_1': 'de', 'name': 'Deutsch'}, {'iso...   \n",
       "1639  1.845034e+09   194.0  [{'iso_639_1': 'en', 'name': 'English'}, {'iso...   \n",
       "4766  9.764756e+08   152.0           [{'iso_639_1': 'en', 'name': 'English'}]   \n",
       "4863  8.713684e+08   178.0           [{'iso_639_1': 'en', 'name': 'English'}]   \n",
       "5814  9.262874e+08   179.0           [{'iso_639_1': 'en', 'name': 'English'}]   \n",
       "\n",
       "        status                                          tagline  \\\n",
       "522   Released  Whoever saves one life, saves the world entire.   \n",
       "1639  Released        Nothing on Earth could come between them.   \n",
       "4766  Released                             Let the Magic Begin.   \n",
       "4863  Released                        One ring to rule them all   \n",
       "5814  Released                           A New Power Is Rising.   \n",
       "\n",
       "                                                  title  video vote_average  \\\n",
       "522                                    Schindler's List  False          8.3   \n",
       "1639                                            Titanic  False          7.5   \n",
       "4766           Harry Potter and the Philosopher's Stone  False          7.5   \n",
       "4863  The Lord of the Rings: The Fellowship of the Ring  False          8.0   \n",
       "5814              The Lord of the Rings: The Two Towers  False          8.0   \n",
       "\n",
       "     vote_count  \n",
       "522      4436.0  \n",
       "1639     7770.0  \n",
       "4766     7188.0  \n",
       "4863     8892.0  \n",
       "5814     7641.0  \n",
       "\n",
       "[5 rows x 24 columns]"
      ]
     },
     "execution_count": 25,
     "metadata": {},
     "output_type": "execute_result"
    }
   ],
   "source": [
    "qm = df1[(df1['runtime'] > 150) & (df1['revenue'] > 300000000) & (df1['homepage'].notna())]\n",
    "\n",
    "qm.head()"
   ]
  },
  {
   "cell_type": "code",
   "execution_count": 27,
   "metadata": {
    "ExecuteTime": {
     "end_time": "2020-11-02T06:51:02.888893Z",
     "start_time": "2020-11-02T06:51:02.862892Z"
    }
   },
   "outputs": [
    {
     "data": {
      "text/plain": [
       "(27, 24)"
      ]
     },
     "execution_count": 27,
     "metadata": {},
     "output_type": "execute_result"
    }
   ],
   "source": [
    "qm.shape"
   ]
  },
  {
   "cell_type": "code",
   "execution_count": 28,
   "metadata": {
    "ExecuteTime": {
     "end_time": "2020-11-02T06:55:24.739909Z",
     "start_time": "2020-11-02T06:55:24.715897Z"
    }
   },
   "outputs": [],
   "source": [
    "qm = qm[qm['vote_count'] >= m]"
   ]
  },
  {
   "cell_type": "code",
   "execution_count": 29,
   "metadata": {
    "ExecuteTime": {
     "end_time": "2020-11-02T06:55:30.935407Z",
     "start_time": "2020-11-02T06:55:30.910413Z"
    }
   },
   "outputs": [
    {
     "data": {
      "text/plain": [
       "(27, 24)"
      ]
     },
     "execution_count": 29,
     "metadata": {},
     "output_type": "execute_result"
    }
   ],
   "source": [
    "qm.shape"
   ]
  },
  {
   "cell_type": "code",
   "execution_count": 30,
   "metadata": {
    "ExecuteTime": {
     "end_time": "2020-11-02T06:57:58.084076Z",
     "start_time": "2020-11-02T06:57:58.058071Z"
    }
   },
   "outputs": [],
   "source": [
    "def wr(x, m=m, c=c):\n",
    "    v = x['vote_count']\n",
    "    r = x['vote_average']\n",
    "    return (v/(v+m) * r) + (m/(m+v) * c)"
   ]
  },
  {
   "cell_type": "code",
   "execution_count": 31,
   "metadata": {
    "ExecuteTime": {
     "end_time": "2020-11-02T06:59:20.793916Z",
     "start_time": "2020-11-02T06:59:20.651910Z"
    }
   },
   "outputs": [],
   "source": [
    "qm['score'] = qm.apply(wr, axis=1)"
   ]
  },
  {
   "cell_type": "code",
   "execution_count": 32,
   "metadata": {
    "ExecuteTime": {
     "end_time": "2020-11-02T06:59:28.279809Z",
     "start_time": "2020-11-02T06:59:27.933809Z"
    }
   },
   "outputs": [
    {
     "data": {
      "text/html": [
       "<div>\n",
       "<style scoped>\n",
       "    .dataframe tbody tr th:only-of-type {\n",
       "        vertical-align: middle;\n",
       "    }\n",
       "\n",
       "    .dataframe tbody tr th {\n",
       "        vertical-align: top;\n",
       "    }\n",
       "\n",
       "    .dataframe thead th {\n",
       "        text-align: right;\n",
       "    }\n",
       "</style>\n",
       "<table border=\"1\" class=\"dataframe\">\n",
       "  <thead>\n",
       "    <tr style=\"text-align: right;\">\n",
       "      <th></th>\n",
       "      <th>adult</th>\n",
       "      <th>belongs_to_collection</th>\n",
       "      <th>budget</th>\n",
       "      <th>genres</th>\n",
       "      <th>homepage</th>\n",
       "      <th>id</th>\n",
       "      <th>imdb_id</th>\n",
       "      <th>original_language</th>\n",
       "      <th>original_title</th>\n",
       "      <th>overview</th>\n",
       "      <th>...</th>\n",
       "      <th>revenue</th>\n",
       "      <th>runtime</th>\n",
       "      <th>spoken_languages</th>\n",
       "      <th>status</th>\n",
       "      <th>tagline</th>\n",
       "      <th>title</th>\n",
       "      <th>video</th>\n",
       "      <th>vote_average</th>\n",
       "      <th>vote_count</th>\n",
       "      <th>score</th>\n",
       "    </tr>\n",
       "  </thead>\n",
       "  <tbody>\n",
       "    <tr>\n",
       "      <th>522</th>\n",
       "      <td>False</td>\n",
       "      <td>NaN</td>\n",
       "      <td>22000000</td>\n",
       "      <td>[{'id': 18, 'name': 'Drama'}, {'id': 36, 'name...</td>\n",
       "      <td>http://www.schindlerslist.com/</td>\n",
       "      <td>424</td>\n",
       "      <td>tt0108052</td>\n",
       "      <td>en</td>\n",
       "      <td>Schindler's List</td>\n",
       "      <td>The true story of how businessman Oskar Schind...</td>\n",
       "      <td>...</td>\n",
       "      <td>3.213656e+08</td>\n",
       "      <td>195.0</td>\n",
       "      <td>[{'iso_639_1': 'de', 'name': 'Deutsch'}, {'iso...</td>\n",
       "      <td>Released</td>\n",
       "      <td>Whoever saves one life, saves the world entire.</td>\n",
       "      <td>Schindler's List</td>\n",
       "      <td>False</td>\n",
       "      <td>8.3</td>\n",
       "      <td>4436.0</td>\n",
       "      <td>8.206639</td>\n",
       "    </tr>\n",
       "    <tr>\n",
       "      <th>1639</th>\n",
       "      <td>False</td>\n",
       "      <td>NaN</td>\n",
       "      <td>200000000</td>\n",
       "      <td>[{'id': 18, 'name': 'Drama'}, {'id': 10749, 'n...</td>\n",
       "      <td>http://www.titanicmovie.com</td>\n",
       "      <td>597</td>\n",
       "      <td>tt0120338</td>\n",
       "      <td>en</td>\n",
       "      <td>Titanic</td>\n",
       "      <td>84 years later, a 101-year-old woman named Ros...</td>\n",
       "      <td>...</td>\n",
       "      <td>1.845034e+09</td>\n",
       "      <td>194.0</td>\n",
       "      <td>[{'iso_639_1': 'en', 'name': 'English'}, {'iso...</td>\n",
       "      <td>Released</td>\n",
       "      <td>Nothing on Earth could come between them.</td>\n",
       "      <td>Titanic</td>\n",
       "      <td>False</td>\n",
       "      <td>7.5</td>\n",
       "      <td>7770.0</td>\n",
       "      <td>7.462032</td>\n",
       "    </tr>\n",
       "    <tr>\n",
       "      <th>4766</th>\n",
       "      <td>False</td>\n",
       "      <td>{'id': 1241, 'name': 'Harry Potter Collection'...</td>\n",
       "      <td>125000000</td>\n",
       "      <td>[{'id': 12, 'name': 'Adventure'}, {'id': 14, '...</td>\n",
       "      <td>http://harrypotter.warnerbros.com/harrypottera...</td>\n",
       "      <td>671</td>\n",
       "      <td>tt0241527</td>\n",
       "      <td>en</td>\n",
       "      <td>Harry Potter and the Philosopher's Stone</td>\n",
       "      <td>Harry Potter has lived under the stairs at his...</td>\n",
       "      <td>...</td>\n",
       "      <td>9.764756e+08</td>\n",
       "      <td>152.0</td>\n",
       "      <td>[{'iso_639_1': 'en', 'name': 'English'}]</td>\n",
       "      <td>Released</td>\n",
       "      <td>Let the Magic Begin.</td>\n",
       "      <td>Harry Potter and the Philosopher's Stone</td>\n",
       "      <td>False</td>\n",
       "      <td>7.5</td>\n",
       "      <td>7188.0</td>\n",
       "      <td>7.459025</td>\n",
       "    </tr>\n",
       "    <tr>\n",
       "      <th>4863</th>\n",
       "      <td>False</td>\n",
       "      <td>{'id': 119, 'name': 'The Lord of the Rings Col...</td>\n",
       "      <td>93000000</td>\n",
       "      <td>[{'id': 12, 'name': 'Adventure'}, {'id': 14, '...</td>\n",
       "      <td>http://www.lordoftherings.net/</td>\n",
       "      <td>120</td>\n",
       "      <td>tt0120737</td>\n",
       "      <td>en</td>\n",
       "      <td>The Lord of the Rings: The Fellowship of the Ring</td>\n",
       "      <td>Young hobbit Frodo Baggins, after inheriting a...</td>\n",
       "      <td>...</td>\n",
       "      <td>8.713684e+08</td>\n",
       "      <td>178.0</td>\n",
       "      <td>[{'iso_639_1': 'en', 'name': 'English'}]</td>\n",
       "      <td>Released</td>\n",
       "      <td>One ring to rule them all</td>\n",
       "      <td>The Lord of the Rings: The Fellowship of the Ring</td>\n",
       "      <td>False</td>\n",
       "      <td>8.0</td>\n",
       "      <td>8892.0</td>\n",
       "      <td>7.957900</td>\n",
       "    </tr>\n",
       "    <tr>\n",
       "      <th>5814</th>\n",
       "      <td>False</td>\n",
       "      <td>{'id': 119, 'name': 'The Lord of the Rings Col...</td>\n",
       "      <td>79000000</td>\n",
       "      <td>[{'id': 12, 'name': 'Adventure'}, {'id': 14, '...</td>\n",
       "      <td>http://www.lordoftherings.net/</td>\n",
       "      <td>121</td>\n",
       "      <td>tt0167261</td>\n",
       "      <td>en</td>\n",
       "      <td>The Lord of the Rings: The Two Towers</td>\n",
       "      <td>Frodo and Sam are trekking to Mordor to destro...</td>\n",
       "      <td>...</td>\n",
       "      <td>9.262874e+08</td>\n",
       "      <td>179.0</td>\n",
       "      <td>[{'iso_639_1': 'en', 'name': 'English'}]</td>\n",
       "      <td>Released</td>\n",
       "      <td>A New Power Is Rising.</td>\n",
       "      <td>The Lord of the Rings: The Two Towers</td>\n",
       "      <td>False</td>\n",
       "      <td>8.0</td>\n",
       "      <td>7641.0</td>\n",
       "      <td>7.951149</td>\n",
       "    </tr>\n",
       "  </tbody>\n",
       "</table>\n",
       "<p>5 rows × 25 columns</p>\n",
       "</div>"
      ],
      "text/plain": [
       "      adult                              belongs_to_collection     budget  \\\n",
       "522   False                                                NaN   22000000   \n",
       "1639  False                                                NaN  200000000   \n",
       "4766  False  {'id': 1241, 'name': 'Harry Potter Collection'...  125000000   \n",
       "4863  False  {'id': 119, 'name': 'The Lord of the Rings Col...   93000000   \n",
       "5814  False  {'id': 119, 'name': 'The Lord of the Rings Col...   79000000   \n",
       "\n",
       "                                                 genres  \\\n",
       "522   [{'id': 18, 'name': 'Drama'}, {'id': 36, 'name...   \n",
       "1639  [{'id': 18, 'name': 'Drama'}, {'id': 10749, 'n...   \n",
       "4766  [{'id': 12, 'name': 'Adventure'}, {'id': 14, '...   \n",
       "4863  [{'id': 12, 'name': 'Adventure'}, {'id': 14, '...   \n",
       "5814  [{'id': 12, 'name': 'Adventure'}, {'id': 14, '...   \n",
       "\n",
       "                                               homepage   id    imdb_id  \\\n",
       "522                      http://www.schindlerslist.com/  424  tt0108052   \n",
       "1639                        http://www.titanicmovie.com  597  tt0120338   \n",
       "4766  http://harrypotter.warnerbros.com/harrypottera...  671  tt0241527   \n",
       "4863                     http://www.lordoftherings.net/  120  tt0120737   \n",
       "5814                     http://www.lordoftherings.net/  121  tt0167261   \n",
       "\n",
       "     original_language                                     original_title  \\\n",
       "522                 en                                   Schindler's List   \n",
       "1639                en                                            Titanic   \n",
       "4766                en           Harry Potter and the Philosopher's Stone   \n",
       "4863                en  The Lord of the Rings: The Fellowship of the Ring   \n",
       "5814                en              The Lord of the Rings: The Two Towers   \n",
       "\n",
       "                                               overview  ...       revenue  \\\n",
       "522   The true story of how businessman Oskar Schind...  ...  3.213656e+08   \n",
       "1639  84 years later, a 101-year-old woman named Ros...  ...  1.845034e+09   \n",
       "4766  Harry Potter has lived under the stairs at his...  ...  9.764756e+08   \n",
       "4863  Young hobbit Frodo Baggins, after inheriting a...  ...  8.713684e+08   \n",
       "5814  Frodo and Sam are trekking to Mordor to destro...  ...  9.262874e+08   \n",
       "\n",
       "     runtime                                   spoken_languages    status  \\\n",
       "522    195.0  [{'iso_639_1': 'de', 'name': 'Deutsch'}, {'iso...  Released   \n",
       "1639   194.0  [{'iso_639_1': 'en', 'name': 'English'}, {'iso...  Released   \n",
       "4766   152.0           [{'iso_639_1': 'en', 'name': 'English'}]  Released   \n",
       "4863   178.0           [{'iso_639_1': 'en', 'name': 'English'}]  Released   \n",
       "5814   179.0           [{'iso_639_1': 'en', 'name': 'English'}]  Released   \n",
       "\n",
       "                                              tagline  \\\n",
       "522   Whoever saves one life, saves the world entire.   \n",
       "1639        Nothing on Earth could come between them.   \n",
       "4766                             Let the Magic Begin.   \n",
       "4863                        One ring to rule them all   \n",
       "5814                           A New Power Is Rising.   \n",
       "\n",
       "                                                  title  video vote_average  \\\n",
       "522                                    Schindler's List  False          8.3   \n",
       "1639                                            Titanic  False          7.5   \n",
       "4766           Harry Potter and the Philosopher's Stone  False          7.5   \n",
       "4863  The Lord of the Rings: The Fellowship of the Ring  False          8.0   \n",
       "5814              The Lord of the Rings: The Two Towers  False          8.0   \n",
       "\n",
       "     vote_count     score  \n",
       "522      4436.0  8.206639  \n",
       "1639     7770.0  7.462032  \n",
       "4766     7188.0  7.459025  \n",
       "4863     8892.0  7.957900  \n",
       "5814     7641.0  7.951149  \n",
       "\n",
       "[5 rows x 25 columns]"
      ]
     },
     "execution_count": 32,
     "metadata": {},
     "output_type": "execute_result"
    }
   ],
   "source": [
    "qm.head()"
   ]
  },
  {
   "cell_type": "code",
   "execution_count": 34,
   "metadata": {
    "ExecuteTime": {
     "end_time": "2020-11-02T07:01:02.845896Z",
     "start_time": "2020-11-02T07:01:02.767901Z"
    }
   },
   "outputs": [],
   "source": [
    "qm = qm.sort_values('score', ascending=False)"
   ]
  },
  {
   "cell_type": "code",
   "execution_count": 35,
   "metadata": {
    "ExecuteTime": {
     "end_time": "2020-11-02T07:02:11.480061Z",
     "start_time": "2020-11-02T07:02:11.412059Z"
    }
   },
   "outputs": [
    {
     "data": {
      "text/html": [
       "<div>\n",
       "<style scoped>\n",
       "    .dataframe tbody tr th:only-of-type {\n",
       "        vertical-align: middle;\n",
       "    }\n",
       "\n",
       "    .dataframe tbody tr th {\n",
       "        vertical-align: top;\n",
       "    }\n",
       "\n",
       "    .dataframe thead th {\n",
       "        text-align: right;\n",
       "    }\n",
       "</style>\n",
       "<table border=\"1\" class=\"dataframe\">\n",
       "  <thead>\n",
       "    <tr style=\"text-align: right;\">\n",
       "      <th></th>\n",
       "      <th>title</th>\n",
       "      <th>vote_count</th>\n",
       "      <th>vote_average</th>\n",
       "      <th>score</th>\n",
       "    </tr>\n",
       "  </thead>\n",
       "  <tbody>\n",
       "    <tr>\n",
       "      <th>12481</th>\n",
       "      <td>The Dark Knight</td>\n",
       "      <td>12269.0</td>\n",
       "      <td>8.3</td>\n",
       "      <td>8.265477</td>\n",
       "    </tr>\n",
       "    <tr>\n",
       "      <th>522</th>\n",
       "      <td>Schindler's List</td>\n",
       "      <td>4436.0</td>\n",
       "      <td>8.3</td>\n",
       "      <td>8.206639</td>\n",
       "    </tr>\n",
       "    <tr>\n",
       "      <th>22879</th>\n",
       "      <td>Interstellar</td>\n",
       "      <td>11187.0</td>\n",
       "      <td>8.1</td>\n",
       "      <td>8.065005</td>\n",
       "    </tr>\n",
       "    <tr>\n",
       "      <th>7000</th>\n",
       "      <td>The Lord of the Rings: The Return of the King</td>\n",
       "      <td>8226.0</td>\n",
       "      <td>8.1</td>\n",
       "      <td>8.052649</td>\n",
       "    </tr>\n",
       "    <tr>\n",
       "      <th>4863</th>\n",
       "      <td>The Lord of the Rings: The Fellowship of the Ring</td>\n",
       "      <td>8892.0</td>\n",
       "      <td>8.0</td>\n",
       "      <td>7.957900</td>\n",
       "    </tr>\n",
       "  </tbody>\n",
       "</table>\n",
       "</div>"
      ],
      "text/plain": [
       "                                                   title  vote_count  \\\n",
       "12481                                    The Dark Knight     12269.0   \n",
       "522                                     Schindler's List      4436.0   \n",
       "22879                                       Interstellar     11187.0   \n",
       "7000       The Lord of the Rings: The Return of the King      8226.0   \n",
       "4863   The Lord of the Rings: The Fellowship of the Ring      8892.0   \n",
       "\n",
       "       vote_average     score  \n",
       "12481           8.3  8.265477  \n",
       "522             8.3  8.206639  \n",
       "22879           8.1  8.065005  \n",
       "7000            8.1  8.052649  \n",
       "4863            8.0  7.957900  "
      ]
     },
     "execution_count": 35,
     "metadata": {},
     "output_type": "execute_result"
    }
   ],
   "source": [
    "qm[['title', 'vote_count', 'vote_average', 'score']].head()"
   ]
  },
  {
   "cell_type": "code",
   "execution_count": 60,
   "metadata": {
    "ExecuteTime": {
     "end_time": "2020-11-02T07:43:24.572481Z",
     "start_time": "2020-11-02T07:43:22.859479Z"
    }
   },
   "outputs": [
    {
     "data": {
      "text/plain": [
       "Text(0.5, 1.0, 'Most Voted Movies')"
      ]
     },
     "execution_count": 60,
     "metadata": {},
     "output_type": "execute_result"
    },
    {
     "data": {
      "image/png": "[encoded data removed]",
      "text/plain": [
       "<Figure size 1296x432 with 1 Axes>"
      ]
     },
     "metadata": {
      "needs_background": "light"
     },
     "output_type": "display_data"
    }
   ],
   "source": [
    "d = df1.sort_values('vote_count', ascending=False)\n",
    "plt.figure(figsize=(18,6))\n",
    "\n",
    "plt.barh(d.title.head(15), d.vote_count.head(15), align='center')\n",
    "plt.gca().invert_yaxis()\n",
    "plt.xlabel('Votes')\n",
    "plt.title('Most Voted Movies')"
   ]
  }
 ],
 "metadata": {
  "kernelspec": {
   "display_name": "Python 3",
   "language": "python",
   "name": "python3"
  },
  "language_info": {
   "codemirror_mode": {
    "name": "ipython",
    "version": 3
   },
   "file_extension": ".py",
   "mimetype": "text/x-python",
   "name": "python",
   "nbconvert_exporter": "python",
   "pygments_lexer": "ipython3",
   "version": "3.7.6"
  },
  "varInspector": {
   "cols": {
    "lenName": 16,
    "lenType": 16,
    "lenVar": 40
   },
   "kernels_config": {
    "python": {
     "delete_cmd_postfix": "",
     "delete_cmd_prefix": "del ",
     "library": "var_list.py",
     "varRefreshCmd": "print(var_dic_list())"
    },
    "r": {
     "delete_cmd_postfix": ") ",
     "delete_cmd_prefix": "rm(",
     "library": "var_list.r",
     "varRefreshCmd": "cat(var_dic_list()) "
    }
   },
   "types_to_exclude": [
    "module",
    "function",
    "builtin_function_or_method",
    "instance",
    "_Feature"
   ],
   "window_display": false
  }
 },
 "nbformat": 4,
 "nbformat_minor": 4
}
