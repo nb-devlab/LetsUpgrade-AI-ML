{
 "cells": [
  {
   "cell_type": "markdown",
   "metadata": {},
   "source": [
    "## Day 4 Assignment"
   ]
  },
  {
   "cell_type": "code",
   "execution_count": null,
   "metadata": {},
   "outputs": [],
   "source": []
  },
  {
   "cell_type": "code",
   "execution_count": 6,
   "metadata": {},
   "outputs": [
    {
     "name": "stdout",
     "output_type": "stream",
     "text": [
      "Addition of th two complex number is : (6+10j)\n",
      "Subtraction of the two complex number is : (2+4j)\n",
      "Multiplication of two complex number is : (-13+26j)\n",
      "Division of two complex number is : (2.230769230769231+0.15384615384615372j)\n"
     ]
    }
   ],
   "source": [
    "'''Addition, Subtraction, Multiplication, Division, Floor Division & Modulus operation on a complex number. Wherever feasible implement a program to demonstrate the same.'''\n",
    "\n",
    "a = 4+7j\n",
    "b = 2+3j\n",
    "\n",
    "# Addtion\n",
    "add = a + b\n",
    "print(\"Addition of th two complex number is :\", add)\n",
    "\n",
    "# Subtraction\n",
    "sub = a - b\n",
    "print(\"Subtraction of the two complex number is :\", sub)\n",
    "\n",
    "# Multiplication\n",
    "mult = a * b\n",
    "print(\"Multiplication of two complex number is :\", mult)\n",
    "\n",
    "# Division\n",
    "div = a/b\n",
    "print (\"Division of two complex number is :\", div)\n",
    "\n",
    "# Floor Division & # Modulus operations are not performed on python 3"
   ]
  },
  {
   "cell_type": "code",
   "execution_count": null,
   "metadata": {},
   "outputs": [],
   "source": []
  },
  {
   "cell_type": "markdown",
   "metadata": {},
   "source": [
    "__Research on range function and its parameters -- to be jotted down.\n",
    "Implement a program to demonstrate the same__\n",
    "\n",
    "Range function essentially dipicted as : range in (SI, EI, N)\n",
    "Uses a membership operator very often.\n",
    "SI -- indicates the start index, i.e the start from which the count begins\n",
    "EI -- indicated the end index, i.e the end index minus one\n",
    "N -- indicates the number of elements within range that the control shall skip over.\n",
    "\n",
    "range(3) -- Should give an output consisting of : 0 1 2\n",
    "range in (0, 7, 1) -- Should give an output of : 0 1 2 3 4 5 6\n",
    "range in (3, 10, 3) -- Should give an output of : 3 6 9\n",
    "\n",
    "Range function isn't executed by itself rather with others like a --for-- loop."
   ]
  },
  {
   "cell_type": "code",
   "execution_count": 5,
   "metadata": {},
   "outputs": [
    {
     "name": "stdout",
     "output_type": "stream",
     "text": [
      "0\n",
      "2\n",
      "4\n",
      "6\n",
      "8\n"
     ]
    }
   ],
   "source": [
    "# Example 1:\n",
    "\n",
    "for i in range (0, 10, 2):\n",
    "    print(i)"
   ]
  },
  {
   "cell_type": "code",
   "execution_count": 6,
   "metadata": {},
   "outputs": [
    {
     "name": "stdout",
     "output_type": "stream",
     "text": [
      "2\n",
      "3\n",
      "4\n"
     ]
    }
   ],
   "source": [
    "# Example 2:\n",
    "\n",
    "\n",
    "for i in range (2, 5):\n",
    "    print(i)"
   ]
  },
  {
   "cell_type": "code",
   "execution_count": 7,
   "metadata": {},
   "outputs": [
    {
     "name": "stdout",
     "output_type": "stream",
     "text": [
      "0\n",
      "1\n",
      "2\n",
      "3\n",
      "4\n"
     ]
    }
   ],
   "source": [
    "# Example 3:\n",
    "\n",
    "for i in range(5):\n",
    "    print(i)"
   ]
  },
  {
   "cell_type": "code",
   "execution_count": null,
   "metadata": {},
   "outputs": [],
   "source": []
  },
  {
   "cell_type": "code",
   "execution_count": 9,
   "metadata": {},
   "outputs": [
    {
     "name": "stdout",
     "output_type": "stream",
     "text": [
      "Enter a number for a =45\n",
      "Enter a number for b =40\n",
      "1.125\n"
     ]
    }
   ],
   "source": [
    "'''Consider 2 numbers. Perform subtraction and if result greater than 25 print their multiplication else print their division result'''\n",
    "\n",
    "a = int(input(\"Enter a number for a =\"))\n",
    "b = int(input(\"Enter a number for b =\"))\n",
    "\n",
    "c = a-b\n",
    "if c > 25:\n",
    "    c = a*b\n",
    "    print(c)\n",
    "else:\n",
    "    c = a/b\n",
    "    print(c)"
   ]
  },
  {
   "cell_type": "code",
   "execution_count": null,
   "metadata": {},
   "outputs": [],
   "source": []
  },
  {
   "cell_type": "code",
   "execution_count": 1,
   "metadata": {},
   "outputs": [
    {
     "name": "stdout",
     "output_type": "stream",
     "text": [
      "100\n",
      "144\n",
      "196\n",
      "256\n",
      "324\n"
     ]
    }
   ],
   "source": [
    "'''List of 10 elements of integer values. If number divisible by 2 print the result as \"square of the number minus 2\"'''\n",
    "\n",
    "l = [11,12,13,14,15,16,17,18,19,20]\n",
    "\n",
    "for i in l:\n",
    "    if i%2 == 0:\n",
    "        i = ((i-2)**2)\n",
    "        print(i)"
   ]
  },
  {
   "cell_type": "code",
   "execution_count": null,
   "metadata": {},
   "outputs": [],
   "source": []
  },
  {
   "cell_type": "code",
   "execution_count": 4,
   "metadata": {},
   "outputs": [
    {
     "name": "stdout",
     "output_type": "stream",
     "text": [
      "52\n",
      "34\n",
      "78\n",
      "33\n",
      "89\n",
      "67\n",
      "140\n"
     ]
    }
   ],
   "source": [
    "'''List of 10 elements. Print elements from list which are greater than 7 when number is divided by 2'''\n",
    "\n",
    "list1 = [52,34,78,4,5,6,33,89,67,140]\n",
    "\n",
    "for i in list1:\n",
    "    if i/2 > 7:\n",
    "        print(i)"
   ]
  },
  {
   "cell_type": "code",
   "execution_count": null,
   "metadata": {},
   "outputs": [],
   "source": []
  }
 ],
 "metadata": {
  "kernelspec": {
   "display_name": "Python 3",
   "language": "python",
   "name": "python3"
  },
  "language_info": {
   "codemirror_mode": {
    "name": "ipython",
    "version": 3
   },
   "file_extension": ".py",
   "mimetype": "text/x-python",
   "name": "python",
   "nbconvert_exporter": "python",
   "pygments_lexer": "ipython3",
   "version": "3.7.6"
  }
 },
 "nbformat": 4,
 "nbformat_minor": 4
}
