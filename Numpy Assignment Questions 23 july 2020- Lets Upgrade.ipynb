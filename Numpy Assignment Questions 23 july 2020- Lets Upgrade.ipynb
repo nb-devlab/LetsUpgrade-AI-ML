{
 "cells": [
  {
   "cell_type": "markdown",
   "metadata": {},
   "source": [
    "# 1. Create a 3x3x3 array with random values "
   ]
  },
  {
   "cell_type": "code",
   "execution_count": 1,
   "metadata": {
    "ExecuteTime": {
     "end_time": "2020-11-03T12:24:41.158951Z",
     "start_time": "2020-11-03T12:24:41.153945Z"
    }
   },
   "outputs": [],
   "source": [
    "import numpy as np"
   ]
  },
  {
   "cell_type": "code",
   "execution_count": 5,
   "metadata": {},
   "outputs": [
    {
     "data": {
      "text/plain": [
       "array([[[0.47986207, 0.42928975, 0.00726203],\n",
       "        [0.06562293, 0.10087019, 0.87611389],\n",
       "        [0.20503235, 0.5881523 , 0.65414777]],\n",
       "\n",
       "       [[0.16740884, 0.21608515, 0.326289  ],\n",
       "        [0.56784539, 0.95690039, 0.42389102],\n",
       "        [0.69972553, 0.61370324, 0.72464864]],\n",
       "\n",
       "       [[0.53383527, 0.22538213, 0.95889598],\n",
       "        [0.92915094, 0.12586889, 0.42718443],\n",
       "        [0.44548057, 0.19972997, 0.26654687]]])"
      ]
     },
     "execution_count": 5,
     "metadata": {},
     "output_type": "execute_result"
    }
   ],
   "source": [
    "np.random.rand(3,3,3)"
   ]
  },
  {
   "cell_type": "markdown",
   "metadata": {},
   "source": [
    "# 2.Create a 5x5 matrix with values 1,2,3,4 just below the diagonal"
   ]
  },
  {
   "cell_type": "code",
   "execution_count": 38,
   "metadata": {
    "ExecuteTime": {
     "end_time": "2020-11-03T16:25:13.758346Z",
     "start_time": "2020-11-03T16:25:13.749343Z"
    }
   },
   "outputs": [
    {
     "name": "stdout",
     "output_type": "stream",
     "text": [
      "[[0 0 0 0 0 0]\n",
      " [1 0 0 0 0 0]\n",
      " [0 2 0 0 0 0]\n",
      " [0 0 3 0 0 0]\n",
      " [0 0 0 4 0 0]\n",
      " [0 0 0 0 5 0]]\n"
     ]
    }
   ],
   "source": [
    "print(np.diag(1+np.arange(5), k=-1))"
   ]
  },
  {
   "cell_type": "markdown",
   "metadata": {},
   "source": [
    "# 3.Create a 8x8 matrix and fill it with a checkerboard pattern"
   ]
  },
  {
   "cell_type": "code",
   "execution_count": 10,
   "metadata": {},
   "outputs": [
    {
     "name": "stdout",
     "output_type": "stream",
     "text": [
      "[[0. 1. 0. 1. 0. 1. 0. 1.]\n",
      " [1. 0. 1. 0. 1. 0. 1. 0.]\n",
      " [0. 1. 0. 1. 0. 1. 0. 1.]\n",
      " [1. 0. 1. 0. 1. 0. 1. 0.]\n",
      " [0. 1. 0. 1. 0. 1. 0. 1.]\n",
      " [1. 0. 1. 0. 1. 0. 1. 0.]\n",
      " [0. 1. 0. 1. 0. 1. 0. 1.]\n",
      " [1. 0. 1. 0. 1. 0. 1. 0.]]\n"
     ]
    }
   ],
   "source": [
    "arr2 = np.zeros((8,8))\n",
    "\n",
    "# Creating a checkerboard pattern with zeros & ones\n",
    "arr2[1::2 , ::2] = 1\n",
    "arr2[::2 , 1::2] = 1\n",
    "print(arr2)"
   ]
  },
  {
   "cell_type": "markdown",
   "metadata": {},
   "source": [
    "# 4. Normalize a 5x5 random matrix"
   ]
  },
  {
   "cell_type": "code",
   "execution_count": 36,
   "metadata": {
    "ExecuteTime": {
     "end_time": "2020-11-03T16:21:50.072309Z",
     "start_time": "2020-11-03T16:21:50.059327Z"
    }
   },
   "outputs": [
    {
     "name": "stdout",
     "output_type": "stream",
     "text": [
      "The Original matrix : \n",
      " [[0.35952609 0.09660463 0.13241562]\n",
      " [0.51323011 0.1470598  0.24223254]\n",
      " [0.90424461 0.60206763 0.85789749]]\n",
      "\n",
      " The normalized matrix : \n",
      " [[-0.23618994 -1.13829682 -1.01542615]\n",
      " [ 0.2911822  -0.96518065 -0.63863454]\n",
      " [ 1.63278767  0.59599163  1.47376659]]\n"
     ]
    }
   ],
   "source": [
    "arr = np.random.random((3,3))\n",
    "print(\"The Original matrix : \\n\", arr)\n",
    "\n",
    "normalize = (arr - np.mean(arr)) / (np.std(arr))\n",
    "print('\\n The normalized matrix : \\n', normalize)"
   ]
  },
  {
   "cell_type": "markdown",
   "metadata": {},
   "source": [
    "# 5.  How to find common values between two arrays?"
   ]
  },
  {
   "cell_type": "code",
   "execution_count": 12,
   "metadata": {},
   "outputs": [
    {
     "name": "stdout",
     "output_type": "stream",
     "text": [
      "First array : [ 5 10 15 20 25]\n",
      "Second array : [15 16 17 18 19 20]\n",
      "\n",
      "\n",
      "Common values from the 2 arrays are : [15 20]\n"
     ]
    }
   ],
   "source": [
    "ar1 = np.array([5,10,15,20,25])\n",
    "ar2 = np.array([15,16,17,18,19,20])\n",
    "print(\"First array :\", ar1)\n",
    "print(\"Second array :\", ar2)\n",
    "print('\\n')\n",
    "print(\"Common values from the 2 arrays are :\", np.intersect1d(ar1,ar2))"
   ]
  },
  {
   "cell_type": "markdown",
   "metadata": {},
   "source": [
    "# 6.How to get the dates of yesterday, today and tomorrow?"
   ]
  },
  {
   "cell_type": "code",
   "execution_count": 13,
   "metadata": {},
   "outputs": [
    {
     "name": "stdout",
     "output_type": "stream",
     "text": [
      "Today is : 2020-07-29\n",
      "Yesterday was : 2020-07-28\n",
      "Tomorrow is : 2020-07-30\n"
     ]
    }
   ],
   "source": [
    "print(\"Today is :\", np.datetime64('today'))\n",
    "print(\"Yesterday was :\", np.datetime64('today') - 1)\n",
    "print(\"Tomorrow is :\", np.datetime64('today') + 1)"
   ]
  },
  {
   "cell_type": "markdown",
   "metadata": {},
   "source": [
    "# 7. Consider two random array A and B, check if they are equal"
   ]
  },
  {
   "cell_type": "code",
   "execution_count": 20,
   "metadata": {},
   "outputs": [
    {
     "name": "stdout",
     "output_type": "stream",
     "text": [
      "[ True  True False  True]\n"
     ]
    }
   ],
   "source": [
    "arr_A = np.array([12,24,36,48])\n",
    "arr_B = np.array([12,24,46,48])\n",
    "z = np.equal(arr_A,arr_B)\n",
    "print(z)"
   ]
  },
  {
   "cell_type": "markdown",
   "metadata": {},
   "source": [
    "# 8.Create random vector of size 10 and replace the maximum value by 0 "
   ]
  },
  {
   "cell_type": "code",
   "execution_count": 28,
   "metadata": {},
   "outputs": [
    {
     "name": "stdout",
     "output_type": "stream",
     "text": [
      "[0.16568444 0.21257527 0.73175537 0.98128984 0.33160798 0.50736685\n",
      " 0.86470527 0.69586313 0.24869755 0.2690899 ]\n",
      "\n",
      "\n",
      "After replacing the max value with zero :\n",
      " [0.16568444 0.21257527 0.73175537 0.         0.33160798 0.50736685\n",
      " 0.86470527 0.69586313 0.24869755 0.2690899 ]\n"
     ]
    }
   ],
   "source": [
    "m = np.random.random(10)\n",
    "print(m)\n",
    "print('\\n')\n",
    "\n",
    "m[m.argmax()] = 0\n",
    "print(\"After replacing the max value with zero :\" '\\n', m)"
   ]
  },
  {
   "cell_type": "markdown",
   "metadata": {},
   "source": [
    "# 9. How to print all the values of an array?"
   ]
  },
  {
   "cell_type": "code",
   "execution_count": 2,
   "metadata": {
    "ExecuteTime": {
     "end_time": "2020-10-30T13:38:31.193033Z",
     "start_time": "2020-10-30T13:38:31.179034Z"
    }
   },
   "outputs": [
    {
     "name": "stdout",
     "output_type": "stream",
     "text": [
      "[[0. 0. 0. 0. 0. 0. 0. 0. 0. 0.]\n",
      " [0. 0. 0. 0. 0. 0. 0. 0. 0. 0.]\n",
      " [0. 0. 0. 0. 0. 0. 0. 0. 0. 0.]\n",
      " [0. 0. 0. 0. 0. 0. 0. 0. 0. 0.]\n",
      " [0. 0. 0. 0. 0. 0. 0. 0. 0. 0.]\n",
      " [0. 0. 0. 0. 0. 0. 0. 0. 0. 0.]\n",
      " [0. 0. 0. 0. 0. 0. 0. 0. 0. 0.]\n",
      " [0. 0. 0. 0. 0. 0. 0. 0. 0. 0.]\n",
      " [0. 0. 0. 0. 0. 0. 0. 0. 0. 0.]\n",
      " [0. 0. 0. 0. 0. 0. 0. 0. 0. 0.]]\n"
     ]
    }
   ],
   "source": [
    "########################\n",
    "\n",
    "np.set_printoptions(threshold=float('inf'))\n",
    "arr3 = np.zeros((10,10))\n",
    "print(arr3)"
   ]
  },
  {
   "cell_type": "markdown",
   "metadata": {},
   "source": [
    "# 10.Subtract the mean of each row of a matrix"
   ]
  },
  {
   "cell_type": "code",
   "execution_count": 60,
   "metadata": {},
   "outputs": [
    {
     "name": "stdout",
     "output_type": "stream",
     "text": [
      "[[0.83732605 0.75122446 0.6990618  0.80455117]\n",
      " [0.59827311 0.70427134 0.23303144 0.26019126]\n",
      " [0.8667453  0.44343563 0.24290222 0.64854507]\n",
      " [0.54865341 0.93842419 0.3255163  0.56391652]]\n",
      "\n",
      "\n",
      "Mean value across all rows is :\n",
      " [[0.77304087]\n",
      " [0.44894179]\n",
      " [0.55040706]\n",
      " [0.59412761]]\n",
      "Shape of n is : (4, 1)\n",
      "\n",
      "\n",
      "[[ 0.06428518 -0.02181641 -0.07397907  0.0315103 ]\n",
      " [ 0.14933132  0.25532955 -0.21591035 -0.18875052]\n",
      " [ 0.31633824 -0.10697143 -0.30750483  0.09813802]\n",
      " [-0.0454742   0.34429658 -0.2686113  -0.03021108]]\n"
     ]
    }
   ],
   "source": [
    "arr4 = np.random.random((4,4))\n",
    "print(arr4)\n",
    "print('\\n')\n",
    "n = arr4.mean(axis=1, keepdims=True)\n",
    "print(\"Mean value across all rows is :\"'\\n', n)\n",
    "print(\"Shape of n is :\", n.shape)\n",
    "print('\\n')\n",
    "o = arr4 - n\n",
    "print(o)"
   ]
  },
  {
   "cell_type": "markdown",
   "metadata": {},
   "source": [
    "# 11.Consider a given vector, how to add 1 to each element indexed by a second vector (be careful with repeated indices)? "
   ]
  },
  {
   "cell_type": "code",
   "execution_count": 6,
   "metadata": {
    "ExecuteTime": {
     "end_time": "2020-11-03T12:29:10.163713Z",
     "start_time": "2020-11-03T12:29:10.146709Z"
    }
   },
   "outputs": [
    {
     "name": "stdout",
     "output_type": "stream",
     "text": [
      "Second Vector :  [0. 0. 0. 0. 0.]\n",
      "Given Vector :  [2 0 0 1 2 3 3 1 1 1]\n",
      "[2 4 2 2 0]\n",
      "\n",
      " The addition of one gives : [3 5 3 3 1]\n"
     ]
    }
   ],
   "source": [
    "q = np.zeros(5)\n",
    "print(\"Second Vector : \", q)\n",
    "p = np.random.randint(0, len(q), 10)\n",
    "print(\"Given Vector : \", p)\n",
    "r= np.bincount(p, minlength=len(q))\n",
    "print(r)\n",
    "p = r+10\n",
    "print(\"\\n The addition of one gives :\", p)"
   ]
  },
  {
   "cell_type": "code",
   "execution_count": 14,
   "metadata": {
    "ExecuteTime": {
     "end_time": "2020-11-03T14:25:29.500108Z",
     "start_time": "2020-11-03T14:25:29.486100Z"
    }
   },
   "outputs": [
    {
     "name": "stdout",
     "output_type": "stream",
     "text": [
      "[0 1 2 3 4]\n",
      "[1 2 4 4 1]\n",
      "[2 3 5 5 2]\n"
     ]
    }
   ],
   "source": [
    "vect1 = np.arange(5)\n",
    "print(vect1)\n",
    "vect2 = np.random.randint(0, len(vect1), 5)\n",
    "print(vect2)\n",
    "\n",
    "np.add.at(vect2, vect1, 1)\n",
    "print(vect2)"
   ]
  },
  {
   "cell_type": "markdown",
   "metadata": {},
   "source": [
    "# 12.How to get the diagonal of a dot product?"
   ]
  },
  {
   "cell_type": "code",
   "execution_count": 21,
   "metadata": {
    "ExecuteTime": {
     "end_time": "2020-11-03T15:21:39.303961Z",
     "start_time": "2020-11-03T15:21:39.284954Z"
    }
   },
   "outputs": [
    {
     "name": "stdout",
     "output_type": "stream",
     "text": [
      "[[0.21276204 0.96123325 0.48003772 0.38372425]\n",
      " [0.4445175  0.58219129 0.24674997 0.02370665]\n",
      " [0.80428803 0.1486999  0.00389288 0.75033339]\n",
      " [0.06611722 0.52510089 0.82678835 0.02849376]]\n",
      "\n",
      " [[0.53702303 0.50871074 0.20560252 0.63536012]\n",
      " [0.25726164 0.99250279 0.86554177 0.39055848]\n",
      " [0.34758625 0.36337677 0.57793848 0.25213566]\n",
      " [0.61637252 0.66593925 0.27189739 0.53430693]]\n",
      "\n",
      " The dot product is : [0.76491815 0.90940769 0.50033315 0.47077809]\n",
      "\n",
      " The alternate dot product method : [0.76491815 0.90940769 0.50033315 0.47077809]\n"
     ]
    }
   ],
   "source": [
    "#############\n",
    "\n",
    "prod1 = np.random.random((4,4))\n",
    "print(prod1)\n",
    "prod2 = np.random.random((4,4))\n",
    "print('\\n', prod2)\n",
    "\n",
    "final_prod = np.diag(np.dot(prod1,prod2))\n",
    "print('\\n The dot product is :', final_prod)\n",
    "\n",
    "print('\\n The alternate dot product method :', np.sum(prod1*prod2.T, axis=1))"
   ]
  },
  {
   "cell_type": "markdown",
   "metadata": {},
   "source": [
    "# 13.How to find the most frequent value in an array?"
   ]
  },
  {
   "cell_type": "code",
   "execution_count": 20,
   "metadata": {},
   "outputs": [
    {
     "name": "stdout",
     "output_type": "stream",
     "text": [
      "[ 6  5 12  8  9  8 10 10 13 14 15  8 14 15  1]\n",
      "\n",
      " [0 1 0 0 0 1 1 0 3 1 2 0 1 1 2 2]\n",
      "\n",
      " Most frequent value in array is : 8\n"
     ]
    }
   ],
   "source": [
    "arr5 = np.random.randint(1,20,15)\n",
    "print(arr5)\n",
    "v = np.bincount(arr5)\n",
    "print(\"\\n\", v)\n",
    "print(\"\\n Most frequent value in array is :\", np.argmax(v))"
   ]
  },
  {
   "cell_type": "markdown",
   "metadata": {},
   "source": [
    "# 14.How to get the n largest values of an array"
   ]
  },
  {
   "cell_type": "code",
   "execution_count": 32,
   "metadata": {
    "ExecuteTime": {
     "end_time": "2020-11-03T16:04:24.164207Z",
     "start_time": "2020-11-03T16:04:24.150211Z"
    }
   },
   "outputs": [
    {
     "name": "stdout",
     "output_type": "stream",
     "text": [
      "[0 1 2 3 4 5 6 7 8 9]\n",
      "[9 6 7 2 5 8 3 4 0 1]\n",
      "\n",
      " The largest value in the array is : [7 8 9]\n"
     ]
    }
   ],
   "source": [
    "################ amax\n",
    "\n",
    "arr6 = np.arange(10)\n",
    "print(arr6)\n",
    "np.random.shuffle(arr6)\n",
    "print(arr6)\n",
    "n=3\n",
    "w = arr6[np.argsort(arr6)[-n:]]\n",
    "print(\"\\n The largest value in the array is :\", w)"
   ]
  },
  {
   "cell_type": "markdown",
   "metadata": {},
   "source": [
    "# 15.How to create a record array from a regular array?"
   ]
  },
  {
   "cell_type": "code",
   "execution_count": 28,
   "metadata": {},
   "outputs": [
    {
     "name": "stdout",
     "output_type": "stream",
     "text": [
      "[1 2 3 4]\n",
      "[5 6 7 8]\n",
      "[11 22 33 44]\n",
      "\n",
      " (1, 5, 11)\n",
      "(2, 6, 22)\n",
      "(3, 7, 33)\n"
     ]
    }
   ],
   "source": [
    "arr7 = np.array([1,2,3,4])\n",
    "arr8 = np.array([5,6,7,8])\n",
    "arr9 = np.array([11,22,33,44])\n",
    "print(arr7)\n",
    "print(arr8)\n",
    "print(arr9)\n",
    "r = np.core.records.fromarrays([arr7,arr8,arr9])\n",
    "print(\"\\n\",r[0])\n",
    "print(r[1])\n",
    "print(r[2])"
   ]
  },
  {
   "cell_type": "code",
   "execution_count": null,
   "metadata": {},
   "outputs": [],
   "source": []
  }
 ],
 "metadata": {
  "kernelspec": {
   "display_name": "Python 3",
   "language": "python",
   "name": "python3"
  },
  "language_info": {
   "codemirror_mode": {
    "name": "ipython",
    "version": 3
   },
   "file_extension": ".py",
   "mimetype": "text/x-python",
   "name": "python",
   "nbconvert_exporter": "python",
   "pygments_lexer": "ipython3",
   "version": "3.7.6"
  },
  "varInspector": {
   "cols": {
    "lenName": 16,
    "lenType": 16,
    "lenVar": 40
   },
   "kernels_config": {
    "python": {
     "delete_cmd_postfix": "",
     "delete_cmd_prefix": "del ",
     "library": "var_list.py",
     "varRefreshCmd": "print(var_dic_list())"
    },
    "r": {
     "delete_cmd_postfix": ") ",
     "delete_cmd_prefix": "rm(",
     "library": "var_list.r",
     "varRefreshCmd": "cat(var_dic_list()) "
    }
   },
   "types_to_exclude": [
    "module",
    "function",
    "builtin_function_or_method",
    "instance",
    "_Feature"
   ],
   "window_display": false
  }
 },
 "nbformat": 4,
 "nbformat_minor": 2
}
