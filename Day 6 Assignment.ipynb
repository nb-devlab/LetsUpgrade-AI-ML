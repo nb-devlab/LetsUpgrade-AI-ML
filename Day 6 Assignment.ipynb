{
 "cells": [
  {
   "cell_type": "markdown",
   "metadata": {},
   "source": [
    "## Day 6 Assignment"
   ]
  },
  {
   "cell_type": "code",
   "execution_count": null,
   "metadata": {},
   "outputs": [],
   "source": []
  },
  {
   "cell_type": "code",
   "execution_count": 5,
   "metadata": {},
   "outputs": [
    {
     "name": "stdout",
     "output_type": "stream",
     "text": [
      "Enter an e-mail address :john@google.co.in\n"
     ]
    },
    {
     "data": {
      "text/plain": [
       "'google'"
      ]
     },
     "execution_count": 5,
     "metadata": {},
     "output_type": "execute_result"
    }
   ],
   "source": [
    "'''Consider e-mail address \"username@companyname.com\" format, WAP to print companyname of the given e-mail address'''\n",
    "\n",
    "addrs = input(\"Enter an e-mail address :\")\n",
    "\n",
    "addrs.split(\"@\")[1].split(\".\")[0]"
   ]
  },
  {
   "cell_type": "code",
   "execution_count": null,
   "metadata": {},
   "outputs": [],
   "source": []
  },
  {
   "cell_type": "code",
   "execution_count": 1,
   "metadata": {},
   "outputs": [
    {
     "name": "stdout",
     "output_type": "stream",
     "text": [
      "Enter the strings :without,hello,bag,world\n",
      "bag,hello,without,world,"
     ]
    }
   ],
   "source": [
    "'''WAP that accepts comma separated sequence of words & prints them comma separated alphabetically'''\n",
    "\n",
    "a = input(\"Enter the strings :\")\n",
    "\n",
    "temp_list = a.split(\",\")\n",
    "temp_list.sort()\n",
    "\n",
    "for i in temp_list:\n",
    "    print(i, end=\",\")"
   ]
  },
  {
   "cell_type": "code",
   "execution_count": null,
   "metadata": {},
   "outputs": [],
   "source": []
  },
  {
   "cell_type": "code",
   "execution_count": 3,
   "metadata": {},
   "outputs": [
    {
     "name": "stdout",
     "output_type": "stream",
     "text": [
      "{'dosa', 'milkshake', 'candy', 'sandwich', 'lemon juice'}\n",
      "{'dosa', 'milkshake', 'candy', 'lemon juice', 'sandwich'}\n",
      "{8, 9, 5}\n",
      "{88, 10, 12}\n",
      "{11, 4, 5}\n"
     ]
    }
   ],
   "source": [
    "'''Sets and its functions'''\n",
    "\n",
    "set1 = {\"lemon juice\", \"milkshake\", \"sandwich\", \"candy\"}\n",
    "set2 = {12, 5, 8, 4, 9}\n",
    "set3 = {7, 4, 12, 31}\n",
    "set4 = {4, 88, 10, 12}\n",
    "\n",
    "\n",
    "# ADD FUNCTION\n",
    "set1.add(\"dosa\")\n",
    "print (set1)\n",
    "\n",
    "# COPY FUNCTION\n",
    "m = set1.copy()\n",
    "print (m)\n",
    "\n",
    "# DIFFERENCE\n",
    "s = (set2.difference(set3))\n",
    "print (s)\n",
    "\n",
    "\n",
    "# DIFFERENCE_UPDATE\n",
    "set4 = {4, 88, 10, 12}\n",
    "set5 = {4, 11, 5}\n",
    "\n",
    "set4.difference_update(set5)\n",
    "print (set4)\n",
    "print (set5)"
   ]
  },
  {
   "cell_type": "code",
   "execution_count": 4,
   "metadata": {},
   "outputs": [
    {
     "name": "stdout",
     "output_type": "stream",
     "text": [
      "{'dosa', 'milkshake', 'candy', 'sandwich', 'lemon juice'}\n",
      "{4, 5, 8, 9, 12}\n",
      "{31, 4, 12, 7}\n",
      "{88, 10, 12}\n",
      "{11, 4, 5}\n"
     ]
    }
   ],
   "source": [
    "print (set1)\n",
    "print (set2)\n",
    "print (set3)\n",
    "print (set4)\n",
    "print (set5)"
   ]
  },
  {
   "cell_type": "code",
   "execution_count": 6,
   "metadata": {},
   "outputs": [
    {
     "name": "stdout",
     "output_type": "stream",
     "text": [
      "{'milkshake', 'candy', 'sandwich', 'lemon juice'}\n",
      "{88, 12}\n",
      "set()\n"
     ]
    }
   ],
   "source": [
    "# DISCARD FUNCTION\n",
    "set1.discard(\"dosa\")\n",
    "print (set1)\n",
    "\n",
    "\n",
    "# INTERSECTION\n",
    "set6 = {34, 21, 12, 88}\n",
    "\n",
    "print(set4.intersection(set6))\n",
    "\n",
    "       \n",
    "# CLEAR\n",
    "set4.clear()\n",
    "print(set4)"
   ]
  },
  {
   "cell_type": "code",
   "execution_count": 7,
   "metadata": {},
   "outputs": [
    {
     "name": "stdout",
     "output_type": "stream",
     "text": [
      "{34, 4, 7, 12, 21, 88, 31}\n",
      "{34, 4, 7, 12, 21, 88, 31}\n",
      "{88, 34, 12, 21}\n",
      "{11, 4, 5}\n"
     ]
    }
   ],
   "source": [
    "# UNION\n",
    "\n",
    "u = set6.union(set3)\n",
    "print (u)\n",
    "\n",
    "print (u)\n",
    "print (set6)\n",
    "print (set5)"
   ]
  },
  {
   "cell_type": "code",
   "execution_count": 9,
   "metadata": {},
   "outputs": [
    {
     "name": "stdout",
     "output_type": "stream",
     "text": [
      "set_random & set6 isdisjoint: False\n",
      "set_random & set5 isdisjoint: True\n"
     ]
    }
   ],
   "source": [
    "# ISDISJOINT\n",
    "set_random = {88, 34, 12, 21, 45,6}\n",
    "\n",
    "print (\"set_random & set6 isdisjoint:\", set_random.isdisjoint(set6))\n",
    "print (\"set_random & set5 isdisjoint:\", set_random.isdisjoint(set5))"
   ]
  },
  {
   "cell_type": "code",
   "execution_count": 10,
   "metadata": {},
   "outputs": [
    {
     "name": "stdout",
     "output_type": "stream",
     "text": [
      "set6 issubset u: True\n",
      "u issubset set6: False\n",
      "u issuperset set6: True\n",
      "set6 issuperset u: False\n",
      "Before Pop function {11, 4, 5}\n",
      "After Pop function {4, 5}\n",
      "Before Remove function {4, 5}\n",
      "After Remove function {4}\n"
     ]
    }
   ],
   "source": [
    "# ISSUBSET\n",
    "\n",
    "print (\"set6 issubset u:\", set6.issubset(u))\n",
    "print (\"u issubset set6:\", u.issubset(set6))\n",
    "\n",
    "\n",
    "# ISSUPERSET\n",
    "\n",
    "print (\"u issuperset set6:\", u.issuperset(set6))\n",
    "print (\"set6 issuperset u:\", set6.issuperset(u))\n",
    "\n",
    "\n",
    "# POP\n",
    "\n",
    "print(\"Before Pop function\", set5)\n",
    "\n",
    "set5.pop()\n",
    "print(\"After Pop function\", set5)\n",
    "\n",
    "\n",
    "# REMOVE\n",
    "\n",
    "print (\"Before Remove function\", set5)\n",
    "\n",
    "set5.remove(5)\n",
    "print (\"After Remove function\", set5)"
   ]
  },
  {
   "cell_type": "code",
   "execution_count": 11,
   "metadata": {},
   "outputs": [
    {
     "name": "stdout",
     "output_type": "stream",
     "text": [
      "{34, 4, 21, 88, 12}\n"
     ]
    }
   ],
   "source": [
    "# UPDATE\n",
    "\n",
    "set6.update(set5)\n",
    "print (set6)"
   ]
  },
  {
   "cell_type": "code",
   "execution_count": 12,
   "metadata": {},
   "outputs": [
    {
     "name": "stdout",
     "output_type": "stream",
     "text": [
      "{7, 31}\n",
      "{34, 4, 7, 12, 21, 88, 31}\n",
      "{34, 4, 21, 88, 12}\n",
      "{7, 31}\n"
     ]
    }
   ],
   "source": [
    "# SYMMETRIC_DIFFERENCE\n",
    "\n",
    "k = u.symmetric_difference(set6)\n",
    "print (k)\n",
    "\n",
    "\n",
    "# SYMMETRIC_DIFFERENCE_UPDATE\n",
    "\n",
    "print (u)\n",
    "print (set6)\n",
    "\n",
    "u.symmetric_difference_update(set6)\n",
    "print(u)"
   ]
  },
  {
   "cell_type": "code",
   "execution_count": null,
   "metadata": {},
   "outputs": [],
   "source": []
  },
  {
   "cell_type": "code",
   "execution_count": 5,
   "metadata": {},
   "outputs": [
    {
     "name": "stdout",
     "output_type": "stream",
     "text": [
      "1 2 4 6 3 7 8\n",
      "Missing number is : 5\n"
     ]
    }
   ],
   "source": [
    "'''Given a list of n-1 numbers with each separated by space, print the missing number'''\n",
    "\n",
    "n = input()\n",
    "\n",
    "m = n.split()\n",
    "\n",
    "for i in range(len(m)):\n",
    "    m[i] = int(m[i])\n",
    "\n",
    "for j in range(1,len(m)):\n",
    "    if j not in m:\n",
    "        print(\"Missing number is :\", j)"
   ]
  },
  {
   "cell_type": "code",
   "execution_count": null,
   "metadata": {},
   "outputs": [],
   "source": []
  },
  {
   "cell_type": "code",
   "execution_count": 8,
   "metadata": {},
   "outputs": [
    {
     "name": "stdout",
     "output_type": "stream",
     "text": [
      "12 24 35 24 88 120 155 88 120 155\n",
      "Preserving the original order, the new order is : [12, 24, 35, 88, 120, 155]\n"
     ]
    }
   ],
   "source": [
    "'''Given a list L, remove all duplicate values from the list while preserving the original order of it'''\n",
    "\n",
    "l = input()\n",
    "\n",
    "x = l.split()\n",
    "\n",
    "for i in range(len(x)):\n",
    "    x[i]= int(x[i])\n",
    "\n",
    "y = list(dict.fromkeys(x))\n",
    "print(\"Preserving the original order, the new order is :\", y)"
   ]
  }
 ],
 "metadata": {
  "kernelspec": {
   "display_name": "Python 3",
   "language": "python",
   "name": "python3"
  },
  "language_info": {
   "codemirror_mode": {
    "name": "ipython",
    "version": 3
   },
   "file_extension": ".py",
   "mimetype": "text/x-python",
   "name": "python",
   "nbconvert_exporter": "python",
   "pygments_lexer": "ipython3",
   "version": "3.7.6"
  }
 },
 "nbformat": 4,
 "nbformat_minor": 4
}
