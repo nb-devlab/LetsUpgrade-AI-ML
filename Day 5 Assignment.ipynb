{
 "cells": [
  {
   "cell_type": "markdown",
   "metadata": {},
   "source": [
    "## Day 5 Assignment"
   ]
  },
  {
   "cell_type": "code",
   "execution_count": null,
   "metadata": {},
   "outputs": [],
   "source": []
  },
  {
   "cell_type": "code",
   "execution_count": 11,
   "metadata": {},
   "outputs": [
    {
     "name": "stdout",
     "output_type": "stream",
     "text": [
      "5\n",
      "7\n",
      "11\n",
      "13\n",
      "17\n",
      "19\n"
     ]
    }
   ],
   "source": [
    "'''First 20 non-even prime natural numbers'''\n",
    "\n",
    "# 2, 3, 5, 7, 11, 13, 17, 19 are prime numbers.\n",
    "# 3, 5, 7, 11, 13, 17, 19 are non-even prime numbers.\n",
    "# 1 is not prime number.\n",
    "\n",
    "for i in range(0, 21):\n",
    "    if i != 1 and i != 3:\n",
    "        if i%2 != 0 and i%3 != 0:\n",
    "            print (i)"
   ]
  },
  {
   "cell_type": "code",
   "execution_count": null,
   "metadata": {},
   "outputs": [],
   "source": []
  },
  {
   "cell_type": "code",
   "execution_count": 29,
   "metadata": {},
   "outputs": [
    {
     "name": "stdout",
     "output_type": "stream",
     "text": [
      "Learning python as a first step towards ai & ml, therfore python is important\n",
      "learning python as a first step towards ai & ml, therfore python is important\n",
      "2\n",
      "b'Learning Python as a first step towards AI & ML, therfore Python is important'\n",
      "True\n",
      "27\n",
      "9\n",
      "True\n",
      "Learning Coders as a first step towards AI & ML, therfore Coders is important\n",
      "lEARNING pYTHON AS A FIRST STEP TOWARDS ai & ml, THERFORE pYTHON IS IMPORTANT\n",
      "Learning Python As A First Step Towards Ai & Ml, Therfore Python Is Important\n",
      "00000000000000000000000Learning Python as a first step towards AI & ML, therfore Python is important\n",
      "LEARNING PYTHON AS A FIRST STEP TOWARDS AI & ML, THERFORE PYTHON IS IMPORTANT\n",
      " Python as a first step towards AI & ML, therfore Python is important\n",
      "True\n",
      "['Learning', 'Python', 'as', 'a', 'first', 'step', 'towards', 'AI', '&', 'ML,', 'therfore', 'Python', 'is', 'important']\n",
      "('Learning Python as a first step ', 'towards', ' AI & ML, therfore Python is important')\n"
     ]
    }
   ],
   "source": [
    "'''Program to implement 15 functions of string'''\n",
    "\n",
    "str1 = \"Learning Python as a first step towards AI & ML, therfore Python is important\"\n",
    "\n",
    "# Capitalize\n",
    "print(str1.capitalize())\n",
    "\n",
    "# Casefold\n",
    "print(str1.casefold())\n",
    "\n",
    "# Count\n",
    "print(str1.count(\"Python\"))\n",
    "\n",
    "# Encode\n",
    "print(str1.encode())\n",
    "\n",
    "# Endswith\n",
    "print(str1.endswith(\"important\"))\n",
    "\n",
    "# Find\n",
    "print(str1.find(\"step\"))\n",
    "\n",
    "# Index\n",
    "print(str1.index(\"Python\"))\n",
    "\n",
    "# ISASCII\n",
    "print(str1.isascii())\n",
    "\n",
    "# REPLACE\n",
    "print(str1.replace(\"Python\", \"Coders\"))\n",
    "\n",
    "# SWAPCASE\n",
    "print(str1.swapcase())\n",
    "\n",
    "# Title\n",
    "print(str1.title())\n",
    "\n",
    "# Zfill\n",
    "print(str1.zfill(100))\n",
    "\n",
    "# Upper\n",
    "print(str1.upper())\n",
    "\n",
    "# Strip\n",
    "print(str1.strip(\"Learning\"))\n",
    "\n",
    "# Startswith\n",
    "print(str1.startswith(\"Learning\"))\n",
    "\n",
    "# Split\n",
    "print(str1.split())\n",
    "\n",
    "# Rpartition\n",
    "print(str1.rpartition(\"towards\"))"
   ]
  },
  {
   "cell_type": "code",
   "execution_count": null,
   "metadata": {},
   "outputs": [],
   "source": []
  },
  {
   "cell_type": "code",
   "execution_count": 4,
   "metadata": {},
   "outputs": [
    {
     "name": "stdout",
     "output_type": "stream",
     "text": [
      "Enter the string :listen\n",
      "Enter the string :silent\n",
      "Its an Anagram\n"
     ]
    }
   ],
   "source": [
    "'''Prog to verify whether a given string is palindrome, anagram or none of it'''\n",
    "\n",
    "str1 = input(\"Enter the string :\")\n",
    "str2 = input(\"Enter the string :\")\n",
    "\n",
    "if str1[::-1]==str2:\n",
    "    print(\"Its a Palindrome\")\n",
    "elif sorted(str1) == sorted(str2):\n",
    "    print(\"Its an Anagram\")\n",
    "else:\n",
    "    print(\"Its none of it\")"
   ]
  },
  {
   "cell_type": "code",
   "execution_count": null,
   "metadata": {},
   "outputs": [],
   "source": []
  },
  {
   "cell_type": "code",
   "execution_count": 13,
   "metadata": {},
   "outputs": [
    {
     "name": "stdout",
     "output_type": "stream",
     "text": [
      "Enter a string :Say !! Hello @ The World ---\n",
      "sayhellotheworld\n"
     ]
    }
   ],
   "source": [
    "'''Python user defined function that removes all additional characters in a string retain the rest in lower case '''\n",
    "\n",
    "def str(k):\n",
    "    strng = \"\"\n",
    "    for i in k:\n",
    "        if i.isalnum():\n",
    "            strng +=i\n",
    "    strng = strng.lower()\n",
    "    return(strng)\n",
    "\n",
    "m = input(\"Enter a string :\")\n",
    "print (str(m))"
   ]
  },
  {
   "cell_type": "code",
   "execution_count": null,
   "metadata": {},
   "outputs": [],
   "source": []
  }
 ],
 "metadata": {
  "kernelspec": {
   "display_name": "Python 3",
   "language": "python",
   "name": "python3"
  },
  "language_info": {
   "codemirror_mode": {
    "name": "ipython",
    "version": 3
   },
   "file_extension": ".py",
   "mimetype": "text/x-python",
   "name": "python",
   "nbconvert_exporter": "python",
   "pygments_lexer": "ipython3",
   "version": "3.7.6"
  }
 },
 "nbformat": 4,
 "nbformat_minor": 4
}
